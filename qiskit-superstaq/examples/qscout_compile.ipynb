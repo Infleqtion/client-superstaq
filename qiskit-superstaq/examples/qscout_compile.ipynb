{
 "cells": [
  {
   "cell_type": "code",
   "execution_count": 1,
   "id": "c01de181-761d-428e-b0a2-f038d12cdb84",
   "metadata": {},
   "outputs": [],
   "source": [
    "import qiskit\n",
    "import qiskit_superstaq as qss"
   ]
  },
  {
   "cell_type": "code",
   "execution_count": 3,
   "id": "b38e6a2c-36fc-426c-a6e0-3f5167900e54",
   "metadata": {},
   "outputs": [],
   "source": [
    "# Provide your api key to the using the \"api_key\" argument if\n",
    "# SUPERSTAQ_API_KEY environment variable is not set.\n",
    "provider = qss.superstaq_provider.SuperstaQProvider()"
   ]
  },
  {
   "cell_type": "markdown",
   "id": "72d7ac85-84b4-4feb-8ecf-0af31ddf5f83",
   "metadata": {
    "tags": []
   },
   "source": [
    "## Single circuit compilation"
   ]
  },
  {
   "cell_type": "code",
   "execution_count": 4,
   "id": "7c88500b-8c09-43d3-8b16-0078a95a551d",
   "metadata": {},
   "outputs": [
    {
     "data": {
      "text/html": [
       "<pre style=\"word-wrap: normal;white-space: pre;background: #fff0;line-height: 1.1;font-family: &quot;Courier New&quot;,Courier,monospace\">   ┌───┐\n",
       "q: ┤ H ├\n",
       "   └───┘</pre>"
      ],
      "text/plain": [
       "   ┌───┐\n",
       "q: ┤ H ├\n",
       "   └───┘"
      ]
     },
     "execution_count": 4,
     "metadata": {},
     "output_type": "execute_result"
    }
   ],
   "source": [
    "circuit1 = qiskit.QuantumCircuit(1)\n",
    "\n",
    "circuit1.h(0)\n",
    "circuit1.draw(fold=-1)"
   ]
  },
  {
   "cell_type": "code",
   "execution_count": null,
   "id": "8b259905-2984-4f4a-88d4-d767581685b4",
   "metadata": {},
   "outputs": [],
   "source": [
    "compiler_output = provider.qscout_compile(circuit1)"
   ]
  },
  {
   "cell_type": "code",
   "execution_count": 6,
   "id": "b01be319-68f3-4aed-b9b4-4d6b10b391bc",
   "metadata": {},
   "outputs": [
    {
     "name": "stdout",
     "output_type": "stream",
     "text": [
      "     ┌─────────────┐┌───┐\n",
      "q_0: ┤ R(π/2,-π/2) ├┤ Z ├\n",
      "     └─────────────┘└───┘\n",
      "q_1: ────────────────────\n",
      "                         \n"
     ]
    }
   ],
   "source": [
    "print(compiler_output.circuit)"
   ]
  },
  {
   "cell_type": "code",
   "execution_count": 7,
   "id": "e9b95396-d8f7-4b4a-b38d-676dad7562e9",
   "metadata": {},
   "outputs": [
    {
     "name": "stdout",
     "output_type": "stream",
     "text": [
      "from qscout.v1.std usepulses *\n",
      "\n",
      "register allqubits[1]\n",
      "\n",
      "prepare_all\n",
      "R allqubits[0] -1.5707963267948966 1.5707963267948966\n",
      "Rz allqubits[0] -3.141592653589793\n",
      "measure_all\n",
      "\n"
     ]
    }
   ],
   "source": [
    "print(compiler_output.jaqal_program)"
   ]
  },
  {
   "cell_type": "markdown",
   "id": "441a7232-a617-4f35-9fbb-66bcbe8abfec",
   "metadata": {},
   "source": [
    "## Multiple circuit compilation"
   ]
  },
  {
   "cell_type": "code",
   "execution_count": 8,
   "id": "6e6b56e6-92d1-4b3d-b8da-dee099286091",
   "metadata": {},
   "outputs": [
    {
     "data": {
      "text/html": [
       "<pre style=\"word-wrap: normal;white-space: pre;background: #fff0;line-height: 1.1;font-family: &quot;Courier New&quot;,Courier,monospace\">               \n",
       "q_0: ──■───────\n",
       "     ┌─┴─┐┌───┐\n",
       "q_1: ┤ X ├┤ H ├\n",
       "     └───┘└───┘</pre>"
      ],
      "text/plain": [
       "               \n",
       "q_0: ──■───────\n",
       "     ┌─┴─┐┌───┐\n",
       "q_1: ┤ X ├┤ H ├\n",
       "     └───┘└───┘"
      ]
     },
     "execution_count": 8,
     "metadata": {},
     "output_type": "execute_result"
    }
   ],
   "source": [
    "circuit2 = qiskit.QuantumCircuit(2)\n",
    "circuit2.cnot(0, 1)\n",
    "circuit2.h(1)\n",
    "circuit2.draw(fold=-1)"
   ]
  },
  {
   "cell_type": "code",
   "execution_count": null,
   "id": "5d3993fd-83f1-42e9-b1e0-f4e553765682",
   "metadata": {
    "scrolled": true
   },
   "outputs": [],
   "source": [
    "compiler_output = provider.qscout_compile([circuit1, circuit2])"
   ]
  },
  {
   "cell_type": "code",
   "execution_count": 10,
   "id": "d7bdb8fb-a0d0-4fae-932a-f2fc51848f4f",
   "metadata": {},
   "outputs": [
    {
     "name": "stdout",
     "output_type": "stream",
     "text": [
      "     ┌─────────────┐┌───┐\n",
      "q_0: ┤ R(π/2,-π/2) ├┤ Z ├\n",
      "     └─────────────┘└───┘\n",
      "q_1: ────────────────────\n",
      "                         \n",
      "\n",
      "     ┌──────────────┐┌───────────┐┌────────────┐┌─────────────┐┌───────────┐\n",
      "q_0: ┤ R(π/2,-3π/4) ├┤ Rz(-3π/4) ├┤0           ├┤ R(π/2,-π/2) ├┤ Rz(-3π/4) ├\n",
      "     └┬───────────┬─┘└───────────┘│  Rxx(-π/2) │├─────────────┤└┬─────────┬┘\n",
      "q_1: ─┤ R(3π/4,π) ├───────────────┤1           ├┤ R(π/2,-π/2) ├─┤ Rz(π/4) ├─\n",
      "      └───────────┘               └────────────┘└─────────────┘ └─────────┘ \n"
     ]
    }
   ],
   "source": [
    "print(compiler_output.circuits[0])\n",
    "print()\n",
    "print(compiler_output.circuits[1])"
   ]
  },
  {
   "cell_type": "code",
   "execution_count": 11,
   "id": "0909e370-a371-46d0-a860-f4b27c60af89",
   "metadata": {},
   "outputs": [
    {
     "name": "stdout",
     "output_type": "stream",
     "text": [
      "from qscout.v1.std usepulses *\n",
      "\n",
      "register allqubits[1]\n",
      "\n",
      "prepare_all\n",
      "R allqubits[0] -1.5707963267948966 1.5707963267948966\n",
      "Rz allqubits[0] -3.141592653589793\n",
      "measure_all\n",
      "\n"
     ]
    }
   ],
   "source": [
    "print(compiler_output.jaqal_programs[0])"
   ]
  },
  {
   "cell_type": "code",
   "execution_count": 12,
   "id": "7c23b881-177f-4960-ad6f-c15bfe5aaf35",
   "metadata": {},
   "outputs": [
    {
     "name": "stdout",
     "output_type": "stream",
     "text": [
      "from qscout.v1.std usepulses *\n",
      "\n",
      "register allqubits[2]\n",
      "\n",
      "prepare_all\n",
      "<\n",
      "\tR allqubits[1] 3.141592653589793 2.356194490192345\n",
      "\tR allqubits[0] -2.356194490192345 1.5707963267948966\n",
      ">\n",
      "Rz allqubits[0] -2.356194490192345\n",
      "MS allqubits[0] allqubits[1] 0 -1.5707963267948966\n",
      "<\n",
      "\tR allqubits[0] -1.5707963267948966 1.5707963267948966\n",
      "\tR allqubits[1] -1.5707963267948966 1.5707963267948966\n",
      ">\n",
      "<\n",
      "\tRz allqubits[0] -2.356194490192345\n",
      "\tRz allqubits[1] 0.7853981633974476\n",
      ">\n",
      "measure_all\n",
      "\n"
     ]
    }
   ],
   "source": [
    "print(compiler_output.jaqal_programs[1])"
   ]
  }
 ],
 "metadata": {
  "kernelspec": {
   "display_name": "Python 3 (ipykernel)",
   "language": "python",
   "name": "python3"
  },
  "language_info": {
   "codemirror_mode": {
    "name": "ipython",
    "version": 3
   },
   "file_extension": ".py",
   "mimetype": "text/x-python",
   "name": "python",
   "nbconvert_exporter": "python",
   "pygments_lexer": "ipython3",
   "version": "3.8.13"
  }
 },
 "nbformat": 4,
 "nbformat_minor": 5
}
