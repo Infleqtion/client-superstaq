{
 "cells": [
  {
   "cell_type": "markdown",
   "id": "8b71b918-18c7-4d84-abcc-9920e3cbf86d",
   "metadata": {},
   "source": [
    "# 0) Set up Training Environment"
   ]
  },
  {
   "cell_type": "code",
   "execution_count": null,
   "id": "08ef56ab",
   "metadata": {},
   "outputs": [],
   "source": [
    "try:\n",
    "    import qiskit_superstaq as qss\n",
    "except ImportError:\n",
    "    print(\"Installing qiskit-superstaq...\")\n",
    "    %pip install --quiet 'qiskit-superstaq[examples]'\n",
    "    print(\"Installed qiskit-superstaq.\")\n",
    "    print(\"You may need to restart the kernel to import newly installed packages.\")\n",
    "    \n",
    "import qiskit\n",
    "import qiskit_superstaq as qss\n",
    "import numpy as np"
   ]
  },
  {
   "cell_type": "code",
   "execution_count": null,
   "id": "0f64887d-a264-4b07-ab96-74500eb6c08d",
   "metadata": {},
   "outputs": [],
   "source": [
    "from IPython.display import display\n",
    "def visualize_bloch_sphere(qc):\n",
    "    sv = qiskit.quantum_info.Statevector(qc)\n",
    "    display(qiskit.visualization.plot_bloch_multivector(sv))"
   ]
  },
  {
   "cell_type": "markdown",
   "id": "543b75d4",
   "metadata": {},
   "source": [
    "# 1) First Quantum circuits"
   ]
  },
  {
   "cell_type": "markdown",
   "id": "d7e3a725-e688-462b-9e12-673591572475",
   "metadata": {},
   "source": [
    "## 1. Setting up the simulator\n",
    "For this part, you will run your quantum circuits on a simulator accessed through `Superstaq`."
   ]
  },
  {
   "cell_type": "markdown",
   "id": "cc9ea06d-6c9d-4ed6-b1e0-847a6c1b4a66",
   "metadata": {},
   "source": [
    "#### Set up access to Superstaq's API\n",
    "You will need to first retrieve your Superstaq API key from https://superstaq.infleqtion.com. Pass your token to the `api_key` parameter of `qss.SuperstaqProvider()`."
   ]
  },
  {
   "cell_type": "code",
   "execution_count": null,
   "id": "4c76bd6e",
   "metadata": {},
   "outputs": [],
   "source": [
    "provider = qss.SuperstaqProvider(api_key=\"Insert your API key here.\")\n",
    "backend = provider.get_backend(\"ibmq_qasm_simulator\") "
   ]
  },
  {
   "cell_type": "markdown",
   "id": "5ab7eacf",
   "metadata": {},
   "source": [
    "## 2. Quantum Coin Toss\n",
    "### Fair coin\n",
    "This first quantum circuit aims at giving a sense of what superposition is and how it relates to the measurements outcomes. Here we will build a one qubit circuit resulting in the qubit being in a superposition such that the probability of measuring 0 or 1 is the same, akin to a coin toss. There are many ways to reach such state but the most common one is by simply applying the Hadamard gate.\n",
    "\n",
    "First we create a quantum circuit and store it in the variable ```qct``` with the line ```qct = qiskit.QuantumCircuit(1)``` and draw it with ```qct.draw(\"mpl\", style=\"clifford\")```. The arguments `\"mpl\"` and `\"clifford\"` are only here to control the style of the drawing."
   ]
  },
  {
   "cell_type": "code",
   "execution_count": null,
   "id": "5c4409c2",
   "metadata": {},
   "outputs": [],
   "source": [
    "qct = qiskit.QuantumCircuit(1)\n",
    "qct.draw(\"mpl\", style=\"clifford\")"
   ]
  },
  {
   "cell_type": "markdown",
   "id": "28b2b469",
   "metadata": {},
   "source": [
    "We can also visualize the state of the qubit at this stage:"
   ]
  },
  {
   "cell_type": "code",
   "execution_count": null,
   "id": "dd5b148a-672a-45d5-8325-e5b7a4643a9a",
   "metadata": {},
   "outputs": [],
   "source": [
    "visualize_bloch_sphere(qct)"
   ]
  },
  {
   "cell_type": "markdown",
   "id": "463a7131",
   "metadata": {},
   "source": [
    "Now that the circuit has been created, we can add a $\\mathbf{H}$ gate to act on the qubit ($q$) with the line `qc.h(0)`:"
   ]
  },
  {
   "cell_type": "code",
   "execution_count": null,
   "id": "c1e9046b",
   "metadata": {},
   "outputs": [],
   "source": [
    "qct.h(0)\n",
    "qct.draw(\"mpl\", style=\"clifford\")"
   ]
  },
  {
   "cell_type": "markdown",
   "id": "789c030a",
   "metadata": {},
   "source": [
    "And visualize the effect of this gate on the qubit:"
   ]
  },
  {
   "cell_type": "code",
   "execution_count": null,
   "id": "869ce2ff-fce7-4d1c-a305-a98b5b7787b0",
   "metadata": {},
   "outputs": [],
   "source": [
    "visualize_bloch_sphere(qct)"
   ]
  },
  {
   "cell_type": "markdown",
   "id": "37210145",
   "metadata": {},
   "source": [
    "Finally, as said previously, a quantum circuit will end with measurements that are added to the circuit via ```qct.measure_all()```"
   ]
  },
  {
   "cell_type": "code",
   "execution_count": null,
   "id": "de94fc62",
   "metadata": {
    "scrolled": true
   },
   "outputs": [],
   "source": [
    "qct.measure_all()\n",
    "qct.draw(\"mpl\", style=\"clifford\")"
   ]
  },
  {
   "cell_type": "markdown",
   "id": "476c7b09",
   "metadata": {},
   "source": [
    "Notice the appearence of a grey line marked with `meas` in the circuit representation. This line represents a classical bit where the outcome of the measurement will be stored."
   ]
  },
  {
   "cell_type": "markdown",
   "id": "31967fd9",
   "metadata": {},
   "source": [
    "Now that the quantum circuit is achieved we can run it. Similar to a random experiment we will run it multiple times to try and determine the probability of each outcome.\n",
    "\n",
    "The line `job_qct = backend.run(qct, method=\"dry-run\", shots=1000)` will run the circuit stored in the variable `qct` on the quantum hardware and thus **1000** times. With the argument `method=\"dry-run\"`, the simulations will be performed on a GPU instead of the real hardware."
   ]
  },
  {
   "cell_type": "code",
   "execution_count": null,
   "id": "6b5bff56",
   "metadata": {},
   "outputs": [],
   "source": [
    "job_qct = backend.run(qct, method=\"dry-run\", shots=1000)\n",
    "job_qct.status()"
   ]
  },
  {
   "cell_type": "markdown",
   "id": "899a4c57",
   "metadata": {},
   "source": [
    "Now that the job has run successfully, we can retrieve the results of the measurements with `results_qct = job_qct.result().get_counts()` and plot them as an histogram"
   ]
  },
  {
   "cell_type": "code",
   "execution_count": null,
   "id": "abfa19f6",
   "metadata": {
    "scrolled": true
   },
   "outputs": [],
   "source": [
    "results_qct = job_qct.result().get_counts()\n",
    "qiskit.visualization.plot_histogram(results_qct)"
   ]
  },
  {
   "cell_type": "markdown",
   "id": "8198020f",
   "metadata": {},
   "source": [
    "The results should be close to 50/50 so our quantum coin is fair."
   ]
  },
  {
   "cell_type": "markdown",
   "id": "a7141546",
   "metadata": {},
   "source": [
    "### Effect measurement on the quantum superposition\n",
    "Remember that following a measurement, a quantum superposition will collapse to the state that has been measured. This means that the superposition is destroyed and hence any subsequent measurement will return the same state. We can verify this fact by adding more measurements to the circuit. Let us add 3 more measurements:"
   ]
  },
  {
   "cell_type": "code",
   "execution_count": null,
   "id": "28f38e15",
   "metadata": {},
   "outputs": [],
   "source": [
    "qct.measure_all()\n",
    "qct.measure_all()\n",
    "qct.measure_all()\n",
    "qct.draw(\"mpl\", style=\"clifford\")"
   ]
  },
  {
   "cell_type": "markdown",
   "id": "0aa048df",
   "metadata": {},
   "source": [
    "This will add 3 more classical bits where the results of these measurements will be stored. If the first measurement returns $0$ we expect the 3 following measurements to also return $0$, likewise if the result of the first measurement is 1. We thus expect the result of these four measurements to be either $0000$ or $1111$. Let us check this:"
   ]
  },
  {
   "cell_type": "code",
   "execution_count": null,
   "id": "1805e5a6",
   "metadata": {},
   "outputs": [],
   "source": [
    "job_qct = backend.run(qct, method=\"dry-run\", shots=1000)\n",
    "job_qct.status()"
   ]
  },
  {
   "cell_type": "code",
   "execution_count": null,
   "id": "a405cdf2",
   "metadata": {},
   "outputs": [],
   "source": [
    "results_qct = job_qct.result().get_counts()\n",
    "qiskit.visualization.plot_histogram(results_qct)"
   ]
  },
  {
   "cell_type": "markdown",
   "id": "ec1ab9d2",
   "metadata": {},
   "source": [
    "### Biased coin\n",
    "We will now show how to work with the amplitudes to build a biased quantum coin. In the following cell, `bias` is the probability of measuring 1, we can change this value and see the impact on the qubit's location on the Bloch sphere."
   ]
  },
  {
   "cell_type": "code",
   "execution_count": null,
   "id": "52a3d79a",
   "metadata": {},
   "outputs": [],
   "source": [
    "bias = 0.8  # You can change this value"
   ]
  },
  {
   "cell_type": "markdown",
   "id": "136140f3",
   "metadata": {},
   "source": [
    "In the following, the gate `ry(2*np.arcsin(np.sqrt(bias)), 0)` has matrix representation:\n",
    "$$\n",
    "    \\begin{bmatrix}\\sqrt{1 - bias} & -\\sqrt{bias} \\\\ \\sqrt{bias} & \\sqrt{1 - bias}\\end{bmatrix}\n",
    "$$\n",
    "So it will bring the qubit from the state $|0\\rangle$ to the superposition:\n",
    "$$\n",
    "    \\sqrt{1 - bias}|0\\rangle + \\sqrt{bias}|1\\rangle\n",
    "$$"
   ]
  },
  {
   "cell_type": "code",
   "execution_count": null,
   "id": "b60b6de6",
   "metadata": {},
   "outputs": [],
   "source": [
    "bqct = qiskit.QuantumCircuit(1)\n",
    "bqct.ry(2*np.arcsin(np.sqrt(bias)), 0)\n",
    "visualize_bloch_sphere(bqct)"
   ]
  },
  {
   "cell_type": "markdown",
   "id": "3f3b03df",
   "metadata": {},
   "source": [
    "You can check that as `bias` tends to $1$, the state of the qubit will converge to the south pole, that is to the state $|1\\rangle$. Conversely, as `bias` gets closer to $0$, the state of the qubit will go to the north pole, ie the state $|0\\rangle$."
   ]
  },
  {
   "cell_type": "code",
   "execution_count": null,
   "id": "1a02a456",
   "metadata": {},
   "outputs": [],
   "source": [
    "bqct.measure_all()\n",
    "bqct.draw(\"mpl\", style=\"clifford\")"
   ]
  },
  {
   "cell_type": "markdown",
   "id": "7ccee35b",
   "metadata": {},
   "source": [
    "This change of the qubit's location on the Bloch sphere should also translate into a change in the measurement results statistics."
   ]
  },
  {
   "cell_type": "code",
   "execution_count": null,
   "id": "f314df46",
   "metadata": {},
   "outputs": [],
   "source": [
    "job_bqct = backend.run(bqct, method=\"dry-run\", shots=1000)\n",
    "job_bqct.status()"
   ]
  },
  {
   "cell_type": "code",
   "execution_count": null,
   "id": "a306c73f",
   "metadata": {
    "scrolled": true
   },
   "outputs": [],
   "source": [
    "results_bqct = job_bqct.result().get_counts()\n",
    "qiskit.visualization.plot_histogram(results_bqct)"
   ]
  },
  {
   "cell_type": "markdown",
   "id": "19d0690a",
   "metadata": {},
   "source": [
    "As we can see, our quantum coin is indeed biased."
   ]
  },
  {
   "cell_type": "markdown",
   "id": "77210fe8",
   "metadata": {},
   "source": [
    "## 3. Bell state and entanglement"
   ]
  },
  {
   "cell_type": "markdown",
   "id": "bbe4c724",
   "metadata": {},
   "source": [
    "The following circuit will explore the impact of entanglement on measurement outcomes. \n",
    "\n",
    "Our goal is to end up with the qubits in the entangled state described in Equation (1):\n",
    "$$\n",
    "    |q_0q_1\\rangle = \\frac{1}{\\sqrt{2}}|00\\rangle + \\frac{1}{\\sqrt{2}}|11\\rangle\n",
    "$$\n",
    "This state is one of the 4 Bell states. These states hold a particular importance in the field of quantum mechanics as they are at the heart of the proof of the existence of quantum entanglement.  \n",
    "\n",
    "To create this state, we will apply the gates mentionned in Equations (3) and (4): \n",
    "- First apply a Hadamard gate to the first qubit.\n",
    "- Then apply a $\\mathbf{CX}$ gate where the control is the first qubit and the target is the second qubit. It can be done with the method `cx(ctrl, targ)` where `ctrl` is the index of the control qubit and `targ` is that of the target qubit.\n",
    "\n",
    "The circuit should look like this:\n",
    "<center>\n",
    "    <img src=\"resources/qc_ent.png\"/>\n",
    "</center>"
   ]
  },
  {
   "cell_type": "code",
   "execution_count": null,
   "id": "bf506ffe",
   "metadata": {},
   "outputs": [],
   "source": [
    "qc_ent = qiskit.QuantumCircuit(2, 2)\n",
    "# code goes here\n",
    "\n",
    "qc_ent.draw(\"mpl\", style=\"clifford\")"
   ]
  },
  {
   "cell_type": "markdown",
   "id": "82fa3989",
   "metadata": {},
   "source": [
    "At this stage, the qubits should be in state:\n",
    "$$\n",
    "    |q_0q_1\\rangle = \\frac{1}{\\sqrt{2}}|00\\rangle + \\frac{1}{\\sqrt{2}}|11\\rangle\n",
    "$$\n",
    "\n",
    "That is, the 2 qubits are entangled. One implication of this state is that if we perform a measurement on one of the qubit, hence collapsing its state to the one that has been measured, then this operation will also affect the other qubit, also collapsing it to the corresponding state.\n",
    "\n",
    "Let us verify this claim by first measuring the first qubit:"
   ]
  },
  {
   "cell_type": "code",
   "execution_count": null,
   "id": "6a94aa6a",
   "metadata": {},
   "outputs": [],
   "source": [
    "qc_ent.measure(0, 0)\n",
    "qc_ent.draw(\"mpl\", style=\"clifford\")"
   ]
  },
  {
   "cell_type": "markdown",
   "id": "e1b527ff",
   "metadata": {},
   "source": [
    "We then wait a bit and measure the second qubit. The wait is performed by the gate **I** added to the circuit with the line `qc_ent.id(1)`."
   ]
  },
  {
   "cell_type": "code",
   "execution_count": null,
   "id": "b6fd30fd",
   "metadata": {},
   "outputs": [],
   "source": [
    "qc_ent.id(1)\n",
    "qc_ent.measure(1, 1)\n",
    "qc_ent.draw(\"mpl\", style=\"clifford\")\n"
   ]
  },
  {
   "cell_type": "markdown",
   "id": "e0ac2659",
   "metadata": {},
   "source": [
    "We now run this circuit as previously:"
   ]
  },
  {
   "cell_type": "code",
   "execution_count": null,
   "id": "cf42c2eb",
   "metadata": {},
   "outputs": [],
   "source": [
    "job_ent = backend.run(qc_ent, method=\"dry-run\", shots=1000)\n",
    "job_ent.status()"
   ]
  },
  {
   "cell_type": "code",
   "execution_count": null,
   "id": "585792c3",
   "metadata": {},
   "outputs": [],
   "source": [
    "result_ent = job_ent.result().get_counts()\n",
    "qiskit.visualization.plot_histogram(result_ent)"
   ]
  },
  {
   "cell_type": "markdown",
   "id": "0149b2b9",
   "metadata": {},
   "source": [
    "As shown by the results, whenever the measurement on the first qubit returned $0$, the measurement on the second qubit also returned $0$. A similar observation holds when $1$ was measured on the first qubit."
   ]
  },
  {
   "cell_type": "markdown",
   "id": "828766c8",
   "metadata": {},
   "source": [
    "As an example of what similar measurement would result in for 2 qubits that are not entangled, we consider the following state:\n",
    "$$\n",
    "    |q_0q_1\\rangle = \\frac{1}{2}|00\\rangle + \\frac{1}{2}|01\\rangle + \\frac{1}{2}|10\\rangle + \\frac{1}{2}|11\\rangle = \\left(\\frac{1}{\\sqrt{2}}|0\\rangle + \\frac{1}{\\sqrt{2}}|1\\rangle\\right)\\left(\\frac{1}{\\sqrt{2}}|0\\rangle + \\frac{1}{\\sqrt{2}}|1\\rangle\\right)\n",
    "$$\n",
    "This state can be created with a 2 qubits circuit by applying a Hadamard gate to each of the qubit. \n",
    "\n",
    "The circuit should look like this:\n",
    "<center>\n",
    "    <img src=\"resources/qc_nent.png\"/>\n",
    "</center>"
   ]
  },
  {
   "cell_type": "code",
   "execution_count": null,
   "id": "800a1fcd",
   "metadata": {},
   "outputs": [],
   "source": [
    "qc_nent = qiskit.QuantumCircuit(2, 2)\n",
    "# Insert code here\n",
    "\n",
    "qc_nent.draw(\"mpl\", style=\"clifford\")"
   ]
  },
  {
   "cell_type": "markdown",
   "id": "8cb7df81",
   "metadata": {},
   "source": [
    "We will use the same measurement scheme as previously:\n",
    "- measure the first qubit\n",
    "- wait\n",
    "- measure the second qubit"
   ]
  },
  {
   "cell_type": "code",
   "execution_count": null,
   "id": "0ddb63fb",
   "metadata": {
    "scrolled": true
   },
   "outputs": [],
   "source": [
    "qc_nent.measure(0, 0)\n",
    "qc_nent.id(1)\n",
    "qc_nent.measure(1, 1)\n",
    "qc_nent.draw(\"mpl\", style=\"clifford\")"
   ]
  },
  {
   "cell_type": "code",
   "execution_count": null,
   "id": "6d845a01",
   "metadata": {},
   "outputs": [],
   "source": [
    "job_nent = backend.run(qc_nent, method=\"dry-run\", shots=1000)\n",
    "result_nent = job_nent.result().get_counts()\n",
    "qiskit.visualization.plot_histogram(result_nent)"
   ]
  },
  {
   "cell_type": "markdown",
   "id": "fe3a7b43",
   "metadata": {},
   "source": [
    "As shown by the results, the outcome of the second measurement is not correlated to the outcome of the first measurement."
   ]
  },
  {
   "cell_type": "markdown",
   "id": "eaa3306a-a498-4301-b26a-d7b84986e502",
   "metadata": {},
   "source": [
    "# Appendix"
   ]
  },
  {
   "cell_type": "markdown",
   "id": "d11548a5-5873-4bfc-81db-6e044df45c2f",
   "metadata": {},
   "source": [
    "### A Quick Introduction to Complex Numbers\n",
    "\n",
    "- Prior to introducing quantum computing concepts we have to briefly mention **complex numbers** as they are essential to the field of quantum mechanics as a whole.\n",
    "\n",
    "- The field of complex numbers can be seen as an extension of the field of real numbers (the numbers used in everyday life) where the imaginary unit $i$ has been introduced. The imaginary unit's defining property is that it is such that:\n",
    "$$\n",
    "    i^2 = -1\n",
    "$$\n",
    "From there, if $a$ and $b$ are real numbers, we can define a complex number $c$ as:\n",
    "$$\n",
    "    c = a + i \\times b\n",
    "$$\n",
    "- One quantity associated to a complex number $c$ is its magnitude, denoted $|c|$ and defined as:\n",
    "$$\n",
    "    |c| = \\sqrt{a^2+b^2}\n",
    "$$\n",
    "The magnitude quantifies the \"length\" of the complex number.\n",
    "\n",
    "- As examples, $-3$, $4i$ and $4-3i$ are all complex numbers with magnitude $3$, $4$ and $5$ respectively. $(1+i) + (1-i)i$ is also a complex number as $(1+i) + (1-i)i = 1 + i + i - i^2 = 2 + 2i$ and its magnitude is $2\\sqrt{2}$.\n",
    "\n",
    "# A1) What is a Quantum Computer?\n",
    "A quantum computer is a device that processes information by leveraging quantum properties, in particular **superposition** and **entanglement**. The operations are performed by quantum gates acting on qubits.\n",
    "## 1. Qubits  \n",
    "\n",
    "### One qubit\n",
    "- The quantum analog to the classical bit is the qubit (quantum bit). While the bit can either be in state $0$ or $1$, the qubit can be in a **superposition** of the states $|0\\rangle$ and $|1\\rangle$. This means that its quantum state can be described by:\n",
    "$$\n",
    "    c_0|0\\rangle + c_1|1\\rangle\n",
    "$$\n",
    "Where $c_0$ and $c_1$, called the amplitudes, are complex numbers such that:\n",
    "$$\n",
    "    |c_0|^2+|c_1|^2 = 1\n",
    "$$\n",
    "- The issue is that we do not have access to this superposition of states directly but rather via measurements that will only return $0$ or $1$. The result of a measurement is nonetheless correlated to the quantum state of the qubit in the sense that the probabilities to measure $0$ or $1$ are respectively $|a|^2$ or $|b|^2$ respectively. Following the measurement, the qubit will collapse to the measured state.\n",
    "\n",
    "- As an example, we consider the qubit $|q\\rangle$ in the state:\n",
    "$$\n",
    "    |q\\rangle = \\frac{1}{\\sqrt{2}}|0\\rangle + \\frac{i}{\\sqrt{2}}|1\\rangle\n",
    "$$\n",
    "As stated previously we can not observe this quantum state, only measure it. A measurement of this state would then return $0$ with probability $\\left|\\frac{1}{\\sqrt{2}}\\right|^2 = \\frac{1}{2}$ and $1$ with probability $\\left|\\frac{i}{\\sqrt{2}}\\right|^2 = \\frac{1}{2}$. If $0$ is measured, then immediately after the measurement, we will have $|q\\rangle = |0\\rangle$. Similarly, if $1$ is measured, then immediately after the measurement, we will have $|q\\rangle = |1\\rangle$.\n",
    "\n",
    "### Bloch Sphere\n",
    "- While the idea of quantum superposition can seem abstract, there exists a visual representation of this concept with the Bloch sphere. As said previously, a single qubit $|\\psi\\rangle$ can be completely described by:\n",
    "$$\n",
    "    |\\psi\\rangle = c_0|0\\rangle + c_1|1\\rangle\n",
    "$$\n",
    "Where $c_0$ and $c_1$ are complex numbers such that:\n",
    "$$\n",
    "    |c_0|^2+|c_1|^2 = 1\n",
    "$$\n",
    "This condition can be rewritten as: \n",
    "$$\n",
    "    c_0 = \\cos(\\theta/2) \\text{ and } c_1 = \\sin(\\theta/2)e^{i\\phi}\n",
    "$$\n",
    "Where $0 \\leq \\theta \\leq \\pi$ and $0 \\leq \\phi \\leq 2\\pi$. We thus have:\n",
    "$$\n",
    "    |\\psi\\rangle = \\cos(\\theta/2)|0\\rangle + \\sin(\\theta/2)e^{i\\phi}|1\\rangle\n",
    "$$\n",
    "\n",
    "- Now if we represent a sphere where the north pole is $|0\\rangle$ and the south pole is $|1\\rangle$, then $\\theta$ and $\\phi$ can be seen as coordinates: the colatitude and longitude. \n",
    "\n",
    "<center>\n",
    "    <img src=\"resources/Bloch_sphere.png\">\n",
    "    <a href=\"https://en.wikipedia.org/wiki/Bloch_sphere\"> Bloch sphere</a>\n",
    "</center>\n",
    "\n",
    "\n",
    "\n",
    "- A qubit can thus be represented by a point situated at the surface of this sphere.\n",
    "\n",
    "### Multiple qubits\n",
    "- Similar to classical computers, quantum computers can work with multiple qubits. In the case of 2 qubits, the 2 qubits system $|q_0\\rangle|q_1\\rangle$ (for conciseness, one can write $|q_0q_1\\rangle$ instead of $|q_0\\rangle|q_1\\rangle$ for example) can  be in a superposition of the states: $|0\\rangle|0\\rangle$, $|0\\rangle|1\\rangle$, $|1\\rangle|0\\rangle$ and $|1\\rangle|1\\rangle$ :\n",
    "$$\n",
    "    |q_0 q_1\\rangle = c_{00}|00\\rangle + c_{01}|01\\rangle + c_{10}|10\\rangle + c_{11}|11\\rangle\n",
    "$$\n",
    "Where $c_{00}$, $c_{01}$, $c_{10}$, $c_{11}$ are also complex numbers such that:\n",
    "$$\n",
    "    |c_{00}|^2 + |c_{01}|^2 + |c_{10}|^2 + |c_{11}|^2 = 1\n",
    "$$\n",
    "\n",
    "- Generally, a system of $n$ qubits can be in a superposition of $2^n$ states. For an integer $j$, if $\\bar{j}$ is its binary representation, then the system $|q_0q_1\\ldots q_{n-1}\\rangle $ can be in the superposition:\n",
    "$$\n",
    "    |q_0q_1\\ldots q_{n-1}\\rangle = \\sum_{j=0}^{2^n-1}{c_{\\bar{j}}|\\bar{j}\\rangle}\n",
    "$$\n",
    "Here again, for $j=0, \\ldots\\ 2^n-1$, $c_{\\bar{j}}$ are complex numbers with:\n",
    "$$\n",
    "    \\sum_{j=0}^{2^n-1}{|c_{\\bar{j}}|^2}\n",
    "$$\n",
    "\n",
    "- For example, a 2 qubits superposition could be:\n",
    "$$\n",
    "    |q_0q_1\\rangle = \\frac{1}{3}|00\\rangle + \\frac{\\sqrt{3}i}{3}|01\\rangle + \\frac{1+i}{3}|10\\rangle - \\frac{\\sqrt{3}}{3}|11\\rangle\n",
    "$$\n",
    "- And a 3 qubits superposition could be:\n",
    "$$\n",
    "    |q_0q_2\\rangle = -\\frac{2}{5}|001\\rangle + \\frac{3}{5}|010\\rangle  -\\frac{\\sqrt{2}i}{5}|011\\rangle + \\frac{\\sqrt{5}}{5}|101\\rangle + \\frac{\\sqrt{3}}{5}|110\\rangle + \\frac{1-i}{5}|111\\rangle\n",
    "$$\n",
    "Here, $c_{000} = c_{100} = 0$.\n",
    "\n",
    "- In addition to superposition, systems of multiple qubits can also exhibit **entanglement**. At a high level, entanglement between 2 or more qubits happens when, after having interacted in a certain way, the state of each individiual qubit can not be described independantly, even if those qubits a separated in space. We give 2 examples to illustrate this behaviour. \n",
    "\n",
    "- The system of 2 qubits in the state:\n",
    "$$\n",
    "    |q_0q_1\\rangle = \\frac{1}{2}|00\\rangle-\\frac{1}{2}|01\\rangle+\\frac{1}{2}|10\\rangle-\\frac{1}{2}|11\\rangle\n",
    "$$\n",
    "Is not in an entangled state, indeed:\n",
    "$$\n",
    "    |q_0q_1\\rangle = \\left(\\frac{1}{\\sqrt{2}}|0\\rangle + \\frac{1}{\\sqrt{2}}|1\\rangle\\right)\\left(\\frac{1}{\\sqrt{2}}|0\\rangle - \\frac{1}{\\sqrt{2}}|1\\rangle\\right)\n",
    "$$\n",
    "So this system can be separated into two individual systems:\n",
    "$$\n",
    "    |q_0\\rangle = \\frac{1}{\\sqrt{2}}|0\\rangle + \\frac{1}{\\sqrt{2}}|1\\rangle \\text{ and } |q_1\\rangle = \\frac{1}{\\sqrt{2}}|0\\rangle - \\frac{1}{\\sqrt{2}}|1\\rangle\n",
    "$$\n",
    "\n",
    "- On the other hand, a 2 qubit system in the state: \n",
    "$$\\tag{1}\n",
    "    |q_0q_1\\rangle = \\frac{1}{\\sqrt{2}}|00\\rangle + \\frac{1}{\\sqrt{2}}|11\\rangle\n",
    "$$\n",
    "Can not be split into 2 independant sytems. This means that the state of the first qubit can not be described on its own (it can not be written as a superposition of the form $c_0|0\\rangle + c_1|1\\rangle$) nor can be the state of the second qubit.\n",
    "\n",
    "The qubits in a quantum computer being usually initialised in the state $|0\\rangle$ we need a way to manipulate them to bring the system into a state exhibiting superposition and entaglement that is of interest regarding the problem to be solved. These operations are achieved by the quantum gates.  \n",
    "\n",
    "\n",
    "## 2. Quantum Gates\n",
    "\n",
    "- One of the ways to perform quantum computation is through the use of quantum gates. Similar to logic gates, quantum gates can act on one or more qubits. \n",
    "\n",
    "- To better explain the effect of a quantum gate on qubits, it is common and convenient to adopt a matrix representation. One commonly used quantum gate is the Hadamard gate ($\\mathbf{H}$) for which the matrix representation is:\n",
    "$$\n",
    "    \\mathbf{H} = \n",
    "        \\begin{bmatrix}\n",
    "            \\frac{1}{\\sqrt{2}} & \\frac{1}{\\sqrt{2}} \\\\\n",
    "            \\frac{1}{\\sqrt{2}} & -\\frac{1}{\\sqrt{2}}\n",
    "        \\end{bmatrix}\n",
    "$$\n",
    "The effect of this gate on a qubit in state $|0\\rangle$, denoted $\\mathbf{H}|0\\rangle$, is described by the first column while the effect on $|1\\rangle$, denoted $\\mathbf{H}|1\\rangle$, is described by the second column. If $|0\\rangle$ is given as input of $\\mathbf{H}$, the resulting quantum state will be:\n",
    "\n",
    "$$\\tag{2}\n",
    "    \\mathbf{H}|0\\rangle = \\frac{1}{\\sqrt{2}}|0\\rangle + \\frac{1}{\\sqrt{2}}|1\\rangle\n",
    "$$\n",
    "\n",
    "Similarly, if $|1\\rangle$ is given as input of $\\mathbf{H}$, the resulting quantum state will be:\n",
    "$$\n",
    "    \\mathbf{H}|1\\rangle = \\frac{1}{\\sqrt{2}}|0\\rangle - \\frac{1}{\\sqrt{2}}|1\\rangle\n",
    "$$\n",
    "\n",
    "- Another commom gate is the $\\mathbf{X}$ gate for which the matrix is:\n",
    "$$\n",
    "    \\mathbf{X} = \\begin{bmatrix}0 & 1\\\\ 1 & 0\\end{bmatrix}\n",
    "$$\n",
    "We then have on $|0\\rangle$:\n",
    "$$\n",
    "    \\mathbf{X}|0\\rangle = 0|0\\rangle + 1|1\\rangle = |1\\rangle \n",
    "$$\n",
    "And on $|1\\rangle$:\n",
    "$$\n",
    "    \\mathbf{X}|1\\rangle = 1|0\\rangle + 0|1\\rangle = |0\\rangle\n",
    "$$\n",
    "\n",
    "- An example of a gate acting on more than one qubit is the controlled $\\mathbf{X}$ gate ($\\mathbf{CX}$) that takes as input 2 qubits (a control qubit and a target qubit) and acts as a $\\mathbf{X}$ gate on the target qubit when the control qubit is in state $|1\\rangle$. If we apply this gate to 2 qubits where the first one is the control and the second is the target, then:\n",
    "$$\n",
    "    \\mathbf{CX}|00\\rangle = |00\\rangle, \\ \\mathbf{CX}|01\\rangle = |01\\rangle, \\ \\mathbf{CX}|10\\rangle = |11\\rangle \\text{ and } \\mathbf{CX}|11\\rangle = |10\\rangle\n",
    "$$\n",
    "And we have the matrix following matrix representation:\n",
    "$$\n",
    "    \\mathbf{CX} = \n",
    "        \\begin{bmatrix}\n",
    "            1 & 0 & 0 & 0 \\\\ \n",
    "            0 & 1 & 0 & 0 \\\\\n",
    "            0 & 0 & 0 & 1 \\\\\n",
    "            0 & 0 & 1 & 0\n",
    "        \\end{bmatrix} \n",
    "$$\n",
    "- One important property of the quantum gates is the linearity: if a qubit is in a superposition, then the result of a gate applied to this qubit will also be a superposition. More precisely, assume that we have the qubit \n",
    "$$\n",
    "    |q\\rangle = a|0\\rangle + b|1\\rangle\n",
    "$$\n",
    "Then, for example:\n",
    "$$\n",
    "    \\mathbf{H}|q\\rangle = a \\mathbf{H}|0\\rangle + b \\mathbf{H}|1\\rangle = a \\left(\\frac{1}{\\sqrt{2}}|0\\rangle + \\frac{1}{\\sqrt{2}}|1\\rangle\\right) + b \\left(\\frac{1}{\\sqrt{2}}|0\\rangle - \\frac{1}{\\sqrt{2}}|1\\rangle\\right) = \\frac{a+b}{\\sqrt{2}}|0\\rangle + \\frac{a-b}{\\sqrt{2}}|1\\rangle \n",
    "$$\n",
    "\n",
    "- Multiple gates can also be executed sequentially. For example, let us work with 2 qubits starting in the state $|00\\rangle$. We apply the $\\mathbf{H}$ gate to the first qubit resulting in the quantum state:\n",
    "\n",
    "\\begin{equation}\\tag{3}\n",
    "    \\left(\\mathbf{H}|0\\rangle\\right)|0\\rangle = \\left(\\frac{1}{\\sqrt{2}}|0\\rangle + \\frac{1}{\\sqrt{2}}|1\\rangle\\right)|0\\rangle = \\frac{1}{\\sqrt{2}}|00\\rangle + \\frac{1}{\\sqrt{2}}|10\\rangle\n",
    "\\end{equation}\n",
    "\n",
    "Then applying the $\\mathbf{CX}$ gate to the previous state leads to:\n",
    "\\begin{equation}\\tag{4}\n",
    "    \\frac{1}{\\sqrt{2}}\\mathbf{CX}|00\\rangle + \\frac{1}{\\sqrt{2}}\\mathbf{CX}|10\\rangle = \\frac{1}{\\sqrt{2}}|00\\rangle + \\frac{1}{\\sqrt{2}}|11\\rangle\n",
    "\\end{equation}\n",
    "\n",
    "- The 2 qubits are now in an entangled state.\n",
    "\n",
    "- In addition to the gates already mentionned ($\\mathbf{H}$, $\\mathbf{X}$, $\\mathbf{CX}$), we introduce some additional common gates that might be useful:\n",
    "$$\n",
    "    \\mathbf{S} = \\begin{bmatrix}1&0\\\\0&i\\end{bmatrix} \\text{, } \\mathbf{Y} = \\begin{bmatrix}0&-i\\\\i&0\\end{bmatrix} \\text{ and } \\mathbf{Z} =\\begin{bmatrix}1&0\\\\0&-1\\end{bmatrix}\n",
    "$$\n",
    "\n",
    "## 3. Measurements\n",
    "- One important caveat in quantum computing is that we do not have direct access to a quantum state. The only way we can observe a quantum state is through measurement.\n",
    "\n",
    "- The result of a measurement is probabilistic and will output a classical bit string. \n",
    "\n",
    "- The probability for a bit string to be the outcome of the measurement is directly correlated to its amplitude in the superposition being measured.\n",
    "\n",
    "- Suppose we are measuring the following 2 qubits quantum state:\n",
    "$$\n",
    "    |q_0q_1\\rangle = \\frac{1}{2}|01\\rangle - \\frac{i}{2}|10\\rangle + \\frac{1+i}{2}|11\\rangle\n",
    "$$\n",
    "Then the possible outcomes of the measurement are $01$, $10$ and $11$. Each will happen with probability $\\frac{1}{4}$, $\\frac{1}{4}$ and $\\frac{1}{2}$ respectively.\n",
    "\n",
    "- Following a measurement the quantum state will collapse to the state corresponding to the bitstring that has been measured, the superposition being destroyed in the process.\n",
    "\n",
    "- Suppose that the measurement performed on the previous state returns $10$, then after the measurement the 2 qubits are in the state:\n",
    "$$\n",
    "    |q_0q_1\\rangle = |10\\rangle\n",
    "$$\n",
    "\n",
    "## 4. Quantum Circuits\n",
    "- Quantum circuits are the quantum analog to classical logic circuits. The qubits are represented by wires and the gates are represented by blocks placed on the wires (the qubits) they are acting on. Finally, the measurements, placed at the end of the circuit, are represented by meter signs.\n",
    "\n",
    "![circuit](resources/circuit.png) \n",
    "\n",
    "- The point of quantum computing is thus to come up with a quantum circuit using these building blocks (qubits, quantum gates) to create superpositions and entanglements and manipulate them such that the final measurements output a classical information that is useful to the problem at hand.\n",
    "\n",
    "- By creating and manipulating the right superpositions and entaglements, we can not only solve a problem of interest but most importantly we can do it more efficiently when compared to classical computing."
   ]
  }
 ],
 "metadata": {
  "kernelspec": {
   "display_name": "Python 3 (ipykernel)",
   "language": "python",
   "name": "python3"
  },
  "language_info": {
   "codemirror_mode": {
    "name": "ipython",
    "version": 3
   },
   "file_extension": ".py",
   "mimetype": "text/x-python",
   "name": "python",
   "nbconvert_exporter": "python",
   "pygments_lexer": "ipython3",
   "version": "3.11.7"
  }
 },
 "nbformat": 4,
 "nbformat_minor": 5
}
