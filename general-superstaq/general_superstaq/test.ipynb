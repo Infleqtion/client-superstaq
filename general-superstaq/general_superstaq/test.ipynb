{
 "cells": [
  {
   "cell_type": "code",
   "execution_count": 1,
   "id": "e2573b9c",
   "metadata": {},
   "outputs": [],
   "source": [
    "%load_ext autoreload\n",
    "%autoreload 2"
   ]
  },
  {
   "cell_type": "code",
   "execution_count": 2,
   "id": "bc3f3657",
   "metadata": {},
   "outputs": [],
   "source": [
    "import cirq_superstaq as css\n",
    "import cirq\n",
    "from general_superstaq.superstaq_client import _SuperstaqClient, _SuperstaqClientV3"
   ]
  },
  {
   "cell_type": "code",
   "execution_count": 3,
   "id": "4a9d8824",
   "metadata": {},
   "outputs": [
    {
     "name": "stderr",
     "output_type": "stream",
     "text": [
      "/home/viet/client-superstaq/general-superstaq/general_superstaq/superstaq_client.py:157: UserWarning: Version v0.3.0 of the Superstaq endpoint is currently under development. This version should not be treated as stable. Most user should continue using `api_version='v0.2.0'`.\n",
      "  self._warn_unstable_version()\n"
     ]
    }
   ],
   "source": [
    "service = css.Service(\n",
    "    api_key=\"mc-token\",\n",
    "    remote_host=\"https://superstaq-dev.infleqtion.com/\",\n",
    "    api_version=\"v0.3.0\",\n",
    ")\n",
    "# backend = provider.get_backend(\"cq_sqale_simulator\")"
   ]
  },
  {
   "cell_type": "code",
   "execution_count": 4,
   "id": "055eefe1",
   "metadata": {},
   "outputs": [
    {
     "data": {
      "text/plain": [
       "'v0.3.0'"
      ]
     },
     "execution_count": 4,
     "metadata": {},
     "output_type": "execute_result"
    }
   ],
   "source": [
    "service._client.api_version"
   ]
  },
  {
   "cell_type": "code",
   "execution_count": 5,
   "id": "60e80672",
   "metadata": {},
   "outputs": [
    {
     "name": "stderr",
     "output_type": "stream",
     "text": [
      "/home/viet/miniconda3/envs/client-venv/lib/python3.12/site-packages/urllib3/connectionpool.py:1097: InsecureRequestWarning: Unverified HTTPS request is being made to host 'superstaq-dev.infleqtion.com'. Adding certificate verification is strongly advised. See: https://urllib3.readthedocs.io/en/latest/advanced-usage.html#tls-warnings\n",
      "  warnings.warn(\n"
     ]
    },
    {
     "data": {
      "text/plain": [
       "[Target(target='aqt_keysight_qpu', supports_submit=False, supports_submit_qubo=False, supports_compile=True, available=True, retired=False, accessible=True),\n",
       " Target(target='aqt_zurich_qpu', supports_submit=False, supports_submit_qubo=False, supports_compile=True, available=True, retired=False, accessible=True),\n",
       " Target(target='aws_dm1_simulator', supports_submit=True, supports_submit_qubo=False, supports_compile=True, available=True, retired=False, accessible=True),\n",
       " Target(target='aws_sv1_simulator', supports_submit=True, supports_submit_qubo=False, supports_compile=True, available=True, retired=False, accessible=True),\n",
       " Target(target='aws_tn1_simulator', supports_submit=True, supports_submit_qubo=False, supports_compile=True, available=True, retired=False, accessible=True),\n",
       " Target(target='cq_sqale_qpu', supports_submit=True, supports_submit_qubo=False, supports_compile=True, available=True, retired=False, accessible=True),\n",
       " Target(target='cq_sqale_simulator', supports_submit=True, supports_submit_qubo=False, supports_compile=True, available=True, retired=False, accessible=True),\n",
       " Target(target='eeroq_wonderlake_qpu', supports_submit=False, supports_submit_qubo=False, supports_compile=True, available=True, retired=False, accessible=True),\n",
       " Target(target='ibmq_brisbane_qpu', supports_submit=True, supports_submit_qubo=False, supports_compile=True, available=True, retired=False, accessible=True),\n",
       " Target(target='ibmq_fez_qpu', supports_submit=True, supports_submit_qubo=False, supports_compile=True, available=True, retired=False, accessible=True),\n",
       " Target(target='ibmq_kingston_qpu', supports_submit=True, supports_submit_qubo=False, supports_compile=True, available=True, retired=False, accessible=True),\n",
       " Target(target='ibmq_marrakesh_qpu', supports_submit=True, supports_submit_qubo=False, supports_compile=True, available=True, retired=False, accessible=True),\n",
       " Target(target='ibmq_sherbrooke_qpu', supports_submit=True, supports_submit_qubo=False, supports_compile=True, available=True, retired=False, accessible=True),\n",
       " Target(target='ibmq_torino_qpu', supports_submit=True, supports_submit_qubo=False, supports_compile=True, available=True, retired=False, accessible=True),\n",
       " Target(target='ionq_forte-1_qpu', supports_submit=True, supports_submit_qubo=False, supports_compile=True, available=True, retired=False, accessible=True),\n",
       " Target(target='ionq_forte-enterprise-1_qpu', supports_submit=True, supports_submit_qubo=False, supports_compile=True, available=True, retired=False, accessible=True),\n",
       " Target(target='ionq_ion_simulator', supports_submit=True, supports_submit_qubo=False, supports_compile=True, available=True, retired=False, accessible=True),\n",
       " Target(target='iqm_garnet_qpu', supports_submit=True, supports_submit_qubo=False, supports_compile=True, available=True, retired=False, accessible=True),\n",
       " Target(target='qscout_peregrine_qpu', supports_submit=False, supports_submit_qubo=False, supports_compile=True, available=True, retired=False, accessible=True),\n",
       " Target(target='qtm_h1-1_qpu', supports_submit=True, supports_submit_qubo=False, supports_compile=True, available=True, retired=False, accessible=True),\n",
       " Target(target='qtm_h1-1e_simulator', supports_submit=True, supports_submit_qubo=False, supports_compile=True, available=True, retired=False, accessible=True),\n",
       " Target(target='qtm_h2-1_qpu', supports_submit=True, supports_submit_qubo=False, supports_compile=True, available=True, retired=False, accessible=True),\n",
       " Target(target='rigetti_ankaa-3_qpu', supports_submit=True, supports_submit_qubo=False, supports_compile=True, available=True, retired=False, accessible=True),\n",
       " Target(target='ss_unconstrained_simulator', supports_submit=True, supports_submit_qubo=True, supports_compile=True, available=True, retired=False, accessible=True),\n",
       " Target(target='sqale_cipipeline_qpu', supports_submit=True, supports_submit_qubo=False, supports_compile=True, available=True, retired=False, accessible=True)]"
      ]
     },
     "execution_count": 5,
     "metadata": {},
     "output_type": "execute_result"
    }
   ],
   "source": [
    "service.get_targets()"
   ]
  },
  {
   "cell_type": "code",
   "execution_count": 6,
   "id": "e4815a81",
   "metadata": {},
   "outputs": [],
   "source": [
    "qubits = cirq.LineQubit.range(2)\n",
    "\n",
    "circuit1 = cirq.Circuit([cirq.X(qubits[0]), cirq.measure_each(*qubits)])\n",
    "circuit2 = cirq.Circuit([cirq.X(qubits[1]), cirq.measure_each(*qubits)])"
   ]
  },
  {
   "cell_type": "code",
   "execution_count": null,
   "id": "69b2d0af",
   "metadata": {},
   "outputs": [],
   "source": [
    "# circuit1 = qiskit.QuantumCircuit(2)\n",
    "# circuit1.x(0)\n",
    "# circuit1.measure_all()\n",
    "\n",
    "# circuit2 = qiskit.QuantumCircuit(2)\n",
    "# circuit2.x(1)\n",
    "# circuit2.measure_all()"
   ]
  },
  {
   "cell_type": "code",
   "execution_count": 7,
   "id": "9b1009c8",
   "metadata": {},
   "outputs": [
    {
     "name": "stderr",
     "output_type": "stream",
     "text": [
      "/home/viet/miniconda3/envs/client-venv/lib/python3.12/site-packages/urllib3/connectionpool.py:1097: InsecureRequestWarning: Unverified HTTPS request is being made to host 'superstaq-dev.infleqtion.com'. Adding certificate verification is strongly advised. See: https://urllib3.readthedocs.io/en/latest/advanced-usage.html#tls-warnings\n",
      "  warnings.warn(\n"
     ]
    }
   ],
   "source": [
    "# job = backend.run([circuit1, circuit2], shots=100, method=\"noise-sim\")\n",
    "job = service.create_job([circuit1, circuit2], repetitions=100, target=\"cq_sqale_simulator\", method=\"noise-sim\")"
   ]
  },
  {
   "cell_type": "code",
   "execution_count": 8,
   "id": "0a476957",
   "metadata": {},
   "outputs": [
    {
     "name": "stderr",
     "output_type": "stream",
     "text": [
      "/home/viet/miniconda3/envs/client-venv/lib/python3.12/site-packages/urllib3/connectionpool.py:1097: InsecureRequestWarning: Unverified HTTPS request is being made to host 'superstaq-dev.infleqtion.com'. Adding certificate verification is strongly advised. See: https://urllib3.readthedocs.io/en/latest/advanced-usage.html#tls-warnings\n",
      "  warnings.warn(\n"
     ]
    },
    {
     "data": {
      "text/plain": [
       "'completed'"
      ]
     },
     "execution_count": 8,
     "metadata": {},
     "output_type": "execute_result"
    }
   ],
   "source": [
    "job.status().value"
   ]
  },
  {
   "cell_type": "code",
   "execution_count": 10,
   "id": "ee7010cf",
   "metadata": {},
   "outputs": [],
   "source": [
    "truc = service.get_job(job.job_id())"
   ]
  },
  {
   "cell_type": "code",
   "execution_count": 14,
   "id": "05c85202",
   "metadata": {},
   "outputs": [
    {
     "name": "stderr",
     "output_type": "stream",
     "text": [
      "/home/viet/miniconda3/envs/client-venv/lib/python3.12/site-packages/urllib3/connectionpool.py:1097: InsecureRequestWarning: Unverified HTTPS request is being made to host 'superstaq-dev.infleqtion.com'. Adding certificate verification is strongly advised. See: https://urllib3.readthedocs.io/en/latest/advanced-usage.html#tls-warnings\n",
      "  warnings.warn(\n"
     ]
    }
   ],
   "source": [
    "job.cancel()"
   ]
  },
  {
   "cell_type": "code",
   "execution_count": null,
   "id": "024f6b8d",
   "metadata": {},
   "outputs": [],
   "source": []
  }
 ],
 "metadata": {
  "kernelspec": {
   "display_name": "client-venv",
   "language": "python",
   "name": "python3"
  },
  "language_info": {
   "codemirror_mode": {
    "name": "ipython",
    "version": 3
   },
   "file_extension": ".py",
   "mimetype": "text/x-python",
   "name": "python",
   "nbconvert_exporter": "python",
   "pygments_lexer": "ipython3",
   "version": "3.12.9"
  }
 },
 "nbformat": 4,
 "nbformat_minor": 5
}
