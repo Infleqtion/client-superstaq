{
 "cells": [
  {
   "cell_type": "markdown",
   "id": "05bddada-7a84-4269-8da9-f5672d459d35",
   "metadata": {},
   "source": [
    "# Compiling Circuits for EeroQ via Cirq"
   ]
  },
  {
   "cell_type": "markdown",
   "id": "d06c9dcf-5ea8-4f3f-92b9-14444be41504",
   "metadata": {},
   "source": [
    "## Import Requirements"
   ]
  },
  {
   "cell_type": "markdown",
   "id": "38ae72c1-fbeb-4836-a839-f1bad0a98ddf",
   "metadata": {},
   "source": [
    "This tutorial will showcase how to compile a circuit for EeroQ hardware using the ```cirq-superstaq``` client. "
   ]
  },
  {
   "cell_type": "code",
   "execution_count": 1,
   "id": "bb3fbbd3-986b-4457-8b87-e3cb42363a28",
   "metadata": {},
   "outputs": [],
   "source": [
    "# Required imports\n",
    "try:\n",
    "    import cirq\n",
    "    import cirq_superstaq as css\n",
    "except ImportError:\n",
    "    print(\"Installing cirq-superstaq...\")\n",
    "    %pip install --quiet 'cirq-superstaq[examples]'\n",
    "    print(\"Installed cirq-superstaq.\")\n",
    "    print(\"You may need to restart the kernel to import newly installed packages.\")\n",
    "    import cirq\n",
    "    import cirq_superstaq as css\n",
    "\n",
    "# Optional imports\n",
    "import numpy as np\n",
    "import os  # Used if setting a token as an environment variable\n",
    "\n",
    "%load_ext autoreload\n",
    "%autoreload 2"
   ]
  },
  {
   "cell_type": "markdown",
   "id": "dc3c6580-50e3-4edc-807b-e33dedbf8ca2",
   "metadata": {},
   "source": [
    "To interface Superstaq via Cirq, we must first instantiate a service provider in ```cirq-superstaq``` with ```Service()```. We then supply a Superstaq API key (which you can get from https://superstaq.infleqtion.com) by either providing the API key as an argument of Service, i.e., ```css.Service(api_key=\"token\")```, or by setting it as an environment variable. (see more details [here](https://superstaq.readthedocs.io/en/latest/get_started/basics/basics_css.html#Set-up-access-to-Superstaq%E2%80%99s-API))."
   ]
  },
  {
   "cell_type": "code",
   "execution_count": 2,
   "id": "99b54393-f9f0-48c8-be31-033fd62d4624",
   "metadata": {},
   "outputs": [],
   "source": [
    "service = css.Service()"
   ]
  },
  {
   "cell_type": "markdown",
   "id": "275bcdda-0eef-41c0-b7ea-017accab90eb",
   "metadata": {},
   "source": [
    "# EeroQ Gates"
   ]
  },
  {
   "cell_type": "code",
   "execution_count": 3,
   "id": "702504fe-5a52-425b-a52f-29973c7f94b3",
   "metadata": {},
   "outputs": [
    {
     "data": {
      "text/html": [
       "<pre style=\"overflow: auto; white-space: pre;\">0: ───DD───\n",
       "      │\n",
       "1: ───DD───</pre>"
      ],
      "text/plain": [
       "0: ───DD───\n",
       "      │\n",
       "1: ───DD───"
      ]
     },
     "execution_count": 3,
     "metadata": {},
     "output_type": "execute_result"
    }
   ],
   "source": [
    "dd_gate = css.DDPowGate(exponent=1)\n",
    "cirq.Circuit(dd_gate.on(cirq.q(0), cirq.q(1)))"
   ]
  },
  {
   "cell_type": "code",
   "execution_count": 4,
   "id": "307cdd6c-d407-4b5d-bc2b-b3d52f1ca6ee",
   "metadata": {},
   "outputs": [
    {
     "data": {
      "text/plain": [
       "array([[ 0.-1.j,  0.+0.j,  0.+0.j,  0.+0.j],\n",
       "       [ 0.+0.j,  0.+0.j, -1.+0.j,  0.+0.j],\n",
       "       [ 0.+0.j, -1.+0.j,  0.+0.j,  0.+0.j],\n",
       "       [ 0.+0.j,  0.+0.j,  0.+0.j,  0.-1.j]])"
      ]
     },
     "execution_count": 4,
     "metadata": {},
     "output_type": "execute_result"
    }
   ],
   "source": [
    "cirq.unitary(dd_gate)"
   ]
  },
  {
   "cell_type": "markdown",
   "id": "26cd7f88-ab49-48bd-beae-ef6883d61cd0",
   "metadata": {},
   "source": [
    "Below is the EeroQ protocol for a CZ Gate."
   ]
  },
  {
   "cell_type": "markdown",
   "id": "0bc3fd9e-8e18-45df-803f-733ca7cc5854",
   "metadata": {},
   "source": [
    "![title](images/DD_gate.png)"
   ]
  },
  {
   "cell_type": "code",
   "execution_count": 5,
   "id": "b89ef795-04c6-4193-9b23-a5fa4178640b",
   "metadata": {},
   "outputs": [
    {
     "data": {
      "text/html": [
       "<pre style=\"overflow: auto; white-space: pre;\">0+: ───────│──────────────────────────────\n",
       "           │\n",
       "0-: ───X───│───DD────────S──────DD────────\n",
       "           │   │                │\n",
       "1+: ───────│───┼─────────Z──────┼─────────\n",
       "           │   │                │\n",
       "1-: ───X───│───DD^0.25───S^-1───DD^0.25───</pre>"
      ],
      "text/plain": [
       "0+: ───────│──────────────────────────────\n",
       "           │\n",
       "0-: ───X───│───DD────────S──────DD────────\n",
       "           │   │                │\n",
       "1+: ───────│───┼─────────Z──────┼─────────\n",
       "           │   │                │\n",
       "1-: ───X───│───DD^0.25───S^-1───DD^0.25───"
      ]
     },
     "execution_count": 5,
     "metadata": {},
     "output_type": "execute_result"
    }
   ],
   "source": [
    "circuit = cirq.Circuit(cirq.CZ(cirq.q(0), cirq.q(1)))\n",
    "compiled_circuit = service.compile(circuit, \"eeroq_wonderlake_qpu\").circuit\n",
    "compiled_circuit"
   ]
  },
  {
   "cell_type": "code",
   "execution_count": 6,
   "id": "8f899e26-f79b-487c-9376-44bfe464db37",
   "metadata": {},
   "outputs": [],
   "source": [
    "def compute_unitary(circuit: cirq.Circuit):\n",
    "    \"\"\"Computes the n*n unitary of a 2n electron EeroQ circuit\"\"\"\n",
    "    unitary = cirq.unitary(circuit[1:]).reshape((4,) * cirq.num_qubits(circuit))\n",
    "    mat = unitary[tuple(slice(1, 3) for _ in range(cirq.num_qubits(circuit)))]\n",
    "    dim = round(np.sqrt(mat.size))\n",
    "    mat = mat.reshape(dim, dim)\n",
    "    return mat"
   ]
  },
  {
   "cell_type": "code",
   "execution_count": 7,
   "id": "c34c7c2d-076f-471c-acea-77371f8131f4",
   "metadata": {},
   "outputs": [
    {
     "data": {
      "text/plain": [
       "array([[ 1.-0.00000000e+00j, -0.+0.00000000e+00j, -0.+0.00000000e+00j,\n",
       "        -0.+0.00000000e+00j],\n",
       "       [-0.+0.00000000e+00j,  1.+7.85046229e-17j, -0.+0.00000000e+00j,\n",
       "        -0.+0.00000000e+00j],\n",
       "       [-0.+0.00000000e+00j, -0.+0.00000000e+00j,  1.+7.85046229e-17j,\n",
       "        -0.+0.00000000e+00j],\n",
       "       [-0.+0.00000000e+00j, -0.+0.00000000e+00j, -0.+0.00000000e+00j,\n",
       "        -1.-0.00000000e+00j]])"
      ]
     },
     "execution_count": 7,
     "metadata": {},
     "output_type": "execute_result"
    }
   ],
   "source": [
    "mat = compute_unitary(compiled_circuit)\n",
    "mat/mat[0][0]"
   ]
  },
  {
   "cell_type": "code",
   "execution_count": 8,
   "id": "eeb8dd38-daf6-483e-bc5c-ceb303859f50",
   "metadata": {},
   "outputs": [
    {
     "data": {
      "text/plain": [
       "True"
      ]
     },
     "execution_count": 8,
     "metadata": {},
     "output_type": "execute_result"
    }
   ],
   "source": [
    "cirq.allclose_up_to_global_phase(cirq.unitary(circuit), mat)"
   ]
  },
  {
   "cell_type": "code",
   "execution_count": 9,
   "id": "11809ddb-797f-46ea-b546-ec16358eb9cc",
   "metadata": {},
   "outputs": [],
   "source": [
    "circuit += cirq.measure(cirq.q(0), cirq.q(1))\n",
    "job = service.create_job(circuit, target= \"eeroq_wonderlake_qpu\", repetitions = 10, method=\"dry-run\")"
   ]
  },
  {
   "cell_type": "code",
   "execution_count": 10,
   "id": "664bec0f-6222-49a5-84aa-252782ec496c",
   "metadata": {},
   "outputs": [
    {
     "data": {
      "text/plain": [
       "[{'00': 10}]"
      ]
     },
     "execution_count": 10,
     "metadata": {},
     "output_type": "execute_result"
    }
   ],
   "source": [
    "job.counts()"
   ]
  },
  {
   "cell_type": "markdown",
   "id": "7cb64f54-69d8-417f-9b1d-38a5900e5b7f",
   "metadata": {},
   "source": [
    "# Circuit Compilation"
   ]
  },
  {
   "cell_type": "code",
   "execution_count": 11,
   "id": "eb5ed3ae-3ec6-4c10-b48c-db25019a882f",
   "metadata": {},
   "outputs": [
    {
     "data": {
      "text/html": [
       "<pre style=\"overflow: auto; white-space: pre;\">0: ───H───@───M───\n",
       "          │   │\n",
       "1: ───────X───M───</pre>"
      ],
      "text/plain": [
       "0: ───H───@───M───\n",
       "          │   │\n",
       "1: ───────X───M───"
      ]
     },
     "execution_count": 11,
     "metadata": {},
     "output_type": "execute_result"
    }
   ],
   "source": [
    "qubits = cirq.LineQubit.range(2)\n",
    "circuit = cirq.Circuit(cirq.H(qubits[0]), cirq.CNOT(qubits[0], qubits[1]), cirq.measure(*qubits))\n",
    "circuit"
   ]
  },
  {
   "cell_type": "code",
   "execution_count": 12,
   "id": "82dc639f-cc92-45ff-89e4-d477c16c4033",
   "metadata": {},
   "outputs": [
    {
     "data": {
      "text/html": [
       "<pre style=\"overflow: auto; white-space: pre;\">0+: ───────│───S^-1───│───DD────────S──────│─────────────Z────────────────│───DD────────Z──────│───M(&#x27;q(0),q(1)&#x27;)───\n",
       "           │          │   │                │                              │   │                │   │\n",
       "0-: ───X───│──────────│───DD^-0.5──────────│───DD────────S──────DD────────│───DD───────────────│───M────────────────\n",
       "           │          │                    │   │                │         │                    │   │\n",
       "1+: ───────│───S──────│───DD────────S^-1───│───┼─────────S^-1───┼─────────│───DD────────S^-1───│───M────────────────\n",
       "           │          │   │                │   │                │         │   │                │   │\n",
       "1-: ───X───│──────────│───DD^-0.5──────────│───DD^0.25───S^-1───DD^0.25───│───DD^-0.5──────────│───M────────────────</pre>"
      ],
      "text/plain": [
       "0+: ───────│───S^-1───│───DD────────S──────│─────────────Z────────────────│───DD────────Z──────│───M('q(0),q(1)')───\n",
       "           │          │   │                │                              │   │                │   │\n",
       "0-: ───X───│──────────│───DD^-0.5──────────│───DD────────S──────DD────────│───DD───────────────│───M────────────────\n",
       "           │          │                    │   │                │         │                    │   │\n",
       "1+: ───────│───S──────│───DD────────S^-1───│───┼─────────S^-1───┼─────────│───DD────────S^-1───│───M────────────────\n",
       "           │          │   │                │   │                │         │   │                │   │\n",
       "1-: ───X───│──────────│───DD^-0.5──────────│───DD^0.25───S^-1───DD^0.25───│───DD^-0.5──────────│───M────────────────"
      ]
     },
     "execution_count": 12,
     "metadata": {},
     "output_type": "execute_result"
    }
   ],
   "source": [
    "compiled_circuit = service.compile(circuit, \"eeroq_wonderlake_qpu\").circuit\n",
    "compiled_circuit"
   ]
  },
  {
   "cell_type": "code",
   "execution_count": 13,
   "id": "f66099d2-05b0-4361-bbdf-7ded20127d0f",
   "metadata": {},
   "outputs": [],
   "source": [
    "gate_domain = {\n",
    "    cirq.X: 1,\n",
    "    cirq.Y: 1,\n",
    "    cirq.Z: 1,\n",
    "    cirq.S: 1,\n",
    "    cirq.T: 1,\n",
    "    cirq.H: 1,\n",
    "    cirq.rx(1.23): 1,\n",
    "    cirq.ry(2.34): 1,\n",
    "    cirq.CZ: 2,\n",
    "    cirq.CX: 2,\n",
    "    cirq.CX**0.5: 2,\n",
    "    cirq.SWAP: 2,\n",
    "    cirq.ISWAP: 2,\n",
    "    css.ZZSwapGate(1.23): 2,\n",
    "    css.Barrier(3): 3,\n",
    "}"
   ]
  },
  {
   "cell_type": "code",
   "execution_count": 14,
   "id": "4ba055bd-13ed-43cd-96d4-f3b51edbe6ff",
   "metadata": {},
   "outputs": [
    {
     "data": {
      "text/html": [
       "<pre style=\"overflow: auto; white-space: pre;\">0: ───ZZSwap(0.392π)─────────────────────────────────────────────@───│───\n",
       "      │                                                          │   │\n",
       "1: ───ZZSwap(0.392π)───@───────X^0.5───Ry(0.745π)────────────────@───┼───\n",
       "                       │       │                                     │\n",
       "2: ────────────────────X───────┼────────────────────Ry(0.745π)───────│───\n",
       "                               │                                     │\n",
       "3: ────────────────────────────@────────────────────X────────────────│───</pre>"
      ],
      "text/plain": [
       "0: ───ZZSwap(0.392π)─────────────────────────────────────────────@───│───\n",
       "      │                                                          │   │\n",
       "1: ───ZZSwap(0.392π)───@───────X^0.5───Ry(0.745π)────────────────@───┼───\n",
       "                       │       │                                     │\n",
       "2: ────────────────────X───────┼────────────────────Ry(0.745π)───────│───\n",
       "                               │                                     │\n",
       "3: ────────────────────────────@────────────────────X────────────────│───"
      ]
     },
     "execution_count": 14,
     "metadata": {},
     "output_type": "execute_result"
    }
   ],
   "source": [
    "n, depth, op_density = (4, 8, 0.8)\n",
    "qubits = cirq.LineQubit.range(n)\n",
    "circuit = cirq.testing.random_circuit(qubits, depth, op_density, gate_domain=gate_domain)\n",
    "circuit"
   ]
  },
  {
   "cell_type": "code",
   "execution_count": 15,
   "id": "2ffdfa4d-562e-4463-80f5-23db7926abf2",
   "metadata": {},
   "outputs": [
    {
     "data": {
      "text/html": [
       "<pre style=\"overflow: auto; white-space: pre;\">0+: ───────│───Z^-0.75───│───DD────────Z^0.75───│─────────────Z^0.75─────────────│───DD────────Z^-0.75───│─────────────Z^0.75─────────────│───DD──────────T─────────│─────────────T^-1────────────────│───DD────────T──────│──────────────────────────────│───────────────────│──────────────────────────────│──────────────────│─────────────────────────────────│───────────────────│──────────│───────────────────│─────────────Z────────────────│───\n",
       "           │             │   │                  │                                │   │                   │                                │   │                     │                                 │   │                │                              │                   │                              │                  │                                 │                   │          │                   │                              │\n",
       "0-: ───X───│─────────────│───DD^-0.5────────────│───DD────────S────────DD────────│───DD^-0.5─────────────│───DD────────S^-1─────DD────────│───DD^-0.5───────────────│───DD────────S─────────DD────────│───DD───────────────│──────────────────────────────│───────────────────│──────────────────────────────│──────────────────│─────────────────────────────────│───────────────────│──────────│───────────────────│───DD────────S^-1───DD────────│───\n",
       "           │             │                      │   │                  │         │                       │   │                  │         │                         │   │                   │         │                    │                              │                   │                              │                  │                                 │                   │          │                   │   │                │         │\n",
       "1+: ───────│───T^-1──────│───DD────────T────────│───┼─────────Z^0.75───┼─────────│───DD────────T─────────│───┼─────────Z^0.75───┼─────────│───DD──────────Z^-0.75───│───┼─────────Z^-0.75───┼─────────│───DD────────T^-1───│─────────────S^-1─────────────│───DD──────────S───│─────────────S^-1─────────────│───DD─────────S───│─────────────S^-1────────────────│───DD──────────Z───│───S^-1───│───DD──────────S───│───┼────────────────┼─────────┼───\n",
       "           │             │   │                  │   │                  │         │   │                   │   │                  │         │   │                     │   │                   │         │   │                │                              │   │               │                              │   │              │                                 │   │               │          │   │               │   │                │         │\n",
       "1-: ───X───│─────────────│───DD^-0.5────────────│───DD^0.25───S^-1─────DD^0.25───│───DD^-0.5─────────────│───DD^0.25───S────────DD^0.25───│───DD^-0.892─────────────│───DD^0.25───S^-1──────DD^0.25───│───DD^-0.5──────────│───DD────────S──────DD────────│───DD^-0.906───────│───DD────────S──────DD────────│───DD^-0.25───────│───DD────────S─────────DD────────│───DD^-0.844───────│──────────│───DD^-0.745───────│───DD^0.25───S──────DD^0.25───┼───\n",
       "           │             │                      │                                │                       │                                │                         │                                 │                    │   │                │         │                   │   │                │         │                  │   │                   │         │                   │          │                   │                              │\n",
       "2+: ───────│───S─────────│───DD────────S^-1─────│────────────────────────────────│───────────────────────│────────────────────────────────│─────────────────────────│─────────────────────────────────│────────────────────│───┼─────────S──────┼─────────│───DD──────────S───│───┼────────────────┼─────────│──────────────────│───┼───────────────────┼─────────│───────────────────│───S^-1───│───DD──────────S───│──────────────────────────────│───\n",
       "           │             │   │                  │                                │                       │                                │                         │                                 │                    │   │                │         │   │               │   │                │         │                  │   │                   │         │                   │          │   │               │                              │\n",
       "2-: ───X───│─────────────│───DD^-0.5────────────│────────────────────────────────│───────────────────────│────────────────────────────────│─────────────────────────│─────────────────────────────────│────────────────────│───DD^0.25───S^-1───DD^0.25───│───DD^-0.5─────────│───┼────────────────┼─────────│──────────────────│───┼───────────────────┼─────────│───────────────────│──────────│───DD^-0.745───────│──────────────────────────────│───\n",
       "           │             │                      │                                │                       │                                │                         │                                 │                    │                              │                   │   │                │         │                  │   │                   │         │                   │          │                   │                              │\n",
       "3+: ───────│─────────────│──────────────────────│────────────────────────────────│───────────────────────│────────────────────────────────│─────────────────────────│─────────────────────────────────│────────────────────│──────────────────────────────│───────────────────│───┼─────────Z──────┼─────────│──────────────────│───┼─────────Z^-0.75───┼─────────│───────────────────│───Z──────│───DD──────────Z───│──────────────────────────────│───\n",
       "           │             │                      │                                │                       │                                │                         │                                 │                    │                              │                   │   │                │         │                  │   │                   │         │                   │          │   │               │                              │\n",
       "3-: ───X───│─────────────│──────────────────────│────────────────────────────────│───────────────────────│────────────────────────────────│─────────────────────────│─────────────────────────────────│────────────────────│──────────────────────────────│───────────────────│───DD^0.25───S^-1───DD^0.25───│──────────────────│───DD^0.25───S^-1──────DD^0.25───│───────────────────│──────────│───DD──────────────│──────────────────────────────│───</pre>"
      ],
      "text/plain": [
       "0+: ───────│───Z^-0.75───│───DD────────Z^0.75───│─────────────Z^0.75─────────────│───DD────────Z^-0.75───│─────────────Z^0.75─────────────│───DD──────────T─────────│─────────────T^-1────────────────│───DD────────T──────│──────────────────────────────│───────────────────│──────────────────────────────│──────────────────│─────────────────────────────────│───────────────────│──────────│───────────────────│─────────────Z────────────────│───\n",
       "           │             │   │                  │                                │   │                   │                                │   │                     │                                 │   │                │                              │                   │                              │                  │                                 │                   │          │                   │                              │\n",
       "0-: ───X───│─────────────│───DD^-0.5────────────│───DD────────S────────DD────────│───DD^-0.5─────────────│───DD────────S^-1─────DD────────│───DD^-0.5───────────────│───DD────────S─────────DD────────│───DD───────────────│──────────────────────────────│───────────────────│──────────────────────────────│──────────────────│─────────────────────────────────│───────────────────│──────────│───────────────────│───DD────────S^-1───DD────────│───\n",
       "           │             │                      │   │                  │         │                       │   │                  │         │                         │   │                   │         │                    │                              │                   │                              │                  │                                 │                   │          │                   │   │                │         │\n",
       "1+: ───────│───T^-1──────│───DD────────T────────│───┼─────────Z^0.75───┼─────────│───DD────────T─────────│───┼─────────Z^0.75───┼─────────│───DD──────────Z^-0.75───│───┼─────────Z^-0.75───┼─────────│───DD────────T^-1───│─────────────S^-1─────────────│───DD──────────S───│─────────────S^-1─────────────│───DD─────────S───│─────────────S^-1────────────────│───DD──────────Z───│───S^-1───│───DD──────────S───│───┼────────────────┼─────────┼───\n",
       "           │             │   │                  │   │                  │         │   │                   │   │                  │         │   │                     │   │                   │         │   │                │                              │   │               │                              │   │              │                                 │   │               │          │   │               │   │                │         │\n",
       "1-: ───X───│─────────────│───DD^-0.5────────────│───DD^0.25───S^-1─────DD^0.25───│───DD^-0.5─────────────│───DD^0.25───S────────DD^0.25───│───DD^-0.892─────────────│───DD^0.25───S^-1──────DD^0.25───│───DD^-0.5──────────│───DD────────S──────DD────────│───DD^-0.906───────│───DD────────S──────DD────────│───DD^-0.25───────│───DD────────S─────────DD────────│───DD^-0.844───────│──────────│───DD^-0.745───────│───DD^0.25───S──────DD^0.25───┼───\n",
       "           │             │                      │                                │                       │                                │                         │                                 │                    │   │                │         │                   │   │                │         │                  │   │                   │         │                   │          │                   │                              │\n",
       "2+: ───────│───S─────────│───DD────────S^-1─────│────────────────────────────────│───────────────────────│────────────────────────────────│─────────────────────────│─────────────────────────────────│────────────────────│───┼─────────S──────┼─────────│───DD──────────S───│───┼────────────────┼─────────│──────────────────│───┼───────────────────┼─────────│───────────────────│───S^-1───│───DD──────────S───│──────────────────────────────│───\n",
       "           │             │   │                  │                                │                       │                                │                         │                                 │                    │   │                │         │   │               │   │                │         │                  │   │                   │         │                   │          │   │               │                              │\n",
       "2-: ───X───│─────────────│───DD^-0.5────────────│────────────────────────────────│───────────────────────│────────────────────────────────│─────────────────────────│─────────────────────────────────│────────────────────│───DD^0.25───S^-1───DD^0.25───│───DD^-0.5─────────│───┼────────────────┼─────────│──────────────────│───┼───────────────────┼─────────│───────────────────│──────────│───DD^-0.745───────│──────────────────────────────│───\n",
       "           │             │                      │                                │                       │                                │                         │                                 │                    │                              │                   │   │                │         │                  │   │                   │         │                   │          │                   │                              │\n",
       "3+: ───────│─────────────│──────────────────────│────────────────────────────────│───────────────────────│────────────────────────────────│─────────────────────────│─────────────────────────────────│────────────────────│──────────────────────────────│───────────────────│───┼─────────Z──────┼─────────│──────────────────│───┼─────────Z^-0.75───┼─────────│───────────────────│───Z──────│───DD──────────Z───│──────────────────────────────│───\n",
       "           │             │                      │                                │                       │                                │                         │                                 │                    │                              │                   │   │                │         │                  │   │                   │         │                   │          │   │               │                              │\n",
       "3-: ───X───│─────────────│──────────────────────│────────────────────────────────│───────────────────────│────────────────────────────────│─────────────────────────│─────────────────────────────────│────────────────────│──────────────────────────────│───────────────────│───DD^0.25───S^-1───DD^0.25───│──────────────────│───DD^0.25───S^-1──────DD^0.25───│───────────────────│──────────│───DD──────────────│──────────────────────────────│───"
      ]
     },
     "execution_count": 15,
     "metadata": {},
     "output_type": "execute_result"
    }
   ],
   "source": [
    "circuit.insert(depth // 2, css.barrier(*qubits))\n",
    "compiled_circuit = service.compile(circuit, \"eeroq_wonderlake_qpu\").circuit\n",
    "compiled_circuit"
   ]
  },
  {
   "cell_type": "code",
   "execution_count": 16,
   "id": "0f18dd0a-80f3-42ad-b686-44290aba2812",
   "metadata": {},
   "outputs": [],
   "source": [
    "mat = compute_unitary(compiled_circuit)\n",
    "cirq.testing.assert_allclose_up_to_global_phase(cirq.unitary(circuit), mat, atol=1e-8)"
   ]
  },
  {
   "cell_type": "markdown",
   "id": "cd09e5d5-60f2-4361-b879-f2479df82e70",
   "metadata": {},
   "source": [
    "# Circuit Simulation"
   ]
  },
  {
   "cell_type": "code",
   "execution_count": 23,
   "id": "81f64cd2-7735-4a95-aada-1efa1a0da946",
   "metadata": {},
   "outputs": [
    {
     "data": {
      "text/html": [
       "<pre style=\"overflow: auto; white-space: pre;\">0: ───Y───────@───M───\n",
       "              │   │\n",
       "1: ───────X───@───M───</pre>"
      ],
      "text/plain": [
       "0: ───Y───────@───M───\n",
       "              │   │\n",
       "1: ───────X───@───M───"
      ]
     },
     "execution_count": 23,
     "metadata": {},
     "output_type": "execute_result"
    }
   ],
   "source": [
    "n, depth, op_density = (2, 3, 0.8)\n",
    "qubits = cirq.LineQubit.range(n)\n",
    "circuit = cirq.testing.random_circuit(qubits, depth, op_density, gate_domain=gate_domain)\n",
    "circuit+= cirq.measure(*qubits)\n",
    "circuit"
   ]
  },
  {
   "cell_type": "code",
   "execution_count": 24,
   "id": "9f4e257f-8d61-4578-a038-3713a5678fbf",
   "metadata": {},
   "outputs": [],
   "source": [
    "service = css.Service()\n",
    "job = service.create_job(circuit, target = \"eeroq_wonderlake_qpu\", repetitions=100, method=\"noise-sim\", error_rate=0.01)"
   ]
  },
  {
   "cell_type": "code",
   "execution_count": 25,
   "id": "cf99f946-020d-4108-8aed-a0c3fdb65559",
   "metadata": {},
   "outputs": [
    {
     "data": {
      "text/plain": [
       "[{'11': 97, '22': 1, '01': 1, '21': 1}]"
      ]
     },
     "execution_count": 25,
     "metadata": {},
     "output_type": "execute_result"
    }
   ],
   "source": [
    "job.counts()"
   ]
  },
  {
   "cell_type": "markdown",
   "id": "e8ae78af-f701-40b3-ad82-9f494356152b",
   "metadata": {},
   "source": [
    "A measurement value of 2 refers to an out-of-codespace error."
   ]
  },
  {
   "cell_type": "code",
   "execution_count": null,
   "id": "c2791d19-7d41-4fee-a31a-270cdbcb44d6",
   "metadata": {},
   "outputs": [],
   "source": []
  }
 ],
 "metadata": {
  "kernelspec": {
   "display_name": "Python 3 (ipykernel)",
   "language": "python",
   "name": "python3"
  },
  "language_info": {
   "codemirror_mode": {
    "name": "ipython",
    "version": 3
   },
   "file_extension": ".py",
   "mimetype": "text/x-python",
   "name": "python",
   "nbconvert_exporter": "python",
   "pygments_lexer": "ipython3",
   "version": "3.11.5"
  }
 },
 "nbformat": 4,
 "nbformat_minor": 5
}
