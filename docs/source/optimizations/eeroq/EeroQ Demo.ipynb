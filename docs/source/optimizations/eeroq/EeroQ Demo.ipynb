{
 "cells": [
  {
   "cell_type": "markdown",
   "id": "05bddada-7a84-4269-8da9-f5672d459d35",
   "metadata": {},
   "source": [
    "# Compiling Circuits for EeroQ via Cirq"
   ]
  },
  {
   "cell_type": "markdown",
   "id": "d06c9dcf-5ea8-4f3f-92b9-14444be41504",
   "metadata": {},
   "source": [
    "## Import Requirements"
   ]
  },
  {
   "cell_type": "markdown",
   "id": "38ae72c1-fbeb-4836-a839-f1bad0a98ddf",
   "metadata": {},
   "source": [
    "This tutorial will showcase how to compile a circuit for EeroQ hardware using the ```cirq-superstaq``` client. "
   ]
  },
  {
   "cell_type": "code",
   "execution_count": 1,
   "id": "bb3fbbd3-986b-4457-8b87-e3cb42363a28",
   "metadata": {},
   "outputs": [],
   "source": [
    "# Required imports\n",
    "try:\n",
    "    import cirq\n",
    "    import cirq_superstaq as css\n",
    "except ImportError:\n",
    "    print(\"Installing cirq-superstaq...\")\n",
    "    %pip install --quiet 'cirq-superstaq[examples]'\n",
    "    print(\"Installed cirq-superstaq.\")\n",
    "    print(\"You may need to restart the kernel to import newly installed packages.\")\n",
    "    import cirq\n",
    "    import cirq_superstaq as css\n",
    "\n",
    "try:\n",
    "    import qiskit\n",
    "    import qiskit_superstaq as qss\n",
    "except ImportError:\n",
    "    print(\"Installing qiskit-superstaq...\")\n",
    "    %pip install --quiet 'qiskit-superstaq[examples]'\n",
    "    print(\"Installed qiskit-superstaq.\")\n",
    "    print(\"You may need to restart the kernel to import newly installed packages.\")\n",
    "    import qiskit\n",
    "    import qiskit_superstaq as qss\n",
    "\n",
    "# Optional imports\n",
    "import numpy as np\n",
    "import os  # Used if setting a token as an environment variable\n",
    "\n",
    "%load_ext autoreload\n",
    "%autoreload 2"
   ]
  },
  {
   "cell_type": "markdown",
   "id": "dc3c6580-50e3-4edc-807b-e33dedbf8ca2",
   "metadata": {},
   "source": [
    "To interface Superstaq via Cirq, we must first instantiate a service provider in ```cirq-superstaq``` with ```Service()```. We then supply a Superstaq API key (which you can get from https://superstaq.infleqtion.com) by either providing the API key as an argument of Service, i.e., ```css.Service(api_key=\"token\")```, or by setting it as an environment variable. (see more details [here](https://superstaq.readthedocs.io/en/latest/get_started/basics/basics_css.html#Set-up-access-to-Superstaq%E2%80%99s-API))."
   ]
  },
  {
   "cell_type": "code",
   "execution_count": 2,
   "id": "99b54393-f9f0-48c8-be31-033fd62d4624",
   "metadata": {},
   "outputs": [],
   "source": [
    "service = css.Service()"
   ]
  },
  {
   "cell_type": "markdown",
   "id": "275bcdda-0eef-41c0-b7ea-017accab90eb",
   "metadata": {},
   "source": [
    "# EeroQ Gates"
   ]
  },
  {
   "cell_type": "code",
   "execution_count": 3,
   "id": "702504fe-5a52-425b-a52f-29973c7f94b3",
   "metadata": {},
   "outputs": [
    {
     "data": {
      "text/html": [
       "<pre style=\"overflow: auto; white-space: pre;\">0: ───DD───\n",
       "      │\n",
       "1: ───DD───</pre>"
      ],
      "text/plain": [
       "0: ───DD───\n",
       "      │\n",
       "1: ───DD───"
      ]
     },
     "execution_count": 3,
     "metadata": {},
     "output_type": "execute_result"
    }
   ],
   "source": [
    "dd_gate = css.DDPowGate(exponent=1)\n",
    "cirq.Circuit(dd_gate.on(cirq.q(0), cirq.q(1)))"
   ]
  },
  {
   "cell_type": "code",
   "execution_count": 4,
   "id": "307cdd6c-d407-4b5d-bc2b-b3d52f1ca6ee",
   "metadata": {},
   "outputs": [
    {
     "data": {
      "text/plain": [
       "array([[ 0.-1.j,  0.+0.j,  0.+0.j,  0.+0.j],\n",
       "       [ 0.+0.j,  0.+0.j, -1.+0.j,  0.+0.j],\n",
       "       [ 0.+0.j, -1.+0.j,  0.+0.j,  0.+0.j],\n",
       "       [ 0.+0.j,  0.+0.j,  0.+0.j,  0.-1.j]])"
      ]
     },
     "execution_count": 4,
     "metadata": {},
     "output_type": "execute_result"
    }
   ],
   "source": [
    "cirq.unitary(dd_gate)"
   ]
  },
  {
   "cell_type": "markdown",
   "id": "26cd7f88-ab49-48bd-beae-ef6883d61cd0",
   "metadata": {},
   "source": [
    "Below is the EeroQ protocol for a CZ Gate."
   ]
  },
  {
   "cell_type": "markdown",
   "id": "0bc3fd9e-8e18-45df-803f-733ca7cc5854",
   "metadata": {},
   "source": [
    "![title](images/DD_gate.png)"
   ]
  },
  {
   "cell_type": "code",
   "execution_count": 5,
   "id": "b89ef795-04c6-4193-9b23-a5fa4178640b",
   "metadata": {},
   "outputs": [
    {
     "data": {
      "text/html": [
       "<pre style=\"overflow: auto; white-space: pre;\">0+: ───────│──────────────────────────────\n",
       "           │\n",
       "0-: ───X───│───DD────────S──────DD────────\n",
       "           │   │                │\n",
       "1+: ───────│───┼─────────Z──────┼─────────\n",
       "           │   │                │\n",
       "1-: ───X───│───DD^0.25───S^-1───DD^0.25───</pre>"
      ],
      "text/plain": [
       "0+: ───────│──────────────────────────────\n",
       "           │\n",
       "0-: ───X───│───DD────────S──────DD────────\n",
       "           │   │                │\n",
       "1+: ───────│───┼─────────Z──────┼─────────\n",
       "           │   │                │\n",
       "1-: ───X───│───DD^0.25───S^-1───DD^0.25───"
      ]
     },
     "execution_count": 5,
     "metadata": {},
     "output_type": "execute_result"
    }
   ],
   "source": [
    "circuit = cirq.Circuit(cirq.CZ(cirq.q(0), cirq.q(1)))\n",
    "compiled_circuit = service.compile(circuit, \"eeroq_wonderlake_qpu\").circuit\n",
    "compiled_circuit"
   ]
  },
  {
   "cell_type": "code",
   "execution_count": 6,
   "id": "8f899e26-f79b-487c-9376-44bfe464db37",
   "metadata": {},
   "outputs": [],
   "source": [
    "def compute_unitary(circuit: cirq.Circuit):\n",
    "    \"\"\"Computes the n*n unitary of a 2n electron EeroQ circuit\"\"\"\n",
    "    unitary = cirq.unitary(circuit[1:]).reshape((4,) * cirq.num_qubits(circuit))\n",
    "    mat = unitary[tuple(slice(1, 3) for _ in range(cirq.num_qubits(circuit)))]\n",
    "    dim = round(np.sqrt(mat.size))\n",
    "    mat = mat.reshape(dim, dim)\n",
    "    return mat"
   ]
  },
  {
   "cell_type": "code",
   "execution_count": 7,
   "id": "c34c7c2d-076f-471c-acea-77371f8131f4",
   "metadata": {},
   "outputs": [
    {
     "data": {
      "text/plain": [
       "array([[ 1.-0.00000000e+00j, -0.+0.00000000e+00j, -0.+0.00000000e+00j,\n",
       "        -0.+0.00000000e+00j],\n",
       "       [-0.+0.00000000e+00j,  1.+7.85046229e-17j, -0.+0.00000000e+00j,\n",
       "        -0.+0.00000000e+00j],\n",
       "       [-0.+0.00000000e+00j, -0.+0.00000000e+00j,  1.+7.85046229e-17j,\n",
       "        -0.+0.00000000e+00j],\n",
       "       [-0.+0.00000000e+00j, -0.+0.00000000e+00j, -0.+0.00000000e+00j,\n",
       "        -1.-0.00000000e+00j]])"
      ]
     },
     "execution_count": 7,
     "metadata": {},
     "output_type": "execute_result"
    }
   ],
   "source": [
    "mat = compute_unitary(compiled_circuit)\n",
    "mat/mat[0][0]"
   ]
  },
  {
   "cell_type": "code",
   "execution_count": 8,
   "id": "eeb8dd38-daf6-483e-bc5c-ceb303859f50",
   "metadata": {},
   "outputs": [
    {
     "data": {
      "text/plain": [
       "True"
      ]
     },
     "execution_count": 8,
     "metadata": {},
     "output_type": "execute_result"
    }
   ],
   "source": [
    "cirq.allclose_up_to_global_phase(cirq.unitary(circuit), mat)"
   ]
  },
  {
   "cell_type": "code",
   "execution_count": 9,
   "id": "11809ddb-797f-46ea-b546-ec16358eb9cc",
   "metadata": {},
   "outputs": [],
   "source": [
    "circuit += cirq.measure(cirq.q(0), cirq.q(1))\n",
    "job = service.create_job(circuit, target= \"eeroq_wonderlake_qpu\", repetitions = 10, method=\"dry-run\")"
   ]
  },
  {
   "cell_type": "code",
   "execution_count": 10,
   "id": "664bec0f-6222-49a5-84aa-252782ec496c",
   "metadata": {},
   "outputs": [
    {
     "data": {
      "text/plain": [
       "[{'00': 10}]"
      ]
     },
     "execution_count": 10,
     "metadata": {},
     "output_type": "execute_result"
    }
   ],
   "source": [
    "job.counts()"
   ]
  },
  {
   "cell_type": "markdown",
   "id": "7cb64f54-69d8-417f-9b1d-38a5900e5b7f",
   "metadata": {},
   "source": [
    "# Circuit Compilation"
   ]
  },
  {
   "cell_type": "code",
   "execution_count": 14,
   "id": "eb5ed3ae-3ec6-4c10-b48c-db25019a882f",
   "metadata": {},
   "outputs": [
    {
     "data": {
      "text/html": [
       "<pre style=\"overflow: auto; white-space: pre;\">0: ───H───@───M───\n",
       "          │   │\n",
       "1: ───────X───M───</pre>"
      ],
      "text/plain": [
       "0: ───H───@───M───\n",
       "          │   │\n",
       "1: ───────X───M───"
      ]
     },
     "execution_count": 14,
     "metadata": {},
     "output_type": "execute_result"
    }
   ],
   "source": [
    "qubits = cirq.LineQubit.range(2)\n",
    "circuit = cirq.Circuit(cirq.H(qubits[0]), cirq.CNOT(qubits[0], qubits[1]), cirq.measure(*qubits))\n",
    "circuit"
   ]
  },
  {
   "cell_type": "code",
   "execution_count": 15,
   "id": "82dc639f-cc92-45ff-89e4-d477c16c4033",
   "metadata": {},
   "outputs": [
    {
     "data": {
      "text/html": [
       "<pre style=\"overflow: auto; white-space: pre;\">0+: ───────│───S^-1───│───DD────────S──────│─────────────Z────────────────│───DD────────Z──────│───M(&#x27;q(0),q(1)&#x27;)───\n",
       "           │          │   │                │                              │   │                │   │\n",
       "0-: ───X───│──────────│───DD^-0.5──────────│───DD────────S──────DD────────│───DD───────────────│───M────────────────\n",
       "           │          │                    │   │                │         │                    │   │\n",
       "1+: ───────│───S──────│───DD────────S^-1───│───┼─────────S^-1───┼─────────│───DD────────S^-1───│───M────────────────\n",
       "           │          │   │                │   │                │         │   │                │   │\n",
       "1-: ───X───│──────────│───DD^-0.5──────────│───DD^0.25───S^-1───DD^0.25───│───DD^-0.5──────────│───M────────────────</pre>"
      ],
      "text/plain": [
       "0+: ───────│───S^-1───│───DD────────S──────│─────────────Z────────────────│───DD────────Z──────│───M('q(0),q(1)')───\n",
       "           │          │   │                │                              │   │                │   │\n",
       "0-: ───X───│──────────│───DD^-0.5──────────│───DD────────S──────DD────────│───DD───────────────│───M────────────────\n",
       "           │          │                    │   │                │         │                    │   │\n",
       "1+: ───────│───S──────│───DD────────S^-1───│───┼─────────S^-1───┼─────────│───DD────────S^-1───│───M────────────────\n",
       "           │          │   │                │   │                │         │   │                │   │\n",
       "1-: ───X───│──────────│───DD^-0.5──────────│───DD^0.25───S^-1───DD^0.25───│───DD^-0.5──────────│───M────────────────"
      ]
     },
     "execution_count": 15,
     "metadata": {},
     "output_type": "execute_result"
    }
   ],
   "source": [
    "compiled_circuit = service.compile(circuit, \"eeroq_wonderlake_qpu\").circuit\n",
    "compiled_circuit"
   ]
  },
  {
   "cell_type": "code",
   "execution_count": 16,
   "id": "f66099d2-05b0-4361-bbdf-7ded20127d0f",
   "metadata": {},
   "outputs": [],
   "source": [
    "gate_domain = {\n",
    "    cirq.X: 1,\n",
    "    cirq.Y: 1,\n",
    "    cirq.Z: 1,\n",
    "    cirq.S: 1,\n",
    "    cirq.T: 1,\n",
    "    cirq.H: 1,\n",
    "    cirq.rx(1.23): 1,\n",
    "    cirq.ry(2.34): 1,\n",
    "    cirq.CZ: 2,\n",
    "    cirq.CX: 2,\n",
    "    cirq.CX**0.5: 2,\n",
    "    cirq.SWAP: 2,\n",
    "    cirq.ISWAP: 2,\n",
    "    css.ZZSwapGate(1.23): 2,\n",
    "    css.Barrier(3): 3,\n",
    "}"
   ]
  },
  {
   "cell_type": "code",
   "execution_count": 17,
   "id": "4ba055bd-13ed-43cd-96d4-f3b51edbe6ff",
   "metadata": {},
   "outputs": [
    {
     "data": {
      "text/html": [
       "<pre style=\"overflow: auto; white-space: pre;\">0: ───Y───X───iSwap───Ry(0.745π)───────────H────────────────@───\n",
       "          │   │                                             │\n",
       "1: ───────@───iSwap────────────────X^0.5────────────────Y───X───\n",
       "                                   │\n",
       "2: ───────X───────────S────────────┼───────Rx(0.392π)───T───────\n",
       "                                   │\n",
       "3: ────────────────────────────────@────────────────────────────</pre>"
      ],
      "text/plain": [
       "0: ───Y───X───iSwap───Ry(0.745π)───────────H────────────────@───\n",
       "          │   │                                             │\n",
       "1: ───────@───iSwap────────────────X^0.5────────────────Y───X───\n",
       "                                   │\n",
       "2: ───────X───────────S────────────┼───────Rx(0.392π)───T───────\n",
       "                                   │\n",
       "3: ────────────────────────────────@────────────────────────────"
      ]
     },
     "execution_count": 17,
     "metadata": {},
     "output_type": "execute_result"
    }
   ],
   "source": [
    "n, depth, op_density = (4, 8, 0.8)\n",
    "qubits = cirq.LineQubit.range(n)\n",
    "circuit = cirq.testing.random_circuit(qubits, depth, op_density, gate_domain=gate_domain)\n",
    "circuit"
   ]
  },
  {
   "cell_type": "code",
   "execution_count": 15,
   "id": "2ffdfa4d-562e-4463-80f5-23db7926abf2",
   "metadata": {},
   "outputs": [
    {
     "data": {
      "text/html": [
       "<pre style=\"overflow: auto; white-space: pre;\">                                                                                                                            ┌──────────────┐\n",
       "0+: ───────│───────│──────────────────────│──────────────────────────────│───────────────│──────────────────────────────│──────────────────────Z^-0.75─────────────│──────────────────────────────│────────────────────│───────│──────────────────────────────│───────────────────│──────────────────────────────│────────────────────│──────────────────────────────│─────────────────\n",
       "           │       │                      │                              │               │                              │                                          │                              │                    │       │                              │                   │                              │                    │                              │\n",
       "0-: ───X───│───────│──────────────────────│──────────────────────────────│───────────────│──────────────────────────────│────DD────────────────S^-1──────DD────────│──────────────────────────────│────────────────────│───────│──────────────────────────────│───────────────────│──────────────────────────────│────────────────────│──────────────────────────────│─────────────────\n",
       "           │       │                      │                              │               │                              │    │                           │         │                              │                    │       │                              │                   │                              │                    │                              │\n",
       "1+: ───────│───Z───│───DD──────────Z──────│──────────────────────────────│───────────────│─────────────Z────────────────│────┼──────DD─────────Z─────────┼─────────│─────────────Z────────────────│───DD────────S──────│───S───│───DD────────S^-1─────────────│───────────────────│─────────────Z────────────────│────────────────────│──────────────────────────────│─────────────────\n",
       "           │       │   │                  │                              │               │                              │    │      │                    │         │                              │   │                │       │   │                          │                   │                              │                    │                              │\n",
       "1-: ───X───│───────│───DD^-0.108──────────│──────────────────────────────│───────────────│───DD────────S──────DD────────│────┼──────DD^-0.5──────────────┼─────────│───DD────────S──────DD────────│───DD^-0.5──────────│───────│───DD^-0.5────────────────────│───────────────────│───DD────────S──────DD────────│────────────────────│──────────────────────────────│─────────────────\n",
       "           │       │                      │                              │               │   │                │         │    │                           │         │   │                │         │                    │       │                              │                   │   │                │         │                    │                              │\n",
       "2+: ───────│───────│──────────────────────│─────────────S^-1─────────────│───DD──────────│───┼─────────S──────┼─────────│────┼───────────────────────────┼─────────│───┼────────────────┼─────────│────────────────────│───────│─────────────Z────────────────│───────────────────│───┼────────────────┼─────────│────────────────────│──────────────────────────────│─────────────────\n",
       "           │       │                      │                              │   │           │   │                │         │    │                           │         │   │                │         │                    │       │                              │                   │   │                │         │                    │                              │\n",
       "2-: ───X───│───────│──────────────────────│───DD────────S──────DD────────│───DD^-0.745───│───┼────────────────┼─────────│────DD^0.25───────────S─────────DD^0.25───│───┼────────────────┼─────────│────────────────────│───────│───DD────────S^-1───DD────────│───────────────────│───┼────────────────┼─────────│────────────────────│───DD────────S──────DD────────│─────────────────\n",
       "           │       │                      │   │                │         │               │   │                │         │                                          │   │                │         │                    │       │   │                │         │                   │   │                │         │                    │   │                │         │\n",
       "3+: ───────│───S───│───DD──────────S^-1───│───┼─────────Z──────┼─────────│───DD──────────│───┼─────────S^-1───┼─────────│────DD────────────────S^-1────────────────│───┼─────────S^-1───┼─────────│───DD────────S^-1───│───────│───┼─────────S^-1───┼─────────│───DD──────────S───│───┼─────────S^-1───┼─────────│───DD────────S^-1───│───┼─────────S──────┼─────────│───DD────────S───\n",
       "           │       │   │                  │   │                │         │   │           │   │                │         │    │                                     │   │                │         │   │                │       │   │                │         │   │               │   │                │         │   │                │   │                │         │   │\n",
       "3-: ───X───│───────│───DD^-0.5────────────│───DD^0.25───S^-1───DD^0.25───│───DD^-0.5─────│───DD^0.25───S^-1───DD^0.25───│────DD^-0.5───────────────────────────────│───DD^0.25───S^-1───DD^0.25───│───DD^-0.5──────────│───────│───DD^0.25───S──────DD^0.25───│───DD^-0.745───────│───DD^0.25───S^-1───DD^0.25───│───DD^-0.5──────────│───DD^0.25───S^-1───DD^0.25───│───DD^-0.5───────\n",
       "                                                                                                                            └──────────────┘</pre>"
      ],
      "text/plain": [
       "                                                                                                                            ┌──────────────┐\n",
       "0+: ───────│───────│──────────────────────│──────────────────────────────│───────────────│──────────────────────────────│──────────────────────Z^-0.75─────────────│──────────────────────────────│────────────────────│───────│──────────────────────────────│───────────────────│──────────────────────────────│────────────────────│──────────────────────────────│─────────────────\n",
       "           │       │                      │                              │               │                              │                                          │                              │                    │       │                              │                   │                              │                    │                              │\n",
       "0-: ───X───│───────│──────────────────────│──────────────────────────────│───────────────│──────────────────────────────│────DD────────────────S^-1──────DD────────│──────────────────────────────│────────────────────│───────│──────────────────────────────│───────────────────│──────────────────────────────│────────────────────│──────────────────────────────│─────────────────\n",
       "           │       │                      │                              │               │                              │    │                           │         │                              │                    │       │                              │                   │                              │                    │                              │\n",
       "1+: ───────│───Z───│───DD──────────Z──────│──────────────────────────────│───────────────│─────────────Z────────────────│────┼──────DD─────────Z─────────┼─────────│─────────────Z────────────────│───DD────────S──────│───S───│───DD────────S^-1─────────────│───────────────────│─────────────Z────────────────│────────────────────│──────────────────────────────│─────────────────\n",
       "           │       │   │                  │                              │               │                              │    │      │                    │         │                              │   │                │       │   │                          │                   │                              │                    │                              │\n",
       "1-: ───X───│───────│───DD^-0.108──────────│──────────────────────────────│───────────────│───DD────────S──────DD────────│────┼──────DD^-0.5──────────────┼─────────│───DD────────S──────DD────────│───DD^-0.5──────────│───────│───DD^-0.5────────────────────│───────────────────│───DD────────S──────DD────────│────────────────────│──────────────────────────────│─────────────────\n",
       "           │       │                      │                              │               │   │                │         │    │                           │         │   │                │         │                    │       │                              │                   │   │                │         │                    │                              │\n",
       "2+: ───────│───────│──────────────────────│─────────────S^-1─────────────│───DD──────────│───┼─────────S──────┼─────────│────┼───────────────────────────┼─────────│───┼────────────────┼─────────│────────────────────│───────│─────────────Z────────────────│───────────────────│───┼────────────────┼─────────│────────────────────│──────────────────────────────│─────────────────\n",
       "           │       │                      │                              │   │           │   │                │         │    │                           │         │   │                │         │                    │       │                              │                   │   │                │         │                    │                              │\n",
       "2-: ───X───│───────│──────────────────────│───DD────────S──────DD────────│───DD^-0.745───│───┼────────────────┼─────────│────DD^0.25───────────S─────────DD^0.25───│───┼────────────────┼─────────│────────────────────│───────│───DD────────S^-1───DD────────│───────────────────│───┼────────────────┼─────────│────────────────────│───DD────────S──────DD────────│─────────────────\n",
       "           │       │                      │   │                │         │               │   │                │         │                                          │   │                │         │                    │       │   │                │         │                   │   │                │         │                    │   │                │         │\n",
       "3+: ───────│───S───│───DD──────────S^-1───│───┼─────────Z──────┼─────────│───DD──────────│───┼─────────S^-1───┼─────────│────DD────────────────S^-1────────────────│───┼─────────S^-1───┼─────────│───DD────────S^-1───│───────│───┼─────────S^-1───┼─────────│───DD──────────S───│───┼─────────S^-1───┼─────────│───DD────────S^-1───│───┼─────────S──────┼─────────│───DD────────S───\n",
       "           │       │   │                  │   │                │         │   │           │   │                │         │    │                                     │   │                │         │   │                │       │   │                │         │   │               │   │                │         │   │                │   │                │         │   │\n",
       "3-: ───X───│───────│───DD^-0.5────────────│───DD^0.25───S^-1───DD^0.25───│───DD^-0.5─────│───DD^0.25───S^-1───DD^0.25───│────DD^-0.5───────────────────────────────│───DD^0.25───S^-1───DD^0.25───│───DD^-0.5──────────│───────│───DD^0.25───S──────DD^0.25───│───DD^-0.745───────│───DD^0.25───S^-1───DD^0.25───│───DD^-0.5──────────│───DD^0.25───S^-1───DD^0.25───│───DD^-0.5───────\n",
       "                                                                                                                            └──────────────┘"
      ]
     },
     "execution_count": 15,
     "metadata": {},
     "output_type": "execute_result"
    }
   ],
   "source": [
    "circuit.insert(depth // 2, css.barrier(*qubits))\n",
    "compiled_circuit = service.compile(circuit, \"eeroq_wonderlake_qpu\").circuit\n",
    "compiled_circuit"
   ]
  },
  {
   "cell_type": "code",
   "execution_count": 16,
   "id": "0f18dd0a-80f3-42ad-b686-44290aba2812",
   "metadata": {},
   "outputs": [],
   "source": [
    "mat = compute_unitary(compiled_circuit)\n",
    "cirq.testing.assert_allclose_up_to_global_phase(cirq.unitary(circuit), mat, atol=1e-8)"
   ]
  },
  {
   "cell_type": "code",
   "execution_count": 2,
   "id": "46106aa9-52d5-4680-9270-c969dd0aee91",
   "metadata": {},
   "outputs": [],
   "source": [
    "service = qss.superstaq_provider.SuperstaqProvider(remote_host=\"https://127.0.0.1:5000\")"
   ]
  },
  {
   "cell_type": "code",
   "execution_count": 78,
   "id": "bc50abac-a3cc-4188-b5c0-3a11822389c7",
   "metadata": {},
   "outputs": [],
   "source": [
    "from qiskit.circuit.random import random_circuit\n",
    "qc = random_circuit(2, 1, measure=False)"
   ]
  },
  {
   "cell_type": "code",
   "execution_count": 79,
   "id": "3901f7d5-681b-43c5-8905-6a992892a322",
   "metadata": {},
   "outputs": [
    {
     "data": {
      "text/html": [
       "<pre style=\"word-wrap: normal;white-space: pre;background: #fff0;line-height: 1.1;font-family: &quot;Courier New&quot;,Courier,monospace\">     ┌────────────┐\n",
       "q_0: ┤ Rz(3.4036) ├\n",
       "     ├────────────┤\n",
       "q_1: ┤ Rx(4.4067) ├\n",
       "     └────────────┘</pre>"
      ],
      "text/plain": [
       "     ┌────────────┐\n",
       "q_0: ┤ Rz(3.4036) ├\n",
       "     ├────────────┤\n",
       "q_1: ┤ Rx(4.4067) ├\n",
       "     └────────────┘"
      ]
     },
     "execution_count": 79,
     "metadata": {},
     "output_type": "execute_result"
    }
   ],
   "source": [
    "qc.draw()"
   ]
  },
  {
   "cell_type": "code",
   "execution_count": 80,
   "id": "3addf00a-2930-4b32-9dd5-84054348df0b",
   "metadata": {},
   "outputs": [],
   "source": [
    "backend = service.get_backend(\"eeroq_wonderlake_qpu\")"
   ]
  },
  {
   "cell_type": "code",
   "execution_count": 81,
   "id": "b3e9a5fa-72ad-4423-a5f2-0a8a82fd4e73",
   "metadata": {},
   "outputs": [
    {
     "name": "stderr",
     "output_type": "stream",
     "text": [
      "/home/palash/cq-env/lib/python3.11/site-packages/urllib3/connectionpool.py:1099: InsecureRequestWarning: Unverified HTTPS request is being made to host '127.0.0.1'. Adding certificate verification is strongly advised. See: https://urllib3.readthedocs.io/en/latest/advanced-usage.html#tls-warnings\n",
      "  warnings.warn(\n"
     ]
    }
   ],
   "source": [
    "cc = backend.compile(qc).circuit"
   ]
  },
  {
   "cell_type": "code",
   "execution_count": 82,
   "id": "459c27d5-b70d-416b-a362-b77041718ed2",
   "metadata": {},
   "outputs": [
    {
     "data": {
      "text/html": [
       "<pre style=\"word-wrap: normal;white-space: pre;background: #fff0;line-height: 1.1;font-family: &quot;Courier New&quot;,Courier,monospace\">           ░ ┌─────────────┐ ░                      \n",
       "00+: ──────░─┤ Rz(-2.8796) ├─░──────────────────────\n",
       "     ┌───┐ ░ └─────────────┘ ░                      \n",
       "00-: ┤ X ├─░─────────────────░──────────────────────\n",
       "     └───┘ ░      ┌───┐      ░ ┌──────────────┐┌───┐\n",
       "01+: ──────░──────┤ Z ├──────░─┤0             ├┤ Z ├\n",
       "     ┌───┐ ░      └───┘      ░ │  Dd(-1.8765) │└───┘\n",
       "01-: ┤ X ├─░─────────────────░─┤1             ├─────\n",
       "     └───┘ ░                 ░ └──────────────┘     \n",
       "02+: ───────────────────────────────────────────────\n",
       "                                                    \n",
       "02-: ───────────────────────────────────────────────\n",
       "                                                    \n",
       "03+: ───────────────────────────────────────────────\n",
       "                                                    \n",
       "03-: ───────────────────────────────────────────────\n",
       "                                                    \n",
       "04+: ───────────────────────────────────────────────\n",
       "                                                    \n",
       "04-: ───────────────────────────────────────────────\n",
       "                                                    \n",
       "05+: ───────────────────────────────────────────────\n",
       "                                                    \n",
       "05-: ───────────────────────────────────────────────\n",
       "                                                    \n",
       "06+: ───────────────────────────────────────────────\n",
       "                                                    \n",
       "06-: ───────────────────────────────────────────────\n",
       "                                                    \n",
       "07+: ───────────────────────────────────────────────\n",
       "                                                    \n",
       "07-: ───────────────────────────────────────────────\n",
       "                                                    \n",
       "08+: ───────────────────────────────────────────────\n",
       "                                                    \n",
       "08-: ───────────────────────────────────────────────\n",
       "                                                    \n",
       "09+: ───────────────────────────────────────────────\n",
       "                                                    \n",
       "09-: ───────────────────────────────────────────────\n",
       "                                                    </pre>"
      ],
      "text/plain": [
       "           ░ ┌─────────────┐ ░                      \n",
       "00+: ──────░─┤ Rz(-2.8796) ├─░──────────────────────\n",
       "     ┌───┐ ░ └─────────────┘ ░                      \n",
       "00-: ┤ X ├─░─────────────────░──────────────────────\n",
       "     └───┘ ░      ┌───┐      ░ ┌──────────────┐┌───┐\n",
       "01+: ──────░──────┤ Z ├──────░─┤0             ├┤ Z ├\n",
       "     ┌───┐ ░      └───┘      ░ │  Dd(-1.8765) │└───┘\n",
       "01-: ┤ X ├─░─────────────────░─┤1             ├─────\n",
       "     └───┘ ░                 ░ └──────────────┘     \n",
       "02+: ───────────────────────────────────────────────\n",
       "                                                    \n",
       "02-: ───────────────────────────────────────────────\n",
       "                                                    \n",
       "03+: ───────────────────────────────────────────────\n",
       "                                                    \n",
       "03-: ───────────────────────────────────────────────\n",
       "                                                    \n",
       "04+: ───────────────────────────────────────────────\n",
       "                                                    \n",
       "04-: ───────────────────────────────────────────────\n",
       "                                                    \n",
       "05+: ───────────────────────────────────────────────\n",
       "                                                    \n",
       "05-: ───────────────────────────────────────────────\n",
       "                                                    \n",
       "06+: ───────────────────────────────────────────────\n",
       "                                                    \n",
       "06-: ───────────────────────────────────────────────\n",
       "                                                    \n",
       "07+: ───────────────────────────────────────────────\n",
       "                                                    \n",
       "07-: ───────────────────────────────────────────────\n",
       "                                                    \n",
       "08+: ───────────────────────────────────────────────\n",
       "                                                    \n",
       "08-: ───────────────────────────────────────────────\n",
       "                                                    \n",
       "09+: ───────────────────────────────────────────────\n",
       "                                                    \n",
       "09-: ───────────────────────────────────────────────\n",
       "                                                    "
      ]
     },
     "execution_count": 82,
     "metadata": {},
     "output_type": "execute_result"
    }
   ],
   "source": [
    "cc.draw()"
   ]
  },
  {
   "cell_type": "code",
   "execution_count": 86,
   "id": "c305b59d-452c-47e5-be34-67bbac9d3797",
   "metadata": {},
   "outputs": [
    {
     "name": "stdout",
     "output_type": "stream",
     "text": [
      "    ░ ┌─────────────┐ ░                      \n",
      "0: ─░─┤ Rz(-2.8796) ├─░──────────────────────\n",
      "    ░ └─────────────┘ ░                      \n",
      "1: ─░─────────────────░──────────────────────\n",
      "    ░      ┌───┐      ░ ┌──────────────┐┌───┐\n",
      "2: ─░──────┤ Z ├──────░─┤0             ├┤ Z ├\n",
      "    ░      └───┘      ░ │  Dd(-1.8765) │└───┘\n",
      "3: ─░─────────────────░─┤1             ├─────\n",
      "    ░                 ░ └──────────────┘     \n"
     ]
    },
    {
     "data": {
      "text/plain": [
       "array([[-0.42707381-0.40882073j,  0.        +0.j        ,\n",
       "         0.5577091 -0.58260977j,  0.        +0.j        ],\n",
       "       [ 0.        +0.j        ,  0.51839478+0.28424158j,\n",
       "         0.        +0.j        , -0.38775949+0.70718891j],\n",
       "       [ 0.5577091 -0.58260977j,  0.        +0.j        ,\n",
       "        -0.42707381-0.40882073j,  0.        +0.j        ],\n",
       "       [ 0.        +0.j        , -0.38775949+0.70718891j,\n",
       "         0.        +0.j        ,  0.51839478+0.28424158j]])"
      ]
     },
     "execution_count": 86,
     "metadata": {},
     "output_type": "execute_result"
    }
   ],
   "source": [
    "def compute_qiskit_unitary(qc: qiskit.QuantumCircuit, n):\n",
    "    \"\"\"Computes the n*n unitary of a 2n electron EeroQ circuit\"\"\"\n",
    "    instructions = qc[n:]\n",
    "    new_circuit = qiskit.QuantumCircuit(qc.qubits, qc.clbits)\n",
    "    \n",
    "    for instruction, qargs, cargs in instructions:\n",
    "        new_circuit.append(instruction, qargs, cargs)\n",
    "    \n",
    "    qc = remove_idle_wires(new_circuit)\n",
    "    mat = qiskit.quantum_info.Operator(qc).to_matrix().reshape((4,) * qc.num_qubits)\n",
    "    print(qc)\n",
    "    mat = mat[tuple(slice(1, 3) for _ in range(qc.num_qubits))]\n",
    "    dim = round(np.sqrt(mat.size))\n",
    "    mat = mat.reshape(dim, dim)\n",
    "    return mat\n",
    "\n",
    "mat = compute_qiskit_unitary(cc, 2)\n",
    "mat"
   ]
  },
  {
   "cell_type": "code",
   "execution_count": 87,
   "id": "fd84e5d0-0225-4722-ac56-984317c4473b",
   "metadata": {},
   "outputs": [
    {
     "data": {
      "text/plain": [
       "array([[ 0.07723258+0.58614124j,  0.        +0.j        ,\n",
       "        -0.79960795+0.1053599j ,  0.        +0.j        ],\n",
       "       [ 0.        +0.j        ,  0.07723258-0.58614124j,\n",
       "         0.        +0.j        ,  0.79960795+0.1053599j ],\n",
       "       [-0.79960795+0.1053599j ,  0.        +0.j        ,\n",
       "         0.07723258+0.58614124j,  0.        +0.j        ],\n",
       "       [ 0.        +0.j        ,  0.79960795+0.1053599j ,\n",
       "         0.        +0.j        ,  0.07723258-0.58614124j]])"
      ]
     },
     "execution_count": 87,
     "metadata": {},
     "output_type": "execute_result"
    }
   ],
   "source": [
    "init_mat = qiskit.quantum_info.Operator(qc).to_matrix()\n",
    "init_mat"
   ]
  },
  {
   "cell_type": "code",
   "execution_count": 90,
   "id": "390590dc-80b7-4d59-86b9-a68aae4191e0",
   "metadata": {},
   "outputs": [
    {
     "data": {
      "text/plain": [
       "False"
      ]
     },
     "execution_count": 90,
     "metadata": {},
     "output_type": "execute_result"
    }
   ],
   "source": [
    "# Might need to swap endianness\n",
    "cirq.equal_up_to_global_phase(mat, init_mat)"
   ]
  },
  {
   "cell_type": "code",
   "execution_count": 21,
   "id": "da73b1be-6997-4be3-9618-1160581a38c7",
   "metadata": {},
   "outputs": [],
   "source": [
    "def count_gates(qc: qiskit.QuantumCircuit):\n",
    "    gate_count = { qubit: 0 for qubit in qc.qubits }\n",
    "    for gate in qc.data:\n",
    "        for qubit in gate.qubits:\n",
    "            gate_count[qubit] += 1\n",
    "    return gate_count\n",
    "\n",
    "def remove_idle_wires(qc: qiskit.QuantumCircuit):\n",
    "    qc_out = qc.copy()\n",
    "    gate_count = count_gates(qc_out)\n",
    "    for qubit, count in gate_count.items():\n",
    "        if count == 0:\n",
    "            qc_out.qubits.remove(qubit)\n",
    "    return qc_out\n"
   ]
  },
  {
   "cell_type": "code",
   "execution_count": 23,
   "id": "ac35be05-2243-4ee5-985b-5cd4f33c4c4c",
   "metadata": {},
   "outputs": [
    {
     "data": {
      "text/html": [
       "<pre style=\"word-wrap: normal;white-space: pre;background: #fff0;line-height: 1.1;font-family: &quot;Courier New&quot;,Courier,monospace\">           ░ ┌─────────────┐ ░  ┌───────────┐   ┌────────────┐  ░    ┌─┐\n",
       "00+: ──────░─┤ Rz(-1.3351) ├─░──┤0          ├───┤ Rz(1.3351) ├──░────┤M├\n",
       "     ┌───┐ ░ └─────────────┘ ░  │  Dd(-π/2) │   └────────────┘  ░    └╥┘\n",
       "00-: ┤ X ├─░─────────────────░──┤1          ├───────────────────░─────╫─\n",
       "     └───┘ ░ ┌─────────────┐ ░ ┌┴───────────┴─┐┌──────────────┐ ░ ┌─┐ ║ \n",
       "01+: ──────░─┤ Rz(0.79118) ├─░─┤0             ├┤ Rz(-0.79118) ├─░─┤M├─╫─\n",
       "     ┌───┐ ░ └─────────────┘ ░ │  Dd(-1.0005) │└──────────────┘ ░ └╥┘ ║ \n",
       "01-: ┤ X ├─░─────────────────░─┤1             ├─────────────────░──╫──╫─\n",
       "     └───┘ ░                 ░ └──────────────┘                 ░  ║  ║ \n",
       "c: 2/══════════════════════════════════════════════════════════════╩══╩═\n",
       "                                                                   1  0 </pre>"
      ],
      "text/plain": [
       "           ░ ┌─────────────┐ ░  ┌───────────┐   ┌────────────┐  ░    ┌─┐\n",
       "00+: ──────░─┤ Rz(-1.3351) ├─░──┤0          ├───┤ Rz(1.3351) ├──░────┤M├\n",
       "     ┌───┐ ░ └─────────────┘ ░  │  Dd(-π/2) │   └────────────┘  ░    └╥┘\n",
       "00-: ┤ X ├─░─────────────────░──┤1          ├───────────────────░─────╫─\n",
       "     └───┘ ░ ┌─────────────┐ ░ ┌┴───────────┴─┐┌──────────────┐ ░ ┌─┐ ║ \n",
       "01+: ──────░─┤ Rz(0.79118) ├─░─┤0             ├┤ Rz(-0.79118) ├─░─┤M├─╫─\n",
       "     ┌───┐ ░ └─────────────┘ ░ │  Dd(-1.0005) │└──────────────┘ ░ └╥┘ ║ \n",
       "01-: ┤ X ├─░─────────────────░─┤1             ├─────────────────░──╫──╫─\n",
       "     └───┘ ░                 ░ └──────────────┘                 ░  ║  ║ \n",
       "c: 2/══════════════════════════════════════════════════════════════╩══╩═\n",
       "                                                                   1  0 "
      ]
     },
     "execution_count": 23,
     "metadata": {},
     "output_type": "execute_result"
    }
   ],
   "source": [
    "remove_idle_wires(cc).draw()"
   ]
  },
  {
   "cell_type": "markdown",
   "id": "cd09e5d5-60f2-4361-b879-f2479df82e70",
   "metadata": {},
   "source": [
    "# Circuit Simulation"
   ]
  },
  {
   "cell_type": "code",
   "execution_count": 18,
   "id": "81f64cd2-7735-4a95-aada-1efa1a0da946",
   "metadata": {},
   "outputs": [
    {
     "data": {
      "text/html": [
       "<pre style=\"overflow: auto; white-space: pre;\">0: ───Y───X───iSwap───Ry(0.745π)───────────H────────────────@───M───\n",
       "          │   │                                             │   │\n",
       "1: ───────@───iSwap────────────────X^0.5────────────────Y───X───M───\n",
       "                                   │                            │\n",
       "2: ───────X───────────S────────────┼───────Rx(0.392π)───T───────M───\n",
       "                                   │                            │\n",
       "3: ────────────────────────────────@────────────────────────────M───</pre>"
      ],
      "text/plain": [
       "0: ───Y───X───iSwap───Ry(0.745π)───────────H────────────────@───M───\n",
       "          │   │                                             │   │\n",
       "1: ───────@───iSwap────────────────X^0.5────────────────Y───X───M───\n",
       "                                   │                            │\n",
       "2: ───────X───────────S────────────┼───────Rx(0.392π)───T───────M───\n",
       "                                   │                            │\n",
       "3: ────────────────────────────────@────────────────────────────M───"
      ]
     },
     "execution_count": 18,
     "metadata": {},
     "output_type": "execute_result"
    }
   ],
   "source": [
    "circuit+= cirq.measure(*cirq.LineQubit.range(4))\n",
    "circuit"
   ]
  },
  {
   "cell_type": "code",
   "execution_count": 19,
   "id": "9f4e257f-8d61-4578-a038-3713a5678fbf",
   "metadata": {},
   "outputs": [
    {
     "data": {
      "text/plain": [
       "[q(0),q(1),q(2),q(3)=0000000000000000000000000000000000000000000000000000000000000000000000000000000000000000000000000000000000000000000000000000000000000000000000000000000000000000000000000000000000000000000000000000000000000000000000000000000000000000000000000000000000000000000000000000000000000000000000000000000000000000000000000000000000000000000000000000000000000000000000000000000000000000000000000000000000000000000000000000000000000000000000000000000000000000000000000000000000000000000000000000000000000000000000000000000000000000000000000000000000000000000000000000000000000000000000000000000000000000000000000000000000000000000000000000000000000000000000000000000000000000000000000000000000000000000000000000000000000000000000000000000000000000000000000000000000000000000000000000000000000000000000000000000000000000000000000000000000000000000000000000000000000000000000111111111111111111111111111111111111111111111111111111111111111111111111111111111111111111111111111111111111111111111111111111111111111111, 0000000000000000000000000000000000000000000000000000000000000000000000000000000000000000000000000000000000000000000000000000000000000000000000000000000000000000000000000000000000000000000000000000000000000000000000000000000000000000000000000000000000000000000000000000000000000000000000000000000000000000000000000000000000000000000000000000000000000000000000000000000000000000000000000000000000000000000000000000000000000000000000000000000000000000000000000000000000000000000000000000000000000000000000000000000000000000000000000000000000000000000000000000000000000000000000000000000000000000000000000000000000000000000000000000000000000000000000000000000000000000000000000000000000000000000000000000000000000000000000000000000000000000000000000000000000000000000000000000000000000000000000000000000000000000000000000000000000000000000000000000000000000000000000111111111111111111111111111111111111111111111111111111111111111111111111111111111111111111111111111111111111111111111111111111111111111111, 0000000000000000000000000000000000000000000000000000000000000000000000000000000000000000000000000000000000000000000000000000000000000000000000000000000000000000000000000000000000000000000000000000000000000000000000000000000000000000000000000000000000000000000000000000000000000000000000000000000000000000000000000000000000000000000000000000000000001111111111111111111111111111111111111111111111111111111111111111111111111111111111111111111111111111111111111111111111111111111111111111111111111111111111111111111111111111111111111111111111111111111111111111111111111111111111111111111111111111111111111111111111111111111111111111111111111111111111111111111111111111111111111111111111111111111111111111111111111111111111111111111111111111111111111111111111111111111111111111111111111111111111111111111111111111111111111111111111111111111111111111111111111111111111111111111111111111111111111111111111111111111111111111111111111111111111111111111111111111111111111111111111111111111111111111111111111111, 0000000000000000000000000000000000000000000000000000000000000000000000000000000000000000000000000000000000000000000000000000000000000000000000000000000000000000000000000000000000000000000000000000000000000000000000000000000000000000000000000000000000000000000000000000000000000000000000000000000000000000000000000000000000000000000000000000000000000000000000000000000000000000000000000000000000000000000000000000000000000000000000000000000000000000000000000000000000000000000000000000000000000000000000000000000000000000000000000000000000000000000000000000000000000000000000000000000000000000000000000000000000000000000000000000000000000000000000000000000000000000000000000000000000000000000000000000000000000000000000000000000000000000000000000000000000000000000000000000000000000000000000000000000000000000000000000000000000000000000000000000000000000000000000000000000000000000000000000000000000000000000000000000000000000000000000000000000000000000000000000000000000000000000000000000000000000000]"
      ]
     },
     "execution_count": 19,
     "metadata": {},
     "output_type": "execute_result"
    }
   ],
   "source": [
    "service.run([circuit], 1000, \"eeroq_wonderlake_qpu\", method=\"dry-run\")"
   ]
  },
  {
   "cell_type": "code",
   "execution_count": 21,
   "id": "006a2359-62ac-40bb-b0fb-32d139600d59",
   "metadata": {},
   "outputs": [
    {
     "data": {
      "text/plain": [
       "[q(0),q(1),q(2),q(3)=0000000000000000000000000000000000000000000000000000000000000000000000000000000000000000000000000000000000000000000000000000000000000000000000000000000000000000000000000000000000000000000000000000000000000000000000000000000000000000000000000000000000000000000000000000000000000000000000000000000000000000000000000000000000000000000000000000000000000000000000000000000000000000000000000000000000000000000000000000000000000000000000000000000000000000000000000000000000000000000000000000000000000000000000000000000000000000000000000000000000000000000000000000000000000000000000000000000000000000000000000000000000000000000000000000000000000000000000000000000000000000000000000000000000000000000000000000000000000000000000000000000000000000000000000000000000000000000000000000000000000000000000000000000000000000000000000000000000000000000000000000000000011111111111111111111111111111111111111111111111111111111111111111111111111111111111111111111111111111111111111111111111111111111111111111111111111111, 0000000000000000000000000000000000000000000000000000000000000000000000000000000000000000000000000000000000000000000000000000000000000000000000000000000000000000000000000000000000000000000000000000000000000000000000000000000000000000000000000000000000000000000000000000000000000000000000000000000000000000000000000000000000000000000000000000000000000000000000000000000000000000000000000000000000000000000000000000000000000000000000000000000000000000000000000000000000000000000000000000000000000000000000000000000000000000000000000000000000000000000000000000000000000000000000000000000000000000000000000000000000000000000000000000000000000000000000000000000000000000000000000000000000000000000000000000000000000000000000000000000000000000000000000000000000000000000000000000000000000000000000000000000000000000000000000000000000000000000000000000000000011111111111111111111111111111111111111111111111111111111111111111111111111111111111111111111111111111111111111111111111111111111111111111111111111111, 0000000000000000000000000000000000000000000000000000000000000000000000000000000000000000000000000000000000000000000000000000000000000000000000000000000000000000000000000000000000000000000000000000000000000000000000000000000000000000000000000000000000000000000000000000000000000000000000000000000000000000000000000000000000000111111111111111111111111111111111111111111111111111111111111111111111111111111111111111111111111111111111111111111111111111111111111111111111111111111111111111111111111111111111111111111111111111111111111111111111111111111111111111111111111111111111111111111111111111111111111111111111111111111111111111111111111111111111111111111111111111111111111111111111111111111111111111111111111111111111111111111111111111111111111111111111111111111111111111111111111111111111111111111111111111111111111111111111111111111111111111111111111111111111111111111111111111111111111111111111111111111111111111111111111111111111111111111111111111111111111111111111111111111111111111111111111111, 0000000000000000000000000000000000000000000000000000000000000000000000000000000000000000000000000000000000000000000000000000000000000000000000000000000000000000000000000000000000000000000000000000000000000000000000000000000000000000000000000000000000000000000000000000000000000000000000000000000000000000000000000000000000000000000000000000000000000000000000000000000000000000000000000000000000000000000000000000000000000000000000000000000000000000000000000000000000000000000000000000000000000000000000000000000000000000000000000000000000000000000000000000000000000000000000000000000000000000000000000000000000000000000000000000000000000000000000000000000000000000000000000000000000000000000000000000000000000000000000000000000000000000000000000000000000000000000000000000000000000000000000000000000000000000000000000000000000000000000000000000000000000000000000000000000000000000000000000000000000000000000000000000000000000000000000000000000000000000000000000000000000000000000000000000000000000000]"
      ]
     },
     "execution_count": 21,
     "metadata": {},
     "output_type": "execute_result"
    }
   ],
   "source": [
    "service.run([circuit], 1000, \"eeroq_wonderlake_qpu\", method=\"noise-sim\", noise=0.01)"
   ]
  },
  {
   "cell_type": "code",
   "execution_count": 24,
   "id": "eaf167e5-6ff7-495f-8552-cca7aa5a7536",
   "metadata": {},
   "outputs": [
    {
     "name": "stdout",
     "output_type": "stream",
     "text": [
      "Help on method run in module cirq_superstaq.service:\n",
      "\n",
      "run(circuits: 'cirq.Circuit | Sequence[cirq.Circuit]', repetitions: 'int', target: 'str | None' = None, param_resolver: 'cirq.ParamResolver' = cirq.ParamResolver({}), method: 'str | None' = None, **kwargs: 'Any') -> 'cirq.ResultDict | list[cirq.ResultDict]' method of cirq_superstaq.service.Service instance\n",
      "    Runs circuit(s) on the Superstaq API and returns the result(s) as `cirq.ResultDict`.\n",
      "    \n",
      "    WARNING: This may return unexpected results when used with measurement error mitigation. Use\n",
      "    `service.create_job()` or `service.get_counts()` instead.\n",
      "    \n",
      "    Args:\n",
      "        circuits: The circuit(s) to run.\n",
      "        repetitions: The number of times to run the circuit(s).\n",
      "        target: Where to run the job.\n",
      "        param_resolver: A `cirq.ParamResolver` to resolve parameters in `circuits`.\n",
      "        method: Execution method.\n",
      "        kwargs: Other optimization and execution parameters.\n",
      "    \n",
      "    Returns:\n",
      "        The `cirq.ResultDict` object(s) from running the circuit(s).\n",
      "\n"
     ]
    }
   ],
   "source": [
    "help(service.run)"
   ]
  },
  {
   "cell_type": "code",
   "execution_count": null,
   "id": "6597a454-39e8-445f-a4f6-3d4658060074",
   "metadata": {},
   "outputs": [],
   "source": []
  }
 ],
 "metadata": {
  "kernelspec": {
   "display_name": "Python 3 (ipykernel)",
   "language": "python",
   "name": "python3"
  },
  "language_info": {
   "codemirror_mode": {
    "name": "ipython",
    "version": 3
   },
   "file_extension": ".py",
   "mimetype": "text/x-python",
   "name": "python",
   "nbconvert_exporter": "python",
   "pygments_lexer": "ipython3",
   "version": "3.11.5"
  }
 },
 "nbformat": 4,
 "nbformat_minor": 5
}
