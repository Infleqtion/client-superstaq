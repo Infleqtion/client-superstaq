{
 "cells": [
  {
   "cell_type": "markdown",
   "id": "05bddada-7a84-4269-8da9-f5672d459d35",
   "metadata": {},
   "source": [
    "# Compiling Circuits for EeroQ via Qiskit"
   ]
  },
  {
   "cell_type": "markdown",
   "id": "867058d1",
   "metadata": {},
   "source": [
    "[![Open in Colab](https://colab.research.google.com/assets/colab-badge.svg)](https://colab.research.google.com/github/Infleqtion/client-superstaq/blob/main/docs/source/optimizations/eeroq/eeroq_qss.ipynb) [![Launch Binder](https://mybinder.org/badge_logo.svg)](https://mybinder.org/v2/gh/Infleqtion/client-superstaq/HEAD?labpath=docs/source/optimizations/eeroq/eeroq_qss.ipynb)"
   ]
  },
  {
   "cell_type": "markdown",
   "id": "d06c9dcf-5ea8-4f3f-92b9-14444be41504",
   "metadata": {},
   "source": [
    "## Import Requirements"
   ]
  },
  {
   "cell_type": "markdown",
   "id": "38ae72c1-fbeb-4836-a839-f1bad0a98ddf",
   "metadata": {},
   "source": [
    "This tutorial will showcase how to compile a circuit for EeroQ hardware using the ```qiskit-superstaq``` client. "
   ]
  },
  {
   "cell_type": "code",
   "execution_count": 1,
   "id": "bb3fbbd3-986b-4457-8b87-e3cb42363a28",
   "metadata": {},
   "outputs": [],
   "source": [
    "# Required imports\n",
    "try:\n",
    "    import qiskit\n",
    "    import qiskit_superstaq as qss\n",
    "except ImportError:\n",
    "    print(\"Installing qiskit-superstaq...\")\n",
    "    %pip install --quiet 'qiskit-superstaq[examples]'\n",
    "    print(\"Installed qiskit-superstaq.\")\n",
    "    print(\"You may need to restart the kernel to import newly installed packages.\")\n",
    "    import qiskit\n",
    "    import qiskit_superstaq as qss\n",
    "\n",
    "# Optional imports\n",
    "import numpy as np\n",
    "import os  # Used if setting a token as an environment variable\n",
    "\n",
    "%load_ext autoreload\n",
    "%autoreload 2"
   ]
  },
  {
   "cell_type": "markdown",
   "id": "dc3c6580-50e3-4edc-807b-e33dedbf8ca2",
   "metadata": {},
   "source": [
    "To interface Superstaq via Qiskit, we must first instantiate a provider in `qiskit-superstaq` with `SuperstaqProvider()`. We then supply a Superstaq API token (or key) by either providing the API token as an argument of `qss.SuperstaqProvider()` or by setting it as an environment variable (see more details [here](https://superstaq.readthedocs.io/en/latest/get_started/basics/basics_qss.html#Set-up-access-to-Superstaq%E2%80%99s-API))"
   ]
  },
  {
   "cell_type": "code",
   "execution_count": 2,
   "id": "99b54393-f9f0-48c8-be31-033fd62d4624",
   "metadata": {},
   "outputs": [],
   "source": [
    "service = qss.superstaq_provider.SuperstaqProvider()"
   ]
  },
  {
   "cell_type": "markdown",
   "id": "275bcdda-0eef-41c0-b7ea-017accab90eb",
   "metadata": {},
   "source": [
    "## EeroQ Gates"
   ]
  },
  {
   "cell_type": "markdown",
   "id": "97cd5f77",
   "metadata": {},
   "source": [
    "One of the native gates that EeroQ devices operate is the Dipole-Dipole (DD) gate, which couples two electrons. This gate can be applied to electrons within a qubit to perform rotation gates, or across qubits to perform entangling gates. The DD gate is available as a custom gate in qiskit-superstaq."
   ]
  },
  {
   "cell_type": "code",
   "execution_count": 3,
   "id": "702504fe-5a52-425b-a52f-29973c7f94b3",
   "metadata": {},
   "outputs": [
    {
     "data": {
      "text/plain": [
       "qss.DDGate(1)"
      ]
     },
     "execution_count": 3,
     "metadata": {},
     "output_type": "execute_result"
    }
   ],
   "source": [
    "dd_gate = qss.DDGate(1)\n",
    "dd_gate"
   ]
  },
  {
   "cell_type": "code",
   "execution_count": 4,
   "id": "26d2ae08-3550-4ffe-8e23-5bf226ecad91",
   "metadata": {},
   "outputs": [
    {
     "data": {
      "image/png": "[encoded data removed]",
      "text/plain": [
       "<Figure size 203.683x200.667 with 1 Axes>"
      ]
     },
     "execution_count": 4,
     "metadata": {},
     "output_type": "execute_result"
    }
   ],
   "source": [
    "qc = qiskit.QuantumCircuit(2)\n",
    "qc.append(dd_gate, [0, 1])\n",
    "qc.draw(\"mpl\")"
   ]
  },
  {
   "cell_type": "markdown",
   "id": "26cd7f88-ab49-48bd-beae-ef6883d61cd0",
   "metadata": {},
   "source": [
    "Below is the EeroQ protocol for a CZ Gate."
   ]
  },
  {
   "cell_type": "markdown",
   "id": "0bc3fd9e-8e18-45df-803f-733ca7cc5854",
   "metadata": {},
   "source": [
    "![title](images/DD_gate.png)"
   ]
  },
  {
   "cell_type": "markdown",
   "id": "3e0d9606",
   "metadata": {},
   "source": [
    "We can compile to the EeroQ Wonderlake device by instantiating an EeroQ backend. We can then call the `backend.compile` method."
   ]
  },
  {
   "cell_type": "code",
   "execution_count": 5,
   "id": "a52fd87f-681a-4f88-80ef-146f6b9de78e",
   "metadata": {},
   "outputs": [],
   "source": [
    "def count_gates(qc: qiskit.QuantumCircuit):\n",
    "    gate_count = {qubit: 0 for qubit in qc.qubits}\n",
    "    for gate in qc.data:\n",
    "        for qubit in gate.qubits:\n",
    "            gate_count[qubit] += 1\n",
    "    return gate_count\n",
    "\n",
    "\n",
    "def remove_idle_wires(qc: qiskit.QuantumCircuit):\n",
    "    qc_out = qc.copy()\n",
    "    gate_count = count_gates(qc_out)\n",
    "    for qubit, count in gate_count.items():\n",
    "        if count == 0:\n",
    "            qc_out.qubits.remove(qubit)\n",
    "    return qc_out"
   ]
  },
  {
   "cell_type": "code",
   "execution_count": 6,
   "id": "79dbf4f5-1fc3-4a9a-af6b-15d0ad102fe8",
   "metadata": {},
   "outputs": [
    {
     "data": {
      "image/png": "[encoded data removed]",
      "text/plain": [
       "<Figure size 961.991x451.5 with 1 Axes>"
      ]
     },
     "execution_count": 6,
     "metadata": {},
     "output_type": "execute_result"
    }
   ],
   "source": [
    "qc = qiskit.QuantumCircuit(2)\n",
    "qc.cz(0, 1)\n",
    "qc.measure_all()\n",
    "backend = service.get_backend(\"eeroq_wonderlake_qpu\")\n",
    "compiled_circuit = backend.compile(qc).circuit\n",
    "remove_idle_wires(compiled_circuit).draw(\"mpl\")"
   ]
  },
  {
   "cell_type": "markdown",
   "id": "79efe1c6",
   "metadata": {},
   "source": [
    "As we can see, the initial circuit and compiled circuit have equivalent unitaries, despite the difference in circuit width. We can also simulate this circuit using the `backend.run` method. As expected, all measurements are in the 00 state."
   ]
  },
  {
   "cell_type": "code",
   "execution_count": 7,
   "id": "11809ddb-797f-46ea-b546-ec16358eb9cc",
   "metadata": {},
   "outputs": [],
   "source": [
    "job = backend.run(qc, shots=10, method=\"dry-run\")"
   ]
  },
  {
   "cell_type": "code",
   "execution_count": 8,
   "id": "664bec0f-6222-49a5-84aa-252782ec496c",
   "metadata": {},
   "outputs": [
    {
     "name": "stdout",
     "output_type": "stream",
     "text": [
      "{'00': 10}\n"
     ]
    }
   ],
   "source": [
    "print(job.result().get_counts())"
   ]
  },
  {
   "cell_type": "markdown",
   "id": "7cb64f54-69d8-417f-9b1d-38a5900e5b7f",
   "metadata": {},
   "source": [
    "## Circuit Compilation"
   ]
  },
  {
   "cell_type": "markdown",
   "id": "eb9ab7f7",
   "metadata": {},
   "source": [
    "We can repeat the above experiment with larger circuits to see how they compile."
   ]
  },
  {
   "cell_type": "code",
   "execution_count": 9,
   "id": "bc50abac-a3cc-4188-b5c0-3a11822389c7",
   "metadata": {},
   "outputs": [
    {
     "data": {
      "text/html": [
       "<pre style=\"word-wrap: normal;white-space: pre;background: #fff0;line-height: 1.1;font-family: &quot;Courier New&quot;,Courier,monospace\">     ┌───┐   ┌─────┐        ┌───┐     \n",
       "q_0: ┤ H ├───┤ Sdg ├────────┤ Y ├─────\n",
       "     └─┬─┘┌──┴─────┴───┐┌───┴───┴────┐\n",
       "q_1: ──■──┤ P(0.39452) ├┤ Rx(2.2911) ├\n",
       "          └────────────┘└────────────┘</pre>"
      ],
      "text/plain": [
       "     ┌───┐   ┌─────┐        ┌───┐     \n",
       "q_0: ┤ H ├───┤ Sdg ├────────┤ Y ├─────\n",
       "     └─┬─┘┌──┴─────┴───┐┌───┴───┴────┐\n",
       "q_1: ──■──┤ P(0.39452) ├┤ Rx(2.2911) ├\n",
       "          └────────────┘└────────────┘"
      ]
     },
     "execution_count": 9,
     "metadata": {},
     "output_type": "execute_result"
    }
   ],
   "source": [
    "from qiskit.circuit.random import random_circuit\n",
    "\n",
    "qc = random_circuit(2, 3, measure=False)\n",
    "qc.draw()"
   ]
  },
  {
   "cell_type": "code",
   "execution_count": 10,
   "id": "3addf00a-2930-4b32-9dd5-84054348df0b",
   "metadata": {},
   "outputs": [],
   "source": [
    "backend = service.get_backend(\"eeroq_wonderlake_qpu\")"
   ]
  },
  {
   "cell_type": "code",
   "execution_count": 11,
   "id": "b3e9a5fa-72ad-4423-a5f2-0a8a82fd4e73",
   "metadata": {},
   "outputs": [],
   "source": [
    "cc = backend.compile(qc).circuit"
   ]
  },
  {
   "cell_type": "code",
   "execution_count": 12,
   "id": "459c27d5-b70d-416b-a362-b77041718ed2",
   "metadata": {},
   "outputs": [
    {
     "data": {
      "image/png": "[encoded data removed]",
      "text/plain": [
       "<Figure size 1212.82x367.889 with 1 Axes>"
      ]
     },
     "execution_count": 12,
     "metadata": {},
     "output_type": "execute_result"
    }
   ],
   "source": [
    "remove_idle_wires(cc).draw(\"mpl\")"
   ]
  },
  {
   "cell_type": "markdown",
   "id": "cd09e5d5-60f2-4361-b879-f2479df82e70",
   "metadata": {},
   "source": [
    "## Circuit Simulation"
   ]
  },
  {
   "cell_type": "code",
   "execution_count": 13,
   "id": "81f64cd2-7735-4a95-aada-1efa1a0da946",
   "metadata": {},
   "outputs": [
    {
     "data": {
      "image/png": "[encoded data removed]",
      "text/plain": [
       "<Figure size 538.128x284.278 with 1 Axes>"
      ]
     },
     "execution_count": 13,
     "metadata": {},
     "output_type": "execute_result"
    }
   ],
   "source": [
    "from qiskit.circuit.random import random_circuit\n",
    "\n",
    "qc = random_circuit(2, 3, measure=True)\n",
    "qc.draw(\"mpl\")"
   ]
  },
  {
   "cell_type": "markdown",
   "id": "b45eec80",
   "metadata": {},
   "source": [
    "We can perform noisy simulation by setting the \"method='noise-sim'\" and specifying an error rate."
   ]
  },
  {
   "cell_type": "code",
   "execution_count": 14,
   "id": "9f4e257f-8d61-4578-a038-3713a5678fbf",
   "metadata": {},
   "outputs": [],
   "source": [
    "job = backend.run(qc, shots=100, method=\"noise-sim\", error_rate=0.01)"
   ]
  },
  {
   "cell_type": "code",
   "execution_count": 15,
   "id": "cf99f946-020d-4108-8aed-a0c3fdb65559",
   "metadata": {},
   "outputs": [
    {
     "name": "stdout",
     "output_type": "stream",
     "text": [
      "{'00': 63, '10': 34, '01': 1, '02': 1, '20': 1}\n"
     ]
    }
   ],
   "source": [
    "print(job.result().get_counts())"
   ]
  },
  {
   "cell_type": "markdown",
   "id": "e780139f-2969-4e8c-b006-e84cb0860c77",
   "metadata": {},
   "source": [
    "A measurement value of 2 refers to an out-of-codespace error."
   ]
  }
 ],
 "metadata": {
  "kernelspec": {
   "display_name": "Python 3 (ipykernel)",
   "language": "python",
   "name": "python3"
  },
  "language_info": {
   "codemirror_mode": {
    "name": "ipython",
    "version": 3
   },
   "file_extension": ".py",
   "mimetype": "text/x-python",
   "name": "python",
   "nbconvert_exporter": "python",
   "pygments_lexer": "ipython3",
   "version": "3.11.5"
  }
 },
 "nbformat": 4,
 "nbformat_minor": 5
}
