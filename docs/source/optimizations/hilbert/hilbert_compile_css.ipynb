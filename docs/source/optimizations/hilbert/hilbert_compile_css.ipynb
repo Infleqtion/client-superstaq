{
 "cells": [
  {
   "cell_type": "markdown",
   "id": "eb89a144",
   "metadata": {},
   "source": [
    "# Compiling and Submitting Circuits onto Hilbert via Cirq\n"
   ]
  },
  {
   "cell_type": "markdown",
   "id": "capable-bradley",
   "metadata": {},
   "source": [
    "<a target=\"_blank\" href=\"https://colab.research.google.com/github/SupertechLabs/client-superstaq/blob/main/docs/source/optimizations/cq/cq_compile_css.ipynb\">\n",
    "  <img src=\"https://colab.research.google.com/assets/colab-badge.svg\" alt=\"Open In Colab\" align=\"left\"/>\n",
    "</a>\n",
    "<a target=\"_blank\" href=\"https://mybinder.org/v2/gh/SupertechLabs/client-superstaq/HEAD?labpath=docs/source/optimizations/cq/cq_compile_css.ipynb\">\n",
    "  <img src=\"https://mybinder.org/badge_logo.svg\" alt=\"Launch Binder\" align=\"left\" style=\"margin-left: 10px;\"/>\n",
    "</a>"
   ]
  },
  {
   "cell_type": "markdown",
   "id": "cd44ef01",
   "metadata": {},
   "source": [
    "## Import Requirements"
   ]
  },
  {
   "cell_type": "markdown",
   "id": "188579fc",
   "metadata": {},
   "source": [
    "This tutorial will showcase how to compile and submit a circuit onto Infleqtion's hardware, Hilbert, using the ```cirq-superstaq``` client. You can try it out by running ```pip install cirq-superstaq```:"
   ]
  },
  {
   "cell_type": "code",
   "execution_count": null,
   "id": "1a5f2a43",
   "metadata": {},
   "outputs": [],
   "source": [
    "%pip install cirq-superstaq"
   ]
  },
  {
   "cell_type": "code",
   "execution_count": 1,
   "id": "aff4bd87",
   "metadata": {},
   "outputs": [],
   "source": [
    "# Required imports\n",
    "import cirq\n",
    "import cirq_superstaq as css\n",
    "\n",
    "# Optional imports\n",
    "import os  # used if setting a token as an environment variable"
   ]
  },
  {
   "cell_type": "markdown",
   "id": "ae0dfcb6",
   "metadata": {},
   "source": [
    "To interface Superstaq via Cirq, we must first instantiate a service provider in ```cirq-superstaq``` with ```Service()```. We then supply a Superstaq API key (which you can get from https://superstaq.super.tech.) by either providing the API key as an argument of Service, i.e. : ```css.Service(api_key=\"token\")``` , or by setting it as an environment variable. (see more details [here](https://docs-superstaq.readthedocs.io/en/stable/get_started/basics/basics_css.html#Set-up-access-to-Superstaq's-API)) "
   ]
  },
  {
   "cell_type": "code",
   "execution_count": 2,
   "id": "4464f34f",
   "metadata": {},
   "outputs": [],
   "source": [
    "service = css.Service()"
   ]
  },
  {
   "cell_type": "markdown",
   "id": "415812a3",
   "metadata": {},
   "source": [
    "## Create a Circuit"
   ]
  },
  {
   "cell_type": "markdown",
   "id": "f5d5ca21",
   "metadata": {},
   "source": [
    "First, we will create an example Cirq circuit that we can then compile and submit onto Hilbert"
   ]
  },
  {
   "cell_type": "code",
   "execution_count": 3,
   "id": "9521d540",
   "metadata": {
    "scrolled": true
   },
   "outputs": [
    {
     "name": "stdout",
     "output_type": "stream",
     "text": [
      "0: ───H───@───M───\n",
      "          │\n",
      "1: ───────X───────\n"
     ]
    }
   ],
   "source": [
    "qubits = cirq.LineQubit.range(16)\n",
    "circuit1 = cirq.Circuit(cirq.H(qubits[0]), cirq.CNOT(qubits[0], qubits[1]), cirq.measure(qubits[0]))\n",
    "print(circuit1)"
   ]
  },
  {
   "cell_type": "markdown",
   "id": "b7812e22",
   "metadata": {},
   "source": [
    "## Single Circuit Compilation"
   ]
  },
  {
   "cell_type": "code",
   "execution_count": 4,
   "id": "b9149284",
   "metadata": {
    "scrolled": false
   },
   "outputs": [],
   "source": [
    "compiler_output = service.cq_compile(circuit1)"
   ]
  },
  {
   "cell_type": "code",
   "execution_count": 5,
   "id": "92f3d368",
   "metadata": {},
   "outputs": [
    {
     "name": "stdout",
     "output_type": "stream",
     "text": [
      "(0, 0): ───RGate(0.5π, -0.5π)───@───RGate(-0.25π, -0.5π)───────RGate(0.25π, -0.5π)───────M('q(0)')───\n",
      "           │                    │   │                          │\n",
      "(0, 1): ───#2───────────────────@───#2─────────────────────Z───#2────────────────────Z───────────────\n"
     ]
    }
   ],
   "source": [
    "print(compiler_output.circuit)"
   ]
  },
  {
   "cell_type": "markdown",
   "id": "65c6a0f6",
   "metadata": {},
   "source": [
    "If you would like to compile (or submit) on a different number of qubits, this can be done via the ```grid_shape``` option. This simply sets the shape of the rectangular qubit grid. However, specifying a grid that is incompatable with Hilbert's current capabilities will result in an error. "
   ]
  },
  {
   "cell_type": "code",
   "execution_count": 6,
   "id": "0a60af28",
   "metadata": {},
   "outputs": [
    {
     "name": "stdout",
     "output_type": "stream",
     "text": [
      "(0, 0): ───RGate(0.5π, -0.5π)───Z───\n",
      "           │\n",
      "(0, 1): ───#2───────────────────Z───\n",
      "           │\n",
      "(0, 2): ───#3───────────────────Z───\n",
      "           │\n",
      "(0, 3): ───#4───────────────────Z───\n",
      "           │\n",
      "(0, 4): ───#5───────────────────Z───\n",
      "           │\n",
      "(0, 5): ───#6───────────────────Z───\n",
      "           │\n",
      "(1, 0): ───#7───────────────────Z───\n",
      "           │\n",
      "(1, 1): ───#8───────────────────Z───\n",
      "           │\n",
      "(1, 2): ───#9───────────────────Z───\n",
      "           │\n",
      "(1, 3): ───#10──────────────────Z───\n",
      "           │\n",
      "(1, 4): ───#11──────────────────Z───\n",
      "           │\n",
      "(1, 5): ───#12──────────────────Z───\n",
      "           │\n",
      "(2, 0): ───#13──────────────────Z───\n",
      "           │\n",
      "(2, 1): ───#14──────────────────Z───\n",
      "           │\n",
      "(2, 2): ───#15──────────────────Z───\n",
      "           │\n",
      "(2, 3): ───#16──────────────────Z───\n"
     ]
    }
   ],
   "source": [
    "example_circuit = cirq.Circuit(cirq.H.on_each(*qubits))\n",
    "new_compiler_output = service.cq_compile(example_circuit, options={\"grid_shape\":(4,6)})\n",
    "print(new_compiler_output.circuit)"
   ]
  },
  {
   "cell_type": "markdown",
   "id": "04ad6645",
   "metadata": {},
   "source": [
    "## Single Circuit Submission"
   ]
  },
  {
   "cell_type": "markdown",
   "id": "ac35a589",
   "metadata": {},
   "source": [
    "The code below will submitt he circuit to the noiseless Hilbert simulator. If you would like to run on Hilbert, change the \"target\" argument in job_css from \"cq_hilbert_simulator\" to \"cq_hilbert_qpu\". It is recommended to first submit to the simulator for testing to ensure your code runs before submitting to Hilbert. "
   ]
  },
  {
   "cell_type": "code",
   "execution_count": 7,
   "id": "dcadf503",
   "metadata": {},
   "outputs": [
    {
     "name": "stdout",
     "output_type": "stream",
     "text": [
      "Counts from cirq-superstaq submission: {'1': 55, '0': 45}\n"
     ]
    }
   ],
   "source": [
    "job_css = service.create_job(circuit=circuit1, repetitions=100, target=\"cq_hilbert_simulator\")\n",
    "result_css = job_css.counts()\n",
    "print(f\"Counts from cirq-superstaq submission: {result_css}\")"
   ]
  },
  {
   "cell_type": "markdown",
   "id": "c6a4b1d3",
   "metadata": {},
   "source": [
    "## Multiple circuit compilation"
   ]
  },
  {
   "cell_type": "code",
   "execution_count": 8,
   "id": "32b95bf4",
   "metadata": {},
   "outputs": [
    {
     "name": "stdout",
     "output_type": "stream",
     "text": [
      "0: ───H───M───\n"
     ]
    }
   ],
   "source": [
    "circuit2 = cirq.Circuit(cirq.H(qubits[0]), cirq.measure(qubits[0]))\n",
    "print(circuit2)"
   ]
  },
  {
   "cell_type": "code",
   "execution_count": 9,
   "id": "40fd33d8",
   "metadata": {},
   "outputs": [],
   "source": [
    "compiler_output = service.cq_compile([circuit1, circuit2])"
   ]
  },
  {
   "cell_type": "code",
   "execution_count": 10,
   "id": "d1961e28",
   "metadata": {},
   "outputs": [
    {
     "name": "stdout",
     "output_type": "stream",
     "text": [
      "(0, 0): ───RGate(0.5π, -0.5π)───@───RGate(-0.25π, -0.5π)───────RGate(0.25π, -0.5π)───────M('q(0)')───\n",
      "           │                    │   │                          │\n",
      "(0, 1): ───#2───────────────────@───#2─────────────────────Z───#2────────────────────Z───────────────\n",
      "\n",
      "\n",
      "(0, 0): ───RGate(0.5π, -0.5π)───M('q(0)')───\n"
     ]
    }
   ],
   "source": [
    "print(compiler_output.circuits[0])\n",
    "print()\n",
    "print()\n",
    "print(compiler_output.circuits[1])"
   ]
  }
 ],
 "metadata": {
  "kernelspec": {
   "display_name": "Python 3 (ipykernel)",
   "language": "python",
   "name": "python3"
  },
  "language_info": {
   "codemirror_mode": {
    "name": "ipython",
    "version": 3
   },
   "file_extension": ".py",
   "mimetype": "text/x-python",
   "name": "python",
   "nbconvert_exporter": "python",
   "pygments_lexer": "ipython3",
   "version": "3.10.6"
  }
 },
 "nbformat": 4,
 "nbformat_minor": 5
}
