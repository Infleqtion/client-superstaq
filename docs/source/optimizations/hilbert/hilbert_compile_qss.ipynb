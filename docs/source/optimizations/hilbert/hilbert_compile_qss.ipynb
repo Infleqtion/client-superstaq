{
 "cells": [
  {
   "cell_type": "markdown",
   "id": "9feeb937",
   "metadata": {},
   "source": [
    "# Compiling and Submitting Circuits onto Hilbert via Qiskit\n"
   ]
  },
  {
   "cell_type": "markdown",
   "id": "decent-blowing",
   "metadata": {},
   "source": [
    "[![Open in Colab](https://colab.research.google.com/assets/colab-badge.svg)](https://colab.research.google.com/github/SupertechLabs/client-superstaq/blob/main/docs/source/optimizations/hilbert/hilbert_compile_qss.ipynb) [![Launch Binder](https://mybinder.org/badge_logo.svg)](https://mybinder.org/v2/gh/SupertechLabs/client-superstaq/HEAD?labpath=docs/source/optimizations/hilbert/hilbert_compile_qss.ipynb)"
   ]
  },
  {
   "cell_type": "markdown",
   "id": "c23a3c34",
   "metadata": {},
   "source": [
    "## Import Requirements"
   ]
  },
  {
   "cell_type": "markdown",
   "id": "41137c11",
   "metadata": {},
   "source": [
    "This tutorial will showcase how to compile and submit a circuit onto Infleqtion's hardware, Hilbert, using the ```qiskit-superstaq``` client. You can try it out by running ```pip install qiskit-superstaq[examples]```:"
   ]
  },
  {
   "cell_type": "code",
   "execution_count": 1,
   "id": "c01de181-761d-428e-b0a2-f038d12cdb84",
   "metadata": {},
   "outputs": [],
   "source": [
    "# Required imports\n",
    "try:\n",
    "    import qiskit\n",
    "    import qiskit_superstaq as qss\n",
    "except ImportError:\n",
    "    print(\"Installing qiskit-superstaq...\")\n",
    "    %pip install -q qiskit-superstaq[examples]\n",
    "    print(\"Installed qiskit-superstaq. Please restart the kernel to import the packages.\")\n",
    "\n",
    "# Optional imports\n",
    "import os  # Used if setting a token as an environment variable"
   ]
  },
  {
   "cell_type": "markdown",
   "id": "fdab508b",
   "metadata": {},
   "source": [
    "To interface Superstaq via Qiskit, we must first instantiate a service provider in ```qiskit-superstaq```. We then supply a Superstaq API key (which you can get from https://superstaq.super.tech) by either providing the API key as an argument, i.e., ```qss.superstaq_provider.SuperstaqProvider(api_key=\"token\")```, or by setting it as an environment variable (see more details [here](https://superstaq.readthedocs.io/en/latest/get_started/basics/basics_qss.html#Set-up-access-to-Superstaq%E2%80%99s-API))."
   ]
  },
  {
   "cell_type": "code",
   "execution_count": 2,
   "id": "b38e6a2c-36fc-426c-a6e0-3f5167900e54",
   "metadata": {},
   "outputs": [],
   "source": [
    "provider = qss.superstaq_provider.SuperstaqProvider()"
   ]
  },
  {
   "cell_type": "markdown",
   "id": "72d7ac85-84b4-4feb-8ecf-0af31ddf5f83",
   "metadata": {
    "tags": []
   },
   "source": [
    "## Create a Circuit"
   ]
  },
  {
   "cell_type": "markdown",
   "id": "3eb32f10",
   "metadata": {},
   "source": [
    "First, we will create an example Qiskit circuit that we can then compile and submit onto Hilbert"
   ]
  },
  {
   "cell_type": "code",
   "execution_count": 3,
   "id": "7c88500b-8c09-43d3-8b16-0078a95a551d",
   "metadata": {},
   "outputs": [
    {
     "data": {
      "text/html": [
       "<pre style=\"word-wrap: normal;white-space: pre;background: #fff0;line-height: 1.1;font-family: &quot;Courier New&quot;,Courier,monospace\">     ┌───┐┌─┐\n",
       "  q: ┤ H ├┤M├\n",
       "     └───┘└╥┘\n",
       "c: 1/══════╩═\n",
       "           0 </pre>"
      ],
      "text/plain": [
       "     ┌───┐┌─┐\n",
       "  q: ┤ H ├┤M├\n",
       "     └───┘└╥┘\n",
       "c: 1/══════╩═\n",
       "           0 "
      ]
     },
     "execution_count": 3,
     "metadata": {},
     "output_type": "execute_result"
    }
   ],
   "source": [
    "circuit1 = qiskit.QuantumCircuit(1, 1)\n",
    "\n",
    "circuit1.h(0)\n",
    "circuit1.measure(0, 0)\n",
    "circuit1.draw(fold=-1)"
   ]
  },
  {
   "cell_type": "markdown",
   "id": "d41c8d8e",
   "metadata": {},
   "source": [
    "## Single Circuit Compilation"
   ]
  },
  {
   "cell_type": "markdown",
   "id": "b2b2a613",
   "metadata": {},
   "source": [
    "We will now compile the above circuit onto Hilbert's native gateset and visualize the differences by drawing the compiled circuit"
   ]
  },
  {
   "cell_type": "code",
   "execution_count": 4,
   "id": "8b259905-2984-4f4a-88d4-d767581685b4",
   "metadata": {},
   "outputs": [],
   "source": [
    "compiler_output = provider.cq_compile(circuit1)"
   ]
  },
  {
   "cell_type": "code",
   "execution_count": 5,
   "id": "b01be319-68f3-4aed-b9b4-4d6b10b391bc",
   "metadata": {},
   "outputs": [
    {
     "name": "stdout",
     "output_type": "stream",
     "text": [
      "      ┌─────────────────┐┌─┐\n",
      " q_0: ┤ GR(1.57, -1.57) ├┤M├\n",
      "      └─────────────────┘└╥┘\n",
      " q_1: ────────────────────╫─\n",
      "                          ║ \n",
      " q_2: ────────────────────╫─\n",
      "                          ║ \n",
      " q_3: ────────────────────╫─\n",
      "                          ║ \n",
      " q_4: ────────────────────╫─\n",
      "                          ║ \n",
      " q_5: ────────────────────╫─\n",
      "                          ║ \n",
      " q_6: ────────────────────╫─\n",
      "                          ║ \n",
      " q_7: ────────────────────╫─\n",
      "                          ║ \n",
      " q_8: ────────────────────╫─\n",
      "                          ║ \n",
      " q_9: ────────────────────╫─\n",
      "                          ║ \n",
      "q_10: ────────────────────╫─\n",
      "                          ║ \n",
      "q_11: ────────────────────╫─\n",
      "                          ║ \n",
      "q_12: ────────────────────╫─\n",
      "                          ║ \n",
      "q_13: ────────────────────╫─\n",
      "                          ║ \n",
      "q_14: ────────────────────╫─\n",
      "                          ║ \n",
      "q_15: ────────────────────╫─\n",
      "                          ║ \n",
      "q_16: ────────────────────╫─\n",
      "                          ║ \n",
      "q_17: ────────────────────╫─\n",
      "                          ║ \n",
      "q_18: ────────────────────╫─\n",
      "                          ║ \n",
      "q_19: ────────────────────╫─\n",
      "                          ║ \n",
      "q_20: ────────────────────╫─\n",
      "                          ║ \n",
      "q_21: ────────────────────╫─\n",
      "                          ║ \n",
      "q_22: ────────────────────╫─\n",
      "                          ║ \n",
      "q_23: ────────────────────╫─\n",
      "                          ║ \n",
      " c: 1/════════════════════╩═\n",
      "                          0 \n"
     ]
    }
   ],
   "source": [
    "print(compiler_output.circuit)"
   ]
  },
  {
   "cell_type": "markdown",
   "id": "617cc752",
   "metadata": {},
   "source": [
    "If you would like to compile (or submit) on a different number of qubits, this can be done via the ```grid_shape``` option. This simply sets the shape of the rectangular qubit grid. However, specifying a grid that is incompatible with Hilbert's current capabilities will result in an error when submitting."
   ]
  },
  {
   "cell_type": "code",
   "execution_count": 6,
   "id": "4af423b0",
   "metadata": {},
   "outputs": [
    {
     "name": "stdout",
     "output_type": "stream",
     "text": [
      "     ┌──────────────────┐     ┌─────────────────┐   ┌──────────────────┐     »\n",
      "q_0: ┤0                 ├─────┤0                ├─■─┤0                 ├─────»\n",
      "     │                  │┌───┐│                 │ │ │                  │┌───┐»\n",
      "q_1: ┤1                 ├┤ Z ├┤1                ├─■─┤1                 ├┤ Z ├»\n",
      "     │  GR(-0.79, 1.57) │└───┘│  GR(0.79, 1.57) │   │  GR(-0.79, 1.57) │└───┘»\n",
      "q_2: ┤2                 ├─────┤2                ├─■─┤2                 ├─────»\n",
      "     │                  │┌───┐│                 │ │ │                  │┌───┐»\n",
      "q_3: ┤3                 ├┤ Z ├┤3                ├─■─┤3                 ├┤ Z ├»\n",
      "     └──────────────────┘└───┘└─────────────────┘   └──────────────────┘└───┘»\n",
      "«     ┌─────────────────┐\n",
      "«q_0: ┤0                ├\n",
      "«     │                 │\n",
      "«q_1: ┤1                ├\n",
      "«     │  GR(0.79, 1.57) │\n",
      "«q_2: ┤2                ├\n",
      "«     │                 │\n",
      "«q_3: ┤3                ├\n",
      "«     └─────────────────┘\n"
     ]
    }
   ],
   "source": [
    "example_circuit = qiskit.QuantumCircuit(4, 1)\n",
    "example_circuit.cx(0, 1)\n",
    "example_circuit.cx(2, 3)\n",
    "new_compiler_output = provider.cq_compile(example_circuit, grid_shape=(2, 2))\n",
    "print(new_compiler_output.circuit.draw(fold=-1)"
   ]
  },
  {
   "cell_type": "markdown",
   "id": "601cf4a9",
   "metadata": {},
   "source": [
    "## Single Circuit Submission"
   ]
  },
  {
   "cell_type": "markdown",
   "id": "74c20c53",
   "metadata": {},
   "source": [
    "The code below will submitt he circuit to the noiseless Hilbert simulator. If you would like to run on Hilbert, change the \"target\" argument in backend from \"cq_hilbert_simulator\" to \"cq_hilbert_qpu\". It is recommended to first submit to the simulator for testing to ensure your code runs before submitting to Hilbert. "
   ]
  },
  {
   "cell_type": "code",
   "execution_count": 7,
   "id": "30c6dc89",
   "metadata": {},
   "outputs": [
    {
     "name": "stdout",
     "output_type": "stream",
     "text": [
      "{'0': 56, '1': 44}\n"
     ]
    }
   ],
   "source": [
    "backend = provider.get_backend(\"cq_hilbert_simulator\")\n",
    "job = backend.run(circuit1, shots=100)\n",
    "print(job.result().get_counts())"
   ]
  },
  {
   "cell_type": "markdown",
   "id": "441a7232-a617-4f35-9fbb-66bcbe8abfec",
   "metadata": {},
   "source": [
    "## Multiple circuit compilation"
   ]
  },
  {
   "cell_type": "markdown",
   "id": "9322aa52",
   "metadata": {},
   "source": [
    "All the functionalities we have seen so far can also be used on a multiple-circuit input as well. To illustrate this, let us create a different example two-qubit circuit, and compile both circuits we have created at the same time. "
   ]
  },
  {
   "cell_type": "code",
   "execution_count": 8,
   "id": "6e6b56e6-92d1-4b3d-b8da-dee099286091",
   "metadata": {},
   "outputs": [
    {
     "data": {
      "text/html": [
       "<pre style=\"word-wrap: normal;white-space: pre;background: #fff0;line-height: 1.1;font-family: &quot;Courier New&quot;,Courier,monospace\">               \n",
       "q_0: ──■───────\n",
       "     ┌─┴─┐┌───┐\n",
       "q_1: ┤ X ├┤ H ├\n",
       "     └───┘└───┘</pre>"
      ],
      "text/plain": [
       "               \n",
       "q_0: ──■───────\n",
       "     ┌─┴─┐┌───┐\n",
       "q_1: ┤ X ├┤ H ├\n",
       "     └───┘└───┘"
      ]
     },
     "execution_count": 8,
     "metadata": {},
     "output_type": "execute_result"
    }
   ],
   "source": [
    "circuit2 = qiskit.QuantumCircuit(2)\n",
    "circuit2.cnot(0, 1)\n",
    "circuit2.h(1)\n",
    "circuit2.draw(fold=-1)"
   ]
  },
  {
   "cell_type": "code",
   "execution_count": 9,
   "id": "5d3993fd-83f1-42e9-b1e0-f4e553765682",
   "metadata": {},
   "outputs": [
    {
     "ename": "ValueError",
     "evalue": "Circuits failed to deserialize. This is likely because your version of qiskit-terra (0.24.1) is out of date. Consider updating it.",
     "output_type": "error",
     "traceback": [
      "\u001b[0;31m---------------------------------------------------------------------------\u001b[0m",
      "\u001b[0;31mValueError\u001b[0m                                Traceback (most recent call last)",
      "File \u001b[0;32m~/PycharmProjects/my_project/client-superstaq/qiskit-superstaq/qiskit_superstaq/serialization.py:159\u001b[0m, in \u001b[0;36mdeserialize_circuits\u001b[0;34m(serialized_circuits)\u001b[0m\n\u001b[1;32m    158\u001b[0m         warnings\u001b[38;5;241m.\u001b[39mfilterwarnings(\u001b[38;5;124m\"\u001b[39m\u001b[38;5;124mignore\u001b[39m\u001b[38;5;124m\"\u001b[39m, \u001b[38;5;124m\"\u001b[39m\u001b[38;5;124mThe qiskit version\u001b[39m\u001b[38;5;124m\"\u001b[39m, \u001b[38;5;167;01mUserWarning\u001b[39;00m, \u001b[38;5;124m\"\u001b[39m\u001b[38;5;124mqiskit\u001b[39m\u001b[38;5;124m\"\u001b[39m)\n\u001b[0;32m--> 159\u001b[0m         circuits \u001b[38;5;241m=\u001b[39m \u001b[43mqiskit\u001b[49m\u001b[38;5;241;43m.\u001b[39;49m\u001b[43mqpy\u001b[49m\u001b[38;5;241;43m.\u001b[39;49m\u001b[43mload\u001b[49m\u001b[43m(\u001b[49m\u001b[43mbuf\u001b[49m\u001b[43m)\u001b[49m\n\u001b[1;32m    161\u001b[0m \u001b[38;5;28;01mexcept\u001b[39;00m \u001b[38;5;167;01mException\u001b[39;00m \u001b[38;5;28;01mas\u001b[39;00m e:\n",
      "File \u001b[0;32m~/PycharmProjects/my_project/new_venv/lib/python3.10/site-packages/qiskit/qpy/interface.py:269\u001b[0m, in \u001b[0;36mload\u001b[0;34m(file_obj, metadata_deserializer)\u001b[0m\n\u001b[1;32m    267\u001b[0m \u001b[38;5;28;01mfor\u001b[39;00m _ \u001b[38;5;129;01min\u001b[39;00m \u001b[38;5;28mrange\u001b[39m(data\u001b[38;5;241m.\u001b[39mnum_programs):\n\u001b[1;32m    268\u001b[0m     programs\u001b[38;5;241m.\u001b[39mappend(\n\u001b[0;32m--> 269\u001b[0m         \u001b[43mloader\u001b[49m\u001b[43m(\u001b[49m\n\u001b[1;32m    270\u001b[0m \u001b[43m            \u001b[49m\u001b[43mfile_obj\u001b[49m\u001b[43m,\u001b[49m\n\u001b[1;32m    271\u001b[0m \u001b[43m            \u001b[49m\u001b[43mdata\u001b[49m\u001b[38;5;241;43m.\u001b[39;49m\u001b[43mqpy_version\u001b[49m\u001b[43m,\u001b[49m\n\u001b[1;32m    272\u001b[0m \u001b[43m            \u001b[49m\u001b[43mmetadata_deserializer\u001b[49m\u001b[38;5;241;43m=\u001b[39;49m\u001b[43mmetadata_deserializer\u001b[49m\u001b[43m,\u001b[49m\n\u001b[1;32m    273\u001b[0m \u001b[43m        \u001b[49m\u001b[43m)\u001b[49m\n\u001b[1;32m    274\u001b[0m     )\n\u001b[1;32m    275\u001b[0m \u001b[38;5;28;01mreturn\u001b[39;00m programs\n",
      "File \u001b[0;32m~/PycharmProjects/my_project/new_venv/lib/python3.10/site-packages/qiskit/qpy/binary_io/circuits.py:859\u001b[0m, in \u001b[0;36mread_circuit\u001b[0;34m(file_obj, version, metadata_deserializer)\u001b[0m\n\u001b[1;32m    858\u001b[0m \u001b[38;5;28;01melse\u001b[39;00m:\n\u001b[0;32m--> 859\u001b[0m     header, name, metadata \u001b[38;5;241m=\u001b[39m \u001b[43m_read_header_v2\u001b[49m\u001b[43m(\u001b[49m\n\u001b[1;32m    860\u001b[0m \u001b[43m        \u001b[49m\u001b[43mfile_obj\u001b[49m\u001b[43m,\u001b[49m\u001b[43m \u001b[49m\u001b[43mversion\u001b[49m\u001b[43m,\u001b[49m\u001b[43m \u001b[49m\u001b[43mvectors\u001b[49m\u001b[43m,\u001b[49m\u001b[43m \u001b[49m\u001b[43mmetadata_deserializer\u001b[49m\u001b[38;5;241;43m=\u001b[39;49m\u001b[43mmetadata_deserializer\u001b[49m\n\u001b[1;32m    861\u001b[0m \u001b[43m    \u001b[49m\u001b[43m)\u001b[49m\n\u001b[1;32m    863\u001b[0m global_phase \u001b[38;5;241m=\u001b[39m header[\u001b[38;5;124m\"\u001b[39m\u001b[38;5;124mglobal_phase\u001b[39m\u001b[38;5;124m\"\u001b[39m]\n",
      "File \u001b[0;32m~/PycharmProjects/my_project/new_venv/lib/python3.10/site-packages/qiskit/qpy/binary_io/circuits.py:49\u001b[0m, in \u001b[0;36m_read_header_v2\u001b[0;34m(file_obj, version, vectors, metadata_deserializer)\u001b[0m\n\u001b[1;32m     48\u001b[0m name \u001b[38;5;241m=\u001b[39m file_obj\u001b[38;5;241m.\u001b[39mread(data\u001b[38;5;241m.\u001b[39mname_size)\u001b[38;5;241m.\u001b[39mdecode(common\u001b[38;5;241m.\u001b[39mENCODE)\n\u001b[0;32m---> 49\u001b[0m global_phase \u001b[38;5;241m=\u001b[39m \u001b[43mvalue\u001b[49m\u001b[38;5;241;43m.\u001b[39;49m\u001b[43mloads_value\u001b[49m\u001b[43m(\u001b[49m\n\u001b[1;32m     50\u001b[0m \u001b[43m    \u001b[49m\u001b[43mdata\u001b[49m\u001b[38;5;241;43m.\u001b[39;49m\u001b[43mglobal_phase_type\u001b[49m\u001b[43m,\u001b[49m\n\u001b[1;32m     51\u001b[0m \u001b[43m    \u001b[49m\u001b[43mfile_obj\u001b[49m\u001b[38;5;241;43m.\u001b[39;49m\u001b[43mread\u001b[49m\u001b[43m(\u001b[49m\u001b[43mdata\u001b[49m\u001b[38;5;241;43m.\u001b[39;49m\u001b[43mglobal_phase_size\u001b[49m\u001b[43m)\u001b[49m\u001b[43m,\u001b[49m\n\u001b[1;32m     52\u001b[0m \u001b[43m    \u001b[49m\u001b[43mversion\u001b[49m\u001b[38;5;241;43m=\u001b[39;49m\u001b[43mversion\u001b[49m\u001b[43m,\u001b[49m\n\u001b[1;32m     53\u001b[0m \u001b[43m    \u001b[49m\u001b[43mvectors\u001b[49m\u001b[38;5;241;43m=\u001b[39;49m\u001b[43mvectors\u001b[49m\u001b[43m,\u001b[49m\n\u001b[1;32m     54\u001b[0m \u001b[43m\u001b[49m\u001b[43m)\u001b[49m\n\u001b[1;32m     55\u001b[0m header \u001b[38;5;241m=\u001b[39m {\n\u001b[1;32m     56\u001b[0m     \u001b[38;5;124m\"\u001b[39m\u001b[38;5;124mglobal_phase\u001b[39m\u001b[38;5;124m\"\u001b[39m: global_phase,\n\u001b[1;32m     57\u001b[0m     \u001b[38;5;124m\"\u001b[39m\u001b[38;5;124mnum_qubits\u001b[39m\u001b[38;5;124m\"\u001b[39m: data\u001b[38;5;241m.\u001b[39mnum_qubits,\n\u001b[0;32m   (...)\u001b[0m\n\u001b[1;32m     60\u001b[0m     \u001b[38;5;124m\"\u001b[39m\u001b[38;5;124mnum_instructions\u001b[39m\u001b[38;5;124m\"\u001b[39m: data\u001b[38;5;241m.\u001b[39mnum_instructions,\n\u001b[1;32m     61\u001b[0m }\n",
      "File \u001b[0;32m~/PycharmProjects/my_project/new_venv/lib/python3.10/site-packages/qiskit/qpy/binary_io/value.py:275\u001b[0m, in \u001b[0;36mloads_value\u001b[0;34m(type_key, binary_data, version, vectors)\u001b[0m\n\u001b[1;32m    274\u001b[0m \u001b[38;5;28;01mif\u001b[39;00m \u001b[38;5;28misinstance\u001b[39m(type_key, \u001b[38;5;28mbytes\u001b[39m):\n\u001b[0;32m--> 275\u001b[0m     type_key \u001b[38;5;241m=\u001b[39m \u001b[43mtype_keys\u001b[49m\u001b[38;5;241;43m.\u001b[39;49m\u001b[43mValue\u001b[49m\u001b[43m(\u001b[49m\u001b[43mtype_key\u001b[49m\u001b[43m)\u001b[49m\n\u001b[1;32m    277\u001b[0m \u001b[38;5;28;01mif\u001b[39;00m type_key \u001b[38;5;241m==\u001b[39m type_keys\u001b[38;5;241m.\u001b[39mValue\u001b[38;5;241m.\u001b[39mINTEGER:\n",
      "File \u001b[0;32m/usr/lib/python3.10/enum.py:385\u001b[0m, in \u001b[0;36mEnumMeta.__call__\u001b[0;34m(cls, value, names, module, qualname, type, start)\u001b[0m\n\u001b[1;32m    384\u001b[0m \u001b[38;5;28;01mif\u001b[39;00m names \u001b[38;5;129;01mis\u001b[39;00m \u001b[38;5;28;01mNone\u001b[39;00m:  \u001b[38;5;66;03m# simple value lookup\u001b[39;00m\n\u001b[0;32m--> 385\u001b[0m     \u001b[38;5;28;01mreturn\u001b[39;00m \u001b[38;5;28;43mcls\u001b[39;49m\u001b[38;5;241;43m.\u001b[39;49m\u001b[38;5;21;43m__new__\u001b[39;49m\u001b[43m(\u001b[49m\u001b[38;5;28;43mcls\u001b[39;49m\u001b[43m,\u001b[49m\u001b[43m \u001b[49m\u001b[43mvalue\u001b[49m\u001b[43m)\u001b[49m\n\u001b[1;32m    386\u001b[0m \u001b[38;5;66;03m# otherwise, functional API: we're creating a new Enum type\u001b[39;00m\n",
      "File \u001b[0;32m/usr/lib/python3.10/enum.py:710\u001b[0m, in \u001b[0;36mEnum.__new__\u001b[0;34m(cls, value)\u001b[0m\n\u001b[1;32m    709\u001b[0m \u001b[38;5;28;01mif\u001b[39;00m result \u001b[38;5;129;01mis\u001b[39;00m \u001b[38;5;28;01mNone\u001b[39;00m \u001b[38;5;129;01mand\u001b[39;00m exc \u001b[38;5;129;01mis\u001b[39;00m \u001b[38;5;28;01mNone\u001b[39;00m:\n\u001b[0;32m--> 710\u001b[0m     \u001b[38;5;28;01mraise\u001b[39;00m ve_exc\n\u001b[1;32m    711\u001b[0m \u001b[38;5;28;01melif\u001b[39;00m exc \u001b[38;5;129;01mis\u001b[39;00m \u001b[38;5;28;01mNone\u001b[39;00m:\n",
      "\u001b[0;31mValueError\u001b[0m: b'\\xff' is not a valid Value",
      "\nDuring handling of the above exception, another exception occurred:\n",
      "\u001b[0;31mValueError\u001b[0m                                Traceback (most recent call last)",
      "Cell \u001b[0;32mIn[9], line 1\u001b[0m\n\u001b[0;32m----> 1\u001b[0m compiler_output \u001b[38;5;241m=\u001b[39m \u001b[43mprovider\u001b[49m\u001b[38;5;241;43m.\u001b[39;49m\u001b[43mcq_compile\u001b[49m\u001b[43m(\u001b[49m\u001b[43m[\u001b[49m\u001b[43mcircuit1\u001b[49m\u001b[43m,\u001b[49m\u001b[43m \u001b[49m\u001b[43mcircuit2\u001b[49m\u001b[43m]\u001b[49m\u001b[43m)\u001b[49m\n",
      "File \u001b[0;32m~/PycharmProjects/my_project/client-superstaq/qiskit-superstaq/qiskit_superstaq/superstaq_provider.py:338\u001b[0m, in \u001b[0;36mSuperstaqProvider.cq_compile\u001b[0;34m(self, circuits, target, **kwargs)\u001b[0m\n\u001b[1;32m    335\u001b[0m \u001b[38;5;28;01mif\u001b[39;00m \u001b[38;5;129;01mnot\u001b[39;00m target\u001b[38;5;241m.\u001b[39mstartswith(\u001b[38;5;124m\"\u001b[39m\u001b[38;5;124mcq_\u001b[39m\u001b[38;5;124m\"\u001b[39m):\n\u001b[1;32m    336\u001b[0m     \u001b[38;5;28;01mraise\u001b[39;00m \u001b[38;5;167;01mValueError\u001b[39;00m(\u001b[38;5;124mf\u001b[39m\u001b[38;5;124m\"\u001b[39m\u001b[38;5;132;01m{\u001b[39;00mtarget\u001b[38;5;132;01m!r}\u001b[39;00m\u001b[38;5;124m is not a valid CQ target.\u001b[39m\u001b[38;5;124m\"\u001b[39m)\n\u001b[0;32m--> 338\u001b[0m \u001b[38;5;28;01mreturn\u001b[39;00m \u001b[38;5;28;43mself\u001b[39;49m\u001b[38;5;241;43m.\u001b[39;49m\u001b[43mget_backend\u001b[49m\u001b[43m(\u001b[49m\u001b[43mtarget\u001b[49m\u001b[43m)\u001b[49m\u001b[38;5;241;43m.\u001b[39;49m\u001b[43mcompile\u001b[49m\u001b[43m(\u001b[49m\u001b[43mcircuits\u001b[49m\u001b[43m,\u001b[49m\u001b[43m \u001b[49m\u001b[38;5;241;43m*\u001b[39;49m\u001b[38;5;241;43m*\u001b[39;49m\u001b[43mkwargs\u001b[49m\u001b[43m)\u001b[49m\n",
      "File \u001b[0;32m~/PycharmProjects/my_project/client-superstaq/qiskit-superstaq/qiskit_superstaq/superstaq_backend.py:167\u001b[0m, in \u001b[0;36mSuperstaqBackend.compile\u001b[0;34m(self, circuits, **kwargs)\u001b[0m\n\u001b[1;32m    164\u001b[0m     \u001b[38;5;28;01mreturn\u001b[39;00m \u001b[38;5;28mself\u001b[39m\u001b[38;5;241m.\u001b[39mqscout_compile(circuits, \u001b[38;5;241m*\u001b[39m\u001b[38;5;241m*\u001b[39mkwargs)\n\u001b[1;32m    166\u001b[0m \u001b[38;5;28;01melif\u001b[39;00m \u001b[38;5;28mself\u001b[39m\u001b[38;5;241m.\u001b[39mname()\u001b[38;5;241m.\u001b[39mstartswith(\u001b[38;5;124m\"\u001b[39m\u001b[38;5;124mcq_\u001b[39m\u001b[38;5;124m\"\u001b[39m):\n\u001b[0;32m--> 167\u001b[0m     \u001b[38;5;28;01mreturn\u001b[39;00m \u001b[38;5;28;43mself\u001b[39;49m\u001b[38;5;241;43m.\u001b[39;49m\u001b[43mcq_compile\u001b[49m\u001b[43m(\u001b[49m\u001b[43mcircuits\u001b[49m\u001b[43m,\u001b[49m\u001b[43m \u001b[49m\u001b[38;5;241;43m*\u001b[39;49m\u001b[38;5;241;43m*\u001b[39;49m\u001b[43mkwargs\u001b[49m\u001b[43m)\u001b[49m\n\u001b[1;32m    169\u001b[0m request_json \u001b[38;5;241m=\u001b[39m \u001b[38;5;28mself\u001b[39m\u001b[38;5;241m.\u001b[39m_get_compile_request_json(circuits, \u001b[38;5;241m*\u001b[39m\u001b[38;5;241m*\u001b[39mkwargs)\n\u001b[1;32m    170\u001b[0m circuits_is_list \u001b[38;5;241m=\u001b[39m \u001b[38;5;129;01mnot\u001b[39;00m \u001b[38;5;28misinstance\u001b[39m(circuits, qiskit\u001b[38;5;241m.\u001b[39mQuantumCircuit)\n",
      "File \u001b[0;32m~/PycharmProjects/my_project/client-superstaq/qiskit-superstaq/qiskit_superstaq/superstaq_backend.py:370\u001b[0m, in \u001b[0;36mSuperstaqBackend.cq_compile\u001b[0;34m(self, circuits, **kwargs)\u001b[0m\n\u001b[1;32m    368\u001b[0m circuits_is_list \u001b[38;5;241m=\u001b[39m \u001b[38;5;129;01mnot\u001b[39;00m \u001b[38;5;28misinstance\u001b[39m(circuits, qiskit\u001b[38;5;241m.\u001b[39mQuantumCircuit)\n\u001b[1;32m    369\u001b[0m json_dict \u001b[38;5;241m=\u001b[39m \u001b[38;5;28mself\u001b[39m\u001b[38;5;241m.\u001b[39m_provider\u001b[38;5;241m.\u001b[39m_client\u001b[38;5;241m.\u001b[39mcompile(request_json)\n\u001b[0;32m--> 370\u001b[0m \u001b[38;5;28;01mreturn\u001b[39;00m \u001b[43mqss\u001b[49m\u001b[38;5;241;43m.\u001b[39;49m\u001b[43mcompiler_output\u001b[49m\u001b[38;5;241;43m.\u001b[39;49m\u001b[43mread_json_only_circuits\u001b[49m\u001b[43m(\u001b[49m\u001b[43mjson_dict\u001b[49m\u001b[43m,\u001b[49m\u001b[43m \u001b[49m\u001b[43mcircuits_is_list\u001b[49m\u001b[43m)\u001b[49m\n",
      "File \u001b[0;32m~/PycharmProjects/my_project/client-superstaq/qiskit-superstaq/qiskit_superstaq/compiler_output.py:302\u001b[0m, in \u001b[0;36mread_json_only_circuits\u001b[0;34m(json_dict, circuits_is_list)\u001b[0m\n\u001b[1;32m    291\u001b[0m \u001b[38;5;28;01mdef\u001b[39;00m \u001b[38;5;21mread_json_only_circuits\u001b[39m(json_dict: Dict[\u001b[38;5;28mstr\u001b[39m, \u001b[38;5;28mstr\u001b[39m], circuits_is_list: \u001b[38;5;28mbool\u001b[39m) \u001b[38;5;241m-\u001b[39m\u001b[38;5;241m>\u001b[39m CompilerOutput:\n\u001b[1;32m    292\u001b[0m \u001b[38;5;250m    \u001b[39m\u001b[38;5;124;03m\"\"\"Reads the JSON returned from Superstaq API's CQ compilation endpoint.\u001b[39;00m\n\u001b[1;32m    293\u001b[0m \n\u001b[1;32m    294\u001b[0m \u001b[38;5;124;03m    Args:\u001b[39;00m\n\u001b[0;32m   (...)\u001b[0m\n\u001b[1;32m    300\u001b[0m \u001b[38;5;124;03m        A `CompilerOutput` object with the compiled circuit(s).\u001b[39;00m\n\u001b[1;32m    301\u001b[0m \u001b[38;5;124;03m    \"\"\"\u001b[39;00m\n\u001b[0;32m--> 302\u001b[0m     compiled_circuits \u001b[38;5;241m=\u001b[39m \u001b[43mqss\u001b[49m\u001b[38;5;241;43m.\u001b[39;49m\u001b[43mserialization\u001b[49m\u001b[38;5;241;43m.\u001b[39;49m\u001b[43mdeserialize_circuits\u001b[49m\u001b[43m(\u001b[49m\u001b[43mjson_dict\u001b[49m\u001b[43m[\u001b[49m\u001b[38;5;124;43m\"\u001b[39;49m\u001b[38;5;124;43mqiskit_circuits\u001b[39;49m\u001b[38;5;124;43m\"\u001b[39;49m\u001b[43m]\u001b[49m\u001b[43m)\u001b[49m\n\u001b[1;32m    304\u001b[0m     final_logical_to_physicals: List[Dict[\u001b[38;5;28mint\u001b[39m, \u001b[38;5;28mint\u001b[39m]] \u001b[38;5;241m=\u001b[39m \u001b[38;5;28mlist\u001b[39m(\n\u001b[1;32m    305\u001b[0m         \u001b[38;5;28mmap\u001b[39m(\u001b[38;5;28mdict\u001b[39m, json\u001b[38;5;241m.\u001b[39mloads(json_dict[\u001b[38;5;124m\"\u001b[39m\u001b[38;5;124mfinal_logical_to_physicals\u001b[39m\u001b[38;5;124m\"\u001b[39m]))\n\u001b[1;32m    306\u001b[0m     )\n\u001b[1;32m    308\u001b[0m     \u001b[38;5;28;01mif\u001b[39;00m circuits_is_list:\n",
      "File \u001b[0;32m~/PycharmProjects/my_project/client-superstaq/qiskit-superstaq/qiskit_superstaq/serialization.py:167\u001b[0m, in \u001b[0;36mdeserialize_circuits\u001b[0;34m(serialized_circuits)\u001b[0m\n\u001b[1;32m    163\u001b[0m circuits_qpy_version \u001b[38;5;241m=\u001b[39m \u001b[38;5;28mord\u001b[39m(qpy_version_match\u001b[38;5;241m.\u001b[39mgroup(\u001b[38;5;241m1\u001b[39m)) \u001b[38;5;28;01mif\u001b[39;00m qpy_version_match \u001b[38;5;28;01melse\u001b[39;00m \u001b[38;5;241m0\u001b[39m\n\u001b[1;32m    164\u001b[0m \u001b[38;5;28;01mif\u001b[39;00m circuits_qpy_version \u001b[38;5;241m>\u001b[39m qiskit\u001b[38;5;241m.\u001b[39mqpy\u001b[38;5;241m.\u001b[39mcommon\u001b[38;5;241m.\u001b[39mQPY_VERSION:\n\u001b[1;32m    165\u001b[0m     \u001b[38;5;66;03m# If the circuit was serialized with a newer version of QPY, that's probably what caused\u001b[39;00m\n\u001b[1;32m    166\u001b[0m     \u001b[38;5;66;03m# this error. In this case we should just tell the user to update.\u001b[39;00m\n\u001b[0;32m--> 167\u001b[0m     \u001b[38;5;28;01mraise\u001b[39;00m \u001b[38;5;167;01mValueError\u001b[39;00m(\n\u001b[1;32m    168\u001b[0m         \u001b[38;5;124m\"\u001b[39m\u001b[38;5;124mCircuits failed to deserialize. This is likely because your version of \u001b[39m\u001b[38;5;124m\"\u001b[39m\n\u001b[1;32m    169\u001b[0m         \u001b[38;5;124mf\u001b[39m\u001b[38;5;124m\"\u001b[39m\u001b[38;5;124mqiskit-terra (\u001b[39m\u001b[38;5;132;01m{\u001b[39;00mqiskit\u001b[38;5;241m.\u001b[39m__version__\u001b[38;5;132;01m}\u001b[39;00m\u001b[38;5;124m) is out of date. Consider updating it.\u001b[39m\u001b[38;5;124m\"\u001b[39m\n\u001b[1;32m    170\u001b[0m     )\n\u001b[1;32m    171\u001b[0m \u001b[38;5;28;01melse\u001b[39;00m:\n\u001b[1;32m    172\u001b[0m     \u001b[38;5;66;03m# Otherwise there is probably a more complicated issue.\u001b[39;00m\n\u001b[1;32m    173\u001b[0m     \u001b[38;5;28;01mraise\u001b[39;00m \u001b[38;5;167;01mValueError\u001b[39;00m(\n\u001b[1;32m    174\u001b[0m         \u001b[38;5;124m\"\u001b[39m\u001b[38;5;124mCircuits failed to deserialize. Please contact superstaq@infleqtion.com or file a \u001b[39m\u001b[38;5;124m\"\u001b[39m\n\u001b[1;32m    175\u001b[0m         \u001b[38;5;124m\"\u001b[39m\u001b[38;5;124mreport at https://github.com/Infleqtion/client-superstaq/issues containing \u001b[39m\u001b[38;5;124m\"\u001b[39m\n\u001b[0;32m   (...)\u001b[0m\n\u001b[1;32m    179\u001b[0m         \u001b[38;5;124mf\u001b[39m\u001b[38;5;124m\"\u001b[39m\u001b[38;5;124merror: \u001b[39m\u001b[38;5;132;01m{\u001b[39;00me\u001b[38;5;132;01m!r}\u001b[39;00m\u001b[38;5;124m\"\u001b[39m\n\u001b[1;32m    180\u001b[0m     )\n",
      "\u001b[0;31mValueError\u001b[0m: Circuits failed to deserialize. This is likely because your version of qiskit-terra (0.24.1) is out of date. Consider updating it."
     ]
    }
   ],
   "source": [
    "compiler_output = provider.cq_compile([circuit1, circuit2])"
   ]
  },
  {
   "cell_type": "code",
   "execution_count": null,
   "id": "d7bdb8fb-a0d0-4fae-932a-f2fc51848f4f",
   "metadata": {},
   "outputs": [],
   "source": [
    "print(compiler_output.circuits[0])\n",
    "print()\n",
    "print(compiler_output.circuits[1])"
   ]
  }
 ],
 "metadata": {
  "kernelspec": {
   "display_name": "Python 3 (ipykernel)",
   "language": "python",
   "name": "python3"
  },
  "language_info": {
   "codemirror_mode": {
    "name": "ipython",
    "version": 3
   },
   "file_extension": ".py",
   "mimetype": "text/x-python",
   "name": "python",
   "nbconvert_exporter": "python",
   "pygments_lexer": "ipython3",
   "version": "3.10.6"
  }
 },
 "nbformat": 4,
 "nbformat_minor": 5
}
