{
 "cells": [
  {
   "cell_type": "markdown",
   "id": "9feeb937",
   "metadata": {},
   "source": [
    "# Compiling and Submitting Circuits onto Hilbert via Qiskit\n"
   ]
  },
  {
   "cell_type": "markdown",
   "id": "decent-blowing",
   "metadata": {},
   "source": [
    "<a target=\"_blank\" href=\"https://colab.research.google.com/github/SupertechLabs/client-superstaq/blob/main/docs/source/optimizations/cq/cq_compile_qss.ipynb\">\n",
    "  <img src=\"https://colab.research.google.com/assets/colab-badge.svg\" alt=\"Open In Colab\" align=\"left\"/>\n",
    "</a>\n",
    "<a target=\"_blank\" href=\"https://mybinder.org/v2/gh/SupertechLabs/client-superstaq/HEAD?labpath=docs/source/optimizations/cq/cq_compile_qss.ipynb\">\n",
    "  <img src=\"https://mybinder.org/badge_logo.svg\" alt=\"Launch Binder\" align=\"left\" style=\"margin-left: 10px;\"/>\n",
    "</a>"
   ]
  },
  {
   "cell_type": "markdown",
   "id": "c23a3c34",
   "metadata": {},
   "source": [
    "## Import Requirements"
   ]
  },
  {
   "cell_type": "markdown",
   "id": "41137c11",
   "metadata": {},
   "source": [
    "This tutorial will showcase how to compile and submit a circuit onto Infleqtion's hardware, Hilbert, using the ```qiskit-superstaq``` client. You can try it out by running ```pip install qiskit-superstaq```:"
   ]
  },
  {
   "cell_type": "code",
   "execution_count": null,
   "id": "4b27523b",
   "metadata": {},
   "outputs": [],
   "source": [
    "%pip install qiskit-superstaq"
   ]
  },
  {
   "cell_type": "code",
   "execution_count": 1,
   "id": "c01de181-761d-428e-b0a2-f038d12cdb84",
   "metadata": {},
   "outputs": [],
   "source": [
    "# Required imports\n",
    "import qiskit\n",
    "import qiskit_superstaq as qss\n",
    "\n",
    "# Optional imports\n",
    "import os  # used if setting a token as an environment variable"
   ]
  },
  {
   "cell_type": "markdown",
   "id": "fdab508b",
   "metadata": {},
   "source": [
    "To interface Superstaq via Qiskit, we must first instantiate a service provider in ```qiskit-superstaq```. We then supply a Superstaq API key (which you can get from https://superstaq.super.tech.) by either providing the API key as an argument, i.e. : ```qss.superstaq_provider.SuperstaqProvider(api_key=\"token\")``` , or by setting it as an environment variable. (see more details [here](https://docs-superstaq.readthedocs.io/en/stable/get_started/basics/basics_css.html#Set-up-access-to-Superstaq's-API)) "
   ]
  },
  {
   "cell_type": "code",
   "execution_count": 2,
   "id": "b38e6a2c-36fc-426c-a6e0-3f5167900e54",
   "metadata": {},
   "outputs": [],
   "source": [
    "provider = qss.superstaq_provider.SuperstaqProvider()"
   ]
  },
  {
   "cell_type": "markdown",
   "id": "72d7ac85-84b4-4feb-8ecf-0af31ddf5f83",
   "metadata": {
    "tags": []
   },
   "source": [
    "## Create a Circuit"
   ]
  },
  {
   "cell_type": "markdown",
   "id": "3eb32f10",
   "metadata": {},
   "source": [
    "First, we will create an example Qiskit circuit that we can then compile and submit onto Hilbert"
   ]
  },
  {
   "cell_type": "code",
   "execution_count": 3,
   "id": "7c88500b-8c09-43d3-8b16-0078a95a551d",
   "metadata": {},
   "outputs": [
    {
     "data": {
      "text/html": [
       "<pre style=\"word-wrap: normal;white-space: pre;background: #fff0;line-height: 1.1;font-family: &quot;Courier New&quot;,Courier,monospace\">     ┌───┐┌─┐\n",
       "  q: ┤ H ├┤M├\n",
       "     └───┘└╥┘\n",
       "c: 1/══════╩═\n",
       "           0 </pre>"
      ],
      "text/plain": [
       "     ┌───┐┌─┐\n",
       "  q: ┤ H ├┤M├\n",
       "     └───┘└╥┘\n",
       "c: 1/══════╩═\n",
       "           0 "
      ]
     },
     "execution_count": 3,
     "metadata": {},
     "output_type": "execute_result"
    }
   ],
   "source": [
    "circuit1 = qiskit.QuantumCircuit(1, 1)\n",
    "\n",
    "circuit1.h(0)\n",
    "circuit1.measure(0, 0)\n",
    "circuit1.draw(fold=-1)"
   ]
  },
  {
   "cell_type": "markdown",
   "id": "d41c8d8e",
   "metadata": {},
   "source": [
    "## Single Circuit Compilation"
   ]
  },
  {
   "cell_type": "code",
   "execution_count": 4,
   "id": "8b259905-2984-4f4a-88d4-d767581685b4",
   "metadata": {},
   "outputs": [],
   "source": [
    "compiler_output = provider.cq_compile(circuit1)"
   ]
  },
  {
   "cell_type": "code",
   "execution_count": 5,
   "id": "b01be319-68f3-4aed-b9b4-4d6b10b391bc",
   "metadata": {},
   "outputs": [
    {
     "name": "stdout",
     "output_type": "stream",
     "text": [
      "      ┌─────────────────┐┌─┐\n",
      " q_0: ┤ GR(1.57, -1.57) ├┤M├\n",
      "      └─────────────────┘└╥┘\n",
      " q_1: ────────────────────╫─\n",
      "                          ║ \n",
      " q_2: ────────────────────╫─\n",
      "                          ║ \n",
      " q_3: ────────────────────╫─\n",
      "                          ║ \n",
      " q_4: ────────────────────╫─\n",
      "                          ║ \n",
      " q_5: ────────────────────╫─\n",
      "                          ║ \n",
      " q_6: ────────────────────╫─\n",
      "                          ║ \n",
      " q_7: ────────────────────╫─\n",
      "                          ║ \n",
      " q_8: ────────────────────╫─\n",
      "                          ║ \n",
      " q_9: ────────────────────╫─\n",
      "                          ║ \n",
      "q_10: ────────────────────╫─\n",
      "                          ║ \n",
      "q_11: ────────────────────╫─\n",
      "                          ║ \n",
      "q_12: ────────────────────╫─\n",
      "                          ║ \n",
      "q_13: ────────────────────╫─\n",
      "                          ║ \n",
      "q_14: ────────────────────╫─\n",
      "                          ║ \n",
      "q_15: ────────────────────╫─\n",
      "                          ║ \n",
      "q_16: ────────────────────╫─\n",
      "                          ║ \n",
      "q_17: ────────────────────╫─\n",
      "                          ║ \n",
      "q_18: ────────────────────╫─\n",
      "                          ║ \n",
      "q_19: ────────────────────╫─\n",
      "                          ║ \n",
      "q_20: ────────────────────╫─\n",
      "                          ║ \n",
      "q_21: ────────────────────╫─\n",
      "                          ║ \n",
      "q_22: ────────────────────╫─\n",
      "                          ║ \n",
      "q_23: ────────────────────╫─\n",
      "                          ║ \n",
      " c: 1/════════════════════╩═\n",
      "                          0 \n"
     ]
    }
   ],
   "source": [
    "print(compiler_output.circuit)"
   ]
  },
  {
   "cell_type": "markdown",
   "id": "16815a4c",
   "metadata": {},
   "source": [
    "If you would like to compile (or submit) on a different number of qubits, this can be done via the ```grid_shape``` option. This simply sets the shape of the rectangular qubit grid. However, specifying a grid that is incompatable with Hilbert's current capabilities will result in an error. "
   ]
  },
  {
   "cell_type": "code",
   "execution_count": 6,
   "id": "dd2a03ca",
   "metadata": {},
   "outputs": [
    {
     "name": "stdout",
     "output_type": "stream",
     "text": [
      "      ┌─────────────────┐┌─┐\n",
      " q_0: ┤ GR(1.57, -1.57) ├┤M├\n",
      "      └─────────────────┘└╥┘\n",
      " q_1: ────────────────────╫─\n",
      "                          ║ \n",
      " q_2: ────────────────────╫─\n",
      "                          ║ \n",
      " q_3: ────────────────────╫─\n",
      "                          ║ \n",
      " q_4: ────────────────────╫─\n",
      "                          ║ \n",
      " q_5: ────────────────────╫─\n",
      "                          ║ \n",
      " q_6: ────────────────────╫─\n",
      "                          ║ \n",
      " q_7: ────────────────────╫─\n",
      "                          ║ \n",
      " q_8: ────────────────────╫─\n",
      "                          ║ \n",
      " q_9: ────────────────────╫─\n",
      "                          ║ \n",
      "q_10: ────────────────────╫─\n",
      "                          ║ \n",
      "q_11: ────────────────────╫─\n",
      "                          ║ \n",
      "q_12: ────────────────────╫─\n",
      "                          ║ \n",
      "q_13: ────────────────────╫─\n",
      "                          ║ \n",
      "q_14: ────────────────────╫─\n",
      "                          ║ \n",
      "q_15: ────────────────────╫─\n",
      "                          ║ \n",
      "q_16: ────────────────────╫─\n",
      "                          ║ \n",
      "q_17: ────────────────────╫─\n",
      "                          ║ \n",
      "q_18: ────────────────────╫─\n",
      "                          ║ \n",
      "q_19: ────────────────────╫─\n",
      "                          ║ \n",
      "q_20: ────────────────────╫─\n",
      "                          ║ \n",
      "q_21: ────────────────────╫─\n",
      "                          ║ \n",
      "q_22: ────────────────────╫─\n",
      "                          ║ \n",
      "q_23: ────────────────────╫─\n",
      "                          ║ \n",
      " c: 1/════════════════════╩═\n",
      "                          0 \n"
     ]
    }
   ],
   "source": [
    "new_compiler_output = provider.cq_compile(circuit1, options={\"grid_shape\": (4, 6)})\n",
    "print(new_compiler_output.circuit)"
   ]
  },
  {
   "cell_type": "markdown",
   "id": "601cf4a9",
   "metadata": {},
   "source": [
    "## Single Circuit Submission"
   ]
  },
  {
   "cell_type": "markdown",
   "id": "74c20c53",
   "metadata": {},
   "source": [
    "The code below will submitt he circuit to the noiseless Hilbert simulator. If you would like to run on Hilbert, change the \"target\" argument in backend from \"cq_hilbert_simulator\" to \"cq_hilbert_qpu\". It is recommended to first submit to the simulator for testing to ensure your code runs before submitting to Hilbert. "
   ]
  },
  {
   "cell_type": "code",
   "execution_count": 7,
   "id": "30c6dc89",
   "metadata": {},
   "outputs": [
    {
     "name": "stdout",
     "output_type": "stream",
     "text": [
      "{'0': 55, '1': 45}\n"
     ]
    }
   ],
   "source": [
    "backend = provider.get_backend(\"cq_hilbert_simulator\")\n",
    "job = backend.run(circuit1, shots=100)\n",
    "print(job.result().get_counts())"
   ]
  },
  {
   "cell_type": "markdown",
   "id": "441a7232-a617-4f35-9fbb-66bcbe8abfec",
   "metadata": {},
   "source": [
    "## Multiple circuit compilation"
   ]
  },
  {
   "cell_type": "code",
   "execution_count": 8,
   "id": "6e6b56e6-92d1-4b3d-b8da-dee099286091",
   "metadata": {},
   "outputs": [
    {
     "data": {
      "text/html": [
       "<pre style=\"word-wrap: normal;white-space: pre;background: #fff0;line-height: 1.1;font-family: &quot;Courier New&quot;,Courier,monospace\">               \n",
       "q_0: ──■───────\n",
       "     ┌─┴─┐┌───┐\n",
       "q_1: ┤ X ├┤ H ├\n",
       "     └───┘└───┘</pre>"
      ],
      "text/plain": [
       "               \n",
       "q_0: ──■───────\n",
       "     ┌─┴─┐┌───┐\n",
       "q_1: ┤ X ├┤ H ├\n",
       "     └───┘└───┘"
      ]
     },
     "execution_count": 8,
     "metadata": {},
     "output_type": "execute_result"
    }
   ],
   "source": [
    "circuit2 = qiskit.QuantumCircuit(2)\n",
    "circuit2.cnot(0, 1)\n",
    "circuit2.h(1)\n",
    "circuit2.draw(fold=-1)"
   ]
  },
  {
   "cell_type": "code",
   "execution_count": 9,
   "id": "5d3993fd-83f1-42e9-b1e0-f4e553765682",
   "metadata": {},
   "outputs": [],
   "source": [
    "compiler_output = provider.cq_compile([circuit1, circuit2])"
   ]
  },
  {
   "cell_type": "code",
   "execution_count": 10,
   "id": "d7bdb8fb-a0d0-4fae-932a-f2fc51848f4f",
   "metadata": {},
   "outputs": [
    {
     "name": "stdout",
     "output_type": "stream",
     "text": [
      "      ┌─────────────────┐┌─┐\n",
      " q_0: ┤ GR(1.57, -1.57) ├┤M├\n",
      "      └─────────────────┘└╥┘\n",
      " q_1: ────────────────────╫─\n",
      "                          ║ \n",
      " q_2: ────────────────────╫─\n",
      "                          ║ \n",
      " q_3: ────────────────────╫─\n",
      "                          ║ \n",
      " q_4: ────────────────────╫─\n",
      "                          ║ \n",
      " q_5: ────────────────────╫─\n",
      "                          ║ \n",
      " q_6: ────────────────────╫─\n",
      "                          ║ \n",
      " q_7: ────────────────────╫─\n",
      "                          ║ \n",
      " q_8: ────────────────────╫─\n",
      "                          ║ \n",
      " q_9: ────────────────────╫─\n",
      "                          ║ \n",
      "q_10: ────────────────────╫─\n",
      "                          ║ \n",
      "q_11: ────────────────────╫─\n",
      "                          ║ \n",
      "q_12: ────────────────────╫─\n",
      "                          ║ \n",
      "q_13: ────────────────────╫─\n",
      "                          ║ \n",
      "q_14: ────────────────────╫─\n",
      "                          ║ \n",
      "q_15: ────────────────────╫─\n",
      "                          ║ \n",
      "q_16: ────────────────────╫─\n",
      "                          ║ \n",
      "q_17: ────────────────────╫─\n",
      "                          ║ \n",
      "q_18: ────────────────────╫─\n",
      "                          ║ \n",
      "q_19: ────────────────────╫─\n",
      "                          ║ \n",
      "q_20: ────────────────────╫─\n",
      "                          ║ \n",
      "q_21: ────────────────────╫─\n",
      "                          ║ \n",
      "q_22: ────────────────────╫─\n",
      "                          ║ \n",
      "q_23: ────────────────────╫─\n",
      "                          ║ \n",
      " c: 1/════════════════════╩═\n",
      "                          0 \n",
      "\n",
      "      ┌──────────────────┐     ┌─────────────────┐   \n",
      " q_0: ┤0                 ├─────┤0                ├─■─\n",
      "      │  GR(-0.79, 1.57) │┌───┐│  GR(0.79, 1.57) │ │ \n",
      " q_1: ┤1                 ├┤ Z ├┤1                ├─■─\n",
      "      └──────────────────┘└───┘└─────────────────┘   \n",
      " q_2: ───────────────────────────────────────────────\n",
      "                                                     \n",
      " q_3: ───────────────────────────────────────────────\n",
      "                                                     \n",
      " q_4: ───────────────────────────────────────────────\n",
      "                                                     \n",
      " q_5: ───────────────────────────────────────────────\n",
      "                                                     \n",
      " q_6: ───────────────────────────────────────────────\n",
      "                                                     \n",
      " q_7: ───────────────────────────────────────────────\n",
      "                                                     \n",
      " q_8: ───────────────────────────────────────────────\n",
      "                                                     \n",
      " q_9: ───────────────────────────────────────────────\n",
      "                                                     \n",
      "q_10: ───────────────────────────────────────────────\n",
      "                                                     \n",
      "q_11: ───────────────────────────────────────────────\n",
      "                                                     \n",
      "q_12: ───────────────────────────────────────────────\n",
      "                                                     \n",
      "q_13: ───────────────────────────────────────────────\n",
      "                                                     \n",
      "q_14: ───────────────────────────────────────────────\n",
      "                                                     \n",
      "q_15: ───────────────────────────────────────────────\n",
      "                                                     \n",
      "q_16: ───────────────────────────────────────────────\n",
      "                                                     \n",
      "q_17: ───────────────────────────────────────────────\n",
      "                                                     \n",
      "q_18: ───────────────────────────────────────────────\n",
      "                                                     \n",
      "q_19: ───────────────────────────────────────────────\n",
      "                                                     \n",
      "q_20: ───────────────────────────────────────────────\n",
      "                                                     \n",
      "q_21: ───────────────────────────────────────────────\n",
      "                                                     \n",
      "q_22: ───────────────────────────────────────────────\n",
      "                                                     \n",
      "q_23: ───────────────────────────────────────────────\n",
      "                                                     \n"
     ]
    }
   ],
   "source": [
    "print(compiler_output.circuits[0])\n",
    "print()\n",
    "print(compiler_output.circuits[1])"
   ]
  }
 ],
 "metadata": {
  "kernelspec": {
   "display_name": "Python 3 (ipykernel)",
   "language": "python",
   "name": "python3"
  },
  "language_info": {
   "codemirror_mode": {
    "name": "ipython",
    "version": 3
   },
   "file_extension": ".py",
   "mimetype": "text/x-python",
   "name": "python",
   "nbconvert_exporter": "python",
   "pygments_lexer": "ipython3",
   "version": "3.10.6"
  }
 },
 "nbformat": 4,
 "nbformat_minor": 5
}
