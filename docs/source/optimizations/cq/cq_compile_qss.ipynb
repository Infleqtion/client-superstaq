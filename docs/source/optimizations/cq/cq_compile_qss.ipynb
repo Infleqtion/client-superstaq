{
 "cells": [
  {
   "cell_type": "markdown",
   "id": "9feeb937",
   "metadata": {},
   "source": [
    "# ColdQuanta Optimizations using Qiskit"
   ]
  },
  {
   "cell_type": "markdown",
   "id": "decent-blowing",
   "metadata": {},
   "source": [
    "<a target=\"_blank\" href=\"https://colab.research.google.com/github/SupertechLabs/client-superstaq/blob/main/docs/source/optimizations/cq/cq_compile_qss.ipynb\">\n",
    "  <img src=\"https://colab.research.google.com/assets/colab-badge.svg\" alt=\"Open In Colab\" align=\"left\"/>\n",
    "</a>\n",
    "<a target=\"_blank\" href=\"https://mybinder.org/v2/gh/SupertechLabs/client-superstaq/HEAD?labpath=docs/source/optimizations/cq/cq_compile_qss.ipynb\">\n",
    "  <img src=\"https://mybinder.org/badge_logo.svg\" alt=\"Launch Binder\" align=\"left\" style=\"margin-left: 10px;\"/>\n",
    "</a>"
   ]
  },
  {
   "cell_type": "markdown",
   "id": "3cf48dc7",
   "metadata": {},
   "source": [
    "This tutorial will showcase how to compile and submit a circuit onto Infleqtion's hardware, Hilbert, using the qiskit-superstaq client. First, you must import the necessary packages to get started. "
   ]
  },
  {
   "cell_type": "markdown",
   "id": "c23a3c34",
   "metadata": {},
   "source": [
    "## Import Requirements"
   ]
  },
  {
   "cell_type": "code",
   "execution_count": 18,
   "id": "c01de181-761d-428e-b0a2-f038d12cdb84",
   "metadata": {},
   "outputs": [],
   "source": [
    "try:\n",
    "    import qiskit\n",
    "    import qiskit_superstaq as qss\n",
    "\n",
    "except ImportError:\n",
    "    print(\"installing qiskit-superstaq\")\n",
    "    !pip install --quiet qiskit-superstaq\n",
    "    import qiskit\n",
    "    import qiskit_superstaq as qss\n",
    "\n",
    "    print(\"installed qiskit-superstaq\")"
   ]
  },
  {
   "cell_type": "markdown",
   "id": "fdab508b",
   "metadata": {},
   "source": [
    "Next, we must instantiate our provider in qiskit-superstaq, using a SuperstaQ token. You can get your SuperstaQ token from https://superstaq.super.tech."
   ]
  },
  {
   "cell_type": "code",
   "execution_count": 19,
   "id": "b38e6a2c-36fc-426c-a6e0-3f5167900e54",
   "metadata": {},
   "outputs": [],
   "source": [
    "token = \"Insert superstaq token that you received from https://superstaq.super.tech\"\n",
    "provider = qss.superstaq_provider.SuperstaQProvider(api_key=token)"
   ]
  },
  {
   "cell_type": "markdown",
   "id": "72d7ac85-84b4-4feb-8ecf-0af31ddf5f83",
   "metadata": {
    "tags": []
   },
   "source": [
    "## Create a Circuit"
   ]
  },
  {
   "cell_type": "code",
   "execution_count": 14,
   "id": "7c88500b-8c09-43d3-8b16-0078a95a551d",
   "metadata": {},
   "outputs": [
    {
     "data": {
      "text/html": [
       "<pre style=\"word-wrap: normal;white-space: pre;background: #fff0;line-height: 1.1;font-family: &quot;Courier New&quot;,Courier,monospace\">     ┌───┐┌─┐\n",
       "  q: ┤ H ├┤M├\n",
       "     └───┘└╥┘\n",
       "c: 1/══════╩═\n",
       "           0 </pre>"
      ],
      "text/plain": [
       "     ┌───┐┌─┐\n",
       "  q: ┤ H ├┤M├\n",
       "     └───┘└╥┘\n",
       "c: 1/══════╩═\n",
       "           0 "
      ]
     },
     "execution_count": 14,
     "metadata": {},
     "output_type": "execute_result"
    }
   ],
   "source": [
    "circuit1 = qiskit.QuantumCircuit(1, 1)\n",
    "\n",
    "circuit1.h(0)\n",
    "circuit1.measure(0, 0)\n",
    "circuit1.draw(fold=-1)"
   ]
  },
  {
   "cell_type": "markdown",
   "id": "d41c8d8e",
   "metadata": {},
   "source": [
    "## Single Circuit Compilation"
   ]
  },
  {
   "cell_type": "code",
   "execution_count": 15,
   "id": "8b259905-2984-4f4a-88d4-d767581685b4",
   "metadata": {},
   "outputs": [],
   "source": [
    "compiler_output = provider.cq_compile(circuit1)"
   ]
  },
  {
   "cell_type": "code",
   "execution_count": 16,
   "id": "b01be319-68f3-4aed-b9b4-4d6b10b391bc",
   "metadata": {},
   "outputs": [
    {
     "name": "stdout",
     "output_type": "stream",
     "text": [
      "      ┌─────────────────┐┌─┐\n",
      " q_0: ┤ GR(1.57, -1.57) ├┤M├\n",
      "      └─────────────────┘└╥┘\n",
      " q_1: ────────────────────╫─\n",
      "                          ║ \n",
      " q_2: ────────────────────╫─\n",
      "                          ║ \n",
      " q_3: ────────────────────╫─\n",
      "                          ║ \n",
      " q_4: ────────────────────╫─\n",
      "                          ║ \n",
      " q_5: ────────────────────╫─\n",
      "                          ║ \n",
      " q_6: ────────────────────╫─\n",
      "                          ║ \n",
      " q_7: ────────────────────╫─\n",
      "                          ║ \n",
      " q_8: ────────────────────╫─\n",
      "                          ║ \n",
      " q_9: ────────────────────╫─\n",
      "                          ║ \n",
      "q_10: ────────────────────╫─\n",
      "                          ║ \n",
      "q_11: ────────────────────╫─\n",
      "                          ║ \n",
      "q_12: ────────────────────╫─\n",
      "                          ║ \n",
      "q_13: ────────────────────╫─\n",
      "                          ║ \n",
      "q_14: ────────────────────╫─\n",
      "                          ║ \n",
      "q_15: ────────────────────╫─\n",
      "                          ║ \n",
      " c: 1/════════════════════╩═\n",
      "                          0 \n"
     ]
    }
   ],
   "source": [
    "print(compiler_output.circuit)"
   ]
  },
  {
   "cell_type": "markdown",
   "id": "601cf4a9",
   "metadata": {},
   "source": [
    "## Single Circuit Submission"
   ]
  },
  {
   "cell_type": "markdown",
   "id": "74c20c53",
   "metadata": {},
   "source": [
    "The code below will submitt he circuit to the noiseless Hilbert simulator. If you would like to run on Hilbert, change the \"target\" argument in backend from \"cq_hilbert_simulator\" to \"cq_hilbert_qpu\". It is recommended to first submit to the simulator for testing to ensure your code runs before submitting to Hilbert. "
   ]
  },
  {
   "cell_type": "code",
   "execution_count": 17,
   "id": "30c6dc89",
   "metadata": {},
   "outputs": [
    {
     "name": "stdout",
     "output_type": "stream",
     "text": [
      "{'1': 59, '0': 41}\n"
     ]
    }
   ],
   "source": [
    "backend = provider.get_backend(\"cq_hilbert_simulator\")\n",
    "job = backend.run(circuit1, shots=100)\n",
    "print(job.result().get_counts())"
   ]
  },
  {
   "cell_type": "markdown",
   "id": "441a7232-a617-4f35-9fbb-66bcbe8abfec",
   "metadata": {},
   "source": [
    "## Multiple circuit compilation"
   ]
  },
  {
   "cell_type": "code",
   "execution_count": 6,
   "id": "6e6b56e6-92d1-4b3d-b8da-dee099286091",
   "metadata": {},
   "outputs": [
    {
     "data": {
      "text/html": [
       "<pre style=\"word-wrap: normal;white-space: pre;background: #fff0;line-height: 1.1;font-family: &quot;Courier New&quot;,Courier,monospace\">               \n",
       "q_0: ──■───────\n",
       "     ┌─┴─┐┌───┐\n",
       "q_1: ┤ X ├┤ H ├\n",
       "     └───┘└───┘</pre>"
      ],
      "text/plain": [
       "               \n",
       "q_0: ──■───────\n",
       "     ┌─┴─┐┌───┐\n",
       "q_1: ┤ X ├┤ H ├\n",
       "     └───┘└───┘"
      ]
     },
     "execution_count": 6,
     "metadata": {},
     "output_type": "execute_result"
    }
   ],
   "source": [
    "circuit2 = qiskit.QuantumCircuit(2)\n",
    "circuit2.cnot(0, 1)\n",
    "circuit2.h(1)\n",
    "circuit2.draw(fold=-1)"
   ]
  },
  {
   "cell_type": "code",
   "execution_count": 7,
   "id": "5d3993fd-83f1-42e9-b1e0-f4e553765682",
   "metadata": {},
   "outputs": [],
   "source": [
    "compiler_output = provider.cq_compile([circuit1, circuit2])"
   ]
  },
  {
   "cell_type": "code",
   "execution_count": 8,
   "id": "d7bdb8fb-a0d0-4fae-932a-f2fc51848f4f",
   "metadata": {},
   "outputs": [
    {
     "name": "stdout",
     "output_type": "stream",
     "text": [
      "     ┌─────────────────┐┌───────┐\n",
      "q_0: ┤ GR(1.57, -1.57) ├┤ Rz(π) ├\n",
      "     └─────────────────┘└───────┘\n",
      "q_1: ────────────────────────────\n",
      "                                 \n",
      "q_2: ────────────────────────────\n",
      "                                 \n",
      "q_3: ────────────────────────────\n",
      "                                 \n",
      "q_4: ────────────────────────────\n",
      "                                 \n",
      "q_5: ────────────────────────────\n",
      "                                 \n",
      "\n",
      "     ┌──────────────────┐         ┌─────────────────┐   \n",
      "q_0: ┤0                 ├─────────┤0                ├─■─\n",
      "     │  GR(-0.79, 1.57) │┌───────┐│  GR(0.79, 1.57) │ │ \n",
      "q_1: ┤1                 ├┤ Rz(π) ├┤1                ├─■─\n",
      "     └──────────────────┘└───────┘└─────────────────┘   \n",
      "q_2: ───────────────────────────────────────────────────\n",
      "                                                        \n",
      "q_3: ───────────────────────────────────────────────────\n",
      "                                                        \n",
      "q_4: ───────────────────────────────────────────────────\n",
      "                                                        \n",
      "q_5: ───────────────────────────────────────────────────\n",
      "                                                        \n"
     ]
    }
   ],
   "source": [
    "print(compiler_output.circuits[0])\n",
    "print()\n",
    "print(compiler_output.circuits[1])"
   ]
  },
  {
   "cell_type": "code",
   "execution_count": null,
   "id": "9d8cc667",
   "metadata": {},
   "outputs": [],
   "source": []
  }
 ],
 "metadata": {
  "kernelspec": {
   "display_name": "Python 3 (ipykernel)",
   "language": "python",
   "name": "python3"
  },
  "language_info": {
   "codemirror_mode": {
    "name": "ipython",
    "version": 3
   },
   "file_extension": ".py",
   "mimetype": "text/x-python",
   "name": "python",
   "nbconvert_exporter": "python",
   "pygments_lexer": "ipython3",
   "version": "3.10.6"
  }
 },
 "nbformat": 4,
 "nbformat_minor": 5
}
