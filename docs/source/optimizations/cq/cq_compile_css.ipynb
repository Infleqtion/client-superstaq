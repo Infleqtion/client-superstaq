{
 "cells": [
  {
   "cell_type": "markdown",
   "id": "eb89a144",
   "metadata": {},
   "source": [
    "# Compiling and Submitting Circuits onto Hilbert via Cirq\n"
   ]
  },
  {
   "cell_type": "markdown",
   "id": "capable-bradley",
   "metadata": {},
   "source": [
    "<a target=\"_blank\" href=\"https://colab.research.google.com/github/SupertechLabs/client-superstaq/blob/main/docs/source/optimizations/cq/cq_compile_css.ipynb\">\n",
    "  <img src=\"https://colab.research.google.com/assets/colab-badge.svg\" alt=\"Open In Colab\" align=\"left\"/>\n",
    "</a>\n",
    "<a target=\"_blank\" href=\"https://mybinder.org/v2/gh/SupertechLabs/client-superstaq/HEAD?labpath=docs/source/optimizations/cq/cq_compile_css.ipynb\">\n",
    "  <img src=\"https://mybinder.org/badge_logo.svg\" alt=\"Launch Binder\" align=\"left\" style=\"margin-left: 10px;\"/>\n",
    "</a>"
   ]
  },
  {
   "cell_type": "markdown",
   "id": "49c7981a",
   "metadata": {},
   "source": [
    "This tutorial will showcase how to compile and submit a circuit onto Infleqtion's hardware, Hilbert, using the cirq-superstaq client. First, you must import the necessary packages to get started. "
   ]
  },
  {
   "cell_type": "markdown",
   "id": "cd44ef01",
   "metadata": {},
   "source": [
    "## Import Requirements"
   ]
  },
  {
   "cell_type": "code",
   "execution_count": 2,
   "id": "aff4bd87",
   "metadata": {},
   "outputs": [],
   "source": [
    "import os\n",
    "import json\n",
    "\n",
    "try:\n",
    "    import cirq\n",
    "    import cirq_superstaq as css\n",
    "\n",
    "except ImportError:\n",
    "    print(\"installing cirq-superstaq...\")\n",
    "    !pip install --quiet cirq-superstaq\n",
    "    import cirq\n",
    "    import cirq_superstaq as css\n",
    "\n",
    "    print(\"installed cirq-superstaq\")"
   ]
  },
  {
   "cell_type": "markdown",
   "id": "ae0dfcb6",
   "metadata": {},
   "source": [
    "Next, we must instantiate our provider in cirq-superstaq, using a SuperstaQ token. You can get your SuperstaQ token from https://superstaq.super.tech. "
   ]
  },
  {
   "cell_type": "code",
   "execution_count": 3,
   "id": "4464f34f",
   "metadata": {},
   "outputs": [],
   "source": [
    "token = \"\n",
    "service = css.Service(token)"
   ]
  },
  {
   "cell_type": "markdown",
   "id": "415812a3",
   "metadata": {},
   "source": [
    "## Create a Circuit"
   ]
  },
  {
   "cell_type": "code",
   "execution_count": 4,
   "id": "9521d540",
   "metadata": {
    "scrolled": true
   },
   "outputs": [
    {
     "name": "stdout",
     "output_type": "stream",
     "text": [
      "0: ───H───@───M───\n",
      "          │\n",
      "1: ───────X───────\n"
     ]
    }
   ],
   "source": [
    "qubits = cirq.LineQubit.range(2)\n",
    "circuit1 = cirq.Circuit(cirq.H(qubits[0]), cirq.CNOT(qubits[0], qubits[1]), cirq.measure(qubits[0]))\n",
    "print(circuit1)"
   ]
  },
  {
   "cell_type": "markdown",
   "id": "b7812e22",
   "metadata": {},
   "source": [
    "## Single Circuit Compilation"
   ]
  },
  {
   "cell_type": "code",
   "execution_count": 5,
   "id": "b9149284",
   "metadata": {
    "scrolled": false
   },
   "outputs": [],
   "source": [
    "compiler_output = service.cq_compile(circuit1)"
   ]
  },
  {
   "cell_type": "code",
   "execution_count": 6,
   "id": "92f3d368",
   "metadata": {},
   "outputs": [
    {
     "name": "stdout",
     "output_type": "stream",
     "text": [
      "(0, 0): ───RGate(0.5π, -0.5π)───@───RGate(-0.25π, -0.5π)───────RGate(0.25π, -0.5π)───────M('q(0)')───\n",
      "           │                    │   │                          │\n",
      "(0, 1): ───#2───────────────────@───#2─────────────────────Z───#2────────────────────Z───────────────\n"
     ]
    }
   ],
   "source": [
    "print(compiler_output.circuit)"
   ]
  },
  {
   "cell_type": "markdown",
   "id": "0887a77e",
   "metadata": {},
   "source": [
    "To get your ColdQuanta credentials onto your local machine, run this:"
   ]
  },
  {
   "cell_type": "markdown",
   "id": "04ad6645",
   "metadata": {},
   "source": [
    "## Single Circuit Submission"
   ]
  },
  {
   "cell_type": "markdown",
   "id": "ac35a589",
   "metadata": {},
   "source": [
    "The code below will submitt he circuit to the noiseless Hilbert simulator. If you would like to run on Hilbert, change the \"target\" argument in job_css from \"cq_hilbert_simulator\" to \"cq_hilbert_qpu\". It is recommended to first submit to the simulator for testing to ensure your code runs before submitting to Hilbert. "
   ]
  },
  {
   "cell_type": "code",
   "execution_count": 8,
   "id": "dcadf503",
   "metadata": {},
   "outputs": [
    {
     "name": "stdout",
     "output_type": "stream",
     "text": [
      "Counts from cirq-superstaq submission: {'1': 54, '0': 46}\n"
     ]
    }
   ],
   "source": [
    "job_css = service.create_job(circuit=circuit1, repetitions=100, target=\"cq_hilbert_simulator\")\n",
    "result_css = job_css.counts()\n",
    "print(f\"Counts from cirq-superstaq submission: {result_css}\")"
   ]
  },
  {
   "cell_type": "markdown",
   "id": "c6a4b1d3",
   "metadata": {},
   "source": [
    "## Multiple circuit compilation"
   ]
  },
  {
   "cell_type": "code",
   "execution_count": 7,
   "id": "40fd33d8",
   "metadata": {},
   "outputs": [],
   "source": [
    "compiler_output = service.cq_compile([circuit, circuit1])"
   ]
  },
  {
   "cell_type": "code",
   "execution_count": 8,
   "id": "d1961e28",
   "metadata": {},
   "outputs": [
    {
     "name": "stdout",
     "output_type": "stream",
     "text": [
      "(0, 0): ───RGate(0.5π, -0.5π)───M───\n",
      "\n",
      "(0, 0): ───RGate(0.5π, -0.5π)───@───M───RGate(-0.25π, -0.5π)───────────RGate(0.25π, -0.5π)───────────\n",
      "           │                    │       │                              │\n",
      "(0, 1): ───#2───────────────────@───────#2─────────────────────Rz(π)───#2────────────────────Rz(π)───\n"
     ]
    }
   ],
   "source": [
    "print(compiler_output.circuits[0])\n",
    "print()\n",
    "print(compiler_output.circuits[1])"
   ]
  },
  {
   "cell_type": "code",
   "execution_count": null,
   "id": "1083d911",
   "metadata": {},
   "outputs": [],
   "source": []
  }
 ],
 "metadata": {
  "kernelspec": {
   "display_name": "Python 3 (ipykernel)",
   "language": "python",
   "name": "python3"
  },
  "language_info": {
   "codemirror_mode": {
    "name": "ipython",
    "version": 3
   },
   "file_extension": ".py",
   "mimetype": "text/x-python",
   "name": "python",
   "nbconvert_exporter": "python",
   "pygments_lexer": "ipython3",
   "version": "3.10.6"
  }
 },
 "nbformat": 4,
 "nbformat_minor": 5
}
