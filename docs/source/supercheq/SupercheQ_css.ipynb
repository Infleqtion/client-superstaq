{
 "cells": [
  {
   "cell_type": "markdown",
   "id": "7769945b",
   "metadata": {},
   "source": [
    "# Using SupercheQ with Cirq SuperstaQ"
   ]
  },
  {
   "cell_type": "markdown",
   "id": "c7dd19ff",
   "metadata": {},
   "source": [
    "[![colab link](https://colab.research.google.com/assets/colab-badge.svg)](https://colab.research.google.com/github/SupertechLabs/client-superstaq/blob/main/docs/source/supercheq/SupercheQ_css.ipynb)"
   ]
  },
  {
   "cell_type": "markdown",
   "id": "approximate-aurora",
   "metadata": {},
   "source": [
    "[![binder link?](https://mybinder.org/badge_logo.svg)](https://mybinder.org/v2/gh/SupertechLabs/client-superstaq/HEAD?labpath=docs/source/supercheq/SupercheQ_css.ipynb)"
   ]
  },
  {
   "cell_type": "markdown",
   "id": "4d322a70",
   "metadata": {},
   "source": [
    "This notebook demonstrates how to use SupercheQ, a novel quantum fingerprinting protocol developed by Infleqtion. SupercheQ is built into the Superstaq server, and can be accessed using cirq-superstaq."
   ]
  },
  {
   "cell_type": "markdown",
   "id": "70986869",
   "metadata": {},
   "source": [
    "# Imports and API Token"
   ]
  },
  {
   "cell_type": "markdown",
   "id": "5a327a91",
   "metadata": {},
   "source": [
    "This example tutorial notebook uses `cirq-superstaq`, our Superstaq client for Cirq; you can try it out by running `pip install cirq-superstaq`:"
   ]
  },
  {
   "cell_type": "code",
   "execution_count": 1,
   "id": "c2d374dd",
   "metadata": {},
   "outputs": [],
   "source": [
    "%pip install cirq-superstaq"
   ]
  },
  {
   "cell_type": "code",
   "execution_count": 2,
   "id": "39fbad63",
   "metadata": {},
   "outputs": [],
   "source": [
    "# Required imports\n",
    "import matplotlib.pyplot as plt\n",
    "import numpy as np\n",
    "import cirq_superstaq as css\n",
    "\n",
    "# Optional imports\n",
    "import os  # used if setting a token as an environment variable"
   ]
  },
  {
   "cell_type": "markdown",
   "id": "ed311941",
   "metadata": {},
   "source": [
    "To interface Superstaq via Cirq, we must first instantiate a service provider in `cirq-superstaq` with `Service()`. We then supply a Superstaq API token (or key) by either providing the API token as an argument of `css.Service()` or by setting it as an environment variable (see more details here)."
   ]
  },
  {
   "cell_type": "code",
   "execution_count": 3,
   "id": "3181ee7f",
   "metadata": {},
   "outputs": [],
   "source": [
    "# Get cirq superstaq service for Superstaq backend\n",
    "service = css.Service()"
   ]
  },
  {
   "cell_type": "markdown",
   "id": "ece174be",
   "metadata": {},
   "source": [
    "# File Construction"
   ]
  },
  {
   "cell_type": "markdown",
   "id": "5039a536",
   "metadata": {},
   "source": [
    "To demonstrate SupercheQ, we construct 32 files (for the sake of simplicitly, we just use lists in this notebook), each of length 5-bits. The lists represent the 32 different possible 5 bit values, so in theory these should all have distinguishable fingerprints."
   ]
  },
  {
   "cell_type": "code",
   "execution_count": 4,
   "id": "61a7c97d",
   "metadata": {},
   "outputs": [],
   "source": [
    "# demonstrate fingerprinting on all 32 5-bit bitstrings. We'll encode into just 3 qubits.\n",
    "# fmt: off\n",
    "files = [\n",
    "    [0, 0, 0, 0, 0], [0, 0, 0, 0, 1], [0, 0, 0, 1, 0], [0, 0, 0, 1, 1],\n",
    "    [0, 0, 1, 0, 0], [0, 0, 1, 0, 1], [0, 0, 1, 1, 0], [0, 0, 1, 1, 1],\n",
    "    [0, 1, 0, 0, 0], [0, 1, 0, 0, 1], [0, 1, 0, 1, 0], [0, 1, 0, 1, 1],\n",
    "    [0, 1, 1, 0, 0], [0, 1, 1, 0, 1], [0, 1, 1, 1, 0], [0, 1, 1, 1, 1],\n",
    "    [1, 0, 0, 0, 0], [1, 0, 0, 0, 1], [1, 0, 0, 1, 0], [1, 0, 0, 1, 1],\n",
    "    [1, 0, 1, 0, 0], [1, 0, 1, 0, 1], [1, 0, 1, 1, 0], [1, 0, 1, 1, 1],\n",
    "    [1, 1, 0, 0, 0], [1, 1, 0, 0, 1], [1, 1, 0, 1, 0], [1, 1, 0, 1, 1],\n",
    "    [1, 1, 1, 0, 0], [1, 1, 1, 0, 1], [1, 1, 1, 1, 0], [1, 1, 1, 1, 1],\n",
    "]\n",
    "# fmt: on"
   ]
  },
  {
   "cell_type": "markdown",
   "id": "2fed492f",
   "metadata": {},
   "source": [
    "SupercheQ uses quantum volume models to generate random circuits, using the file information as a seed. Hence, the final state vectors of the circuit act as a fingerprint for the file. SupercheQ allows you to choose the number of qubits as well as circuit depth. To start with, we will use 3 qubits with a depth of 1."
   ]
  },
  {
   "cell_type": "code",
   "execution_count": 5,
   "id": "2f2a10af",
   "metadata": {},
   "outputs": [],
   "source": [
    "num_qubits = 3\n",
    "depth = 1\n",
    "circuits, fidelities = service.supercheq(files, num_qubits, depth)"
   ]
  },
  {
   "cell_type": "code",
   "execution_count": 6,
   "id": "05297e4f",
   "metadata": {},
   "outputs": [],
   "source": [
    "print(len(circuits))\n",
    "print(fidelities.shape)"
   ]
  },
  {
   "cell_type": "markdown",
   "id": "53d3bc01",
   "metadata": {},
   "source": [
    "Let's see what a couple of these circuits look like."
   ]
  },
  {
   "cell_type": "markdown",
   "id": "d1e4f4d4",
   "metadata": {},
   "source": [
    "### Circuit for file [0, 0, 0, 0, 0]"
   ]
  },
  {
   "cell_type": "code",
   "execution_count": 7,
   "id": "e7619b0c",
   "metadata": {},
   "outputs": [],
   "source": [
    "circuits[0]"
   ]
  },
  {
   "cell_type": "markdown",
   "id": "935bda29",
   "metadata": {},
   "source": [
    "### Circuit for file [0, 0, 0, 0, 1]"
   ]
  },
  {
   "cell_type": "code",
   "execution_count": 8,
   "id": "8b22de16",
   "metadata": {},
   "outputs": [],
   "source": [
    "circuits[1]"
   ]
  },
  {
   "cell_type": "markdown",
   "id": "1e2b8b87",
   "metadata": {},
   "source": [
    "On first glance, these circuits look distinct (which is what we expect). However, we can't know for sure until we study the fidelities. The fidelity is calculated as the inner product of the final state vector pairs. For a good fingerprinting protocol, we would want all identical files to have a fidelity of 1, and distinct pairs to have a fidelity as close to 0 as possible.\n",
    "\n",
    "The code blocks below allow you to visualize all of the fidelities simultaneously."
   ]
  },
  {
   "cell_type": "code",
   "execution_count": 9,
   "id": "756519eb",
   "metadata": {},
   "outputs": [],
   "source": [
    "def plot_heatmap(fidelities):\n",
    "    plt.figure(dpi=150)\n",
    "    plt.imshow(fidelities)\n",
    "    plt.colorbar()\n",
    "\n",
    "\n",
    "def plot_histogram(fidelities):\n",
    "    off_diag = np.tril(fidelities, -1)  # lower-right triangle of fidelities matrix\n",
    "    on_diag = np.diag(fidelities)\n",
    "    plt.figure(dpi=150)\n",
    "    plt.hist([off_diag.flatten(), on_diag], label=[\"Off-Diagonal\", \"On-Diagonal\"])\n",
    "    plt.legend()"
   ]
  },
  {
   "cell_type": "code",
   "execution_count": 10,
   "id": "5572d16d",
   "metadata": {},
   "outputs": [],
   "source": [
    "plot_heatmap(fidelities)"
   ]
  },
  {
   "cell_type": "markdown",
   "id": "f4447bb8",
   "metadata": {},
   "source": [
    "The above graph is a heatmap of the 32 different files and their fidelities with each other. It is essentially a visual representation of the fidelity matrix, with shades closer to yellow representing fidelity values close to one, and darker shades closer to blue/violet indication a fidelity close to 0. As expected, we have a yellow diagonal (1s), surrounded by much darker pixels (0s). "
   ]
  },
  {
   "cell_type": "code",
   "execution_count": 11,
   "id": "90736748",
   "metadata": {},
   "outputs": [],
   "source": [
    "plot_histogram(fidelities)"
   ]
  },
  {
   "cell_type": "code",
   "execution_count": 12,
   "id": "fee17693",
   "metadata": {},
   "outputs": [],
   "source": [
    "np.sum(np.isclose(fidelities, 1))"
   ]
  },
  {
   "cell_type": "markdown",
   "id": "7d936c4b",
   "metadata": {},
   "source": [
    "We can look at the breakdown of fidelities using a histogram. As expected, there are 32 fidelities close to 1. 75% of the histogram entries are in the 0.0 bar, and the rest are distributed over the 0.1-0.6 range. This is a successful fingerprinting in that it pretty clearly distinguised identical pairs from separate ones, but we can do better and push the non identical fidelities closer to 0. We can achieve this by increasing the depth of the circuit or using more qubits."
   ]
  },
  {
   "cell_type": "markdown",
   "id": "1f1baef6",
   "metadata": {},
   "source": [
    "---\n",
    "### Scaling Depth"
   ]
  },
  {
   "cell_type": "markdown",
   "id": "80c4125e",
   "metadata": {},
   "source": [
    "Instead of a circuit depth of 1, let's use 3."
   ]
  },
  {
   "cell_type": "code",
   "execution_count": 13,
   "id": "a8b66e2a",
   "metadata": {},
   "outputs": [],
   "source": [
    "num_qubits, depth = (3, 3)\n",
    "circuits, fidelities = service.supercheq(files, num_qubits, depth)"
   ]
  },
  {
   "cell_type": "code",
   "execution_count": 14,
   "id": "e2faabe3",
   "metadata": {},
   "outputs": [],
   "source": [
    "plot_heatmap(fidelities)"
   ]
  },
  {
   "cell_type": "markdown",
   "id": "8c489a8e",
   "metadata": {},
   "source": [
    "We see a visible improvement in results with a circuit depth of 6. There are fewer bright pixels around the diagonal, and the diagonal line is much clearer."
   ]
  },
  {
   "cell_type": "code",
   "execution_count": 15,
   "id": "6ae7ac0f",
   "metadata": {},
   "outputs": [],
   "source": [
    "plot_histogram(fidelities)"
   ]
  },
  {
   "cell_type": "markdown",
   "id": "8d8b6bb4",
   "metadata": {},
   "source": [
    "Notice that the off-diagonals have moved slightly to the left in the histogram. Almost 80% of the pairs are in the 0 bar."
   ]
  },
  {
   "cell_type": "markdown",
   "id": "db813c02",
   "metadata": {},
   "source": [
    "Let's try out a few more depths to see if we can get any more gains. The below code block calculates the average value of off diagonal elements for circuit dephts from 1 - 15. Better performance would entail an average off diagonal value closer to 0."
   ]
  },
  {
   "cell_type": "code",
   "execution_count": 16,
   "id": "211dee37",
   "metadata": {},
   "outputs": [],
   "source": [
    "# This cell takes a couple of minutes to run.\n",
    "mean_off_diags = []\n",
    "for depth in range(1, 16):\n",
    "    circuits, fidelities = service.supercheq(files, num_qubits, depth)\n",
    "    off_diag = np.tril(fidelities, -1)\n",
    "    mean_off_diags.append(np.mean(off_diag))"
   ]
  },
  {
   "cell_type": "code",
   "execution_count": 17,
   "id": "895c7cdd",
   "metadata": {},
   "outputs": [],
   "source": [
    "plt.bar(range(1, 16), mean_off_diags)\n",
    "plt.xlabel(\"Circuit Depth\")\n",
    "plt.ylabel(\"Average Off Diagonal Value of Fidelity Matrix\")\n",
    "plt.title(\"Scaling Fingerprinting with Circuit Depth\");"
   ]
  },
  {
   "cell_type": "markdown",
   "id": "7ee4280d",
   "metadata": {},
   "source": [
    "It seems like for these files, a circuit depth of 2 is sufficient. Deeper circuits don't seem to have significant gains. The average off diagonal fidelity seems to plateau around 0.06."
   ]
  },
  {
   "cell_type": "markdown",
   "id": "3398103d",
   "metadata": {},
   "source": [
    "----\n",
    "## Scaling number of qubits"
   ]
  },
  {
   "cell_type": "markdown",
   "id": "1591bed7",
   "metadata": {},
   "source": [
    "We can similarly increase the number of qubits used. Here we use 4 instead of 3."
   ]
  },
  {
   "cell_type": "code",
   "execution_count": 18,
   "id": "e58a9f93",
   "metadata": {},
   "outputs": [],
   "source": [
    "num_qubits, depth = (4, 1)\n",
    "circuits, fidelities = service.supercheq(files, num_qubits, depth)"
   ]
  },
  {
   "cell_type": "code",
   "execution_count": 19,
   "id": "9cc9ff5a",
   "metadata": {},
   "outputs": [],
   "source": [
    "plot_heatmap(fidelities)"
   ]
  },
  {
   "cell_type": "markdown",
   "id": "f355f240",
   "metadata": {},
   "source": [
    "Again, we see a performance improvement. The off diagonal elements are all very dark. This is reflected in the histogram below, where about 90% of the off diagonal elements are in the 0.0 bar."
   ]
  },
  {
   "cell_type": "code",
   "execution_count": 20,
   "id": "b83a8343",
   "metadata": {},
   "outputs": [],
   "source": [
    "plot_histogram(fidelities)"
   ]
  },
  {
   "cell_type": "markdown",
   "id": "202601f9",
   "metadata": {},
   "source": [
    "Let's try out a few more qubit counts to see if we can get any more gains. The below code block calculates the average value of off diagonal elements for circuit dephts from 1 - 8. Better performance would entail an average off diagonal value closer to 0."
   ]
  },
  {
   "cell_type": "code",
   "execution_count": 21,
   "id": "bedf6b3d",
   "metadata": {},
   "outputs": [],
   "source": [
    "mean_off_diags = []\n",
    "depth = 1\n",
    "for num_qubits in range(1, 9):\n",
    "    circuits, fidelities = service.supercheq(files, num_qubits, depth)\n",
    "    off_diag = np.tril(fidelities, -1)\n",
    "    mean_off_diags.append(np.mean(off_diag))"
   ]
  },
  {
   "cell_type": "code",
   "execution_count": 22,
   "id": "d4a37458",
   "metadata": {},
   "outputs": [],
   "source": [
    "plt.bar(range(1, 9), mean_off_diags)\n",
    "plt.xlabel(\"Numer of Qubits\")\n",
    "plt.ylabel(\"Average Off Diagonal Value of Fidelity Matrix\")\n",
    "plt.title(\"Scaling Fingerprinting with Qubit Count\");"
   ]
  },
  {
   "cell_type": "markdown",
   "id": "948cdb75",
   "metadata": {},
   "source": [
    "It seems like increasing the number of qubits is more powerful than increasing circuit depth for these circuits. The average value of off diagonal terms consistently decrease and tends towards 0. Below is the fidelity heatmap for 8 qubits. All the off diagonal elements are very close to 0 and virtually indististinguishable."
   ]
  },
  {
   "cell_type": "code",
   "execution_count": 23,
   "id": "f3d423af",
   "metadata": {},
   "outputs": [],
   "source": [
    "plot_heatmap(fidelities)"
   ]
  },
  {
   "cell_type": "markdown",
   "id": "2bb02b1e",
   "metadata": {},
   "source": [
    "## SupercheQ on files"
   ]
  },
  {
   "cell_type": "markdown",
   "id": "8222586a",
   "metadata": {},
   "source": [
    "Similar execution can be done with files instead of bitstrings"
   ]
  },
  {
   "cell_type": "code",
   "execution_count": 24,
   "id": "a2db83e4",
   "metadata": {},
   "outputs": [],
   "source": [
    "def encode_files(files):\n",
    "    \"\"\"Takes a list of files and encodes them as a list of lists of ones and zeroes\"\"\"\n",
    "    encoded_files = []\n",
    "    for i in files:\n",
    "        f = open(i)\n",
    "        lines = f.read()\n",
    "        f.close()\n",
    "        res = \"\".join(format(ord(j), \"08b\") for j in lines)\n",
    "        encoded_file = []\n",
    "        for k in res:\n",
    "            encoded_file.append(int(k))\n",
    "        encoded_files.append(encoded_file)\n",
    "    return encoded_files"
   ]
  },
  {
   "cell_type": "code",
   "execution_count": 25,
   "id": "5c86e93d",
   "metadata": {},
   "outputs": [],
   "source": [
    "files = [\n",
    "    \"static/file.txt\",\n",
    "    \"static/file1.txt\",\n",
    "    \"static/file2.txt\",\n",
    "    \"static/file3.txt\",\n",
    "    \"static/file4.txt\",\n",
    "    \"static/file5.txt\",\n",
    "    \"static/file6.txt\",\n",
    "    \"static/file7.txt\",\n",
    "    \"static/file8.txt\",\n",
    "    \"static/file9.txt\",\n",
    "    \"static/file10.txt\",\n",
    "    \"static/file11.txt\",\n",
    "    \"static/file12.txt\",\n",
    "    \"static/file13.txt\",\n",
    "    \"static/file14.txt\",\n",
    "    \"static/file15.txt\",\n",
    "    \"static/file15.txt\",\n",
    "    \"static/file16.txt\",\n",
    "    \"static/file17.txt\",\n",
    "    \"static/file18.txt\",\n",
    "    \"static/file19.txt\",\n",
    "    \"static/file20.txt\",\n",
    "]"
   ]
  },
  {
   "cell_type": "code",
   "execution_count": 26,
   "id": "253d1483",
   "metadata": {},
   "outputs": [],
   "source": [
    "encoded_files = encode_files(files)"
   ]
  },
  {
   "cell_type": "code",
   "execution_count": 27,
   "id": "e9043ddb",
   "metadata": {},
   "outputs": [],
   "source": [
    "num_qubits = 3\n",
    "depth = 1\n",
    "circuits, fidelities = service.supercheq(encoded_files, num_qubits, depth)"
   ]
  },
  {
   "cell_type": "code",
   "execution_count": 28,
   "id": "45869122",
   "metadata": {},
   "outputs": [],
   "source": [
    "print(len(circuits))\n",
    "print(fidelities.shape)"
   ]
  },
  {
   "cell_type": "code",
   "execution_count": 29,
   "id": "1de0255b",
   "metadata": {},
   "outputs": [],
   "source": [
    "circuits[0]"
   ]
  },
  {
   "cell_type": "code",
   "execution_count": 30,
   "id": "864e9d27",
   "metadata": {},
   "outputs": [],
   "source": [
    "circuits[1]"
   ]
  },
  {
   "cell_type": "code",
   "execution_count": 31,
   "id": "97333c00",
   "metadata": {
    "scrolled": true
   },
   "outputs": [],
   "source": [
    "plot_heatmap(fidelities)"
   ]
  },
  {
   "cell_type": "code",
   "execution_count": 32,
   "id": "ba7c1ffe",
   "metadata": {},
   "outputs": [],
   "source": [
    "plot_histogram(fidelities)"
   ]
  },
  {
   "cell_type": "code",
   "execution_count": null,
   "id": "17902d95",
   "metadata": {},
   "outputs": [],
   "source": []
  }
 ],
 "metadata": {
  "kernelspec": {
   "display_name": "Python 3 (ipykernel)",
   "language": "python",
   "name": "python3"
  },
  "language_info": {
   "codemirror_mode": {
    "name": "ipython",
    "version": 3
   },
   "file_extension": ".py",
   "mimetype": "text/x-python",
   "name": "python",
   "nbconvert_exporter": "python",
   "pygments_lexer": "ipython3",
   "version": "3.10.6"
  }
 },
 "nbformat": 4,
 "nbformat_minor": 5
}
