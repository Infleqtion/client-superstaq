{
 "cells": [
  {
   "cell_type": "markdown",
   "id": "e69bbc39",
   "metadata": {},
   "source": [
    "# Direct Fidelity Estimation with Qiskit Superstaq"
   ]
  },
  {
   "cell_type": "markdown",
   "id": "5670a295",
   "metadata": {},
   "source": [
    "[![Open in Colab](https://colab.research.google.com/assets/colab-badge.svg)](https://colab.research.google.com/github/Infleqtion/client-superstaq/blob/main/docs/source/apps/dfe/dfe_qss.ipynb) [![Launch Binder](https://mybinder.org/badge_logo.svg)](https://mybinder.org/v2/gh/Infleqtion/client-superstaq/HEAD?labpath=docs/source/apps/dfe/dfe_qss.ipynb)"
   ]
  },
  {
   "cell_type": "markdown",
   "id": "554d3f3d",
   "metadata": {},
   "source": [
    "This notebook demonstrates how to run a estimate the fidelity between two quantum states prepared in different devices using Superstaq. The direct fidelity estimation protocol is integrated into Superstaq following [*Cross-Platform Verification of Intermediate Scale Quantum Devices*](https://arxiv.org/abs/1909.01282) and can be accessed using `qiskit-superstaq`."
   ]
  },
  {
   "cell_type": "markdown",
   "id": "70986869",
   "metadata": {},
   "source": [
    "## Imports and API Token"
   ]
  },
  {
   "cell_type": "markdown",
   "id": "5a327a91",
   "metadata": {},
   "source": [
    "This example tutorial notebook uses `qiskit-superstaq`, our Superstaq client for Qiskit,"
   ]
  },
  {
   "cell_type": "code",
   "execution_count": 1,
   "id": "c2d374dd",
   "metadata": {},
   "outputs": [],
   "source": [
    "try:\n",
    "    import qiskit\n",
    "    import qiskit_superstaq as qss\n",
    "except ImportError:\n",
    "    print(\"Installing qiskit-superstaq...\")\n",
    "    %pip install --quiet 'qiskit-superstaq[examples]'\n",
    "    print(\"Installed qiskit-superstaq.\")\n",
    "    print(\"You may need to restart the kernel to import newly installed packages.\")\n",
    "    import qiskit\n",
    "    import qiskit_superstaq as qss"
   ]
  },
  {
   "cell_type": "code",
   "execution_count": 2,
   "id": "39fbad63",
   "metadata": {},
   "outputs": [],
   "source": [
    "# Required imports\n",
    "import numpy as np\n",
    "\n",
    "# Optional imports\n",
    "import os  # Used if setting a token as an environment variable"
   ]
  },
  {
   "cell_type": "markdown",
   "id": "ed311941",
   "metadata": {},
   "source": [
    "To interface Superstaq via Qiskit, we must first instantiate a provider in `qiskit-superstaq` with `SuperstaqProvider()`. We then supply a Superstaq API token (or key) by either providing the API token as an argument of `qss.SuperstaqProvider()` or by setting it as an environment variable (see more details [here](https://superstaq.readthedocs.io/en/latest/get_started/basics/basics_qss.html#Set-up-access-to-Superstaq%E2%80%99s-API))."
   ]
  },
  {
   "cell_type": "code",
   "execution_count": 3,
   "id": "3181ee7f",
   "metadata": {},
   "outputs": [],
   "source": [
    "# Get the qiskit superstaq provider for Superstaq backend\n",
    "provider = qss.SuperstaqProvider()"
   ]
  },
  {
   "cell_type": "markdown",
   "id": "ac432c1c",
   "metadata": {},
   "source": [
    "## Randomized measurements background"
   ]
  },
  {
   "cell_type": "markdown",
   "id": "a688217d",
   "metadata": {},
   "source": [
    "The core idea behind this protocol is the use of random measurements to measure the overlap between two states $\\rho_1$ and $\\rho_2$, defined as $\\mathrm{Tr}(\\rho_1 \\rho_2)$. To do this, we measure both states in the same randomized Clifford product bases of the form $C_1 \\otimes \\cdots \\otimes C_N$ where each $C_i$ is a one qubit Clifford and we are comparing $N$-qubit (sub)systems. We then compare the distributions over all random measurements to get estimate the overlap between the two states.\n",
    "\n",
    "Succintly, the protocol goes as follows:\n",
    "\n",
    "1. Apply the same random unitary $U_j = C_1 \\otimes \\cdots \\otimes C_N$ to both states.\n",
    "\n",
    "2. Measure both states in the standard computational basis $\\left(|0\\rangle^{\\otimes N}, |1\\rangle^{\\otimes N}\\right)$.\n",
    "\n",
    "3. Repeat these measurementes for a fixed random basis to get an estimate of $P_{U_j}^i(x) = \\mathrm{Tr}\\left( U_j \\rho_i U_j^\\dagger |x\\rangle\\langle x| \\right)$ for all $x \\in \\{0, 1\\}^{\\otimes N}$.\n",
    "\n",
    "4. Repeat steps 1-3 for a collection of random unitaries $U = \\{U_1, \\cdots U_M\\}$.\n",
    "\n",
    "\n",
    "With this data, we can calculate the overlap between the two states as:\n",
    "\n",
    "$$\n",
    "\\mathrm{Tr}(\\rho_1 \\rho_2) = \\frac{2^N}{M} \\sum_{U_j \\in U} \\sum_{x, x' \\in \\{0, 1\\}^{\\otimes N}} (-2)^{-\\mathcal{D}(x, x')} P_{U_j}^1(x) P_{U_j}^2(x')\n",
    "$$\n",
    "\n",
    "Where $M = |U|$ is the number of random unitaries, and $\\mathcal{D}(x, x')$ is the hamming distance between two bitstrings (i.e., the number of positions at which the bits are different). Fidelity is then computed as:\n",
    "\n",
    "$$\n",
    "\\mathcal{F}(\\rho_1, \\rho_2) = \\frac{\\mathrm{Tr}(\\rho_1 \\rho_2)}{\\max\\{\\mathrm{Tr}(\\rho_1^2), \\mathrm{Tr}(\\rho_2^2)\\}}\n",
    "$$\n",
    "\n",
    "Where we compute the purities in the denominator with the same formula as the overlap but setting both $\\rho_i$ to be the same."
   ]
  },
  {
   "cell_type": "markdown",
   "id": "d9f3a60e",
   "metadata": {},
   "source": [
    "## Running DFE"
   ]
  },
  {
   "cell_type": "markdown",
   "id": "64d1cfe5",
   "metadata": {},
   "source": [
    "### Identical states"
   ]
  },
  {
   "cell_type": "markdown",
   "id": "0a8a6f8f",
   "metadata": {},
   "source": [
    "To run a DFE protocol, we have to define circuits that prepare the states we want to compare. "
   ]
  },
  {
   "cell_type": "code",
   "execution_count": 4,
   "id": "410791e3",
   "metadata": {},
   "outputs": [
    {
     "data": {
      "text/html": [
       "<pre style=\"word-wrap: normal;white-space: pre;background: #fff0;line-height: 1.1;font-family: &quot;Courier New&quot;,Courier,monospace\">   ┌───┐\n",
       "q: ┤ H ├\n",
       "   └───┘</pre>"
      ],
      "text/plain": [
       "   ┌───┐\n",
       "q: ┤ H ├\n",
       "   └───┘"
      ]
     },
     "execution_count": 4,
     "metadata": {},
     "output_type": "execute_result"
    }
   ],
   "source": [
    "equal_superposition = qiskit.QuantumCircuit(1)\n",
    "equal_superposition.h(0)\n",
    "equal_superposition.draw()"
   ]
  },
  {
   "cell_type": "markdown",
   "id": "f7e0acea",
   "metadata": {},
   "source": [
    "We also have to specify the target in which we want to prepare the states. These two pieces of information are what make up a state to be passed to `submit_dfe`, which is a tuple with the circuit that prepares the state as its first element and the target as its second element."
   ]
  },
  {
   "cell_type": "code",
   "execution_count": 5,
   "id": "e0494775",
   "metadata": {},
   "outputs": [],
   "source": [
    "target = \"ss_unconstrained_simulator\"\n",
    "rho = (equal_superposition, target)"
   ]
  },
  {
   "cell_type": "markdown",
   "id": "435b91a8",
   "metadata": {},
   "source": [
    "With this, we can run the protocol comparing the state we defined to itself."
   ]
  },
  {
   "cell_type": "code",
   "execution_count": 6,
   "id": "52c264d9",
   "metadata": {
    "scrolled": false
   },
   "outputs": [],
   "source": [
    "ids = provider.submit_dfe(\n",
    "    rho_1=rho,\n",
    "    rho_2=rho,\n",
    "    num_random_bases=50,\n",
    "    shots=1000,\n",
    ")\n",
    "result = provider.process_dfe(ids)"
   ]
  },
  {
   "cell_type": "code",
   "execution_count": 7,
   "id": "1aeed9c6",
   "metadata": {},
   "outputs": [
    {
     "name": "stdout",
     "output_type": "stream",
     "text": [
      "0.9994542595067896\n"
     ]
    }
   ],
   "source": [
    "print(result)"
   ]
  },
  {
   "cell_type": "markdown",
   "id": "b77a7992",
   "metadata": {},
   "source": [
    "As we can see above, we get a fidelity very close to 1, as expected for identical states."
   ]
  },
  {
   "cell_type": "markdown",
   "id": "2c0ca769",
   "metadata": {},
   "source": [
    "### Orthogonal states"
   ]
  },
  {
   "cell_type": "markdown",
   "id": "29160be1",
   "metadata": {},
   "source": [
    "To test our protocol is giving sensible results, we can run it on orthogonal states."
   ]
  },
  {
   "cell_type": "code",
   "execution_count": 8,
   "id": "21ce37d9",
   "metadata": {},
   "outputs": [
    {
     "data": {
      "text/html": [
       "<pre style=\"word-wrap: normal;white-space: pre;background: #fff0;line-height: 1.1;font-family: &quot;Courier New&quot;,Courier,monospace\">   ┌───┐\n",
       "q: ┤ I ├\n",
       "   └───┘</pre>"
      ],
      "text/plain": [
       "   ┌───┐\n",
       "q: ┤ I ├\n",
       "   └───┘"
      ]
     },
     "execution_count": 8,
     "metadata": {},
     "output_type": "execute_result"
    }
   ],
   "source": [
    "state_1 = qiskit.QuantumCircuit(1)\n",
    "state_1.i(0)\n",
    "state_1.draw()  # |0>"
   ]
  },
  {
   "cell_type": "code",
   "execution_count": 9,
   "id": "043936b1",
   "metadata": {},
   "outputs": [],
   "source": [
    "rho_1 = (state_1, target)"
   ]
  },
  {
   "cell_type": "code",
   "execution_count": 10,
   "id": "bd3724e8",
   "metadata": {},
   "outputs": [
    {
     "data": {
      "text/html": [
       "<pre style=\"word-wrap: normal;white-space: pre;background: #fff0;line-height: 1.1;font-family: &quot;Courier New&quot;,Courier,monospace\">   ┌───┐\n",
       "q: ┤ X ├\n",
       "   └───┘</pre>"
      ],
      "text/plain": [
       "   ┌───┐\n",
       "q: ┤ X ├\n",
       "   └───┘"
      ]
     },
     "execution_count": 10,
     "metadata": {},
     "output_type": "execute_result"
    }
   ],
   "source": [
    "state_2 = qiskit.QuantumCircuit(1)\n",
    "state_2.x(0)\n",
    "state_2.draw()  # |1>"
   ]
  },
  {
   "cell_type": "code",
   "execution_count": 11,
   "id": "440dc9bd",
   "metadata": {},
   "outputs": [],
   "source": [
    "rho_2 = (state_2, target)"
   ]
  },
  {
   "cell_type": "markdown",
   "id": "c6252a50",
   "metadata": {},
   "source": [
    "To get an idea of how many measurements and shots should be used depending on the number of qubits and any given information about the states, refer to Figure 2 and related text in the paper linked at the beginning of this tutorial."
   ]
  },
  {
   "cell_type": "code",
   "execution_count": 12,
   "id": "e94a86f2",
   "metadata": {},
   "outputs": [],
   "source": [
    "ids = provider.submit_dfe(\n",
    "    rho_1=rho_1,\n",
    "    rho_2=rho_2,\n",
    "    num_random_bases=50,\n",
    "    shots=1000,\n",
    ")\n",
    "result = provider.process_dfe(ids)"
   ]
  },
  {
   "cell_type": "code",
   "execution_count": 13,
   "id": "b20ac22f",
   "metadata": {},
   "outputs": [
    {
     "name": "stdout",
     "output_type": "stream",
     "text": [
      "0.29799227576552306\n"
     ]
    }
   ],
   "source": [
    "print(result)"
   ]
  },
  {
   "cell_type": "markdown",
   "id": "2f2c7006",
   "metadata": {},
   "source": [
    "We get a fidelity close to 0, expected for orthogonal states."
   ]
  },
  {
   "cell_type": "markdown",
   "id": "e0edecd2",
   "metadata": {},
   "source": [
    "### A more interesting example"
   ]
  },
  {
   "cell_type": "markdown",
   "id": "d3a527ad",
   "metadata": {},
   "source": [
    "Let's say we want to compare how two different devices prepare two different states. To do this, we can simply set the target for each state to be whatever device we want (as long as you have access to it). We will set `method=\"dry-run\"` for now to simulate the results, but if this argument is removed the circuits will be submitted to the real backend."
   ]
  },
  {
   "cell_type": "code",
   "execution_count": 14,
   "id": "808bf937",
   "metadata": {},
   "outputs": [
    {
     "data": {
      "text/html": [
       "<pre style=\"word-wrap: normal;white-space: pre;background: #fff0;line-height: 1.1;font-family: &quot;Courier New&quot;,Courier,monospace\">     ┌───┐     \n",
       "q_0: ┤ H ├──■──\n",
       "     └───┘┌─┴─┐\n",
       "q_1: ─────┤ X ├\n",
       "          └───┘</pre>"
      ],
      "text/plain": [
       "     ┌───┐     \n",
       "q_0: ┤ H ├──■──\n",
       "     └───┘┌─┴─┐\n",
       "q_1: ─────┤ X ├\n",
       "          └───┘"
      ]
     },
     "execution_count": 14,
     "metadata": {},
     "output_type": "execute_result"
    }
   ],
   "source": [
    "state_1 = qiskit.QuantumCircuit(2)\n",
    "state_1.h(0)\n",
    "state_1.cx(0, 1)\n",
    "state_1.draw()"
   ]
  },
  {
   "cell_type": "code",
   "execution_count": 15,
   "id": "0e96cda2",
   "metadata": {},
   "outputs": [
    {
     "data": {
      "text/html": [
       "<pre style=\"word-wrap: normal;white-space: pre;background: #fff0;line-height: 1.1;font-family: &quot;Courier New&quot;,Courier,monospace\">     ┌───┐\n",
       "q_0: ┤ H ├\n",
       "     ├───┤\n",
       "q_1: ┤ I ├\n",
       "     └───┘</pre>"
      ],
      "text/plain": [
       "     ┌───┐\n",
       "q_0: ┤ H ├\n",
       "     ├───┤\n",
       "q_1: ┤ I ├\n",
       "     └───┘"
      ]
     },
     "execution_count": 15,
     "metadata": {},
     "output_type": "execute_result"
    }
   ],
   "source": [
    "state_2 = qiskit.QuantumCircuit(2)\n",
    "state_2.h(0)\n",
    "state_2.i(1)\n",
    "state_2.draw()"
   ]
  },
  {
   "cell_type": "code",
   "execution_count": 16,
   "id": "9c0e3e74",
   "metadata": {},
   "outputs": [],
   "source": [
    "rho_1 = (state_1, \"ibmq_belem_qpu\")\n",
    "rho_2 = (state_2, \"ibmq_manila_qpu\")"
   ]
  },
  {
   "cell_type": "code",
   "execution_count": 17,
   "id": "00e6a773",
   "metadata": {
    "scrolled": true
   },
   "outputs": [],
   "source": [
    "ids = provider.submit_dfe(\n",
    "    rho_1=rho_1,\n",
    "    rho_2=rho_2,\n",
    "    num_random_bases=50,\n",
    "    shots=5000,\n",
    "    method=\"dry-run\",  # Remove this argument to run on real devices\n",
    ")\n",
    "result = provider.process_dfe(ids)"
   ]
  },
  {
   "cell_type": "code",
   "execution_count": 18,
   "id": "e8428593",
   "metadata": {},
   "outputs": [
    {
     "name": "stdout",
     "output_type": "stream",
     "text": [
      "0.25785476714708405\n"
     ]
    }
   ],
   "source": [
    "print(result)"
   ]
  },
  {
   "cell_type": "markdown",
   "id": "59c41ad9",
   "metadata": {},
   "source": [
    "We can see how our estimation compares to the ideal value by using the formula for fidelity between pure states."
   ]
  },
  {
   "cell_type": "code",
   "execution_count": 19,
   "id": "70bfa8eb",
   "metadata": {},
   "outputs": [
    {
     "data": {
      "text/plain": [
       "(0.2499999999999999+0j)"
      ]
     },
     "execution_count": 19,
     "metadata": {},
     "output_type": "execute_result"
    }
   ],
   "source": [
    "np.trace(\n",
    "    qiskit.quantum_info.DensityMatrix(state_1).data\n",
    "    @ qiskit.quantum_info.DensityMatrix(state_2).data\n",
    ")"
   ]
  }
 ],
 "metadata": {
  "kernelspec": {
   "display_name": "Python 3 (ipykernel)",
   "language": "python",
   "name": "python3"
  },
  "language_info": {
   "codemirror_mode": {
    "name": "ipython",
    "version": 3
   },
   "file_extension": ".py",
   "mimetype": "text/x-python",
   "name": "python",
   "nbconvert_exporter": "python",
   "pygments_lexer": "ipython3",
   "version": "3.10.6"
  }
 },
 "nbformat": 4,
 "nbformat_minor": 5
}
