{
 "cells": [
  {
   "cell_type": "markdown",
   "metadata": {},
   "source": [
    "# Quantum Characterisation, Verification and Validation\n"
   ]
  },
  {
   "attachments": {},
   "cell_type": "markdown",
   "id": "approximate-aurora",
   "metadata": {},
   "source": [
    "[![Open in Colab](https://colab.research.google.com/assets/colab-badge.svg)](https://colab.research.google.com/github/Infleqtion/client-superstaq/blob/main/docs/source/apps/supermarq/qcvv/qcvv_css.ipynb)\n",
    "[![Launch Binder](https://mybinder.org/badge_logo.svg)](https://mybinder.org/v2/gh/Infleqtion/client-superstaq/HEAD?labpath=docs/source/apps/supermarq/qcvv/qcvv_css.ipynb)\n"
   ]
  },
  {
   "cell_type": "markdown",
   "metadata": {},
   "source": [
    "To demonstrate how to implement new benchmarking experiments within the Superstaq QCVV framework,\n",
    "consider implementing a naive benchmarking routine where we try to estimate the fidelity of a single\n",
    "qubit Z gate by repeatedly applying the gate to a qubit in the ground state (such that the Z-gate\n",
    "should have no effect) and observing if any observations of the excited state occur. If the excited\n",
    "state is observed this indicates an error has occurred. Assuming that each time the Z-gate is\n",
    "applied the probability of a bit flip error is $e$ then after $d$ gates the probability of observing\n",
    "the ground state is $$p(0) = \\frac{1}{2}(1-e)^d + \\frac{1}{2}$$\n"
   ]
  },
  {
   "cell_type": "markdown",
   "metadata": {},
   "source": [
    "We can create an experiment to measure this as follows\n"
   ]
  },
  {
   "cell_type": "code",
   "execution_count": 1,
   "metadata": {},
   "outputs": [],
   "source": [
    "from __future__ import annotations"
   ]
  },
  {
   "cell_type": "code",
   "execution_count": 2,
   "metadata": {},
   "outputs": [],
   "source": [
    "try:\n",
    "    import supermarq\n",
    "except ImportError:\n",
    "    print(\"Installing supermarq...\")\n",
    "    %pip install --quiet supermarq\n",
    "    print(\"Installed supermarq.\")\n",
    "    print(\"You may need to restart the kernel to import newly installed packages.\")"
   ]
  },
  {
   "cell_type": "code",
   "execution_count": 3,
   "metadata": {},
   "outputs": [],
   "source": [
    "from supermarq.qcvv import QCVVExperiment, Sample, QCVVResults\n",
    "from dataclasses import dataclass\n",
    "from collections.abc import Sequence\n",
    "from typing import Iterable\n",
    "from tqdm.contrib.itertools import product\n",
    "\n",
    "import cirq\n",
    "\n",
    "from scipy.stats import linregress\n",
    "import numpy as np\n",
    "import seaborn as sns\n",
    "import matplotlib.pyplot as plt\n",
    "\n",
    "\n",
    "@dataclass\n",
    "class NaiveExperimentResult(QCVVResults):\n",
    "    gate_fidelity: float = 1\n",
    "    gate_error: float = 0\n",
    "\n",
    "    def _analyze(self) -> None:\n",
    "        \"\"\"To analyse the results to fit a simple exponential decay. This can be done easily\n",
    "        by fitting a linear model to the logarithm of the equation above.\n",
    "        \"\"\"\n",
    "\n",
    "        model = linregress(x=self.data[\"depth\"], y=np.log(2 * self.data[\"0\"] - 1))\n",
    "\n",
    "        self.gate_fidelity = np.exp(model.slope)\n",
    "\n",
    "        self.gate_error = 1 - np.exp(model.slope)\n",
    "\n",
    "    def plot_results(self) -> None:\n",
    "        \"\"\"Plot the data with the fit superimposed on top.\"\"\"\n",
    "\n",
    "        fig, axs = plt.subplots(\n",
    "            1,\n",
    "        )\n",
    "\n",
    "        sns.scatterplot(self.data, x=\"depth\", y=\"0\", ax=axs)\n",
    "\n",
    "        x = np.linspace(0, max(self.data.depth))\n",
    "        y = 0.5 * self.gate_fidelity**x + 0.5\n",
    "        axs.plot(x, y)\n",
    "        axs.set_xlabel(\"Circuit depth\")\n",
    "        axs.set_ylabel(\"Probability of ground state\")\n",
    "\n",
    "    def print_results(self) -> None:\n",
    "        print(f\"Estimated gate error: {self.gate_error}\")\n",
    "\n",
    "\n",
    "class NaiveExperiment(QCVVExperiment[NaiveExperimentResult]):\n",
    "    def __init__(\n",
    "        self,\n",
    "        num_circuits: int,\n",
    "        cycle_depths: Iterable[int],\n",
    "        *,\n",
    "        random_seed: int | np.random.Generator | None = None,\n",
    "    ):\n",
    "        super().__init__(\n",
    "            num_qubits=1,\n",
    "            num_circuits=num_circuits,\n",
    "            cycle_depths=cycle_depths,\n",
    "            results_cls=NaiveExperimentResult,\n",
    "            random_seed=random_seed,\n",
    "        )\n",
    "\n",
    "    def _build_circuits(self, num_circuits: int, layers: Iterable[int]) -> Sequence[Sample]:\n",
    "        \"\"\"Build the circuits by composing multiple Z gates together into circuits. The\n",
    "        number of gates to compose is given by the `layers` parameter.\n",
    "        \"\"\"\n",
    "        samples = []\n",
    "        for index, depth in product(range(num_circuits), layers, desc=\"Building circuits.\"):\n",
    "            circuit = cirq.Circuit([cirq.Z(*self.qubits) for _ in range(depth)])\n",
    "            circuit += cirq.measure(*self.qubits)\n",
    "            samples.append(\n",
    "                Sample(circuit_realization=index, circuit=circuit, data={\"depth\": depth})\n",
    "            )\n",
    "\n",
    "        return samples"
   ]
  },
  {
   "cell_type": "markdown",
   "metadata": {},
   "source": [
    "To test this basic experiment, we use a depolarising noise model and a density matrix simulator.\n",
    "Note that if we use a single qubit depolarising channel with pauli error rate $p$ this will result\n",
    "in an error with probability of $4p/3$.\n"
   ]
  },
  {
   "cell_type": "code",
   "execution_count": 4,
   "metadata": {},
   "outputs": [
    {
     "data": {
      "application/vnd.jupyter.widget-view+json": {
       "model_id": "a19c41741da343ec9bd6cef212a79049",
       "version_major": 2,
       "version_minor": 0
      },
      "text/plain": [
       "Building circuits.:   0%|          | 0/30 [00:00<?, ?it/s]"
      ]
     },
     "metadata": {},
     "output_type": "display_data"
    },
    {
     "data": {
      "application/vnd.jupyter.widget-view+json": {
       "model_id": "83cf5524bafc4e8180ed52ff52f68131",
       "version_major": 2,
       "version_minor": 0
      },
      "text/plain": [
       "Simulating circuits:   0%|          | 0/30 [00:00<?, ?it/s]"
      ]
     },
     "metadata": {},
     "output_type": "display_data"
    }
   ],
   "source": [
    "noise = cirq.DepolarizingChannel(p=0.01 * 3 / 4)\n",
    "simulator = cirq.DensityMatrixSimulator(noise=noise, seed=0)\n",
    "experiment = NaiveExperiment(10, [10, 50, 100], random_seed=0)\n",
    "results = experiment.run_with_simulator(simulator=simulator)"
   ]
  },
  {
   "cell_type": "code",
   "execution_count": 5,
   "metadata": {},
   "outputs": [
    {
     "name": "stdout",
     "output_type": "stream",
     "text": [
      "Estimated gate error: 0.0100782074092588\n"
     ]
    },
    {
     "data": {
      "image/png": "[encoded data removed]",
      "text/plain": [
       "<Figure size 640x480 with 1 Axes>"
      ]
     },
     "metadata": {},
     "output_type": "display_data"
    }
   ],
   "source": [
    "results.analyze()"
   ]
  },
  {
   "cell_type": "markdown",
   "metadata": {},
   "source": [
    "Checking this result we have\n"
   ]
  },
  {
   "cell_type": "code",
   "execution_count": 6,
   "metadata": {},
   "outputs": [
    {
     "name": "stdout",
     "output_type": "stream",
     "text": [
      "0.0100782074092588\n"
     ]
    }
   ],
   "source": [
    "pauli_error_rate = results.gate_error\n",
    "print(pauli_error_rate)"
   ]
  },
  {
   "cell_type": "markdown",
   "metadata": {},
   "source": [
    "Which agrees very closely with our channel which we set up with $p=0.01$\n"
   ]
  },
  {
   "cell_type": "code",
   "execution_count": 7,
   "metadata": {},
   "outputs": [],
   "source": [
    "ss_results = experiment.run_on_device(target=\"ss_unconstrained_simulator\", repetitions=1000)"
   ]
  },
  {
   "cell_type": "code",
   "execution_count": 8,
   "metadata": {},
   "outputs": [
    {
     "name": "stdout",
     "output_type": "stream",
     "text": [
      "Estimated gate error: 0.0\n"
     ]
    },
    {
     "data": {
      "image/png": "[encoded data removed]",
      "text/plain": [
       "<Figure size 640x480 with 1 Axes>"
      ]
     },
     "metadata": {},
     "output_type": "display_data"
    }
   ],
   "source": [
    "ss_results.analyze()"
   ]
  },
  {
   "cell_type": "markdown",
   "metadata": {},
   "source": [
    "As expected, since the Superstaq simulator is exact, we obtain a gate fidelity of 1.0\n"
   ]
  }
 ],
 "metadata": {
  "kernelspec": {
   "display_name": "client_superstaq",
   "language": "python",
   "name": "python3"
  },
  "language_info": {
   "codemirror_mode": {
    "name": "ipython",
    "version": 3
   },
   "file_extension": ".py",
   "mimetype": "text/x-python",
   "name": "python",
   "nbconvert_exporter": "python",
   "pygments_lexer": "ipython3",
   "version": "3.11.9"
  }
 },
 "nbformat": 4,
 "nbformat_minor": 2
}
