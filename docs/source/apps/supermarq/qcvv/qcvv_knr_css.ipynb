{
 "cells": [
  {
   "cell_type": "markdown",
   "metadata": {},
   "source": [
    "# K-Body Noise Reconstruction\n"
   ]
  },
  {
   "cell_type": "markdown",
   "metadata": {},
   "source": [
    "Follows https://arxiv.org/pdf/2303.17714v1"
   ]
  },
  {
   "cell_type": "code",
   "execution_count": 1,
   "metadata": {},
   "outputs": [],
   "source": [
    "%load_ext autoreload\n",
    "%autoreload 2\n"
   ]
  },
  {
   "cell_type": "code",
   "execution_count": 286,
   "metadata": {},
   "outputs": [],
   "source": [
    "import cirq\n",
    "\n",
    "qubits = cirq.LineQubit.range(3)\n",
    "process_circuit = cirq.Circuit(cirq.ZZ(*qubits[0:2]), cirq.X(qubits[2]))\n",
    "\n",
    "\n",
    "class IndependentDepolariseNoiseModel(cirq.NoiseModel):\n",
    "    \"\"\"Applies single and two qubit depolarising channels independently\"\"\"\n",
    "\n",
    "    def __init__(self, single_qubit_error: float, two_qubit_error: float) -> None:\n",
    "        \"\"\"Args:\n",
    "        single_qubit_error: Single qubit pauli error\n",
    "        two_qubit_error: Two qubit pauli error\n",
    "        \"\"\"\n",
    "        super().__init__()\n",
    "        self.single_qubit_error = single_qubit_error\n",
    "        self.two_qubit_error = two_qubit_error\n",
    "\n",
    "        self.single_qubit_depolarise = cirq.DepolarizingChannel(\n",
    "            p=3 / 4 * single_qubit_error, n_qubits=1\n",
    "        )\n",
    "        self.two_qubit_depolarise = cirq.DepolarizingChannel(\n",
    "            p=15 / 16 * two_qubit_error, n_qubits=2\n",
    "        )\n",
    "\n",
    "    def noisy_operation(self, operation: cirq.Operation) -> list[cirq.OP_TREE]:\n",
    "        \"\"\"Produces a list of operations by applying each noise model\n",
    "        to the provided operation depending on the number of qubits it acts on.\n",
    "        \"\"\"\n",
    "        if len(operation.qubits) == 1:\n",
    "            return [operation, self.single_qubit_depolarise(*operation.qubits)]\n",
    "\n",
    "        if len(operation.qubits) == 2:\n",
    "            return [operation, self.two_qubit_depolarise(*operation.qubits)]\n",
    "\n",
    "        return [operation]\n",
    "\n",
    "\n",
    "noise = IndependentDepolariseNoiseModel(single_qubit_error=0.0001, two_qubit_error=0.04)\n",
    "\n",
    "sim = cirq.DensityMatrixSimulator(\n",
    "    noise=noise,\n",
    ")"
   ]
  },
  {
   "cell_type": "code",
   "execution_count": 287,
   "metadata": {},
   "outputs": [
    {
     "data": {
      "application/vnd.jupyter.widget-view+json": {
       "model_id": "895e981ba6cc40d7bff43157ef1daab4",
       "version_major": 2,
       "version_minor": 0
      },
      "text/plain": [
       "Building circuits:   0%|          | 0/720 [00:00<?, ?it/s]"
      ]
     },
     "metadata": {},
     "output_type": "display_data"
    },
    {
     "data": {
      "application/vnd.jupyter.widget-view+json": {
       "model_id": "5ce5b76fe494464fa6ad2ce3dfc16014",
       "version_major": 2,
       "version_minor": 0
      },
      "text/plain": [
       "Simulating circuits:   0%|          | 0/720 [00:00<?, ?it/s]"
      ]
     },
     "metadata": {},
     "output_type": "display_data"
    }
   ],
   "source": [
    "import supermarq\n",
    "\n",
    "experiment = supermarq.qcvv.KNR(process_circuit, num_parallel_supports=1)\n",
    "experiment.prepare_experiment(num_circuits=20, cycle_depths=[1, 3])\n",
    "experiment.run_with_simulator(simulator=sim, repetitions=100)\n",
    "if experiment.collect_data():\n",
    "    result = experiment.analyze_results()"
   ]
  },
  {
   "cell_type": "code",
   "execution_count": 288,
   "metadata": {},
   "outputs": [
    {
     "data": {
      "text/html": [
       "<div>\n",
       "<style scoped>\n",
       "    .dataframe tbody tr th:only-of-type {\n",
       "        vertical-align: middle;\n",
       "    }\n",
       "\n",
       "    .dataframe tbody tr th {\n",
       "        vertical-align: top;\n",
       "    }\n",
       "\n",
       "    .dataframe thead th {\n",
       "        text-align: right;\n",
       "    }\n",
       "</style>\n",
       "<table border=\"1\" class=\"dataframe\">\n",
       "  <thead>\n",
       "    <tr style=\"text-align: right;\">\n",
       "      <th></th>\n",
       "      <th>pauli_channel</th>\n",
       "      <th>orbital_fidelity</th>\n",
       "      <th>marginal_probability</th>\n",
       "    </tr>\n",
       "  </thead>\n",
       "  <tbody>\n",
       "    <tr>\n",
       "      <th>0</th>\n",
       "      <td>IIX</td>\n",
       "      <td>1.000250</td>\n",
       "      <td>0.000751</td>\n",
       "    </tr>\n",
       "    <tr>\n",
       "      <th>1</th>\n",
       "      <td>IIY</td>\n",
       "      <td>0.999500</td>\n",
       "      <td>-0.000751</td>\n",
       "    </tr>\n",
       "    <tr>\n",
       "      <th>2</th>\n",
       "      <td>IIZ</td>\n",
       "      <td>1.000000</td>\n",
       "      <td>0.000250</td>\n",
       "    </tr>\n",
       "    <tr>\n",
       "      <th>3</th>\n",
       "      <td>IXI</td>\n",
       "      <td>0.961929</td>\n",
       "      <td>0.032422</td>\n",
       "    </tr>\n",
       "    <tr>\n",
       "      <th>4</th>\n",
       "      <td>IYI</td>\n",
       "      <td>0.958909</td>\n",
       "      <td>0.054688</td>\n",
       "    </tr>\n",
       "    <tr>\n",
       "      <th>5</th>\n",
       "      <td>IZI</td>\n",
       "      <td>0.961416</td>\n",
       "      <td>0.040494</td>\n",
       "    </tr>\n",
       "    <tr>\n",
       "      <th>6</th>\n",
       "      <td>XII</td>\n",
       "      <td>0.957849</td>\n",
       "      <td>0.072628</td>\n",
       "    </tr>\n",
       "    <tr>\n",
       "      <th>7</th>\n",
       "      <td>XXI</td>\n",
       "      <td>0.957261</td>\n",
       "      <td>0.019860</td>\n",
       "    </tr>\n",
       "    <tr>\n",
       "      <th>8</th>\n",
       "      <td>XYI</td>\n",
       "      <td>0.967848</td>\n",
       "      <td>0.027861</td>\n",
       "    </tr>\n",
       "    <tr>\n",
       "      <th>9</th>\n",
       "      <td>XZI</td>\n",
       "      <td>0.962725</td>\n",
       "      <td>0.031590</td>\n",
       "    </tr>\n",
       "    <tr>\n",
       "      <th>10</th>\n",
       "      <td>YII</td>\n",
       "      <td>0.960413</td>\n",
       "      <td>0.037130</td>\n",
       "    </tr>\n",
       "    <tr>\n",
       "      <th>11</th>\n",
       "      <td>YXI</td>\n",
       "      <td>0.955031</td>\n",
       "      <td>0.056697</td>\n",
       "    </tr>\n",
       "    <tr>\n",
       "      <th>12</th>\n",
       "      <td>YYI</td>\n",
       "      <td>0.956890</td>\n",
       "      <td>0.029790</td>\n",
       "    </tr>\n",
       "    <tr>\n",
       "      <th>13</th>\n",
       "      <td>YZI</td>\n",
       "      <td>0.955598</td>\n",
       "      <td>0.048842</td>\n",
       "    </tr>\n",
       "    <tr>\n",
       "      <th>14</th>\n",
       "      <td>ZII</td>\n",
       "      <td>0.959450</td>\n",
       "      <td>0.036015</td>\n",
       "    </tr>\n",
       "    <tr>\n",
       "      <th>15</th>\n",
       "      <td>ZXI</td>\n",
       "      <td>0.955900</td>\n",
       "      <td>0.057437</td>\n",
       "    </tr>\n",
       "    <tr>\n",
       "      <th>16</th>\n",
       "      <td>ZYI</td>\n",
       "      <td>0.957607</td>\n",
       "      <td>0.029918</td>\n",
       "    </tr>\n",
       "    <tr>\n",
       "      <th>17</th>\n",
       "      <td>ZZI</td>\n",
       "      <td>0.954418</td>\n",
       "      <td>0.041383</td>\n",
       "    </tr>\n",
       "  </tbody>\n",
       "</table>\n",
       "</div>"
      ],
      "text/plain": [
       "   pauli_channel  orbital_fidelity  marginal_probability\n",
       "0            IIX          1.000250              0.000751\n",
       "1            IIY          0.999500             -0.000751\n",
       "2            IIZ          1.000000              0.000250\n",
       "3            IXI          0.961929              0.032422\n",
       "4            IYI          0.958909              0.054688\n",
       "5            IZI          0.961416              0.040494\n",
       "6            XII          0.957849              0.072628\n",
       "7            XXI          0.957261              0.019860\n",
       "8            XYI          0.967848              0.027861\n",
       "9            XZI          0.962725              0.031590\n",
       "10           YII          0.960413              0.037130\n",
       "11           YXI          0.955031              0.056697\n",
       "12           YYI          0.956890              0.029790\n",
       "13           YZI          0.955598              0.048842\n",
       "14           ZII          0.959450              0.036015\n",
       "15           ZXI          0.955900              0.057437\n",
       "16           ZYI          0.957607              0.029918\n",
       "17           ZZI          0.954418              0.041383"
      ]
     },
     "execution_count": 288,
     "metadata": {},
     "output_type": "execute_result"
    }
   ],
   "source": [
    "result"
   ]
  }
 ],
 "metadata": {
  "kernelspec": {
   "display_name": "client_superstaq",
   "language": "python",
   "name": "python3"
  },
  "language_info": {
   "codemirror_mode": {
    "name": "ipython",
    "version": 3
   },
   "file_extension": ".py",
   "mimetype": "text/x-python",
   "name": "python",
   "nbconvert_exporter": "python",
   "pygments_lexer": "ipython3",
   "version": "3.11.9"
  }
 },
 "nbformat": 4,
 "nbformat_minor": 2
}
