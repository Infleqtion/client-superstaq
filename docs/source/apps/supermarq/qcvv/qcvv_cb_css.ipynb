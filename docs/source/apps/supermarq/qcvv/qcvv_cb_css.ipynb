{
 "cells": [
  {
   "cell_type": "code",
   "execution_count": 15,
   "metadata": {},
   "outputs": [
    {
     "name": "stdout",
     "output_type": "stream",
     "text": [
      "The autoreload extension is already loaded. To reload it, use:\n",
      "  %reload_ext autoreload\n"
     ]
    }
   ],
   "source": [
    "%load_ext autoreload\n",
    "%autoreload 2"
   ]
  },
  {
   "cell_type": "markdown",
   "metadata": {},
   "source": [
    "Build a circuit to estimate the process error of. In this case we choose a $ZZ$ gate."
   ]
  },
  {
   "cell_type": "code",
   "execution_count": 16,
   "metadata": {},
   "outputs": [],
   "source": [
    "import cirq\n",
    "\n",
    "qubits = cirq.LineQubit.range(2)\n",
    "process_circuit = cirq.Circuit(cirq.ZZ(*qubits))"
   ]
  },
  {
   "cell_type": "markdown",
   "metadata": {},
   "source": [
    "Define a noise model to simulate. Here we assume that single and two qubit gates are independently\n",
    "affected by depolarising channels with some given probabilities $e_1$ and $e_2$."
   ]
  },
  {
   "cell_type": "code",
   "execution_count": 17,
   "metadata": {},
   "outputs": [],
   "source": [
    "class IndependentDepolariseNoiseModel(cirq.NoiseModel):\n",
    "    \"\"\"Applies single and two qubit depolarising channels independently\"\"\"\n",
    "\n",
    "    def __init__(self, single_qubit_error: float, two_qubit_error: float) -> None:\n",
    "        \"\"\"Args:\n",
    "        single_qubit_error: Single qubit pauli error\n",
    "        two_qubit_error: Two qubit pauli error\n",
    "        \"\"\"\n",
    "        super().__init__()\n",
    "        self.single_qubit_error = single_qubit_error\n",
    "        self.two_qubit_error = two_qubit_error\n",
    "\n",
    "        self.single_qubit_depolarise = cirq.DepolarizingChannel(\n",
    "            p=3 / 4 * single_qubit_error, n_qubits=1\n",
    "        )\n",
    "        self.two_qubit_depolarise = cirq.DepolarizingChannel(\n",
    "            p=15 / 16 * two_qubit_error, n_qubits=2\n",
    "        )\n",
    "\n",
    "    def noisy_operation(self, operation: cirq.Operation) -> list[cirq.OP_TREE]:\n",
    "        \"\"\"Produces a list of operations by applying each noise model\n",
    "        to the provided operation depending on the number of qubits it acts on.\n",
    "        \"\"\"\n",
    "        if len(operation.qubits) == 1:\n",
    "            return [operation, self.single_qubit_depolarise(*operation.qubits)]\n",
    "\n",
    "        if len(operation.qubits) == 2:\n",
    "            return [operation, self.two_qubit_depolarise(*operation.qubits)]\n",
    "\n",
    "        return [operation]\n",
    "\n",
    "\n",
    "noise = IndependentDepolariseNoiseModel(single_qubit_error=0.0005, two_qubit_error=0.02)\n",
    "\n",
    "sim = cirq.DensityMatrixSimulator(\n",
    "    noise=noise,\n",
    ")"
   ]
  },
  {
   "cell_type": "markdown",
   "metadata": {},
   "source": [
    "Now run the experiment."
   ]
  },
  {
   "cell_type": "code",
   "execution_count": 18,
   "metadata": {},
   "outputs": [
    {
     "data": {
      "application/vnd.jupyter.widget-view+json": {
       "model_id": "1b9c5e538f464b85a50d895800f4263e",
       "version_major": 2,
       "version_minor": 0
      },
      "text/plain": [
       "Building circuits:   0%|          | 0/400 [00:00<?, ?it/s]"
      ]
     },
     "metadata": {},
     "output_type": "display_data"
    },
    {
     "data": {
      "application/vnd.jupyter.widget-view+json": {
       "model_id": "1081fde5ea0548e2bf87c0c82db7c453",
       "version_major": 2,
       "version_minor": 0
      },
      "text/plain": [
       "Simulating circuits:   0%|          | 0/400 [00:00<?, ?it/s]"
      ]
     },
     "metadata": {},
     "output_type": "display_data"
    }
   ],
   "source": [
    "import supermarq\n",
    "\n",
    "experiment = supermarq.qcvv.CB(process_circuit, num_channels=4)\n",
    "experiment.prepare_experiment(num_circuits=50, cycle_depths=[2, 8])\n",
    "experiment.run_with_simulator(simulator=sim, repetitions=100)\n",
    "if experiment.collect_data():\n",
    "    result = experiment.analyze_results()"
   ]
  },
  {
   "cell_type": "markdown",
   "metadata": {},
   "source": [
    "We now compare the results to the analytic process error. Note that although the process circuit\n",
    "only contains a two qubit gate, the Cycle Benchmarking protocol estimates the error of the dressed\n",
    "circuit. In our case this adds two single qubit gates to each cycle. Therefore we expect the\n",
    "overall process error to be $e_2 + 2 e_1$"
   ]
  },
  {
   "cell_type": "code",
   "execution_count": 19,
   "metadata": {},
   "outputs": [
    {
     "name": "stdout",
     "output_type": "stream",
     "text": [
      "Estimated process error: 0.02066662697287236\n",
      "Analytic_process error: 0.021\n"
     ]
    }
   ],
   "source": [
    "print(f\"Estimated process error: {1-result.process_fidelity}\")\n",
    "print(f\"Analytic_process error: {noise.two_qubit_error + 2 * noise.single_qubit_error}\")"
   ]
  },
  {
   "cell_type": "code",
   "execution_count": 20,
   "metadata": {},
   "outputs": [
    {
     "data": {
      "text/html": [
       "<div>\n",
       "<style scoped>\n",
       "    .dataframe tbody tr th:only-of-type {\n",
       "        vertical-align: middle;\n",
       "    }\n",
       "\n",
       "    .dataframe tbody tr th {\n",
       "        vertical-align: top;\n",
       "    }\n",
       "\n",
       "    .dataframe thead th {\n",
       "        text-align: right;\n",
       "    }\n",
       "</style>\n",
       "<table border=\"1\" class=\"dataframe\">\n",
       "  <thead>\n",
       "    <tr style=\"text-align: right;\">\n",
       "      <th></th>\n",
       "      <th>pauli_channel</th>\n",
       "      <th>cycle_depth</th>\n",
       "      <th>expectation</th>\n",
       "      <th>circuit</th>\n",
       "      <th>00</th>\n",
       "      <th>01</th>\n",
       "      <th>10</th>\n",
       "      <th>11</th>\n",
       "    </tr>\n",
       "  </thead>\n",
       "  <tbody>\n",
       "    <tr>\n",
       "      <th>0</th>\n",
       "      <td>YI</td>\n",
       "      <td>4</td>\n",
       "      <td>0.94</td>\n",
       "      <td>process</td>\n",
       "      <td>0.94</td>\n",
       "      <td>0.03</td>\n",
       "      <td>0.00</td>\n",
       "      <td>0.03</td>\n",
       "    </tr>\n",
       "    <tr>\n",
       "      <th>1</th>\n",
       "      <td>YI</td>\n",
       "      <td>4</td>\n",
       "      <td>0.94</td>\n",
       "      <td>process</td>\n",
       "      <td>0.02</td>\n",
       "      <td>0.95</td>\n",
       "      <td>0.01</td>\n",
       "      <td>0.02</td>\n",
       "    </tr>\n",
       "    <tr>\n",
       "      <th>2</th>\n",
       "      <td>YI</td>\n",
       "      <td>4</td>\n",
       "      <td>0.96</td>\n",
       "      <td>process</td>\n",
       "      <td>0.04</td>\n",
       "      <td>0.94</td>\n",
       "      <td>0.01</td>\n",
       "      <td>0.01</td>\n",
       "    </tr>\n",
       "    <tr>\n",
       "      <th>3</th>\n",
       "      <td>YI</td>\n",
       "      <td>4</td>\n",
       "      <td>0.92</td>\n",
       "      <td>process</td>\n",
       "      <td>0.02</td>\n",
       "      <td>0.94</td>\n",
       "      <td>0.01</td>\n",
       "      <td>0.03</td>\n",
       "    </tr>\n",
       "    <tr>\n",
       "      <th>4</th>\n",
       "      <td>YI</td>\n",
       "      <td>4</td>\n",
       "      <td>0.96</td>\n",
       "      <td>process</td>\n",
       "      <td>0.03</td>\n",
       "      <td>0.95</td>\n",
       "      <td>0.01</td>\n",
       "      <td>0.01</td>\n",
       "    </tr>\n",
       "    <tr>\n",
       "      <th>...</th>\n",
       "      <td>...</td>\n",
       "      <td>...</td>\n",
       "      <td>...</td>\n",
       "      <td>...</td>\n",
       "      <td>...</td>\n",
       "      <td>...</td>\n",
       "      <td>...</td>\n",
       "      <td>...</td>\n",
       "    </tr>\n",
       "    <tr>\n",
       "      <th>395</th>\n",
       "      <td>ZX</td>\n",
       "      <td>16</td>\n",
       "      <td>0.72</td>\n",
       "      <td>process</td>\n",
       "      <td>0.07</td>\n",
       "      <td>0.13</td>\n",
       "      <td>0.73</td>\n",
       "      <td>0.07</td>\n",
       "    </tr>\n",
       "    <tr>\n",
       "      <th>396</th>\n",
       "      <td>ZX</td>\n",
       "      <td>16</td>\n",
       "      <td>0.62</td>\n",
       "      <td>process</td>\n",
       "      <td>0.10</td>\n",
       "      <td>0.04</td>\n",
       "      <td>0.77</td>\n",
       "      <td>0.09</td>\n",
       "    </tr>\n",
       "    <tr>\n",
       "      <th>397</th>\n",
       "      <td>ZX</td>\n",
       "      <td>16</td>\n",
       "      <td>0.76</td>\n",
       "      <td>process</td>\n",
       "      <td>0.04</td>\n",
       "      <td>0.81</td>\n",
       "      <td>0.07</td>\n",
       "      <td>0.08</td>\n",
       "    </tr>\n",
       "    <tr>\n",
       "      <th>398</th>\n",
       "      <td>ZX</td>\n",
       "      <td>16</td>\n",
       "      <td>0.72</td>\n",
       "      <td>process</td>\n",
       "      <td>0.81</td>\n",
       "      <td>0.09</td>\n",
       "      <td>0.05</td>\n",
       "      <td>0.05</td>\n",
       "    </tr>\n",
       "    <tr>\n",
       "      <th>399</th>\n",
       "      <td>ZX</td>\n",
       "      <td>16</td>\n",
       "      <td>0.76</td>\n",
       "      <td>process</td>\n",
       "      <td>0.01</td>\n",
       "      <td>0.09</td>\n",
       "      <td>0.79</td>\n",
       "      <td>0.11</td>\n",
       "    </tr>\n",
       "  </tbody>\n",
       "</table>\n",
       "<p>400 rows × 8 columns</p>\n",
       "</div>"
      ],
      "text/plain": [
       "    pauli_channel  cycle_depth  expectation  circuit    00    01    10    11\n",
       "0              YI            4         0.94  process  0.94  0.03  0.00  0.03\n",
       "1              YI            4         0.94  process  0.02  0.95  0.01  0.02\n",
       "2              YI            4         0.96  process  0.04  0.94  0.01  0.01\n",
       "3              YI            4         0.92  process  0.02  0.94  0.01  0.03\n",
       "4              YI            4         0.96  process  0.03  0.95  0.01  0.01\n",
       "..            ...          ...          ...      ...   ...   ...   ...   ...\n",
       "395            ZX           16         0.72  process  0.07  0.13  0.73  0.07\n",
       "396            ZX           16         0.62  process  0.10  0.04  0.77  0.09\n",
       "397            ZX           16         0.76  process  0.04  0.81  0.07  0.08\n",
       "398            ZX           16         0.72  process  0.81  0.09  0.05  0.05\n",
       "399            ZX           16         0.76  process  0.01  0.09  0.79  0.11\n",
       "\n",
       "[400 rows x 8 columns]"
      ]
     },
     "execution_count": 20,
     "metadata": {},
     "output_type": "execute_result"
    }
   ],
   "source": [
    "experiment.raw_data"
   ]
  }
 ],
 "metadata": {
  "kernelspec": {
   "display_name": "client_superstaq",
   "language": "python",
   "name": "python3"
  },
  "language_info": {
   "codemirror_mode": {
    "name": "ipython",
    "version": 3
   },
   "file_extension": ".py",
   "mimetype": "text/x-python",
   "name": "python",
   "nbconvert_exporter": "python",
   "pygments_lexer": "ipython3",
   "version": "3.11.9"
  }
 },
 "nbformat": 4,
 "nbformat_minor": 2
}
