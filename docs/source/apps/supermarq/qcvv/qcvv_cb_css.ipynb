{
 "cells": [
  {
   "cell_type": "code",
   "execution_count": 7,
   "metadata": {},
   "outputs": [
    {
     "name": "stdout",
     "output_type": "stream",
     "text": [
      "The autoreload extension is already loaded. To reload it, use:\n",
      "  %reload_ext autoreload\n"
     ]
    }
   ],
   "source": [
    "%load_ext autoreload\n",
    "%autoreload 2"
   ]
  },
  {
   "cell_type": "markdown",
   "metadata": {},
   "source": [
    "Build a circuit to estimate the process error of. In this case we choose a $ZZ$ gate."
   ]
  },
  {
   "cell_type": "code",
   "execution_count": 8,
   "metadata": {},
   "outputs": [],
   "source": [
    "import cirq\n",
    "\n",
    "qubits = cirq.LineQubit.range(2)\n",
    "process_circuit = cirq.Circuit(cirq.ZZ(*qubits))"
   ]
  },
  {
   "cell_type": "markdown",
   "metadata": {},
   "source": [
    "Define a noise model to simulate. Here we assume that single and two qubit gates are independently\n",
    "affected by depolarising channels with some given probabilities $e_1$ and $e_2$."
   ]
  },
  {
   "cell_type": "code",
   "execution_count": 9,
   "metadata": {},
   "outputs": [],
   "source": [
    "class IndependentDepolariseNoiseModel(cirq.NoiseModel):\n",
    "    \"\"\"Applies single and two qubit depolarising channels independently\"\"\"\n",
    "\n",
    "    def __init__(self, single_qubit_error: float, two_qubit_error: float) -> None:\n",
    "        \"\"\"Args:\n",
    "        single_qubit_error: Single qubit pauli error\n",
    "        two_qubit_error: Two qubit pauli error\n",
    "        \"\"\"\n",
    "        super().__init__()\n",
    "        self.single_qubit_error = single_qubit_error\n",
    "        self.two_qubit_error = two_qubit_error\n",
    "\n",
    "        self.single_qubit_depolarise = cirq.DepolarizingChannel(\n",
    "            p=3 / 4 * single_qubit_error, n_qubits=1\n",
    "        )\n",
    "        self.two_qubit_depolarise = cirq.DepolarizingChannel(\n",
    "            p=15 / 16 * two_qubit_error, n_qubits=2\n",
    "        )\n",
    "\n",
    "    def noisy_operation(self, operation: cirq.Operation) -> list[cirq.OP_TREE]:\n",
    "        \"\"\"Produces a list of operations by applying each noise model\n",
    "        to the provided operation depending on the number of qubits it acts on.\n",
    "        \"\"\"\n",
    "        if len(operation.qubits) == 1:\n",
    "            return [operation, self.single_qubit_depolarise(*operation.qubits)]\n",
    "\n",
    "        if len(operation.qubits) == 2:\n",
    "            return [operation, self.two_qubit_depolarise(*operation.qubits)]\n",
    "\n",
    "        return [operation]\n",
    "\n",
    "\n",
    "noise = IndependentDepolariseNoiseModel(single_qubit_error=0.0005, two_qubit_error=0.02)\n",
    "\n",
    "sim = cirq.DensityMatrixSimulator(\n",
    "    noise=noise,\n",
    ")"
   ]
  },
  {
   "cell_type": "markdown",
   "metadata": {},
   "source": [
    "Now run the experiment."
   ]
  },
  {
   "cell_type": "code",
   "execution_count": 11,
   "metadata": {},
   "outputs": [
    {
     "data": {
      "application/vnd.jupyter.widget-view+json": {
       "model_id": "15aa91a43e424bd29ea6252939b4611e",
       "version_major": 2,
       "version_minor": 0
      },
      "text/plain": [
       "Building circuits:   0%|          | 0/400 [00:00<?, ?it/s]"
      ]
     },
     "metadata": {},
     "output_type": "display_data"
    },
    {
     "data": {
      "application/vnd.jupyter.widget-view+json": {
       "model_id": "7f38146b706c4ebc9cb6c3e361c64fa2",
       "version_major": 2,
       "version_minor": 0
      },
      "text/plain": [
       "Simulating circuits:   0%|          | 0/400 [00:00<?, ?it/s]"
      ]
     },
     "metadata": {},
     "output_type": "display_data"
    }
   ],
   "source": [
    "import supermarq\n",
    "\n",
    "experiment = supermarq.qcvv.CB(process_circuit, num_channels=4)\n",
    "experiment.prepare_experiment(num_circuits=50, cycle_depths=[2, 8])\n",
    "experiment.run_with_simulator(simulator=sim, repetitions=100)\n",
    "if experiment.collect_data():\n",
    "    result = experiment.analyze_results()"
   ]
  },
  {
   "cell_type": "markdown",
   "metadata": {},
   "source": [
    "We now compare the results to the analytic process error. Note that although the process circuit\n",
    "only contains a two qubit gate, the Cycle Benchmarking protocol estimates the error of the dressed\n",
    "circuit. In our case this adds two single qubit gates to each cycle. Therefore we expect the\n",
    "overall process error to be $e_2 + 2 e_1$"
   ]
  },
  {
   "cell_type": "code",
   "execution_count": 14,
   "metadata": {},
   "outputs": [
    {
     "name": "stdout",
     "output_type": "stream",
     "text": [
      "Estimated process error: 0.0212077117750592\n",
      "Analytic_process error: 0.021\n"
     ]
    }
   ],
   "source": [
    "print(f\"Estimated process error: {1-result.process_fidelity}\")\n",
    "print(f\"Analytic_process error: {noise.two_qubit_error + 2 * noise.single_qubit_error}\")"
   ]
  }
 ],
 "metadata": {
  "kernelspec": {
   "display_name": "client_superstaq",
   "language": "python",
   "name": "python3"
  },
  "language_info": {
   "codemirror_mode": {
    "name": "ipython",
    "version": 3
   },
   "file_extension": ".py",
   "mimetype": "text/x-python",
   "name": "python",
   "nbconvert_exporter": "python",
   "pygments_lexer": "ipython3",
   "version": "3.11.9"
  }
 },
 "nbformat": 4,
 "nbformat_minor": 2
}
