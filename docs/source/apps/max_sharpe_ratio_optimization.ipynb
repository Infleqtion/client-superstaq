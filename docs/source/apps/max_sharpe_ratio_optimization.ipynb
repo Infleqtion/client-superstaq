{
 "cells": [
  {
   "attachments": {},
   "cell_type": "markdown",
   "id": "543c33d0",
   "metadata": {},
   "source": [
    "# Sharpe Ratio Maximization\n",
    "\n",
    "In this notebook, we will demonstrate an example portfolio optimization problem by looking at Sharpe ratio maximization. To that, we will formulate the problem as a QUBO and try to find optimal weights for assets in a given portoflio. We will get many results using simulated annealing for our QUBO and then classically post-process to find the one that gives the actual highest Sharpe ratio. "
   ]
  },
  {
   "attachments": {},
   "cell_type": "markdown",
   "id": "af59eece",
   "metadata": {},
   "source": [
    "Begin by importing the necessary packages:"
   ]
  },
  {
   "cell_type": "code",
   "execution_count": 1,
   "id": "df306675",
   "metadata": {},
   "outputs": [],
   "source": [
    "from datetime import date, timedelta\n",
    "import warnings\n",
    "\n",
    "\n",
    "from dwave_qbsolv import QBSolv\n",
    "import neal\n",
    "import numpy as np\n",
    "import pandas as pd\n",
    "import pypfopt\n",
    "import qubovert as qv\n",
    "import sympy\n",
    "import yfinance as yf\n",
    "\n",
    "warnings.filterwarnings(\"ignore\", category=DeprecationWarning)\n",
    "\n",
    "# Notebook with helper functions (not publically available)\n",
    "from finance_notebook_helper import (\n",
    "    get_correlation_matrix,\n",
    "    get_return_and_risk,\n",
    "    create_variables,\n",
    "    create_expected_return_and_volatility_expressions,\n",
    "    create_objective_function,\n",
    "    get_portfolio_information,\n",
    ")"
   ]
  },
  {
   "attachments": {},
   "cell_type": "markdown",
   "id": "3a961034",
   "metadata": {},
   "source": [
    "## Portfolio Risk Background\n",
    "\n",
    "Portfolio risk is measured by the standard deviation, $\\sigma$. The greater the standard deviation, the greater the risk. Given a portfolio, $P$, with two assets, $A$ and $B$, we represent the weights of the assets in the portfolio with $w_{i}$ (with $i =$ {A,B}), and the corresponding portfolio standard deviation as:\n",
    "\n",
    "$\\sigma_{P} = \\sqrt{w_{A}^{2}σ_{A}^{2} + w_{B}^{2}σ_{B}^{2}  + 2w_{A}w_{B}σ_{A}σ_{B}ρ_{{AB}}}$\n",
    "\n",
    "Given three assets ($A,B,$ and $C$) in $P$, our portfolio standard deviation would be:\n",
    "\n",
    "$\\sigma_{P} = \\sqrt{w_{A}^{2}σ_{A}^{2} + w_{B}^{2}σ_{B}^{2} + w_{C}^{2}σ_{C}^{2} + 2w_{A}w_{B}σ_{A}σ_{B}ρ_{{AB}} + 2w_{B}w_{C}σ_{B}σ_{C}ρ_{{BC}} + 2w_{A}w_{C}σ_{A}σ_{C}ρ_{{AC}}}$\n",
    "\n",
    "where $\\rho$ is a symmetric matrix that contains the correlation coefficient between an asset $i$ and asset $j$. The product ${\\sigma_{a_i}}{\\sigma_{a_j}}\\rho_{ij}$ = $\\text{Cov}_{ij}$ is also called the covariance of the assets $a_{i}$ and $a_{j}$. \n",
    "\n",
    "In general, for $N$ assets = {$a_1,a_2,...,a_N$} in a portfolio $P$, the square of the portfolio standard deviation, in other words the variance, is given by the following formula:\n",
    "\n",
    "$$ \n",
    "\\begin{align}\n",
    "\\sigma_{P}^2 &= \\sum_{i=1}^{N} {w_{a_i}}^2{\\sigma_{a_i}}^2 + 2\\sum_{j=1}^{N}\\sum_{i<j}^{N}{w_{a_i}}{w_{a_j}}{\\sigma_{a_i}}{\\sigma_{a_j}}\\rho_{ij} \\\\\n",
    " &= \\sum_{i=1}^{N} {w_{a_i}}^2{\\sigma_{a_i}}^2 + 2\\sum_{j=1}^{N}\\sum_{i<j}^{N}{w_{a_i}}{w_{a_j}}\\text{Cov}_{ij}\n",
    "\\end{align}\n",
    "$$\n",
    "\n",
    "subject to $\\sum_{i=1}^{N} w_{i} = 1$ and $0 \\leq w_{i}$.  \n",
    "\n",
    "If however, we wanted to choose a subset, M (with $0 < M \\leq N$), from the N assets, our portfolio standard deviation would then be:\n",
    "\n",
    "$$\\sigma_{P}^2 = \\sum_{i=1}^N y_{a_i}w_{{a_i}}^2\\sigma_{a_i}^2 + 2\\sum_\n",
    "{i=1}^N \\sum_{i<j}^N y_{a_i} y_{a_j} w_{{a_i}}w_{{a_j}}\\text{Cov}_{ij}$$\n",
    "\n",
    "where binary variables, $y_{a_i}$, are introduced to control which assets are included in the portfolio. \n",
    "\n",
    "## Sharpe Ratio\n",
    "\n",
    "A useful measure to consider then, is the Sharpe Ratio -- which measures a portfolio's \"reward to risk\" ratio. To do this, we need to define the portfolio return, $R_{P}$:\n",
    "\n",
    "$$ R_{P} = \\sum_{i=1}^N w_{a_i}r_{a_{i}} $$\n",
    "\n",
    "where $r_{a_i}$ is the return on asset $a_i$. Given that, a portfolio manager who is reliant on the Sharpe ratio seeks to find a portfolio where the weights of each asset (i.e. the percent of the portfolio that each asset represents of the portfolio) maximize the ratio. \n",
    "\n",
    "The Sharpe ratio is traditionally given in the form:\n",
    "\n",
    "$$\\frac{E[R_{P}]}{\\sigma_{P}}$$\n",
    "\n",
    "where $E[R_{P}]$ is the expectation of $R_{P}$. However, this is problematic to formulate as a QUBO. Dividing with binary variables means dividing by zero, so we'll seek to minimize, instead, the following expression:\n",
    "\n",
    "$$\\sigma_{P}^2 - E[R_{P}]$$\n",
    "\n",
    "such that $$\\sum_{i=1}^{N} y_{a_i} = M$$"
   ]
  },
  {
   "attachments": {},
   "cell_type": "markdown",
   "id": "4e612676",
   "metadata": {},
   "source": [
    "Given that understanding we will go through an example Sharpe ratio optimization. As an example dataset, we can use stocks from the S \\& P 500 Companies (available on Wikipedia) for our portfolio:"
   ]
  },
  {
   "cell_type": "code",
   "execution_count": 2,
   "id": "a7edbf9a",
   "metadata": {},
   "outputs": [
    {
     "data": {
      "text/html": [
       "<div>\n",
       "<style scoped>\n",
       "    .dataframe tbody tr th:only-of-type {\n",
       "        vertical-align: middle;\n",
       "    }\n",
       "\n",
       "    .dataframe tbody tr th {\n",
       "        vertical-align: top;\n",
       "    }\n",
       "\n",
       "    .dataframe thead th {\n",
       "        text-align: right;\n",
       "    }\n",
       "</style>\n",
       "<table border=\"1\" class=\"dataframe\">\n",
       "  <thead>\n",
       "    <tr style=\"text-align: right;\">\n",
       "      <th></th>\n",
       "      <th>Symbol</th>\n",
       "      <th>Security</th>\n",
       "      <th>GICS Sector</th>\n",
       "      <th>GICS Sub-Industry</th>\n",
       "      <th>Headquarters Location</th>\n",
       "      <th>Date added</th>\n",
       "      <th>CIK</th>\n",
       "      <th>Founded</th>\n",
       "    </tr>\n",
       "  </thead>\n",
       "  <tbody>\n",
       "    <tr>\n",
       "      <th>0</th>\n",
       "      <td>MMM</td>\n",
       "      <td>3M</td>\n",
       "      <td>Industrials</td>\n",
       "      <td>Industrial Conglomerates</td>\n",
       "      <td>Saint Paul, Minnesota</td>\n",
       "      <td>1957-03-04</td>\n",
       "      <td>66740</td>\n",
       "      <td>1902</td>\n",
       "    </tr>\n",
       "    <tr>\n",
       "      <th>1</th>\n",
       "      <td>AOS</td>\n",
       "      <td>A. O. Smith</td>\n",
       "      <td>Industrials</td>\n",
       "      <td>Building Products</td>\n",
       "      <td>Milwaukee, Wisconsin</td>\n",
       "      <td>2017-07-26</td>\n",
       "      <td>91142</td>\n",
       "      <td>1916</td>\n",
       "    </tr>\n",
       "    <tr>\n",
       "      <th>2</th>\n",
       "      <td>ABT</td>\n",
       "      <td>Abbott</td>\n",
       "      <td>Health Care</td>\n",
       "      <td>Health Care Equipment</td>\n",
       "      <td>North Chicago, Illinois</td>\n",
       "      <td>1957-03-04</td>\n",
       "      <td>1800</td>\n",
       "      <td>1888</td>\n",
       "    </tr>\n",
       "    <tr>\n",
       "      <th>3</th>\n",
       "      <td>ABBV</td>\n",
       "      <td>AbbVie</td>\n",
       "      <td>Health Care</td>\n",
       "      <td>Pharmaceuticals</td>\n",
       "      <td>North Chicago, Illinois</td>\n",
       "      <td>2012-12-31</td>\n",
       "      <td>1551152</td>\n",
       "      <td>2013 (1888)</td>\n",
       "    </tr>\n",
       "    <tr>\n",
       "      <th>4</th>\n",
       "      <td>ACN</td>\n",
       "      <td>Accenture</td>\n",
       "      <td>Information Technology</td>\n",
       "      <td>IT Consulting &amp; Other Services</td>\n",
       "      <td>Dublin, Ireland</td>\n",
       "      <td>2011-07-06</td>\n",
       "      <td>1467373</td>\n",
       "      <td>1989</td>\n",
       "    </tr>\n",
       "    <tr>\n",
       "      <th>...</th>\n",
       "      <td>...</td>\n",
       "      <td>...</td>\n",
       "      <td>...</td>\n",
       "      <td>...</td>\n",
       "      <td>...</td>\n",
       "      <td>...</td>\n",
       "      <td>...</td>\n",
       "      <td>...</td>\n",
       "    </tr>\n",
       "    <tr>\n",
       "      <th>498</th>\n",
       "      <td>YUM</td>\n",
       "      <td>Yum! Brands</td>\n",
       "      <td>Consumer Discretionary</td>\n",
       "      <td>Restaurants</td>\n",
       "      <td>Louisville, Kentucky</td>\n",
       "      <td>1997-10-06</td>\n",
       "      <td>1041061</td>\n",
       "      <td>1997</td>\n",
       "    </tr>\n",
       "    <tr>\n",
       "      <th>499</th>\n",
       "      <td>ZBRA</td>\n",
       "      <td>Zebra Technologies</td>\n",
       "      <td>Information Technology</td>\n",
       "      <td>Electronic Equipment &amp; Instruments</td>\n",
       "      <td>Lincolnshire, Illinois</td>\n",
       "      <td>2019-12-23</td>\n",
       "      <td>877212</td>\n",
       "      <td>1969</td>\n",
       "    </tr>\n",
       "    <tr>\n",
       "      <th>500</th>\n",
       "      <td>ZBH</td>\n",
       "      <td>Zimmer Biomet</td>\n",
       "      <td>Health Care</td>\n",
       "      <td>Health Care Equipment</td>\n",
       "      <td>Warsaw, Indiana</td>\n",
       "      <td>2001-08-07</td>\n",
       "      <td>1136869</td>\n",
       "      <td>1927</td>\n",
       "    </tr>\n",
       "    <tr>\n",
       "      <th>501</th>\n",
       "      <td>ZION</td>\n",
       "      <td>Zions Bancorporation</td>\n",
       "      <td>Financials</td>\n",
       "      <td>Regional Banks</td>\n",
       "      <td>Salt Lake City, Utah</td>\n",
       "      <td>2001-06-22</td>\n",
       "      <td>109380</td>\n",
       "      <td>1873</td>\n",
       "    </tr>\n",
       "    <tr>\n",
       "      <th>502</th>\n",
       "      <td>ZTS</td>\n",
       "      <td>Zoetis</td>\n",
       "      <td>Health Care</td>\n",
       "      <td>Pharmaceuticals</td>\n",
       "      <td>Parsippany, New Jersey</td>\n",
       "      <td>2013-06-21</td>\n",
       "      <td>1555280</td>\n",
       "      <td>1952</td>\n",
       "    </tr>\n",
       "  </tbody>\n",
       "</table>\n",
       "<p>503 rows × 8 columns</p>\n",
       "</div>"
      ],
      "text/plain": [
       "    Symbol              Security             GICS Sector  \\\n",
       "0      MMM                    3M             Industrials   \n",
       "1      AOS           A. O. Smith             Industrials   \n",
       "2      ABT                Abbott             Health Care   \n",
       "3     ABBV                AbbVie             Health Care   \n",
       "4      ACN             Accenture  Information Technology   \n",
       "..     ...                   ...                     ...   \n",
       "498    YUM           Yum! Brands  Consumer Discretionary   \n",
       "499   ZBRA    Zebra Technologies  Information Technology   \n",
       "500    ZBH         Zimmer Biomet             Health Care   \n",
       "501   ZION  Zions Bancorporation              Financials   \n",
       "502    ZTS                Zoetis             Health Care   \n",
       "\n",
       "                      GICS Sub-Industry    Headquarters Location  Date added  \\\n",
       "0              Industrial Conglomerates    Saint Paul, Minnesota  1957-03-04   \n",
       "1                     Building Products     Milwaukee, Wisconsin  2017-07-26   \n",
       "2                 Health Care Equipment  North Chicago, Illinois  1957-03-04   \n",
       "3                       Pharmaceuticals  North Chicago, Illinois  2012-12-31   \n",
       "4        IT Consulting & Other Services          Dublin, Ireland  2011-07-06   \n",
       "..                                  ...                      ...         ...   \n",
       "498                         Restaurants     Louisville, Kentucky  1997-10-06   \n",
       "499  Electronic Equipment & Instruments   Lincolnshire, Illinois  2019-12-23   \n",
       "500               Health Care Equipment          Warsaw, Indiana  2001-08-07   \n",
       "501                      Regional Banks     Salt Lake City, Utah  2001-06-22   \n",
       "502                     Pharmaceuticals   Parsippany, New Jersey  2013-06-21   \n",
       "\n",
       "         CIK      Founded  \n",
       "0      66740         1902  \n",
       "1      91142         1916  \n",
       "2       1800         1888  \n",
       "3    1551152  2013 (1888)  \n",
       "4    1467373         1989  \n",
       "..       ...          ...  \n",
       "498  1041061         1997  \n",
       "499   877212         1969  \n",
       "500  1136869         1927  \n",
       "501   109380         1873  \n",
       "502  1555280         1952  \n",
       "\n",
       "[503 rows x 8 columns]"
      ]
     },
     "execution_count": 2,
     "metadata": {},
     "output_type": "execute_result"
    }
   ],
   "source": [
    "pd.options.display.float_format = \"{:,.2f}\".format\n",
    "# Get dataset to sample some companies\n",
    "table = pd.read_html(\"https://en.wikipedia.org/wiki/List_of_S%26P_500_companies\")\n",
    "df = table[0]\n",
    "df  # show dataset in a dataframe format"
   ]
  },
  {
   "cell_type": "markdown",
   "id": "47bd3af6",
   "metadata": {},
   "source": [
    "For demonstrative purposes, we can consider a portfolio of $N=10$ stocks, pre-defined subset of the S \\& P 500 dataset for repeatability: "
   ]
  },
  {
   "cell_type": "code",
   "execution_count": 3,
   "id": "013d2700",
   "metadata": {},
   "outputs": [],
   "source": [
    "NUM_STOCKS = 10\n",
    "assets = [\n",
    "    \"NEM\",\n",
    "    \"KEYS\",\n",
    "    \"WM\",\n",
    "    \"CE\",\n",
    "    \"SYF\",\n",
    "    \"GIS\",\n",
    "    \"AAL\",\n",
    "    \"D\",\n",
    "    \"APH\",\n",
    "    \"AMGN\",\n",
    "]  # list of s & p tickers for assets"
   ]
  },
  {
   "cell_type": "markdown",
   "id": "7756c412",
   "metadata": {},
   "source": [
    "Given the selection of assets, we can then get the correlation matrix, $\\rho_{ij}$, between the choosen assets: "
   ]
  },
  {
   "cell_type": "code",
   "execution_count": 4,
   "id": "75c6426a",
   "metadata": {},
   "outputs": [
    {
     "name": "stdout",
     "output_type": "stream",
     "text": [
      "Loading correlation matrix:\n"
     ]
    },
    {
     "name": "stderr",
     "output_type": "stream",
     "text": [
      "100%|████████████████████████████████████| 10/10 [00:01<00:00,  5.88it/s]\n"
     ]
    },
    {
     "data": {
      "text/html": [
       "<div>\n",
       "<style scoped>\n",
       "    .dataframe tbody tr th:only-of-type {\n",
       "        vertical-align: middle;\n",
       "    }\n",
       "\n",
       "    .dataframe tbody tr th {\n",
       "        vertical-align: top;\n",
       "    }\n",
       "\n",
       "    .dataframe thead th {\n",
       "        text-align: right;\n",
       "    }\n",
       "</style>\n",
       "<table border=\"1\" class=\"dataframe\">\n",
       "  <thead>\n",
       "    <tr style=\"text-align: right;\">\n",
       "      <th>symbol</th>\n",
       "      <th>AAL</th>\n",
       "      <th>AMGN</th>\n",
       "      <th>APH</th>\n",
       "      <th>CE</th>\n",
       "      <th>D</th>\n",
       "      <th>GIS</th>\n",
       "      <th>KEYS</th>\n",
       "      <th>NEM</th>\n",
       "      <th>SYF</th>\n",
       "      <th>WM</th>\n",
       "    </tr>\n",
       "    <tr>\n",
       "      <th>symbol</th>\n",
       "      <th></th>\n",
       "      <th></th>\n",
       "      <th></th>\n",
       "      <th></th>\n",
       "      <th></th>\n",
       "      <th></th>\n",
       "      <th></th>\n",
       "      <th></th>\n",
       "      <th></th>\n",
       "      <th></th>\n",
       "    </tr>\n",
       "  </thead>\n",
       "  <tbody>\n",
       "    <tr>\n",
       "      <th>AAL</th>\n",
       "      <td>1.00</td>\n",
       "      <td>-0.80</td>\n",
       "      <td>-0.62</td>\n",
       "      <td>-0.28</td>\n",
       "      <td>-0.55</td>\n",
       "      <td>-0.72</td>\n",
       "      <td>-0.75</td>\n",
       "      <td>-0.70</td>\n",
       "      <td>-0.04</td>\n",
       "      <td>-0.70</td>\n",
       "    </tr>\n",
       "    <tr>\n",
       "      <th>AMGN</th>\n",
       "      <td>-0.80</td>\n",
       "      <td>1.00</td>\n",
       "      <td>0.77</td>\n",
       "      <td>0.41</td>\n",
       "      <td>0.47</td>\n",
       "      <td>0.86</td>\n",
       "      <td>0.80</td>\n",
       "      <td>0.71</td>\n",
       "      <td>0.26</td>\n",
       "      <td>0.79</td>\n",
       "    </tr>\n",
       "    <tr>\n",
       "      <th>APH</th>\n",
       "      <td>-0.62</td>\n",
       "      <td>0.77</td>\n",
       "      <td>1.00</td>\n",
       "      <td>0.73</td>\n",
       "      <td>0.40</td>\n",
       "      <td>0.85</td>\n",
       "      <td>0.95</td>\n",
       "      <td>0.66</td>\n",
       "      <td>0.68</td>\n",
       "      <td>0.94</td>\n",
       "    </tr>\n",
       "    <tr>\n",
       "      <th>CE</th>\n",
       "      <td>-0.28</td>\n",
       "      <td>0.41</td>\n",
       "      <td>0.73</td>\n",
       "      <td>1.00</td>\n",
       "      <td>0.45</td>\n",
       "      <td>0.36</td>\n",
       "      <td>0.70</td>\n",
       "      <td>0.63</td>\n",
       "      <td>0.86</td>\n",
       "      <td>0.64</td>\n",
       "    </tr>\n",
       "    <tr>\n",
       "      <th>D</th>\n",
       "      <td>-0.55</td>\n",
       "      <td>0.47</td>\n",
       "      <td>0.40</td>\n",
       "      <td>0.45</td>\n",
       "      <td>1.00</td>\n",
       "      <td>0.37</td>\n",
       "      <td>0.47</td>\n",
       "      <td>0.64</td>\n",
       "      <td>0.22</td>\n",
       "      <td>0.51</td>\n",
       "    </tr>\n",
       "    <tr>\n",
       "      <th>GIS</th>\n",
       "      <td>-0.72</td>\n",
       "      <td>0.86</td>\n",
       "      <td>0.85</td>\n",
       "      <td>0.36</td>\n",
       "      <td>0.37</td>\n",
       "      <td>1.00</td>\n",
       "      <td>0.82</td>\n",
       "      <td>0.60</td>\n",
       "      <td>0.32</td>\n",
       "      <td>0.88</td>\n",
       "    </tr>\n",
       "    <tr>\n",
       "      <th>KEYS</th>\n",
       "      <td>-0.75</td>\n",
       "      <td>0.80</td>\n",
       "      <td>0.95</td>\n",
       "      <td>0.70</td>\n",
       "      <td>0.47</td>\n",
       "      <td>0.82</td>\n",
       "      <td>1.00</td>\n",
       "      <td>0.67</td>\n",
       "      <td>0.63</td>\n",
       "      <td>0.95</td>\n",
       "    </tr>\n",
       "    <tr>\n",
       "      <th>NEM</th>\n",
       "      <td>-0.70</td>\n",
       "      <td>0.71</td>\n",
       "      <td>0.66</td>\n",
       "      <td>0.63</td>\n",
       "      <td>0.64</td>\n",
       "      <td>0.60</td>\n",
       "      <td>0.67</td>\n",
       "      <td>1.00</td>\n",
       "      <td>0.35</td>\n",
       "      <td>0.63</td>\n",
       "    </tr>\n",
       "    <tr>\n",
       "      <th>SYF</th>\n",
       "      <td>-0.04</td>\n",
       "      <td>0.26</td>\n",
       "      <td>0.68</td>\n",
       "      <td>0.86</td>\n",
       "      <td>0.22</td>\n",
       "      <td>0.32</td>\n",
       "      <td>0.63</td>\n",
       "      <td>0.35</td>\n",
       "      <td>1.00</td>\n",
       "      <td>0.58</td>\n",
       "    </tr>\n",
       "    <tr>\n",
       "      <th>WM</th>\n",
       "      <td>-0.70</td>\n",
       "      <td>0.79</td>\n",
       "      <td>0.94</td>\n",
       "      <td>0.64</td>\n",
       "      <td>0.51</td>\n",
       "      <td>0.88</td>\n",
       "      <td>0.95</td>\n",
       "      <td>0.63</td>\n",
       "      <td>0.58</td>\n",
       "      <td>1.00</td>\n",
       "    </tr>\n",
       "  </tbody>\n",
       "</table>\n",
       "</div>"
      ],
      "text/plain": [
       "symbol   AAL  AMGN   APH    CE     D   GIS  KEYS   NEM   SYF    WM\n",
       "symbol                                                            \n",
       "AAL     1.00 -0.80 -0.62 -0.28 -0.55 -0.72 -0.75 -0.70 -0.04 -0.70\n",
       "AMGN   -0.80  1.00  0.77  0.41  0.47  0.86  0.80  0.71  0.26  0.79\n",
       "APH    -0.62  0.77  1.00  0.73  0.40  0.85  0.95  0.66  0.68  0.94\n",
       "CE     -0.28  0.41  0.73  1.00  0.45  0.36  0.70  0.63  0.86  0.64\n",
       "D      -0.55  0.47  0.40  0.45  1.00  0.37  0.47  0.64  0.22  0.51\n",
       "GIS    -0.72  0.86  0.85  0.36  0.37  1.00  0.82  0.60  0.32  0.88\n",
       "KEYS   -0.75  0.80  0.95  0.70  0.47  0.82  1.00  0.67  0.63  0.95\n",
       "NEM    -0.70  0.71  0.66  0.63  0.64  0.60  0.67  1.00  0.35  0.63\n",
       "SYF    -0.04  0.26  0.68  0.86  0.22  0.32  0.63  0.35  1.00  0.58\n",
       "WM     -0.70  0.79  0.94  0.64  0.51  0.88  0.95  0.63  0.58  1.00"
      ]
     },
     "execution_count": 4,
     "metadata": {},
     "output_type": "execute_result"
    }
   ],
   "source": [
    "corr_matrix_df = get_correlation_matrix(assets)\n",
    "corr_matrix_df"
   ]
  },
  {
   "cell_type": "markdown",
   "id": "5b9625e5",
   "metadata": {},
   "source": [
    "Next, we get the expected return and the corresponding volatility for our sample of assets for a given time frame (for example, 1 month). They are a put into a dataframe as columns:"
   ]
  },
  {
   "cell_type": "code",
   "execution_count": 5,
   "id": "29d1cc44",
   "metadata": {},
   "outputs": [
    {
     "name": "stdout",
     "output_type": "stream",
     "text": [
      "Loading expected returns and risks:\n"
     ]
    },
    {
     "name": "stderr",
     "output_type": "stream",
     "text": [
      "100%|████████████████████████████████████| 10/10 [00:01<00:00,  6.43it/s]\n"
     ]
    },
    {
     "data": {
      "text/html": [
       "<div>\n",
       "<style scoped>\n",
       "    .dataframe tbody tr th:only-of-type {\n",
       "        vertical-align: middle;\n",
       "    }\n",
       "\n",
       "    .dataframe tbody tr th {\n",
       "        vertical-align: top;\n",
       "    }\n",
       "\n",
       "    .dataframe thead th {\n",
       "        text-align: right;\n",
       "    }\n",
       "</style>\n",
       "<table border=\"1\" class=\"dataframe\">\n",
       "  <thead>\n",
       "    <tr style=\"text-align: right;\">\n",
       "      <th></th>\n",
       "      <th>ret</th>\n",
       "      <th>vol</th>\n",
       "    </tr>\n",
       "  </thead>\n",
       "  <tbody>\n",
       "    <tr>\n",
       "      <th>NEM</th>\n",
       "      <td>0.08</td>\n",
       "      <td>0.33</td>\n",
       "    </tr>\n",
       "    <tr>\n",
       "      <th>KEYS</th>\n",
       "      <td>0.27</td>\n",
       "      <td>0.29</td>\n",
       "    </tr>\n",
       "    <tr>\n",
       "      <th>WM</th>\n",
       "      <td>0.15</td>\n",
       "      <td>0.19</td>\n",
       "    </tr>\n",
       "    <tr>\n",
       "      <th>CE</th>\n",
       "      <td>0.01</td>\n",
       "      <td>0.32</td>\n",
       "    </tr>\n",
       "    <tr>\n",
       "      <th>SYF</th>\n",
       "      <td>-0.02</td>\n",
       "      <td>0.42</td>\n",
       "    </tr>\n",
       "    <tr>\n",
       "      <th>GIS</th>\n",
       "      <td>0.12</td>\n",
       "      <td>0.19</td>\n",
       "    </tr>\n",
       "    <tr>\n",
       "      <th>AAL</th>\n",
       "      <td>-0.21</td>\n",
       "      <td>0.46</td>\n",
       "    </tr>\n",
       "    <tr>\n",
       "      <th>D</th>\n",
       "      <td>-0.04</td>\n",
       "      <td>0.19</td>\n",
       "    </tr>\n",
       "    <tr>\n",
       "      <th>APH</th>\n",
       "      <td>0.12</td>\n",
       "      <td>0.26</td>\n",
       "    </tr>\n",
       "    <tr>\n",
       "      <th>AMGN</th>\n",
       "      <td>0.09</td>\n",
       "      <td>0.24</td>\n",
       "    </tr>\n",
       "  </tbody>\n",
       "</table>\n",
       "</div>"
      ],
      "text/plain": [
       "       ret  vol\n",
       "NEM   0.08 0.33\n",
       "KEYS  0.27 0.29\n",
       "WM    0.15 0.19\n",
       "CE    0.01 0.32\n",
       "SYF  -0.02 0.42\n",
       "GIS   0.12 0.19\n",
       "AAL  -0.21 0.46\n",
       "D    -0.04 0.19\n",
       "APH   0.12 0.26\n",
       "AMGN  0.09 0.24"
      ]
     },
     "execution_count": 5,
     "metadata": {},
     "output_type": "execute_result"
    }
   ],
   "source": [
    "ret_and_vol = get_return_and_risk(assets, time_period=\"1mo\")\n",
    "ret_and_vol"
   ]
  },
  {
   "cell_type": "markdown",
   "id": "6f3bf200",
   "metadata": {},
   "source": [
    "For formulation as a QUBO, we introduce discretization of our weights:\n",
    "\n",
    "$$ w_{a_i} = \\sum_{j=1}^{N} d_j x_{ij} $$"
   ]
  },
  {
   "cell_type": "code",
   "execution_count": 6,
   "id": "7683919e",
   "metadata": {},
   "outputs": [],
   "source": [
    "N = len(assets)\n",
    "discretization = 9  # parameter used in the discretization process\n",
    "x = create_variables(assets, discretization)"
   ]
  },
  {
   "cell_type": "markdown",
   "id": "20b87aa0",
   "metadata": {},
   "source": [
    "We then reformulate the expected return and volatility with the binary variables, imposing the weight constraint stated in the beginning: "
   ]
  },
  {
   "cell_type": "code",
   "execution_count": 7,
   "id": "8a1e46ff",
   "metadata": {},
   "outputs": [
    {
     "name": "stdout",
     "output_type": "stream",
     "text": [
      "Creating weight constraint...\n"
     ]
    },
    {
     "name": "stderr",
     "output_type": "stream",
     "text": [
      "100%|██████████████████████████████████| 90/90 [00:00<00:00, 8946.89it/s]\n"
     ]
    },
    {
     "name": "stdout",
     "output_type": "stream",
     "text": [
      "Creating objective function...\n"
     ]
    },
    {
     "name": "stderr",
     "output_type": "stream",
     "text": [
      "100%|████████████████████████████████████| 10/10 [00:00<00:00, 44.36it/s]\n"
     ]
    }
   ],
   "source": [
    "expected_return, volatility, weight_constraint = create_expected_return_and_volatility_expressions(\n",
    "    assets, x, ret_and_vol, corr_matrix_df\n",
    ")"
   ]
  },
  {
   "attachments": {},
   "cell_type": "markdown",
   "id": "5d90a58f",
   "metadata": {},
   "source": [
    "For our Sharpe ratio optimization as a QUBO, we create an objective function of the form: \n",
    "\n",
    "$$ \\text{obj} = kE[R_{P}] - (1-k)\\sigma_{P}^2 $$\n",
    "\n",
    "with a hyperparameter, $k$, that is preset and tuned to find the optimal Sharpe ratio."
   ]
  },
  {
   "cell_type": "code",
   "execution_count": 8,
   "id": "85483d36",
   "metadata": {},
   "outputs": [],
   "source": [
    "k = 0.8\n",
    "obj = create_objective_function(expected_return, volatility, weight_constraint, k)"
   ]
  },
  {
   "cell_type": "markdown",
   "id": "867320d6",
   "metadata": {},
   "source": [
    "Finally, we utilize the functionality in QBSolv and qubovert packages solve optimization problem of our objective function as a QUBO using the simulated annealing technique: "
   ]
  },
  {
   "cell_type": "code",
   "execution_count": 9,
   "id": "3aa6ef06",
   "metadata": {},
   "outputs": [],
   "source": [
    "obj_QUBO = obj.to_qubo()  # converts our objective function into a QUBO\n",
    "sampler = neal.SimulatedAnnealingSampler()  # simulated annealing sampler to solve QUBO\n",
    "response = QBSolv().sample_qubo(obj_QUBO.Q, solver=sampler, solver_limit=50)"
   ]
  },
  {
   "cell_type": "markdown",
   "id": "f7b309fa",
   "metadata": {},
   "source": [
    "Based on the solution set obtained from simulated annealing, we update the best Sharpe ratio using the portfolio information,"
   ]
  },
  {
   "cell_type": "code",
   "execution_count": 10,
   "id": "83579735",
   "metadata": {},
   "outputs": [],
   "source": [
    "best_sharpe_ratio = float(\"-inf\")  # Set Sharpe ratio at the lowest at the start to compare\n",
    "best_portfolio = None\n",
    "for (\n",
    "    sol\n",
    ") in (\n",
    "    response\n",
    "):  # Loops over the simulated annealing solutions to classically post-process the best Sharpe ratio\n",
    "    solution = obj.convert_solution(sol)\n",
    "    portfolio = get_portfolio_information(solution, assets, ret_and_vol, corr_matrix_df)\n",
    "    if portfolio[\"sharpe\"] > best_sharpe_ratio:\n",
    "        best_sharpe_ratio = portfolio[\"sharpe\"]\n",
    "        best_portfolio = portfolio"
   ]
  },
  {
   "cell_type": "markdown",
   "id": "bdb1b34f",
   "metadata": {},
   "source": [
    "and output the value of the expected return, risk, and value of the Sharpe ratio:"
   ]
  },
  {
   "cell_type": "code",
   "execution_count": 11,
   "id": "6233d33a",
   "metadata": {},
   "outputs": [
    {
     "name": "stdout",
     "output_type": "stream",
     "text": [
      "The expected return value is: 0.14\n",
      "The portfolio risk is: 0.25\n",
      "The Sharpe ratio for the best portfolio 0.58\n"
     ]
    }
   ],
   "source": [
    "print(\"The expected return value is:\", round(best_portfolio[\"return\"], 2))\n",
    "print(\"The portfolio risk is:\", round(best_portfolio[\"risk\"], 2))\n",
    "print(\"The Sharpe ratio for the best portfolio\", round(best_portfolio[\"sharpe\"], 2))"
   ]
  },
  {
   "cell_type": "markdown",
   "id": "ff547959",
   "metadata": {},
   "source": [
    "Lastly, we can view what the optimal stocks and their corresponding weights are in our portfolio:"
   ]
  },
  {
   "cell_type": "code",
   "execution_count": 12,
   "id": "645d471a",
   "metadata": {},
   "outputs": [],
   "source": [
    "fin_portfolio = pd.DataFrame(\n",
    "    best_portfolio[\"weights\"], [\"weights\"]\n",
    ")  # Output portfolio as a dictionary with asset tickers as keys with corresponding asset weight in portfolio"
   ]
  },
  {
   "cell_type": "code",
   "execution_count": 13,
   "id": "2ab107e8",
   "metadata": {},
   "outputs": [
    {
     "data": {
      "text/html": [
       "<div>\n",
       "<style scoped>\n",
       "    .dataframe tbody tr th:only-of-type {\n",
       "        vertical-align: middle;\n",
       "    }\n",
       "\n",
       "    .dataframe tbody tr th {\n",
       "        vertical-align: top;\n",
       "    }\n",
       "\n",
       "    .dataframe thead th {\n",
       "        text-align: right;\n",
       "    }\n",
       "</style>\n",
       "<table border=\"1\" class=\"dataframe\">\n",
       "  <thead>\n",
       "    <tr style=\"text-align: right;\">\n",
       "      <th></th>\n",
       "      <th>NEM</th>\n",
       "      <th>KEYS</th>\n",
       "      <th>WM</th>\n",
       "      <th>CE</th>\n",
       "      <th>SYF</th>\n",
       "      <th>GIS</th>\n",
       "      <th>AAL</th>\n",
       "      <th>D</th>\n",
       "      <th>APH</th>\n",
       "      <th>AMGN</th>\n",
       "    </tr>\n",
       "  </thead>\n",
       "  <tbody>\n",
       "    <tr>\n",
       "      <th>weights</th>\n",
       "      <td>0.14</td>\n",
       "      <td>0.31</td>\n",
       "      <td>0.33</td>\n",
       "      <td>0.00</td>\n",
       "      <td>0.19</td>\n",
       "      <td>0.01</td>\n",
       "      <td>0.00</td>\n",
       "      <td>0.00</td>\n",
       "      <td>0.00</td>\n",
       "      <td>0.02</td>\n",
       "    </tr>\n",
       "  </tbody>\n",
       "</table>\n",
       "</div>"
      ],
      "text/plain": [
       "         NEM  KEYS   WM   CE  SYF  GIS  AAL    D  APH  AMGN\n",
       "weights 0.14  0.31 0.33 0.00 0.19 0.01 0.00 0.00 0.00  0.02"
      ]
     },
     "execution_count": 13,
     "metadata": {},
     "output_type": "execute_result"
    }
   ],
   "source": [
    "# Printing our output portfolio\n",
    "fin_portfolio"
   ]
  },
  {
   "cell_type": "code",
   "execution_count": 14,
   "id": "00fe4d3e",
   "metadata": {},
   "outputs": [
    {
     "data": {
      "text/plain": [
       "1.0"
      ]
     },
     "execution_count": 14,
     "metadata": {},
     "output_type": "execute_result"
    }
   ],
   "source": [
    "sum(best_portfolio[\"weights\"].values())  # Check to see the weight constraint is satisfied"
   ]
  }
 ],
 "metadata": {
  "kernelspec": {
   "display_name": "ss_client_jupyter_nenv",
   "language": "python",
   "name": "ss_client_jupyter_nenv"
  },
  "language_info": {
   "codemirror_mode": {
    "name": "ipython",
    "version": 3
   },
   "file_extension": ".py",
   "mimetype": "text/x-python",
   "name": "python",
   "nbconvert_exporter": "python",
   "pygments_lexer": "ipython3",
   "version": "3.8.10"
  },
  "vscode": {
   "interpreter": {
    "hash": "8cdab4a4226358d86a2b211fd094900d0744848f2589871a1b1cd81a6127e95d"
   }
  }
 },
 "nbformat": 4,
 "nbformat_minor": 5
}
