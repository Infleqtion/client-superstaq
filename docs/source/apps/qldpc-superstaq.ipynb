{
 "cells": [
  {
   "cell_type": "code",
   "execution_count": 1,
   "id": "a7206de1-11ea-43f7-9acf-7431157e447e",
   "metadata": {},
   "outputs": [
    {
     "name": "stdout",
     "output_type": "stream",
     "text": [
      "env: SUPERSTAQ_API_KEY=fa515f2fff2dad66cc1c0797ee98c66fa275b13ecc86e3ff81e2ce88f280a739\n"
     ]
    }
   ],
   "source": [
    "%env SUPERSTAQ_API_KEY=fa515f2fff2dad66cc1c0797ee98c66fa275b13ecc86e3ff81e2ce88f280a739"
   ]
  },
  {
   "cell_type": "code",
   "execution_count": 14,
   "id": "888b37e7-3d53-4809-9b2f-1329904d415d",
   "metadata": {},
   "outputs": [
    {
     "name": "stdout",
     "output_type": "stream",
     "text": [
      "env: SUPERSTAQ_REMOTE_HOST=https://127.0.0.1:5000\n"
     ]
    }
   ],
   "source": [
    "%env SUPERSTAQ_REMOTE_HOST=https://127.0.0.1:5000"
   ]
  },
  {
   "cell_type": "code",
   "execution_count": 9,
   "id": "9a17309c-3057-46cd-ad5d-34d26350851f",
   "metadata": {},
   "outputs": [],
   "source": [
    "import stimcirq\n",
    "from qldpc import circuits, codes\n",
    "import cirq_superstaq as css\n",
    "code = codes.SteaneCode()\n",
    "circuit = circuits.get_memory_experiment(code, num_rounds=1)\n",
    "circuit= stimcirq.stim_circuit_to_cirq_circuit(circuit)"
   ]
  },
  {
   "cell_type": "code",
   "execution_count": 10,
   "id": "39735ae6-ed68-4faf-984e-04fad27bd0cc",
   "metadata": {},
   "outputs": [
    {
     "data": {
      "text/html": [
       "<pre style=\"overflow: auto; white-space: pre;\">                ┌───┐   ┌───┐   ┌───┐   ┌──────┐   ┌───┐   ┌───┐   ┌──────────┐\n",
       "(0, 0): ───RX──────────────────────────────X──────────────────────────@───────────MX(&#x27;6&#x27;)───────────────────────\n",
       "                                           │                          │\n",
       "(0, 1): ───RX─────────────────────────────X┼─────────────────────────@┼───────────MX(&#x27;7&#x27;)───────────────────────\n",
       "                                          ││                         ││\n",
       "(0, 2): ───RX──────X──────────────X───────┼┼─@────────@──────────────┼┼───────────MX(&#x27;8&#x27;)───────────────────────\n",
       "                   │              │       ││ │        │              ││\n",
       "(0, 3): ───RX──────┼──────────────┼──────X┼┼─┼────────┼─────────────@┼┼───────────MX(&#x27;9&#x27;)───────────────────────\n",
       "                   │              │      │││ │        │             │││\n",
       "(0, 4): ───RX──────┼─────X────────┼X─────┼┼┼@┼────────┼───────@─────┼┼┼───────────MX(&#x27;10&#x27;)──────────────────────\n",
       "                   │     │        ││     │││││        │       │     │││\n",
       "(0, 5): ───RX────X─┼─────┼X───────┼┼─────┼┼┼┼┼──────@─┼──────@┼─────┼┼┼───────────MX(&#x27;11&#x27;)──────────────────────\n",
       "                 │ │     ││       ││     │││││      │ │      ││     │││\n",
       "(0, 6): ───RX────┼X┼─────┼┼X─────X┼┼─────┼┼┼┼┼@─────┼@┼─────@┼┼─────┼┼┼───────────MX(&#x27;12&#x27;)──────────────────────\n",
       "                 │││     │││     │││     ││││││     │││     │││     │││\n",
       "(1, 0): ───RX────@┼┼─────@┼┼─────@┼┼─────@┼┼┼┼┼─────┼┼┼─────┼┼┼─────┼┼┼MX(&#x27;0&#x27;)──────────────────────────────────\n",
       "                  ││      ││      ││      │││││     │││     │││     │││\n",
       "(1, 1): ───RX─────@┼──────@┼──────@┼──────@┼┼┼┼─────┼┼┼─────┼┼┼─────┼┼┼MX(&#x27;1&#x27;)──────────────────────────────────\n",
       "                   │       │       │       ││││     │││     │││     │││\n",
       "(1, 2): ───RX──────@───────@───────@───────@┼┼┼─────┼┼┼─────┼┼┼─────┼┼┼MX(&#x27;2&#x27;)──────────────────────────────────\n",
       "                                            │││     │││     │││     │││\n",
       "(1, 3): ───RX───────────────────────────────@┼┼─────@┼┼─────@┼┼─────@┼┼───────────MX(&#x27;3&#x27;)───────────────────────\n",
       "                                             ││      ││      ││      ││\n",
       "(1, 4): ───RX────────────────────────────────@┼──────@┼──────@┼──────@┼───────────MX(&#x27;4&#x27;)───────────────────────\n",
       "                                              │       │       │       │\n",
       "(1, 5): ───RX─────────────────────────────────@───────@───────@───────@───────────MX(&#x27;5&#x27;)───────────────────────\n",
       "                                                                                  Det(&#x27;0&#x27;)\n",
       "                                                                                  Det(&#x27;1&#x27;)\n",
       "                                                                                  Det(&#x27;2&#x27;)\n",
       "                                                                                  Det(&#x27;0&#x27;,&#x27;10&#x27;,&#x27;11&#x27;,&#x27;12&#x27;,&#x27;9&#x27;)\n",
       "                                                                                  Det(&#x27;1&#x27;,&#x27;11&#x27;,&#x27;12&#x27;,&#x27;7&#x27;,&#x27;8&#x27;)\n",
       "                                                                                  Det(&#x27;10&#x27;,&#x27;12&#x27;,&#x27;2&#x27;,&#x27;6&#x27;,&#x27;8&#x27;)\n",
       "                                                                                  Obs0(&#x27;10&#x27;,&#x27;11&#x27;,&#x27;8&#x27;)\n",
       "                └───┘   └───┘   └───┘   └──────┘   └───┘   └───┘   └──────────┘</pre>"
      ],
      "text/plain": [
       "                ┌───┐   ┌───┐   ┌───┐   ┌──────┐   ┌───┐   ┌───┐   ┌──────────┐\n",
       "(0, 0): ───RX──────────────────────────────X──────────────────────────@───────────MX('6')───────────────────────\n",
       "                                           │                          │\n",
       "(0, 1): ───RX─────────────────────────────X┼─────────────────────────@┼───────────MX('7')───────────────────────\n",
       "                                          ││                         ││\n",
       "(0, 2): ───RX──────X──────────────X───────┼┼─@────────@──────────────┼┼───────────MX('8')───────────────────────\n",
       "                   │              │       ││ │        │              ││\n",
       "(0, 3): ───RX──────┼──────────────┼──────X┼┼─┼────────┼─────────────@┼┼───────────MX('9')───────────────────────\n",
       "                   │              │      │││ │        │             │││\n",
       "(0, 4): ───RX──────┼─────X────────┼X─────┼┼┼@┼────────┼───────@─────┼┼┼───────────MX('10')──────────────────────\n",
       "                   │     │        ││     │││││        │       │     │││\n",
       "(0, 5): ───RX────X─┼─────┼X───────┼┼─────┼┼┼┼┼──────@─┼──────@┼─────┼┼┼───────────MX('11')──────────────────────\n",
       "                 │ │     ││       ││     │││││      │ │      ││     │││\n",
       "(0, 6): ───RX────┼X┼─────┼┼X─────X┼┼─────┼┼┼┼┼@─────┼@┼─────@┼┼─────┼┼┼───────────MX('12')──────────────────────\n",
       "                 │││     │││     │││     ││││││     │││     │││     │││\n",
       "(1, 0): ───RX────@┼┼─────@┼┼─────@┼┼─────@┼┼┼┼┼─────┼┼┼─────┼┼┼─────┼┼┼MX('0')──────────────────────────────────\n",
       "                  ││      ││      ││      │││││     │││     │││     │││\n",
       "(1, 1): ───RX─────@┼──────@┼──────@┼──────@┼┼┼┼─────┼┼┼─────┼┼┼─────┼┼┼MX('1')──────────────────────────────────\n",
       "                   │       │       │       ││││     │││     │││     │││\n",
       "(1, 2): ───RX──────@───────@───────@───────@┼┼┼─────┼┼┼─────┼┼┼─────┼┼┼MX('2')──────────────────────────────────\n",
       "                                            │││     │││     │││     │││\n",
       "(1, 3): ───RX───────────────────────────────@┼┼─────@┼┼─────@┼┼─────@┼┼───────────MX('3')───────────────────────\n",
       "                                             ││      ││      ││      ││\n",
       "(1, 4): ───RX────────────────────────────────@┼──────@┼──────@┼──────@┼───────────MX('4')───────────────────────\n",
       "                                              │       │       │       │\n",
       "(1, 5): ───RX─────────────────────────────────@───────@───────@───────@───────────MX('5')───────────────────────\n",
       "                                                                                  Det('0')\n",
       "                                                                                  Det('1')\n",
       "                                                                                  Det('2')\n",
       "                                                                                  Det('0','10','11','12','9')\n",
       "                                                                                  Det('1','11','12','7','8')\n",
       "                                                                                  Det('10','12','2','6','8')\n",
       "                                                                                  Obs0('10','11','8')\n",
       "                └───┘   └───┘   └───┘   └──────┘   └───┘   └───┘   └──────────┘"
      ]
     },
     "execution_count": 10,
     "metadata": {},
     "output_type": "execute_result"
    }
   ],
   "source": [
    "circuit"
   ]
  },
  {
   "cell_type": "code",
   "execution_count": 17,
   "id": "12484858-8741-4f6e-a90f-61f5da807831",
   "metadata": {},
   "outputs": [
    {
     "name": "stderr",
     "output_type": "stream",
     "text": [
      "/home/victory/pyLIQTR/.venv/lib/python3.10/site-packages/urllib3/connectionpool.py:1097: InsecureRequestWarning: Unverified HTTPS request is being made to host '127.0.0.1'. Adding certificate verification is strongly advised. See: https://urllib3.readthedocs.io/en/latest/advanced-usage.html#tls-warnings\n",
      "  warnings.warn(\n"
     ]
    },
    {
     "name": "stdout",
     "output_type": "stream",
     "text": [
      "0: ──────────────RGate(0.5π, 0)──────────────RGate(0.5π, -0.5π)───────────────RGate(-0.5π, -0.5π)───────RGate(0.5π, -0.5π)───\n",
      "                 │                           │                                │                         │\n",
      "1: ──────────────#2──────────────────────────#2───────────────────────────────#2────────────────────────#2───────────────────\n",
      "                 │                           │                                │                         │\n",
      "2: ──────────────#3──────────────────────────#3───────────────────────────────#3────────────────────────#3───────────────────\n",
      "                 │                           │                                │                         │\n",
      "3: ──────────────#4──────────────────────────#4───────────────────────────────#4────────────────────────#4───────────────────\n",
      "                 │                           │                                │                         │\n",
      "4: ──────────────#5──────────────────────────#5───────────────────────────────#5────────────────────────#5───────────────────\n",
      "                 │                           │                                │                         │\n",
      "5: ──────────────#6──────────────────────────#6───────────────────────────────#6────────────────────────#6───────────────────\n",
      "                 │                           │                                │                         │\n",
      "6: ──────────────#7──────────────────────────#7───────────────────────────────#7────────────────────────#7───────────────────\n",
      "                 │                           │                                │                         │\n",
      "7: ──────────────#8──────────────────────────#8───────────────────@───@───────#8────────────────────────#8───────────────────\n",
      "                 │                           │                    │   │       │                         │\n",
      "8: ──────────────#9───────────────S──────────#9───────────────────┼───@───────#9────────────────────────#9───────────────────\n",
      "                 │                           │                    │           │                         │\n",
      "9: ──────────────#10──────────────S──────────#10──────────────────┼───────────#10───────────────────────#10──────────────────\n",
      "                 │                           │                    │           │                         │\n",
      "10: ───Z─────────#11─────────────────────────#11──────────────────┼───────────#11───────────────────────#11──────────────────\n",
      "                 │                           │                    │           │                         │\n",
      "11: ─────────────#12─────────────────────────#12──────────────────┼───────────#12───────────────────────#12──────────────────\n",
      "                 │                           │                    │           │                         │\n",
      "12: ─────────────#13─────────────────────────#13──────────────────┼───────────#13───────────────────────#13──────────────────\n",
      "                 │                           │                    │           │                         │\n",
      "13: ─────────────#14──────────────S──────────#14──────────────────@───@───S───#14───────────────────S───#14──────────────────\n",
      "                 │                           │                        │       │                         │\n",
      "14: ───Z^0.124───#15──────────────Z^-0.383───#15──────────────────────┼───────#15───────────────────────#15──────────────────\n",
      "                 │                           │                        │       │                         │\n",
      "15: ───Z─────────#16─────────────────────────#16──────────────────────┼───────#16───────────────────────#16──────────────────\n",
      "                 │                           │                        │       │                         │\n",
      "16: ─────────────#17─────────────────────────#17──────────────────────┼───────#17───────────────────────#17──────────────────\n",
      "                 │                           │                        │       │                         │\n",
      "17: ─────────────#18─────────────────────────#18──────────────────────┼───────#18───────────────────────#18──────────────────\n",
      "                 │                           │                        │       │                         │\n",
      "18: ─────────────#19─────────────────────────#19──────────────────────┼───────#19───────────────────────#19──────────────────\n",
      "                 │                           │                        │       │                         │\n",
      "19: ─────────────#20─────────────────────────#20──────────────────@───@───S───#20───────────────────S───#20──────────────────\n",
      "                 │                           │                    │           │                         │\n",
      "20: ───S^-1──────#21─────────────────────────#21──────────────────┼───────────#21───────────────────────#21──────────────────\n",
      "                 │                           │                    │           │                         │\n",
      "21: ─────────────#22─────────────────────────#22──────────────────┼───────────#22───────────────────────#22──────────────────\n",
      "                 │                           │                    │           │                         │\n",
      "22: ─────────────#23─────────────────────────#23──────────────────┼───────────#23───────────────────────#23──────────────────\n",
      "                 │                           │                    │           │                         │\n",
      "23: ─────────────#24─────────────────────────#24──────────────────┼───────────#24───────────────────────#24──────────────────\n",
      "                 │                           │                    │           │                         │\n",
      "24: ─────────────#25─────────────────────────#25──────────────────┼───────────#25───────────────────────#25──────────────────\n",
      "                 │                           │                    │           │                         │\n",
      "25: ─────────────#26──────────────S──────────#26──────────────────@───@───────#26───────────────────S───#26──────────────────\n",
      "                 │                           │                        │       │                         │\n",
      "26: ─────────────#27─────────────────────────#27──────────────────@───@───────#27───────────────────S───#27──────────────────\n",
      "                 │                           │                    │           │                         │\n",
      "27: ─────────────#28──────────────S──────────#28──────────────────@───────────#28───────────────────────#28──────────────────\n",
      "                 │                           │                                │                         │\n",
      "28: ─────────────#29─────────────────────────#29──────────────────────────────#29───────────────────────#29──────────────────\n",
      "                 │                           │                                │                         │\n",
      "29: ─────────────#30─────────────────────────#30──────────────────────────────#30───────────────────────#30──────────────────\n",
      "                 │                           │                                │                         │\n",
      "30: ─────────────#31─────────────────────────#31──────────────────────────────#31───────────────────────#31──────────────────\n",
      "                 │                           │                                │                         │\n",
      "31: ─────────────#32─────────────────────────#32──────────────────────────────#32───────────────────────#32──────────────────\n",
      "                 │                           │                                │                         │\n",
      "32: ─────────────#33─────────────────────────#33──────────────────────────────#33───────────────────────#33──────────────────\n",
      "                 │                           │                                │                         │\n",
      "33: ─────────────#34─────────────────────────#34──────────────────────────────#34───────────────────────#34──────────────────\n",
      "                 │                           │                                │                         │\n",
      "34: ─────────────#35─────────────────────────#35──────────────────────────────#35───────────────────────#35──────────────────\n",
      "                 │                           │                                │                         │\n",
      "35: ─────────────#36─────────────────────────#36──────────────────────────────#36───────────────────────#36──────────────────\n",
      "                 │                           │                                │                         │\n",
      "36: ─────────────#37─────────────────────────#37──────────────────────────────#37───────────────────────#37──────────────────\n",
      "                 │                           │                                │                         │\n",
      "37: ─────────────#38─────────────────────────#38──────────────────────────────#38───────────────────────#38──────────────────\n",
      "                 │                           │                                │                         │\n",
      "38: ─────────────#39─────────────────────────#39──────────────────────────────#39───────────────────────#39──────────────────\n",
      "                 │                           │                                │                         │\n",
      "39: ─────────────#40─────────────────────────#40──────────────────────────────#40───────────────────────#40──────────────────\n",
      "                 │                           │                                │                         │\n",
      "40: ─────────────#41─────────────────────────#41──────────────────────────────#41───────────────────────#41──────────────────\n",
      "                 │                           │                                │                         │\n",
      "41: ─────────────#42─────────────────────────#42──────────────────────────────#42───────────────────────#42──────────────────\n"
     ]
    }
   ],
   "source": [
    "service = css.Service()\n",
    "compiler_output = service.cq_compile(circuit)\n",
    "print(compiler_output.circuit[0:10])"
   ]
  },
  {
   "cell_type": "code",
   "execution_count": 35,
   "id": "e2335220-1c74-4bc9-a0d2-0d8a91fdb917",
   "metadata": {},
   "outputs": [
    {
     "ename": "NameError",
     "evalue": "name 'cirq' is not defined",
     "output_type": "error",
     "traceback": [
      "\u001b[0;31m---------------------------------------------------------------------------\u001b[0m",
      "\u001b[0;31mNameError\u001b[0m                                 Traceback (most recent call last)",
      "Cell \u001b[0;32mIn[35], line 1\u001b[0m\n\u001b[0;32m----> 1\u001b[0m \u001b[38;5;28;01mdef\u001b[39;00m\u001b[38;5;250m \u001b[39m\u001b[38;5;21mcustom_resolver\u001b[39m(cirq_type: \u001b[38;5;28mstr\u001b[39m) \u001b[38;5;241m-\u001b[39m\u001b[38;5;241m>\u001b[39m \u001b[38;5;28mtype\u001b[39m[\u001b[43mcirq\u001b[49m\u001b[38;5;241m.\u001b[39mGate] \u001b[38;5;241m|\u001b[39m \u001b[38;5;28;01mNone\u001b[39;00m:\n\u001b[1;32m      2\u001b[0m \u001b[38;5;250m    \u001b[39m\u001b[38;5;124;03m\"\"\"Tells `cirq.read_json` how to deserialize `cirq-superstaq`'s custom gates.\u001b[39;00m\n\u001b[1;32m      3\u001b[0m \n\u001b[1;32m      4\u001b[0m \u001b[38;5;124;03m    Changes to gate names in this file should be reflected in this resolver.\u001b[39;00m\n\u001b[0;32m   (...)\u001b[0m\n\u001b[1;32m     11\u001b[0m \u001b[38;5;124;03m        The resolved `cirq.Gate` matching the input, or None if no match.\u001b[39;00m\n\u001b[1;32m     12\u001b[0m \u001b[38;5;124;03m    \"\"\"\u001b[39;00m\n\u001b[1;32m     13\u001b[0m     type_to_gate_map: \u001b[38;5;28mdict\u001b[39m[\u001b[38;5;28mstr\u001b[39m, \u001b[38;5;28mtype\u001b[39m[cirq\u001b[38;5;241m.\u001b[39mGate]] \u001b[38;5;241m=\u001b[39m {\n\u001b[1;32m     14\u001b[0m         \u001b[38;5;124m\"\u001b[39m\u001b[38;5;124mMeasureAndOrResetGate\u001b[39m\u001b[38;5;124m\"\u001b[39m: stimcirq\u001b[38;5;241m.\u001b[39mMeasureAndOrResetGate,\n\u001b[1;32m     15\u001b[0m         \u001b[38;5;124m\"\u001b[39m\u001b[38;5;124mDetAnnotation\u001b[39m\u001b[38;5;124m\"\u001b[39m: stimcirq\u001b[38;5;241m.\u001b[39mDetAnnotation,\n\u001b[1;32m     16\u001b[0m         \u001b[38;5;124m\"\u001b[39m\u001b[38;5;124mCumulativeObservableAnnotation\u001b[39m\u001b[38;5;124m\"\u001b[39m: stimcirq\u001b[38;5;241m.\u001b[39mCumulativeObservableAnnotation,\n\u001b[1;32m     17\u001b[0m     }\n",
      "\u001b[0;31mNameError\u001b[0m: name 'cirq' is not defined"
     ]
    }
   ],
   "source": [
    "def custom_resolver(cirq_type: str) -> type[cirq.Gate] | None:\n",
    "    \"\"\"Tells `cirq.read_json` how to deserialize `cirq-superstaq`'s custom gates.\n",
    "\n",
    "    Changes to gate names in this file should be reflected in this resolver.\n",
    "    See quantumai.google/cirq/dev/serialization for more information                    about (de)serialization.\n",
    "\n",
    "    Args:\n",
    "        cirq_type: The string of the gate type for the serializer to resolve.\n",
    "\n",
    "    Returns:\n",
    "        The resolved `cirq.Gate` matching the input, or None if no match.\n",
    "    \"\"\"\n",
    "    type_to_gate_map: dict[str, type[cirq.Gate]] = {\n",
    "        \"MeasureAndOrResetGate\": stimcirq.MeasureAndOrResetGate,\n",
    "        \"DetAnnotation\": stimcirq.DetAnnotation,\n",
    "        \"CumulativeObservableAnnotation\": stimcirq.CumulativeObservableAnnotation,\n",
    "    }\n",
    "    return type_to_gate_map.get(cirq_type)"
   ]
  },
  {
   "cell_type": "code",
   "execution_count": 22,
   "id": "1f26f25d-0df1-4cae-8a09-aeaaaeda7986",
   "metadata": {},
   "outputs": [],
   "source": [
    "# print(repr(circuit))\n",
    "import cirq"
   ]
  },
  {
   "cell_type": "code",
   "execution_count": 23,
   "id": "7e3bd385-1c10-4192-bdec-6a1e5588b80f",
   "metadata": {},
   "outputs": [],
   "source": [
    "serialized_circuit = cirq.to_json(circuit)"
   ]
  },
  {
   "cell_type": "code",
   "execution_count": 24,
   "id": "fa9177d6-e0d0-4f5a-a12e-fc8480cd4d04",
   "metadata": {},
   "outputs": [],
   "source": [
    "SUPERSTAQ_RESOLVERS = [\n",
    "    css.ops.qudit_gates.custom_resolver,\n",
    "    css.ops.qubit_gates.custom_resolver,\n",
    "    custom_resolver,\n",
    "]\n",
    "resolvers = [*SUPERSTAQ_RESOLVERS, *cirq.DEFAULT_RESOLVERS]\n",
    "deserialized_obj = cirq.read_json(json_text=serialized_circuit, resolvers=resolvers)"
   ]
  },
  {
   "cell_type": "code",
   "execution_count": null,
   "id": "b7d17af1-59c4-4bff-a848-002db0d218d8",
   "metadata": {},
   "outputs": [],
   "source": [
    "compiler_output = service.compile(circuit, target=\"eeroq_wonderlake_qpu\")\n",
    "\n",
    "# Call `.circuit` on the compiler output to get the corresponding output circuit\n",
    "compiled_circuit = compiler_output.circuit\n",
    "\n",
    "# Visualize the compiled circuit\n",
    "print(compiled_circuit)"
   ]
  },
  {
   "cell_type": "code",
   "execution_count": 25,
   "id": "d9d92d4e-8f42-4ea5-98b0-0bff7dfe4df3",
   "metadata": {},
   "outputs": [
    {
     "ename": "SuperstaqServerException",
     "evalue": "Internal Server Error (Status code: 500)\n\nIf you would like to contact a member of our team, email us at superstaq@infleqtion.com or join our Slack workspace: https://join.slack.com/t/superstaq/shared_invite/zt-1wr6eok5j-fMwB7dPEWGG~5S474xGhxw.",
     "output_type": "error",
     "traceback": [
      "\u001b[0;31m---------------------------------------------------------------------------\u001b[0m",
      "\u001b[0;31mSuperstaqServerException\u001b[0m                  Traceback (most recent call last)",
      "Cell \u001b[0;32mIn[25], line 1\u001b[0m\n\u001b[0;32m----> 1\u001b[0m compiler_output \u001b[38;5;241m=\u001b[39m \u001b[43mservice\u001b[49m\u001b[38;5;241;43m.\u001b[39;49m\u001b[43mcq_compile\u001b[49m\u001b[43m(\u001b[49m\u001b[43mcircuit\u001b[49m\u001b[43m)\u001b[49m\n",
      "File \u001b[0;32m~/pyLIQTR/.venv/lib/python3.10/site-packages/cirq_superstaq/service.py:732\u001b[0m, in \u001b[0;36mService.cq_compile\u001b[0;34m(self, circuits, target, grid_shape, control_radius, stripped_cz_rads, **kwargs)\u001b[0m\n\u001b[1;32m    729\u001b[0m \u001b[38;5;28;01mif\u001b[39;00m \u001b[38;5;129;01mnot\u001b[39;00m target\u001b[38;5;241m.\u001b[39mstartswith(\u001b[38;5;124m\"\u001b[39m\u001b[38;5;124mcq_\u001b[39m\u001b[38;5;124m\"\u001b[39m):\n\u001b[1;32m    730\u001b[0m     \u001b[38;5;28;01mraise\u001b[39;00m \u001b[38;5;167;01mValueError\u001b[39;00m(\u001b[38;5;124mf\u001b[39m\u001b[38;5;124m\"\u001b[39m\u001b[38;5;132;01m{\u001b[39;00mtarget\u001b[38;5;132;01m!r}\u001b[39;00m\u001b[38;5;124m is not a valid CQ target.\u001b[39m\u001b[38;5;124m\"\u001b[39m)\n\u001b[0;32m--> 732\u001b[0m \u001b[38;5;28;01mreturn\u001b[39;00m \u001b[38;5;28;43mself\u001b[39;49m\u001b[38;5;241;43m.\u001b[39;49m\u001b[43mcompile\u001b[49m\u001b[43m(\u001b[49m\n\u001b[1;32m    733\u001b[0m \u001b[43m    \u001b[49m\u001b[43mcircuits\u001b[49m\u001b[43m,\u001b[49m\n\u001b[1;32m    734\u001b[0m \u001b[43m    \u001b[49m\u001b[43mgrid_shape\u001b[49m\u001b[38;5;241;43m=\u001b[39;49m\u001b[43mgrid_shape\u001b[49m\u001b[43m,\u001b[49m\n\u001b[1;32m    735\u001b[0m \u001b[43m    \u001b[49m\u001b[43mcontrol_radius\u001b[49m\u001b[38;5;241;43m=\u001b[39;49m\u001b[43mcontrol_radius\u001b[49m\u001b[43m,\u001b[49m\n\u001b[1;32m    736\u001b[0m \u001b[43m    \u001b[49m\u001b[43mstripped_cz_rads\u001b[49m\u001b[38;5;241;43m=\u001b[39;49m\u001b[43mstripped_cz_rads\u001b[49m\u001b[43m,\u001b[49m\n\u001b[1;32m    737\u001b[0m \u001b[43m    \u001b[49m\u001b[43mtarget\u001b[49m\u001b[38;5;241;43m=\u001b[39;49m\u001b[43mtarget\u001b[49m\u001b[43m,\u001b[49m\n\u001b[1;32m    738\u001b[0m \u001b[43m    \u001b[49m\u001b[38;5;241;43m*\u001b[39;49m\u001b[38;5;241;43m*\u001b[39;49m\u001b[43mkwargs\u001b[49m\u001b[43m,\u001b[49m\n\u001b[1;32m    739\u001b[0m \u001b[43m\u001b[49m\u001b[43m)\u001b[49m\n",
      "File \u001b[0;32m~/pyLIQTR/.venv/lib/python3.10/site-packages/cirq_superstaq/service.py:820\u001b[0m, in \u001b[0;36mService.compile\u001b[0;34m(self, circuits, target, **kwargs)\u001b[0m\n\u001b[1;32m    818\u001b[0m request_json \u001b[38;5;241m=\u001b[39m \u001b[38;5;28mself\u001b[39m\u001b[38;5;241m.\u001b[39m_get_compile_request_json(circuits, target, \u001b[38;5;241m*\u001b[39m\u001b[38;5;241m*\u001b[39mkwargs)\n\u001b[1;32m    819\u001b[0m circuits_is_list \u001b[38;5;241m=\u001b[39m \u001b[38;5;129;01mnot\u001b[39;00m \u001b[38;5;28misinstance\u001b[39m(circuits, cirq\u001b[38;5;241m.\u001b[39mCircuit)\n\u001b[0;32m--> 820\u001b[0m json_dict \u001b[38;5;241m=\u001b[39m \u001b[38;5;28;43mself\u001b[39;49m\u001b[38;5;241;43m.\u001b[39;49m\u001b[43m_client\u001b[49m\u001b[38;5;241;43m.\u001b[39;49m\u001b[43mcompile\u001b[49m\u001b[43m(\u001b[49m\u001b[43mrequest_json\u001b[49m\u001b[43m)\u001b[49m\n\u001b[1;32m    821\u001b[0m \u001b[38;5;28;01mreturn\u001b[39;00m css\u001b[38;5;241m.\u001b[39mcompiler_output\u001b[38;5;241m.\u001b[39mread_json(json_dict, circuits_is_list)\n",
      "File \u001b[0;32m~/pyLIQTR/.venv/lib/python3.10/site-packages/general_superstaq/superstaq_client.py:1085\u001b[0m, in \u001b[0;36m_SuperstaqClient.compile\u001b[0;34m(self, json_dict)\u001b[0m\n\u001b[1;32m   1084\u001b[0m \u001b[38;5;28;01mdef\u001b[39;00m\u001b[38;5;250m \u001b[39m\u001b[38;5;21mcompile\u001b[39m(\u001b[38;5;28mself\u001b[39m, json_dict: \u001b[38;5;28mdict\u001b[39m[\u001b[38;5;28mstr\u001b[39m, \u001b[38;5;28mstr\u001b[39m]) \u001b[38;5;241m-\u001b[39m\u001b[38;5;241m>\u001b[39m \u001b[38;5;28mdict\u001b[39m[\u001b[38;5;28mstr\u001b[39m, \u001b[38;5;28mstr\u001b[39m]:\n\u001b[0;32m-> 1085\u001b[0m     \u001b[38;5;28;01mreturn\u001b[39;00m \u001b[38;5;28;43mself\u001b[39;49m\u001b[38;5;241;43m.\u001b[39;49m\u001b[43mpost_request\u001b[49m\u001b[43m(\u001b[49m\u001b[38;5;124;43m\"\u001b[39;49m\u001b[38;5;124;43m/compile\u001b[39;49m\u001b[38;5;124;43m\"\u001b[39;49m\u001b[43m,\u001b[49m\u001b[43m \u001b[49m\u001b[43mjson_dict\u001b[49m\u001b[43m)\u001b[49m\n",
      "File \u001b[0;32m~/pyLIQTR/.venv/lib/python3.10/site-packages/general_superstaq/superstaq_client.py:736\u001b[0m, in \u001b[0;36m_BaseSuperstaqClient.post_request\u001b[0;34m(self, endpoint, json_dict, **credentials)\u001b[0m\n\u001b[1;32m    724\u001b[0m \u001b[38;5;250m    \u001b[39m\u001b[38;5;124;03m\"\"\"Builds GET request object.\u001b[39;00m\n\u001b[1;32m    725\u001b[0m \n\u001b[1;32m    726\u001b[0m \u001b[38;5;124;03m    Returns:\u001b[39;00m\n\u001b[1;32m    727\u001b[0m \u001b[38;5;124;03m        The Flask GET request object.\u001b[39;00m\n\u001b[1;32m    728\u001b[0m \u001b[38;5;124;03m    \"\"\"\u001b[39;00m\n\u001b[1;32m    729\u001b[0m     \u001b[38;5;28;01mreturn\u001b[39;00m \u001b[38;5;28mself\u001b[39m\u001b[38;5;241m.\u001b[39msession\u001b[38;5;241m.\u001b[39mpost(\n\u001b[1;32m    730\u001b[0m         \u001b[38;5;124mf\u001b[39m\u001b[38;5;124m\"\u001b[39m\u001b[38;5;132;01m{\u001b[39;00m\u001b[38;5;28mself\u001b[39m\u001b[38;5;241m.\u001b[39murl\u001b[38;5;132;01m}\u001b[39;00m\u001b[38;5;132;01m{\u001b[39;00mendpoint\u001b[38;5;132;01m}\u001b[39;00m\u001b[38;5;124m\"\u001b[39m,\n\u001b[1;32m    731\u001b[0m         json\u001b[38;5;241m=\u001b[39mjson_dict,\n\u001b[1;32m    732\u001b[0m         headers\u001b[38;5;241m=\u001b[39m\u001b[38;5;28mself\u001b[39m\u001b[38;5;241m.\u001b[39m_custom_headers(\u001b[38;5;241m*\u001b[39m\u001b[38;5;241m*\u001b[39mcredentials),\n\u001b[1;32m    733\u001b[0m         verify\u001b[38;5;241m=\u001b[39m\u001b[38;5;28mself\u001b[39m\u001b[38;5;241m.\u001b[39mverify_https,\n\u001b[1;32m    734\u001b[0m     )\n\u001b[0;32m--> 736\u001b[0m response \u001b[38;5;241m=\u001b[39m \u001b[38;5;28;43mself\u001b[39;49m\u001b[38;5;241;43m.\u001b[39;49m\u001b[43m_make_request\u001b[49m\u001b[43m(\u001b[49m\u001b[43mrequest\u001b[49m\u001b[43m)\u001b[49m\n\u001b[1;32m    737\u001b[0m \u001b[38;5;28;01mreturn\u001b[39;00m \u001b[38;5;28mself\u001b[39m\u001b[38;5;241m.\u001b[39m_handle_response(response)\n",
      "File \u001b[0;32m~/pyLIQTR/.venv/lib/python3.10/site-packages/general_superstaq/superstaq_client.py:858\u001b[0m, in \u001b[0;36m_BaseSuperstaqClient._make_request\u001b[0;34m(self, request)\u001b[0m\n\u001b[1;32m    855\u001b[0m     \u001b[38;5;28;01mif\u001b[39;00m response\u001b[38;5;241m.\u001b[39mok:\n\u001b[1;32m    856\u001b[0m         \u001b[38;5;28;01mreturn\u001b[39;00m response\n\u001b[0;32m--> 858\u001b[0m     \u001b[38;5;28;43mself\u001b[39;49m\u001b[38;5;241;43m.\u001b[39;49m\u001b[43m_handle_status_codes\u001b[49m\u001b[43m(\u001b[49m\u001b[43mresponse\u001b[49m\u001b[43m)\u001b[49m\n\u001b[1;32m    859\u001b[0m     message \u001b[38;5;241m=\u001b[39m response\u001b[38;5;241m.\u001b[39mreason\n\u001b[1;32m    861\u001b[0m \u001b[38;5;66;03m# Fallthrough should retry.\u001b[39;00m\n",
      "File \u001b[0;32m~/pyLIQTR/.venv/lib/python3.10/site-packages/general_superstaq/superstaq_client.py:831\u001b[0m, in \u001b[0;36m_BaseSuperstaqClient._handle_status_codes\u001b[0;34m(self, response)\u001b[0m\n\u001b[1;32m    828\u001b[0m \u001b[38;5;28;01melse\u001b[39;00m:\n\u001b[1;32m    829\u001b[0m     message \u001b[38;5;241m=\u001b[39m \u001b[38;5;28mstr\u001b[39m(response\u001b[38;5;241m.\u001b[39mtext)\n\u001b[0;32m--> 831\u001b[0m \u001b[38;5;28;01mraise\u001b[39;00m gss\u001b[38;5;241m.\u001b[39mSuperstaqServerException(\n\u001b[1;32m    832\u001b[0m     message\u001b[38;5;241m=\u001b[39mmessage, status_code\u001b[38;5;241m=\u001b[39mresponse\u001b[38;5;241m.\u001b[39mstatus_code, contact_info\u001b[38;5;241m=\u001b[39m\u001b[38;5;28;01mTrue\u001b[39;00m\n\u001b[1;32m    833\u001b[0m )\n",
      "\u001b[0;31mSuperstaqServerException\u001b[0m: Internal Server Error (Status code: 500)\n\nIf you would like to contact a member of our team, email us at superstaq@infleqtion.com or join our Slack workspace: https://join.slack.com/t/superstaq/shared_invite/zt-1wr6eok5j-fMwB7dPEWGG~5S474xGhxw."
     ]
    }
   ],
   "source": [
    "compiler_output = service.cq_compile(circuit)"
   ]
  },
  {
   "cell_type": "code",
   "execution_count": null,
   "id": "f84d154b-6fe5-4eba-bdf8-a0ecb52d17d0",
   "metadata": {},
   "outputs": [],
   "source": []
  }
 ],
 "metadata": {
  "kernelspec": {
   "display_name": "Python 3 (ipykernel)",
   "language": "python",
   "name": "python3"
  },
  "language_info": {
   "codemirror_mode": {
    "name": "ipython",
    "version": 3
   },
   "file_extension": ".py",
   "mimetype": "text/x-python",
   "name": "python",
   "nbconvert_exporter": "python",
   "pygments_lexer": "ipython3",
   "version": "3.10.18"
  }
 },
 "nbformat": 4,
 "nbformat_minor": 5
}
