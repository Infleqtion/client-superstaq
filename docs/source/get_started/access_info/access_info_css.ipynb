{
 "cells": [
  {
   "cell_type": "markdown",
   "id": "cf056b55",
   "metadata": {},
   "source": [
    "# Accessing info with `cirq-superstaq`\n",
    "This tutorial will cover the information you can access on your account and related jobs and backends using `cirq-superstaq`."
   ]
  },
  {
   "cell_type": "markdown",
   "id": "88ddd716",
   "metadata": {},
   "source": [
    "## Imports and API Token\n",
    "\n",
    "As usual, we'll begin with importing requirements and setting up access to Superstaq. This tutorial uses `cirq-superstaq`, our Superstaq client for Cirq. You can install it and relevant dependencies by running `pip install cirq-superstaq`."
   ]
  },
  {
   "cell_type": "code",
   "execution_count": 1,
   "id": "1a637717",
   "metadata": {},
   "outputs": [],
   "source": [
    "# Requirements to use cirq-superstaq\n",
    "try:\n",
    "    import cirq\n",
    "    import cirq_superstaq as css\n",
    "except ImportError:\n",
    "    print(\"Installing cirq-superstaq...\")\n",
    "    %pip install --quiet 'cirq-superstaq[examples]'\n",
    "    print(\"Installed cirq-superstaq.\")\n",
    "    print(\"You may need to restart the kernel to import newly installed packages.\")\n",
    "    import cirq\n",
    "    import cirq_superstaq as css"
   ]
  },
  {
   "cell_type": "markdown",
   "id": "dc8f8407",
   "metadata": {},
   "source": [
    "Now, we instantiate a service provider in `cirq-superstaq` with `Service()`. Supply the Superstaq API token by providing the token as an argument of `css.Service()` or setting it as an environment variable (see [this guide](https://superstaq.readthedocs.io/en/latest/get_started/basics/basics_css.html#Set-up-access-to-Superstaq%E2%80%99s-API))."
   ]
  },
  {
   "cell_type": "code",
   "execution_count": 2,
   "id": "e536b251",
   "metadata": {},
   "outputs": [],
   "source": [
    "service = css.Service()"
   ]
  },
  {
   "cell_type": "markdown",
   "id": "42932197",
   "metadata": {},
   "source": [
    "## Account Information"
   ]
  },
  {
   "cell_type": "markdown",
   "id": "10fc81e6",
   "metadata": {},
   "source": [
    "The `service` class gives you a means to retrieve information regarding your Superstaq account. Currently, you can use `service` to retrieve your Superstaq balance."
   ]
  },
  {
   "cell_type": "code",
   "execution_count": 3,
   "id": "f0730b90",
   "metadata": {
    "scrolled": true
   },
   "outputs": [
    {
     "data": {
      "text/plain": [
       "'135.75 credits'"
      ]
     },
     "execution_count": 3,
     "metadata": {},
     "output_type": "execute_result"
    }
   ],
   "source": [
    "service.get_balance()"
   ]
  },
  {
   "cell_type": "markdown",
   "id": "f8b82611",
   "metadata": {},
   "source": [
    "If are interested in increasing your balance or have more information on your user role, please reach out to us at superstaq@infleqtion.com or join our [Slack workspace](https://join.slack.com/t/superstaq/shared_invite/zt-1wr6eok5j-fMwB7dPEWGG~5S474xGhxw)."
   ]
  },
  {
   "cell_type": "markdown",
   "id": "332617c4",
   "metadata": {},
   "source": [
    "## Backend Information\n",
    "In addition to account information, the`Service` object also gives you a list of all the devices and simulators to which you have access, as well as additional information about those backends.\n",
    "\n",
    "* `get_targets()`: Retrieves a list of available backends\n",
    "* `target_info(\"<target_name>\")`: Retrieve information on your selected backend, such as number of qubits, native gate set, where `<target_name>` is the name of the desired backend"
   ]
  },
  {
   "cell_type": "code",
   "execution_count": 4,
   "id": "7ab7e0ff",
   "metadata": {
    "scrolled": false
   },
   "outputs": [
    {
     "data": {
      "text/plain": [
       "{'compile-only': ['aqt_keysight_qpu', 'aqt_zurich_qpu', 'sandia_qscout_qpu'],\n",
       " 'compile-and-run': ['aws_dm1_simulator',\n",
       "  'aws_sv1_simulator',\n",
       "  'aws_tn1_simulator',\n",
       "  'cq_hilbert_qpu',\n",
       "  'cq_hilbert_simulator',\n",
       "  'ibmq_brisbane_qpu',\n",
       "  'ibmq_extended-stabilizer_simulator',\n",
       "  'ibmq_fake-athens_qpu',\n",
       "  'ibmq_fake-lima_qpu',\n",
       "  'ibmq_guadalupe_qpu',\n",
       "  'ibmq_lagos_qpu',\n",
       "  'ibmq_mps_simulator',\n",
       "  'ibmq_nairobi_qpu',\n",
       "  'ibmq_perth_qpu',\n",
       "  'ibmq_qasm_simulator',\n",
       "  'ibmq_stabilizer_simulator',\n",
       "  'ibmq_statevector_simulator',\n",
       "  'ionq_aria-1_qpu',\n",
       "  'ionq_harmony_qpu',\n",
       "  'ionq_ion_simulator',\n",
       "  'qtm_h1-1_qpu',\n",
       "  'qtm_h1-1e_simulator',\n",
       "  'qtm_h2-1_qpu',\n",
       "  'ss_unconstrained_simulator'],\n",
       " 'unavailable': ['ionq_aria-2_qpu',\n",
       "  'oxford_lucy_qpu',\n",
       "  'rigetti_aspen-m-3_qpu'],\n",
       " 'retired': ['rigetti_aspen-10_qpu',\n",
       "  'rigetti_aspen-11_qpu',\n",
       "  'rigetti_aspen-8_qpu',\n",
       "  'rigetti_aspen-9_qpu',\n",
       "  'rigetti_aspen-m-1_qpu',\n",
       "  'rigetti_aspen-m-2_qpu']}"
      ]
     },
     "execution_count": 4,
     "metadata": {},
     "output_type": "execute_result"
    }
   ],
   "source": [
    "# service.get_targets()"
   ]
  },
  {
   "cell_type": "code",
   "execution_count": 5,
   "id": "b474be61",
   "metadata": {
    "scrolled": false
   },
   "outputs": [
    {
     "data": {
      "text/plain": [
       "{'num_qubits': 7,\n",
       " 'target': 'ibmq_lagos_qpu',\n",
       " 'coupling_map': [[0, 1],\n",
       "  [1, 0],\n",
       "  [1, 2],\n",
       "  [1, 3],\n",
       "  [2, 1],\n",
       "  [3, 1],\n",
       "  [3, 5],\n",
       "  [4, 5],\n",
       "  [5, 3],\n",
       "  [5, 4],\n",
       "  [5, 6],\n",
       "  [6, 5]],\n",
       " 'supports_midcircuit_measurement': True,\n",
       " 'native_gate_set': ['cx', 'id', 'rz', 'sx', 'x'],\n",
       " 'max_experiments': 900,\n",
       " 'max_shots': 100000,\n",
       " 'processor_type': {'family': 'Falcon', 'revision': '5.11', 'segment': 'H'},\n",
       " 'open_pulse': True,\n",
       " 'conditional': False}"
      ]
     },
     "execution_count": 5,
     "metadata": {},
     "output_type": "execute_result"
    }
   ],
   "source": [
    "service.target_info(\"ibmq_lagos_qpu\")  # retrieving information about the IBM Lagos device"
   ]
  },
  {
   "cell_type": "markdown",
   "id": "541a58fe",
   "metadata": {},
   "source": [
    "## Job Information\n",
    "Jobs submitted through Superstaq contain the following information:\n",
    "\n",
    "* `job_id()`: Unique identifier for the job.\n",
    "* `status()`: Status of the job (either Queued, Running, Done).\n",
    "* `target()`: Device the job was run on.\n",
    "* `counts()`: Counts from the result of the job run. Note this can return a list, so you must specify an `index` if you want to retrieve a specific counts dictionary (corresponding to the circuit with the same `index`).\n",
    "* `num_qubits()`: Number of qubits for the job. Note this can return a list, so you must specify an `index` if you want to retrieve the corresponding number of qubits to a particular circuit. \n",
    "* `repetitions()`: Number of repetitions for the job.\n",
    "* `input_circuits()`: Retrieves original (i.e., not compiled) circuit(s) for job. Note this returns a list and you must specify an `index` if you want to retrieve a single/specific circuit.\n",
    "* `compiled_circuits()`: Retrieves compiled circuit(s) from submitted job. Note this returns a list and you must specify an `index` if you want to retrieve a single/specific circuit.\n",
    "\n",
    "Note that jobs live in our database for a limited amount of time. Typically, they have a lifespan of 1 year."
   ]
  },
  {
   "cell_type": "code",
   "execution_count": 6,
   "id": "dbd6a92a",
   "metadata": {},
   "outputs": [],
   "source": [
    "# Creating a circuit using Cirq\n",
    "qubits = cirq.LineQubit.range(2)\n",
    "circuit = cirq.Circuit(\n",
    "    cirq.H(qubits[0]),\n",
    "    cirq.CNOT(qubits[0], qubits[1]),\n",
    "    cirq.measure(qubits[0]),\n",
    "    cirq.measure(qubits[1]),\n",
    ")\n",
    "\n",
    "# Submitting the circuit to the IBMQ QASM Simulator\n",
    "job = service.create_job(\n",
    "    circuit, repetitions=100, method=\"dry-run\", target=\"ibmq_qasm_simulator\"\n",
    ")  # Specify \"dry-run\" as the method to submit & run a Superstaq simulation"
   ]
  },
  {
   "cell_type": "code",
   "execution_count": 7,
   "id": "67e69bbb",
   "metadata": {},
   "outputs": [
    {
     "data": {
      "text/plain": [
       "'49cbea8a-9aa8-4b09-ada1-8d7476287794'"
      ]
     },
     "execution_count": 7,
     "metadata": {},
     "output_type": "execute_result"
    }
   ],
   "source": [
    "job.job_id()"
   ]
  },
  {
   "cell_type": "code",
   "execution_count": 8,
   "id": "6adf4b5b",
   "metadata": {},
   "outputs": [
    {
     "data": {
      "text/plain": [
       "'Done'"
      ]
     },
     "execution_count": 8,
     "metadata": {},
     "output_type": "execute_result"
    }
   ],
   "source": [
    "job.status()"
   ]
  },
  {
   "cell_type": "code",
   "execution_count": 9,
   "id": "c2047fe0",
   "metadata": {},
   "outputs": [
    {
     "data": {
      "text/plain": [
       "'ibmq_qasm_simulator'"
      ]
     },
     "execution_count": 9,
     "metadata": {},
     "output_type": "execute_result"
    }
   ],
   "source": [
    "job.target()"
   ]
  },
  {
   "cell_type": "code",
   "execution_count": 10,
   "id": "db8d558a",
   "metadata": {
    "scrolled": true
   },
   "outputs": [
    {
     "data": {
      "text/plain": [
       "{'00': 51, '11': 49}"
      ]
     },
     "execution_count": 10,
     "metadata": {},
     "output_type": "execute_result"
    }
   ],
   "source": [
    "job.counts(index=0)"
   ]
  },
  {
   "cell_type": "code",
   "execution_count": 11,
   "id": "ae538a31",
   "metadata": {},
   "outputs": [
    {
     "data": {
      "text/plain": [
       "2"
      ]
     },
     "execution_count": 11,
     "metadata": {},
     "output_type": "execute_result"
    }
   ],
   "source": [
    "job.num_qubits(index=0)"
   ]
  },
  {
   "cell_type": "code",
   "execution_count": 12,
   "id": "86bbcc46",
   "metadata": {},
   "outputs": [
    {
     "data": {
      "text/plain": [
       "100"
      ]
     },
     "execution_count": 12,
     "metadata": {},
     "output_type": "execute_result"
    }
   ],
   "source": [
    "job.repetitions()"
   ]
  },
  {
   "cell_type": "code",
   "execution_count": 13,
   "id": "68a77180",
   "metadata": {},
   "outputs": [
    {
     "data": {
      "text/html": [
       "<pre style=\"overflow: auto; white-space: pre;\">0: ───H───@───M───\n",
       "          │\n",
       "1: ───────X───M───</pre>"
      ],
      "text/plain": [
       "0: ───H───@───M───\n",
       "          │\n",
       "1: ───────X───M───"
      ]
     },
     "execution_count": 13,
     "metadata": {},
     "output_type": "execute_result"
    }
   ],
   "source": [
    "job.input_circuits(index=0)"
   ]
  },
  {
   "cell_type": "code",
   "execution_count": 14,
   "id": "d9882d03",
   "metadata": {},
   "outputs": [
    {
     "data": {
      "text/html": [
       "<pre style=\"overflow: auto; white-space: pre;\">0: ───cirq.circuits.qasm_output.QasmUGate(theta=0.5, phi=0.0, lmda=1.0)───@───M───\n",
       "                                                                          │\n",
       "1: ───────────────────────────────────────────────────────────────────────X───M───</pre>"
      ],
      "text/plain": [
       "0: ───cirq.circuits.qasm_output.QasmUGate(theta=0.5, phi=0.0, lmda=1.0)───@───M───\n",
       "                                                                          │\n",
       "1: ───────────────────────────────────────────────────────────────────────X───M───"
      ]
     },
     "execution_count": 14,
     "metadata": {},
     "output_type": "execute_result"
    }
   ],
   "source": [
    "job.compiled_circuits(index=0)"
   ]
  },
  {
   "cell_type": "markdown",
   "id": "04576f3e",
   "metadata": {},
   "source": [
    "You may also retrieve the information described above on a previously submitted `cirq-superstaq` job with `service.get_job('<job_id>')`:"
   ]
  },
  {
   "cell_type": "code",
   "execution_count": 15,
   "id": "560076e9",
   "metadata": {},
   "outputs": [
    {
     "data": {
      "text/html": [
       "<pre style=\"overflow: auto; white-space: pre;\">0: ───H───@───M───\n",
       "          │\n",
       "1: ───────X───M───</pre>"
      ],
      "text/plain": [
       "0: ───H───@───M───\n",
       "          │\n",
       "1: ───────X───M───"
      ]
     },
     "execution_count": 15,
     "metadata": {},
     "output_type": "execute_result"
    }
   ],
   "source": [
    "job_id = job.job_id()  # Here we use the job ID from above, but this can be any old job ID\n",
    "job_old = service.get_job(job_id)\n",
    "job_old.input_circuits(index=0)"
   ]
  }
 ],
 "metadata": {
  "kernelspec": {
   "display_name": "Python 3 (ipykernel)",
   "language": "python",
   "name": "python3"
  },
  "language_info": {
   "codemirror_mode": {
    "name": "ipython",
    "version": 3
   },
   "file_extension": ".py",
   "mimetype": "text/x-python",
   "name": "python",
   "nbconvert_exporter": "python",
   "pygments_lexer": "ipython3",
   "version": "3.11.2"
  }
 },
 "nbformat": 4,
 "nbformat_minor": 5
}
