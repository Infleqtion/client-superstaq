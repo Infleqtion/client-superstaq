{
 "cells": [
  {
   "cell_type": "markdown",
   "id": "cf056b55",
   "metadata": {},
   "source": [
    "# Accessing info with `qiskit-superstaq`\n",
    "This tutorial will cover the information you can access on your account and related jobs and backends using `qiskit-superstaq`."
   ]
  },
  {
   "cell_type": "markdown",
   "id": "70537a94",
   "metadata": {},
   "source": [
    "## Imports and API Token\n",
    "\n",
    "As usual, we'll begin with importing requirements and setting up access to Superstaq. This tutorial uses `qiskit-superstaq`, our Superstaq client for Qiskit. You can install it and relevant dependencies by running `pip install qiskit-superstaq[examples]`."
   ]
  },
  {
   "cell_type": "code",
   "execution_count": null,
   "id": "b85905dc",
   "metadata": {
    "scrolled": true
   },
   "outputs": [],
   "source": [
    "%pip install -q qiskit-superstaq[examples]"
   ]
  },
  {
   "cell_type": "code",
   "execution_count": 1,
   "id": "1a637717",
   "metadata": {},
   "outputs": [],
   "source": [
    "# requirements to use qiskit-superstaq\n",
    "import qiskit\n",
    "import qiskit_superstaq as qss"
   ]
  },
  {
   "cell_type": "markdown",
   "id": "55ead78f",
   "metadata": {},
   "source": [
    "Now, we instantiate a provider in `qiskit-superstaq` with `SuperstaqProvider()`. Supply the Superstaq API token by providing the token as an argument of `qss.SuperstaqProvider()` or setting it as an environment variable (see [this guide](https://superstaq.readthedocs.io/en/latest/get_started/basics/basics_qss.html#Set-up-access-to-Superstaq%E2%80%99s-API))."
   ]
  },
  {
   "cell_type": "code",
   "execution_count": 2,
   "id": "562b5d46",
   "metadata": {},
   "outputs": [],
   "source": [
    "provider = qss.SuperstaqProvider()"
   ]
  },
  {
   "cell_type": "markdown",
   "id": "42932197",
   "metadata": {},
   "source": [
    "## Account Information"
   ]
  },
  {
   "cell_type": "markdown",
   "id": "10fc81e6",
   "metadata": {},
   "source": [
    "The `provider` class gives you a means to retrieve information regarding your Superstaq account. Currently, you can use `provider` to retrieve your Superstaq balance."
   ]
  },
  {
   "cell_type": "code",
   "execution_count": 3,
   "id": "f0730b90",
   "metadata": {},
   "outputs": [
    {
     "data": {
      "text/plain": [
       "'$199.00'"
      ]
     },
     "execution_count": 3,
     "metadata": {},
     "output_type": "execute_result"
    }
   ],
   "source": [
    "provider.get_balance()"
   ]
  },
  {
   "cell_type": "markdown",
   "id": "91a268ec",
   "metadata": {},
   "source": [
    "If are interested in increasing your balance or have more information on your user role, please reach out to us at superstaq@infleqtion.com or join our [Slack workspace](https://join.slack.com/t/superstaq/shared_invite/zt-1wr6eok5j-fMwB7dPEWGG~5S474xGhxw)."
   ]
  },
  {
   "cell_type": "markdown",
   "id": "332617c4",
   "metadata": {},
   "source": [
    "## Backend Information\n",
    "In addition to account information, the`SuperstaqProvider` object also gives you a list of all the devices and simulators to which you have access, as well as additional information about those backends.\n",
    "* `backends()`: Retrieves a list of available backends\n",
    "* `get_backend(\"<backend_name>\")`: Select your target backend, where `<backend_name>` is the name of the desired backend\n",
    "* `get_backend(\"<backend_name>\").target_info()`: Retrieve information on your selected backend, such as number of qubits, native gate set"
   ]
  },
  {
   "cell_type": "code",
   "execution_count": 4,
   "id": "7ab7e0ff",
   "metadata": {
    "scrolled": false
   },
   "outputs": [
    {
     "data": {
      "text/plain": [
       "[<SuperstaqBackend('aws_dm1_simulator')>,\n",
       " <SuperstaqBackend('aws_sv1_simulator')>,\n",
       " <SuperstaqBackend('aws_tn1_simulator')>,\n",
       " <SuperstaqBackend('cq_hilbert_qpu')>,\n",
       " <SuperstaqBackend('cq_hilbert_simulator')>,\n",
       " <SuperstaqBackend('hqs_lt-s1-apival_qpu')>,\n",
       " <SuperstaqBackend('hqs_lt-s1_qpu')>,\n",
       " <SuperstaqBackend('hqs_lt-s1_simulator')>,\n",
       " <SuperstaqBackend('hqs_lt-s2_qpu')>,\n",
       " <SuperstaqBackend('ibmq_belem_qpu')>,\n",
       " <SuperstaqBackend('ibmq_extended-stabilizer_simulator')>,\n",
       " <SuperstaqBackend('ibmq_guadalupe_qpu')>,\n",
       " <SuperstaqBackend('ibmq_jakarta_qpu')>,\n",
       " <SuperstaqBackend('ibmq_lagos_qpu')>,\n",
       " <SuperstaqBackend('ibmq_lima_qpu')>,\n",
       " <SuperstaqBackend('ibmq_manila_qpu')>,\n",
       " <SuperstaqBackend('ibmq_mps_simulator')>,\n",
       " <SuperstaqBackend('ibmq_nairobi_qpu')>,\n",
       " <SuperstaqBackend('ibmq_perth_qpu')>,\n",
       " <SuperstaqBackend('ibmq_qasm_simulator')>,\n",
       " <SuperstaqBackend('ibmq_quito_qpu')>,\n",
       " <SuperstaqBackend('ibmq_stabilizer_simulator')>,\n",
       " <SuperstaqBackend('ibmq_statevector_simulator')>,\n",
       " <SuperstaqBackend('ionq_aria-1_qpu')>,\n",
       " <SuperstaqBackend('ionq_harmony_qpu')>,\n",
       " <SuperstaqBackend('ionq_ion_simulator')>,\n",
       " <SuperstaqBackend('ss_unconstrained_simulator')>]"
      ]
     },
     "execution_count": 4,
     "metadata": {},
     "output_type": "execute_result"
    }
   ],
   "source": [
    "provider.backends()"
   ]
  },
  {
   "cell_type": "code",
   "execution_count": 5,
   "id": "58ce4b24",
   "metadata": {
    "scrolled": true
   },
   "outputs": [
    {
     "data": {
      "text/plain": [
       "{'num_qubits': 7,\n",
       " 'target': 'ibmq_lagos_qpu',\n",
       " 'native_gate_set': ['id', 'rz', 'sx', 'x', 'cx', 'reset'],\n",
       " 'max_experiments': 300,\n",
       " 'coupling_map': [[0, 1],\n",
       "  [1, 0],\n",
       "  [1, 2],\n",
       "  [1, 3],\n",
       "  [2, 1],\n",
       "  [3, 1],\n",
       "  [3, 5],\n",
       "  [4, 5],\n",
       "  [5, 3],\n",
       "  [5, 4],\n",
       "  [5, 6],\n",
       "  [6, 5]],\n",
       " 'max_shots': 32000,\n",
       " 'processor_type': {'family': 'Falcon', 'revision': '5.11', 'segment': 'H'},\n",
       " 'open_pulse': True}"
      ]
     },
     "execution_count": 5,
     "metadata": {},
     "output_type": "execute_result"
    }
   ],
   "source": [
    "backend = provider.get_backend(\"ibmq_lagos_qpu\")  # selecting the IBM Lagos device\n",
    "backend.target_info()"
   ]
  },
  {
   "cell_type": "markdown",
   "id": "541a58fe",
   "metadata": {},
   "source": [
    "## Job Information\n",
    "Jobs submitted through Superstaq contain the following information:\n",
    "* `job_id()`: Unique identifier for the job\n",
    "* `status()`: Status of the job (either Queued, Running, Done)\n",
    "* `backend()`: Device the job was run on\n",
    "* `result().get_counts()`: Counts from the result of the job run"
   ]
  },
  {
   "cell_type": "code",
   "execution_count": 6,
   "id": "dbd6a92a",
   "metadata": {},
   "outputs": [],
   "source": [
    "# creating a circuit using Qiskit\n",
    "qc = qiskit.QuantumCircuit(2, 2)\n",
    "qc.h(0)\n",
    "qc.cx(0, 1)\n",
    "qc.measure([0, 1], [0, 1])\n",
    "\n",
    "# submitting the circuit to the IBM Q QASM Simulator\n",
    "backend = provider.get_backend(\"ibmq_qasm_simulator\")\n",
    "job = backend.run(qc, shots=100)"
   ]
  },
  {
   "cell_type": "code",
   "execution_count": 7,
   "id": "6adf4b5b",
   "metadata": {},
   "outputs": [
    {
     "data": {
      "text/plain": [
       "<JobStatus.DONE: 'job has successfully run'>"
      ]
     },
     "execution_count": 7,
     "metadata": {},
     "output_type": "execute_result"
    }
   ],
   "source": [
    "job.status()"
   ]
  },
  {
   "cell_type": "code",
   "execution_count": 8,
   "id": "f8e4e681",
   "metadata": {},
   "outputs": [
    {
     "data": {
      "text/plain": [
       "{'00': 53, '11': 47}"
      ]
     },
     "execution_count": 8,
     "metadata": {},
     "output_type": "execute_result"
    }
   ],
   "source": [
    "job.result().get_counts()"
   ]
  }
 ],
 "metadata": {
  "kernelspec": {
   "display_name": "Python 3 (ipykernel)",
   "language": "python",
   "name": "python3"
  },
  "language_info": {
   "codemirror_mode": {
    "name": "ipython",
    "version": 3
   },
   "file_extension": ".py",
   "mimetype": "text/x-python",
   "name": "python",
   "nbconvert_exporter": "python",
   "pygments_lexer": "ipython3",
   "version": "3.10.6"
  }
 },
 "nbformat": 4,
 "nbformat_minor": 5
}
