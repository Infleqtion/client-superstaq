{
 "cells": [
  {
   "cell_type": "markdown",
   "id": "cf056b55",
   "metadata": {},
   "source": [
    "# Accessing info with `qiskit-superstaq`\n",
    "This tutorial will cover the information you can access on your account and related jobs and backends using `qiskit-superstaq`."
   ]
  },
  {
   "cell_type": "markdown",
   "id": "70537a94",
   "metadata": {},
   "source": [
    "## Imports and API Token\n",
    "\n",
    "As usual, we'll begin with importing requirements and setting up access to Superstaq. This tutorial uses `qiskit-superstaq`, our Superstaq client for Qiskit. You can install it and relevant dependencies by running `pip install qiskit-superstaq[examples]`."
   ]
  },
  {
   "cell_type": "code",
   "execution_count": 1,
   "id": "1a637717",
   "metadata": {},
   "outputs": [],
   "source": [
    "# Requirements to use qiskit-superstaq\n",
    "try:\n",
    "    import qiskit\n",
    "    import qiskit_superstaq as qss\n",
    "except ImportError:\n",
    "    print(\"Installing qiskit-superstaq...\")\n",
    "    %pip install --quiet 'qiskit-superstaq[examples]'\n",
    "    print(\"Installed qiskit-superstaq.\")\n",
    "    print(\"You may need to restart the kernel to import newly installed packages.\")\n",
    "    import qiskit\n",
    "    import qiskit_superstaq as qss"
   ]
  },
  {
   "cell_type": "markdown",
   "id": "55ead78f",
   "metadata": {},
   "source": [
    "Now, we instantiate a provider in `qiskit-superstaq` with `SuperstaqProvider()`. Supply the Superstaq API token by providing the token as an argument of `qss.SuperstaqProvider()` or setting it as an environment variable (see [this guide](https://superstaq.readthedocs.io/en/latest/get_started/basics/basics_qss.html#Set-up-access-to-Superstaq%E2%80%99s-API))."
   ]
  },
  {
   "cell_type": "code",
   "execution_count": 2,
   "id": "562b5d46",
   "metadata": {},
   "outputs": [],
   "source": [
    "provider = qss.SuperstaqProvider()"
   ]
  },
  {
   "cell_type": "markdown",
   "id": "42932197",
   "metadata": {},
   "source": [
    "## Account Information"
   ]
  },
  {
   "cell_type": "markdown",
   "id": "10fc81e6",
   "metadata": {},
   "source": [
    "The `provider` class gives you a means to retrieve information regarding your Superstaq account. Currently, you can use `provider` to retrieve your Superstaq balance."
   ]
  },
  {
   "cell_type": "code",
   "execution_count": 3,
   "id": "f0730b90",
   "metadata": {},
   "outputs": [
    {
     "data": {
      "text/plain": [
       "'20 credits'"
      ]
     },
     "execution_count": 3,
     "metadata": {},
     "output_type": "execute_result"
    }
   ],
   "source": [
    "provider.get_balance()"
   ]
  },
  {
   "cell_type": "markdown",
   "id": "91a268ec",
   "metadata": {},
   "source": [
    "If are interested in increasing your balance or have more information on your user role, please reach out to us at superstaq@infleqtion.com or join our [Slack workspace](https://join.slack.com/t/superstaq/shared_invite/zt-1wr6eok5j-fMwB7dPEWGG~5S474xGhxw)."
   ]
  },
  {
   "cell_type": "markdown",
   "id": "332617c4",
   "metadata": {},
   "source": [
    "## Backend Information\n",
    "In addition to account information, the`SuperstaqProvider` object also gives you a list of all the devices and simulators to which you have access, as well as additional information about those backends.\n",
    "\n",
    "* `backends()`: Retrieves a list of available backends\n",
    "* `get_backend(\"<backend_name>\")`: Select your target backend, where `<backend_name>` is the name of the desired backend\n",
    "* `get_backend(\"<backend_name>\").target_info()`: Retrieve information on your selected backend, such as number of qubits, native gate set"
   ]
  },
  {
   "cell_type": "code",
   "execution_count": 4,
   "id": "7ab7e0ff",
   "metadata": {
    "scrolled": false
   },
   "outputs": [
    {
     "data": {
      "text/plain": [
       "[<SuperstaqBackend('aws_dm1_simulator')>,\n",
       " <SuperstaqBackend('aws_sv1_simulator')>,\n",
       " <SuperstaqBackend('aws_tn1_simulator')>,\n",
       " <SuperstaqBackend('cq_hilbert_qpu')>,\n",
       " <SuperstaqBackend('cq_hilbert_simulator')>,\n",
       " <SuperstaqBackend('ibmq_brisbane_qpu')>,\n",
       " <SuperstaqBackend('ibmq_extended-stabilizer_simulator')>,\n",
       " <SuperstaqBackend('ibmq_fake-athens_qpu')>,\n",
       " <SuperstaqBackend('ibmq_fake-lima_qpu')>,\n",
       " <SuperstaqBackend('ibmq_guadalupe_qpu')>,\n",
       " <SuperstaqBackend('ibmq_lagos_qpu')>,\n",
       " <SuperstaqBackend('ibmq_mps_simulator')>,\n",
       " <SuperstaqBackend('ibmq_nairobi_qpu')>,\n",
       " <SuperstaqBackend('ibmq_perth_qpu')>,\n",
       " <SuperstaqBackend('ibmq_qasm_simulator')>,\n",
       " <SuperstaqBackend('ibmq_stabilizer_simulator')>,\n",
       " <SuperstaqBackend('ibmq_statevector_simulator')>,\n",
       " <SuperstaqBackend('ionq_aria-1_qpu')>,\n",
       " <SuperstaqBackend('ionq_harmony_qpu')>,\n",
       " <SuperstaqBackend('ionq.simulator')>,\n",
       " <SuperstaqBackend('qtm_h1-1_qpu')>,\n",
       " <SuperstaqBackend('qtm_h1-1e_simulator')>,\n",
       " <SuperstaqBackend('qtm_h2-1_qpu')>,\n",
       " <SuperstaqBackend('ss_unconstrained_simulator')>]"
      ]
     },
     "execution_count": 4,
     "metadata": {},
     "output_type": "execute_result"
    }
   ],
   "source": [
    "provider.backends()"
   ]
  },
  {
   "cell_type": "code",
   "execution_count": 5,
   "id": "58ce4b24",
   "metadata": {
    "scrolled": true
   },
   "outputs": [
    {
     "data": {
      "text/plain": [
       "{'backend_name': 'ibmq_lagos_qpu',\n",
       " 'backend_version': 'n/a',\n",
       " 'n_qubits': 7,\n",
       " 'basis_gates': ['cx', 'id', 'rz', 'sx', 'x'],\n",
       " 'gates': [],\n",
       " 'local': False,\n",
       " 'simulator': False,\n",
       " 'conditional': False,\n",
       " 'open_pulse': True,\n",
       " 'memory': False,\n",
       " 'max_shots': 100000,\n",
       " 'coupling_map': [[0, 1],\n",
       "  [1, 0],\n",
       "  [1, 2],\n",
       "  [1, 3],\n",
       "  [2, 1],\n",
       "  [3, 1],\n",
       "  [3, 5],\n",
       "  [4, 5],\n",
       "  [5, 3],\n",
       "  [5, 4],\n",
       "  [5, 6],\n",
       "  [6, 5]],\n",
       " 'supports_midcircuit_measurement': True,\n",
       " 'max_experiments': 900,\n",
       " 'processor_type': {'family': 'Falcon', 'revision': '5.11', 'segment': 'H'}}"
      ]
     },
     "execution_count": 5,
     "metadata": {},
     "output_type": "execute_result"
    }
   ],
   "source": [
    "backend = provider.get_backend(\"ibmq_lagos_qpu\")  # selecting the IBM Lagos device\n",
    "backend.target_info()"
   ]
  },
  {
   "cell_type": "markdown",
   "id": "541a58fe",
   "metadata": {},
   "source": [
    "## Job Information\n",
    "Jobs submitted through Superstaq contain the following information:\n",
    "\n",
    "* `job_id()`: Unique identifier for the job.\n",
    "* `status()`: Status of the job (either Queued, Running, Done).\n",
    "* `backend()`: Device the job was run on.\n",
    "* `result().get_counts()`: Counts from the result of the job run. Note that `result()` can take an `index` argument to retrieve a specific job result (corresponding to the circuit with the same `index`). It also optionally accepts a list of qubit indices to retrieve marginal counts on specific qubits via the `qubit_indices` argument of `result()`.\n",
    "* `input_circuits()`: Retrieves original (i.e., not compiled) circuit(s) for job. Note this returns a list and you must specify an `index` if you want to retrieve a single/specific circuit.\n",
    "* `compiled_circuits()`: Retrieves compiled circuit(s) from submitted job. Note this returns a list and you must specify an `index` if you want to retrieve a single/specific circuit.\n",
    "\n",
    "Note that jobs live in our database for a limited amount of time. Typically, they have a lifespan of 1 year."
   ]
  },
  {
   "cell_type": "code",
   "execution_count": 6,
   "id": "dbd6a92a",
   "metadata": {},
   "outputs": [],
   "source": [
    "# Creating a circuit using Qiskit\n",
    "qc = qiskit.QuantumCircuit(2, 2)\n",
    "qc.h(0)\n",
    "qc.cx(0, 1)\n",
    "qc.measure([0, 1], [0, 1])\n",
    "\n",
    "# Submitting the circuit to the IBM Q QASM Simulator\n",
    "backend = provider.get_backend(\"ibmq_qasm_simulator\")\n",
    "job = backend.run(\n",
    "    [qc], method=\"dry-run\", shots=100\n",
    ")  # Specify \"dry-run\" as the method to submit & run a Superstaq simulation"
   ]
  },
  {
   "cell_type": "code",
   "execution_count": 7,
   "id": "a4e0461c",
   "metadata": {},
   "outputs": [
    {
     "data": {
      "text/plain": [
       "'80d22c25-4c31-4e78-908a-d87cb6ecd626'"
      ]
     },
     "execution_count": 7,
     "metadata": {},
     "output_type": "execute_result"
    }
   ],
   "source": [
    "job.job_id()"
   ]
  },
  {
   "cell_type": "code",
   "execution_count": 8,
   "id": "95d79658",
   "metadata": {},
   "outputs": [
    {
     "data": {
      "text/plain": [
       "<JobStatus.DONE: 'job has successfully run'>"
      ]
     },
     "execution_count": 8,
     "metadata": {},
     "output_type": "execute_result"
    }
   ],
   "source": [
    "job.status()"
   ]
  },
  {
   "cell_type": "code",
   "execution_count": 9,
   "id": "878046e1",
   "metadata": {},
   "outputs": [
    {
     "data": {
      "text/plain": [
       "<SuperstaqBackend('ibmq_qasm_simulator')>"
      ]
     },
     "execution_count": 9,
     "metadata": {},
     "output_type": "execute_result"
    }
   ],
   "source": [
    "job.backend()"
   ]
  },
  {
   "cell_type": "code",
   "execution_count": 10,
   "id": "f8e4e681",
   "metadata": {
    "scrolled": true
   },
   "outputs": [
    {
     "data": {
      "text/plain": [
       "{'00': 45, '11': 55}"
      ]
     },
     "execution_count": 10,
     "metadata": {},
     "output_type": "execute_result"
    }
   ],
   "source": [
    "job.result().get_counts()"
   ]
  },
  {
   "cell_type": "code",
   "execution_count": 11,
   "id": "6adf4b5b",
   "metadata": {
    "scrolled": true
   },
   "outputs": [
    {
     "data": {
      "image/png": "[encoded data removed]",
      "text/plain": [
       "<Figure size 454.517x284.278 with 1 Axes>"
      ]
     },
     "execution_count": 11,
     "metadata": {},
     "output_type": "execute_result"
    }
   ],
   "source": [
    "job.input_circuits(index=0).draw(output=\"mpl\")"
   ]
  },
  {
   "cell_type": "markdown",
   "id": "c47082b8",
   "metadata": {},
   "source": [
    "You may also retrieve the information described above on a previously submitted `qiskit-superstaq` job:"
   ]
  },
  {
   "cell_type": "code",
   "execution_count": 12,
   "id": "16bdcfff",
   "metadata": {},
   "outputs": [
    {
     "data": {
      "image/png": "[encoded data removed]",
      "text/plain": [
       "<Figure size 454.517x284.278 with 1 Axes>"
      ]
     },
     "execution_count": 12,
     "metadata": {},
     "output_type": "execute_result"
    }
   ],
   "source": [
    "backend = provider.get_backend(\"ibmq_qasm_simulator\")\n",
    "job_id = job.job_id()  # Here we use the job ID from above, but this can be any old job ID\n",
    "job_old = backend.retrieve_job(job_id)\n",
    "job_old.input_circuits(0).draw(output=\"mpl\")"
   ]
  }
 ],
 "metadata": {
  "kernelspec": {
   "display_name": "Python 3 (ipykernel)",
   "language": "python",
   "name": "python3"
  },
  "language_info": {
   "codemirror_mode": {
    "name": "ipython",
    "version": 3
   },
   "file_extension": ".py",
   "mimetype": "text/x-python",
   "name": "python",
   "nbconvert_exporter": "python",
   "pygments_lexer": "ipython3",
   "version": "3.9.16"
  }
 },
 "nbformat": 4,
 "nbformat_minor": 5
}
