{
 "cells": [
  {
   "cell_type": "markdown",
   "id": "f08273d7",
   "metadata": {},
   "source": [
    "# Superstaq Basics in Qiskit"
   ]
  },
  {
   "cell_type": "markdown",
   "id": "ee69fff2",
   "metadata": {},
   "source": [
    "[![Open in Colab](https://colab.research.google.com/assets/colab-badge.svg)](https://colab.research.google.com/github/Infleqtion/client-superstaq/blob/main/docs/source/get_started/basics/basics_qss.ipynb) [![Launch Binder](https://mybinder.org/badge_logo.svg)](https://mybinder.org/v2/gh/Infleqtion/client-superstaq/HEAD?labpath=docs/source/get_started/basics/basics_qss.ipynb)"
   ]
  },
  {
   "cell_type": "markdown",
   "id": "681eea2a",
   "metadata": {},
   "source": [
    "Here we demonstrate the basics of Superstaq by creating a circuit in Qiskit and submitting to IBM's Brisbane QPU. We assume you have a basic understanding of Python, as well as some familiarity with Qiskit."
   ]
  },
  {
   "cell_type": "markdown",
   "id": "c537b110",
   "metadata": {},
   "source": [
    "## Import Superstaq and requirements"
   ]
  },
  {
   "cell_type": "markdown",
   "id": "1f2c8de5",
   "metadata": {},
   "source": [
    "First, you will need to install and then import the packages required to allow Superstaq to run."
   ]
  },
  {
   "cell_type": "code",
   "execution_count": 1,
   "id": "9eaec3ca",
   "metadata": {},
   "outputs": [],
   "source": [
    "%pip install --quiet 'qiskit-superstaq[examples]'\n",
    "print(\"You may need to restart the kernel to import newly installed packages.\")"
   ]
  },
  {
   "cell_type": "code",
   "execution_count": 2,
   "id": "c56ba8eb",
   "metadata": {},
   "outputs": [],
   "source": [
    "# Requirements to use qiskit-superstaq\n",
    "import qiskit\n",
    "import qiskit_superstaq as qss\n",
    "\n",
    "# Optional\n",
    "import os  # Used to store a token in an environment variable"
   ]
  },
  {
   "cell_type": "markdown",
   "id": "e0d0a342",
   "metadata": {},
   "source": [
    "If you do not have the requirements already installed on your machine, you may add a code cell into the notebook to run `%pip install <package_name>` or run in terminal `pip install <package_name>`."
   ]
  },
  {
   "cell_type": "markdown",
   "id": "e4d4ae45",
   "metadata": {},
   "source": [
    "## Set up access to Superstaq's API\n",
    "You will need to first grab your Superstaq API key. Here, we store the API key in an environment variable, but you may also pass your token to the `api_key` parameter of `qss.SuperstaqProvider()`.\n",
    "\n",
    "To set up an environment variable, run `export SUPERSTAQ_API_KEY=\"<token>\"`, where `token` is the API key you have retrieved from https://superstaq.infleqtion.com, in the terminal where you are using Superstaq. Alternatively, you can add a cell to this notebook and run `!export SUPERSTAQ_API_KEY=\"<token>\"`."
   ]
  },
  {
   "cell_type": "code",
   "execution_count": 3,
   "id": "c875069a",
   "metadata": {},
   "outputs": [],
   "source": [
    "# Provider for Superstaq backend\n",
    "provider = qss.SuperstaqProvider()"
   ]
  },
  {
   "cell_type": "markdown",
   "id": "afad6114",
   "metadata": {},
   "source": [
    "## Create a circuit\n",
    "Now, use Qiskit to create the circuit you desire. Here, we create a Bell state circuit."
   ]
  },
  {
   "cell_type": "code",
   "execution_count": 4,
   "id": "60209f85",
   "metadata": {},
   "outputs": [
    {
     "data": {
      "image/png": "[encoded data removed]",
      "text/plain": [
       "<Figure size 454.517x284.278 with 1 Axes>"
      ]
     },
     "execution_count": 4,
     "metadata": {},
     "output_type": "execute_result"
    }
   ],
   "source": [
    "# Using Qiskit\n",
    "qc = qiskit.QuantumCircuit(2, 2)\n",
    "qc.h(0)\n",
    "qc.cx(0, 1)\n",
    "qc.measure([0, 1], [0, 1])\n",
    "qc.draw(output=\"mpl\")"
   ]
  },
  {
   "cell_type": "markdown",
   "id": "3261f2c0",
   "metadata": {},
   "source": [
    "## Submit your circuit and view results\n",
    "Finally, we can submit our circuit to the desired device (by calling `get_backend`) and view the results of our job. \n",
    "\n",
    "Here, we will simulate for [IBM's Brisbane QPU](https://quantum.ibm.com/services/resources?system=ibm_brisbane), but you can access, compile, and simulate to many other devices via Superstaq!\n",
    "\n",
    "To perform the simulation, we must instruct Superstaq to simulate the circuit to the desired target backend by passing `\"dry-run\"` as the `method`. Simulation via `\"dry-run\"` is a feature that is available to all users including free-trial users! Finally, we can retrieve the results of the job, the counts, by calling `result().get_counts()`."
   ]
  },
  {
   "cell_type": "code",
   "execution_count": 5,
   "id": "a4c28933",
   "metadata": {
    "scrolled": false
   },
   "outputs": [
    {
     "name": "stdout",
     "output_type": "stream",
     "text": [
      "{'00': 49, '11': 51}\n"
     ]
    }
   ],
   "source": [
    "backend = provider.get_backend(\"ibmq_brisbane_qpu\")\n",
    "\n",
    "# Specify \"dry-run\" as the method to submit & run a Superstaq simulation\n",
    "job = backend.run(qc, method=\"dry-run\", shots=100)\n",
    "result = job.result().get_counts()\n",
    "print(result)"
   ]
  }
 ],
 "metadata": {
  "kernelspec": {
   "display_name": "Python 3 (ipykernel)",
   "language": "python",
   "name": "python3"
  },
  "language_info": {
   "codemirror_mode": {
    "name": "ipython",
    "version": 3
   },
   "file_extension": ".py",
   "mimetype": "text/x-python",
   "name": "python",
   "nbconvert_exporter": "python",
   "pygments_lexer": "ipython3",
   "version": "3.9.16"
  },
  "widgets": {
   "application/vnd.jupyter.widget-state+json": {
    "state": {
     "2165a01d07804b7eab5e3f69c603fe8e": {
      "model_module": "@jupyter-widgets/controls",
      "model_module_version": "2.0.0",
      "model_name": "DescriptionStyleModel",
      "state": {
       "description_width": ""
      }
     },
     "43dbb91417e64cd09a63090603ddc734": {
      "model_module": "@jupyter-widgets/output",
      "model_module_version": "1.0.0",
      "model_name": "OutputModel",
      "state": {
       "layout": "IPY_MODEL_aa38f26027ed4676a313942a668ef0f3",
       "outputs": [
        {
         "name": "stdout",
         "output_type": "stream",
         "text": "0: ───H───@───M───\n          │\n1: ───────X───M───\n"
        }
       ]
      }
     },
     "67049c7857ac411888b355cb2e6ff6e5": {
      "model_module": "@jupyter-widgets/base",
      "model_module_version": "2.0.0",
      "model_name": "LayoutModel",
      "state": {}
     },
     "aa38f26027ed4676a313942a668ef0f3": {
      "model_module": "@jupyter-widgets/base",
      "model_module_version": "2.0.0",
      "model_name": "LayoutModel",
      "state": {}
     },
     "bdf0a7da60aa476d8d1c4f222bacca7b": {
      "model_module": "@jupyter-widgets/base",
      "model_module_version": "2.0.0",
      "model_name": "LayoutModel",
      "state": {}
     },
     "e1a9781b83cd48d6aa10dcddf13cbaa4": {
      "model_module": "@jupyter-widgets/controls",
      "model_module_version": "2.0.0",
      "model_name": "DropdownModel",
      "state": {
       "_options_labels": [
        "cirq-superstaq",
        "qiskit-superstaq"
       ],
       "description": "client",
       "index": 0,
       "layout": "IPY_MODEL_bdf0a7da60aa476d8d1c4f222bacca7b",
       "style": "IPY_MODEL_2165a01d07804b7eab5e3f69c603fe8e"
      }
     },
     "f81c221b78c04f43a6dd17341ab760b1": {
      "model_module": "@jupyter-widgets/controls",
      "model_module_version": "2.0.0",
      "model_name": "VBoxModel",
      "state": {
       "_dom_classes": [
        "widget-interact"
       ],
       "children": [
        "IPY_MODEL_e1a9781b83cd48d6aa10dcddf13cbaa4",
        "IPY_MODEL_43dbb91417e64cd09a63090603ddc734"
       ],
       "layout": "IPY_MODEL_67049c7857ac411888b355cb2e6ff6e5"
      }
     }
    },
    "version_major": 2,
    "version_minor": 0
   }
  }
 },
 "nbformat": 4,
 "nbformat_minor": 5
}
