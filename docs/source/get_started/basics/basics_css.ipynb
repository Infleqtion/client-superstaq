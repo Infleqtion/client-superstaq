{
 "cells": [
  {
   "cell_type": "markdown",
   "id": "f08273d7",
   "metadata": {},
   "source": [
    "# The Basics: Write Once, Target All\n",
    "Below we demonstrate the basics of SuperstaQ and one of its key functionalities:\n",
    "\n",
    "- **Write once**: Create a circuit and access the SuperstaQ API in either Cirq or Qiskit\n",
    "- **Target all**: Submit your circuit to a variety of devices and simulators\n",
    "\n",
    "Here, we assume you have a basic understanding of Python, as well as some familiarity with Cirq or Qiskit. We think the best place to get started with these examples is to try them on our [Hub](https://hub.super.tech)! "
   ]
  },
  {
   "cell_type": "markdown",
   "id": "c537b110",
   "metadata": {},
   "source": [
    "## Import SuperstaQ"
   ]
  },
  {
   "cell_type": "markdown",
   "id": "1f2c8de5",
   "metadata": {},
   "source": [
    "First, you will need to import the packages required to allow SuperstaQ to run."
   ]
  },
  {
   "cell_type": "code",
   "execution_count": 1,
   "id": "c56ba8eb",
   "metadata": {},
   "outputs": [],
   "source": [
    "# requirements to use cirq-superstaq\n",
    "import cirq\n",
    "import cirq_superstaq as css\n",
    "\n",
    "# requirements to use qiskit-superstaq\n",
    "import qiskit\n",
    "import qiskit_superstaq as qss\n",
    "\n",
    "# optional\n",
    "import os  # used to set a token as an environment variable\n",
    "import ipywidgets as widgets  # not required to use SuperstaQ; used here for interactive demonstrations"
   ]
  },
  {
   "cell_type": "markdown",
   "id": "e0d0a342",
   "metadata": {},
   "source": [
    "If you are not using our [Hub](https://hub.super.tech/) or do not have the requirements already install on your machine, you may add a code cell into the notebook to run `!pip install <package_name>` or run in terminal `pip install <package_name>`."
   ]
  },
  {
   "cell_type": "markdown",
   "id": "e4d4ae45",
   "metadata": {},
   "source": [
    "## Set up access to SuperstaQ's API\n",
    "You will need to first grab your SuperstaQ API key. Here, we set the API key as an environment variable, but you may also set your token in the `api_key` argument of `css.Service()` (if using cirq-superstaq) or `qss.SuperstaQProvider()` (if using qiskit-superstaq)."
   ]
  },
  {
   "cell_type": "code",
   "execution_count": 2,
   "id": "c875069a",
   "metadata": {},
   "outputs": [],
   "source": [
    "token = \"<token you have retrieved from https://superstaq.super.tech>\"\n",
    "os.environ[\n",
    "    \"SUPERSTAQ_API_KEY\"\n",
    "] = token  # setting the token as an environment variable, which must be called SUPERSTAQ_API_KEY\n",
    "\n",
    "# for cirq-superstaq: service to access SuperstaQ's API\n",
    "service = css.Service()\n",
    "\n",
    "# for qiskit-superstaq: provider for SuperstaQ backend\n",
    "provider = qss.SuperstaQProvider()"
   ]
  },
  {
   "cell_type": "markdown",
   "id": "afad6114",
   "metadata": {},
   "source": [
    "## Create a circuit\n",
    "Now, use Cirq or Qiskit to create the circuit you desire. Here, we create a Bell state circuit, demonstrating in both Cirq and Qiskit."
   ]
  },
  {
   "cell_type": "code",
   "execution_count": 3,
   "id": "60209f85",
   "metadata": {},
   "outputs": [
    {
     "data": {
      "application/vnd.jupyter.widget-view+json": {
       "model_id": "f81c221b78c04f43a6dd17341ab760b1",
       "version_major": 2,
       "version_minor": 0
      },
      "text/plain": [
       "interactive(children=(Dropdown(description='client', options=('cirq-superstaq', 'qiskit-superstaq'), value='ci…"
      ]
     },
     "metadata": {},
     "output_type": "display_data"
    }
   ],
   "source": [
    "# using Cirq\n",
    "qubits = cirq.LineQubit.range(2)\n",
    "circuit = cirq.Circuit(\n",
    "    cirq.H(qubits[0]),\n",
    "    cirq.CNOT(qubits[0], qubits[1]),\n",
    "    cirq.measure(qubits[0]),\n",
    "    cirq.measure(qubits[1]),\n",
    ")\n",
    "\n",
    "# using Qiskit\n",
    "qc = qiskit.QuantumCircuit(2, 2)\n",
    "qc.h(0)\n",
    "qc.cx(0, 1)\n",
    "qc.measure([0, 1], [0, 1])\n",
    "\n",
    "# widget to view output by client\n",
    "@widgets.interact(client=[\"cirq-superstaq\", \"qiskit-superstaq\"])\n",
    "def toggle_circuit(client):\n",
    "    if client == \"cirq-superstaq\":\n",
    "        print(circuit)\n",
    "    elif client == \"qiskit-superstaq\":\n",
    "        print(qc)"
   ]
  },
  {
   "cell_type": "markdown",
   "id": "3261f2c0",
   "metadata": {},
   "source": [
    "## Submit your circuit and view results\n",
    "Finally, we can submit our circuit to the desired device and view the results of our job. Here, we use [IBM's QASM simulator](https://quantum-computing.ibm.com/lab/docs/iql/manage/simulator), but you can access many other devices via SuperstaQ! <mark><span style=\"color:red\">Check out our other tutorials to see what other devices you can use.</span></mark>"
   ]
  },
  {
   "cell_type": "code",
   "execution_count": 4,
   "id": "a4c28933",
   "metadata": {
    "scrolled": true
   },
   "outputs": [
    {
     "name": "stdout",
     "output_type": "stream",
     "text": [
      "{'00': 42, '11': 58}\n"
     ]
    }
   ],
   "source": [
    "# using cirq-superstaq\n",
    "job_css = service.create_job(circuit=circuit, repetitions=100, target=\"ibmq_qasm_simulator\")\n",
    "result_css = job_css.counts()\n",
    "\n",
    "# using qiskit-superstaq\n",
    "backend = provider.get_backend(\"ibmq_qasm_simulator\")\n",
    "job_qss = backend.run(qc, shots=100)\n",
    "result_qss = job_qss.result().get_counts()\n",
    "\n",
    "# example counts\n",
    "print(result_css)"
   ]
  }
 ],
 "metadata": {
  "kernelspec": {
   "display_name": "Python 3 (ipykernel)",
   "language": "python",
   "name": "python3"
  },
  "language_info": {
   "codemirror_mode": {
    "name": "ipython",
    "version": 3
   },
   "file_extension": ".py",
   "mimetype": "text/x-python",
   "name": "python",
   "nbconvert_exporter": "python",
   "pygments_lexer": "ipython3",
   "version": "3.10.6"
  },
  "widgets": {
   "application/vnd.jupyter.widget-state+json": {
    "state": {
     "2165a01d07804b7eab5e3f69c603fe8e": {
      "model_module": "@jupyter-widgets/controls",
      "model_module_version": "2.0.0",
      "model_name": "DescriptionStyleModel",
      "state": {
       "description_width": ""
      }
     },
     "43dbb91417e64cd09a63090603ddc734": {
      "model_module": "@jupyter-widgets/output",
      "model_module_version": "1.0.0",
      "model_name": "OutputModel",
      "state": {
       "layout": "IPY_MODEL_aa38f26027ed4676a313942a668ef0f3",
       "outputs": [
        {
         "name": "stdout",
         "output_type": "stream",
         "text": "0: ───H───@───M───\n          │\n1: ───────X───M───\n"
        }
       ]
      }
     },
     "67049c7857ac411888b355cb2e6ff6e5": {
      "model_module": "@jupyter-widgets/base",
      "model_module_version": "2.0.0",
      "model_name": "LayoutModel",
      "state": {}
     },
     "aa38f26027ed4676a313942a668ef0f3": {
      "model_module": "@jupyter-widgets/base",
      "model_module_version": "2.0.0",
      "model_name": "LayoutModel",
      "state": {}
     },
     "bdf0a7da60aa476d8d1c4f222bacca7b": {
      "model_module": "@jupyter-widgets/base",
      "model_module_version": "2.0.0",
      "model_name": "LayoutModel",
      "state": {}
     },
     "e1a9781b83cd48d6aa10dcddf13cbaa4": {
      "model_module": "@jupyter-widgets/controls",
      "model_module_version": "2.0.0",
      "model_name": "DropdownModel",
      "state": {
       "_options_labels": [
        "cirq-superstaq",
        "qiskit-superstaq"
       ],
       "description": "client",
       "index": 0,
       "layout": "IPY_MODEL_bdf0a7da60aa476d8d1c4f222bacca7b",
       "style": "IPY_MODEL_2165a01d07804b7eab5e3f69c603fe8e"
      }
     },
     "f81c221b78c04f43a6dd17341ab760b1": {
      "model_module": "@jupyter-widgets/controls",
      "model_module_version": "2.0.0",
      "model_name": "VBoxModel",
      "state": {
       "_dom_classes": [
        "widget-interact"
       ],
       "children": [
        "IPY_MODEL_e1a9781b83cd48d6aa10dcddf13cbaa4",
        "IPY_MODEL_43dbb91417e64cd09a63090603ddc734"
       ],
       "layout": "IPY_MODEL_67049c7857ac411888b355cb2e6ff6e5"
      }
     }
    },
    "version_major": 2,
    "version_minor": 0
   }
  }
 },
 "nbformat": 4,
 "nbformat_minor": 5
}
