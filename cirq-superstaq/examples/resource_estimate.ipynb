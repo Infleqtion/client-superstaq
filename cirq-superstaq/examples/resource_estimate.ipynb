{
 "cells": [
  {
   "cell_type": "code",
   "execution_count": 1,
   "id": "36c72d07",
   "metadata": {},
   "outputs": [],
   "source": [
    "import cirq_superstaq as css\n",
    "import cirq\n",
    "\n",
    "from general_superstaq import ResourceEstimate"
   ]
  },
  {
   "cell_type": "markdown",
   "id": "2c0a903d",
   "metadata": {},
   "source": [
    "# Getting Resource Estimate Costs"
   ]
  },
  {
   "cell_type": "code",
   "execution_count": 2,
   "id": "dbe9697e",
   "metadata": {},
   "outputs": [],
   "source": [
    "# Connect to Superstaq\n",
    "# Provide your api key to the using the \"api_key\" argument if\n",
    "# SUPERSTAQ_API_KEY environment variable is not set.\n",
    "service = css.Service()"
   ]
  },
  {
   "cell_type": "markdown",
   "id": "524d4a88",
   "metadata": {},
   "source": [
    "# Resource Estimate for Simple Circuit"
   ]
  },
  {
   "cell_type": "code",
   "execution_count": 3,
   "id": "935ddecf",
   "metadata": {},
   "outputs": [
    {
     "name": "stdout",
     "output_type": "stream",
     "text": [
      "0: ───H───@───M───\n",
      "          │\n",
      "1: ───────X───────\n"
     ]
    }
   ],
   "source": [
    "# Create simple circuit and submit to simulator\n",
    "q0 = cirq.LineQubit(0)\n",
    "q1 = cirq.LineQubit(1)\n",
    "\n",
    "circuit = cirq.Circuit(cirq.H(q0), cirq.CNOT(q0, q1), cirq.measure(q0))\n",
    "print(circuit)"
   ]
  },
  {
   "cell_type": "code",
   "execution_count": 4,
   "id": "975f649b",
   "metadata": {},
   "outputs": [
    {
     "name": "stdout",
     "output_type": "stream",
     "text": [
      "ResourceEstimate(num_single_qubit_gates=2, num_two_qubit_gates=1, depth=3)\n"
     ]
    }
   ],
   "source": [
    "resource_estimate = service.resource_estimate(circuit, \"ss_unconstrained_simulator\")\n",
    "print(resource_estimate)"
   ]
  },
  {
   "cell_type": "markdown",
   "id": "243b9ec8",
   "metadata": {},
   "source": [
    "# Resource Estimate for More Complex Random Circuit"
   ]
  },
  {
   "cell_type": "code",
   "execution_count": 5,
   "id": "718a8cae",
   "metadata": {},
   "outputs": [
    {
     "name": "stdout",
     "output_type": "stream",
     "text": [
      "              ┌──┐\n",
      "0: ───iSwap──────────────\n",
      "      │\n",
      "1: ───┼─────────×────T───\n",
      "      │         │\n",
      "2: ───┼────────T┼────────\n",
      "      │         │\n",
      "3: ───iSwap─────×────────\n",
      "              └──┘\n"
     ]
    }
   ],
   "source": [
    "# Create and submit random circuit to simulator\n",
    "random_circuit = cirq.testing.random_circuit(\n",
    "    qubits=cirq.LineQubit.range(4), n_moments=3, op_density=0.8, random_state=1234\n",
    ")\n",
    "print(random_circuit)"
   ]
  },
  {
   "cell_type": "code",
   "execution_count": 6,
   "id": "236a9aa6",
   "metadata": {},
   "outputs": [
    {
     "name": "stdout",
     "output_type": "stream",
     "text": [
      "ResourceEstimate(num_single_qubit_gates=2, num_two_qubit_gates=2, depth=3)\n"
     ]
    }
   ],
   "source": [
    "resource_estimate = service.resource_estimate(random_circuit, \"ss_unconstrained_simulator\")\n",
    "print(resource_estimate)"
   ]
  },
  {
   "cell_type": "markdown",
   "id": "a3cbf2cf",
   "metadata": {},
   "source": [
    "# Example on Circuit Compiled on IBMQ Device"
   ]
  },
  {
   "cell_type": "code",
   "execution_count": 7,
   "id": "760b3aa0",
   "metadata": {},
   "outputs": [
    {
     "name": "stdout",
     "output_type": "stream",
     "text": [
      "0: ───AceCR+-(Z side)───\n",
      "      │\n",
      "1: ───AceCR+-(X side)───\n"
     ]
    }
   ],
   "source": [
    "qubits = cirq.LineQubit.range(2)\n",
    "circuit2 = cirq.Circuit(css.AceCRPlusMinus(qubits[0], qubits[1]))\n",
    "print(circuit2)"
   ]
  },
  {
   "cell_type": "code",
   "execution_count": 8,
   "id": "913dbfbf",
   "metadata": {},
   "outputs": [
    {
     "name": "stdout",
     "output_type": "stream",
     "text": [
      "0: ───Rz(1.5π)───X^0.5───AceCR+-(Z side)───M───\n",
      "                         │\n",
      "1: ───X^0.5──────────────AceCR+-(X side)───────\n"
     ]
    }
   ],
   "source": [
    "out = service.ibmq_compile(circuit, target=\"ibmq_brisbane_qpu\")\n",
    "print(out.circuit)"
   ]
  },
  {
   "cell_type": "code",
   "execution_count": 9,
   "id": "999218e7",
   "metadata": {},
   "outputs": [
    {
     "name": "stdout",
     "output_type": "stream",
     "text": [
      "ResourceEstimate(num_single_qubit_gates=4, num_two_qubit_gates=1, depth=4)\n"
     ]
    }
   ],
   "source": [
    "resource_estimate = service.resource_estimate(circuit, \"ibmq_brisbane_qpu\")\n",
    "print(resource_estimate)"
   ]
  },
  {
   "cell_type": "markdown",
   "id": "596816a2",
   "metadata": {},
   "source": [
    "# Multiple Circuit Example"
   ]
  },
  {
   "cell_type": "code",
   "execution_count": 10,
   "id": "9a9d0677",
   "metadata": {},
   "outputs": [
    {
     "name": "stdout",
     "output_type": "stream",
     "text": [
      "      ┌──────┐\n",
      "0: ─────iSwap────────\n",
      "        │\n",
      "1: ────H┼────────Z───\n",
      "        │\n",
      "2: ─────iSwap────T───\n",
      "      └──────┘\n",
      "0: ───iSwap───X───\n",
      "      │       │\n",
      "1: ───iSwap───@───\n",
      "1: ───Y───@───\n",
      "          │\n",
      "2: ───Y───X───\n"
     ]
    }
   ],
   "source": [
    "# Create List of random circuits (3)\n",
    "qubits = cirq.LineQubit.range(3)\n",
    "circuits = [\n",
    "    cirq.testing.random_circuit(qubits=qubits, n_moments=2, op_density=0.8, random_state=123),\n",
    "    cirq.testing.random_circuit(qubits=qubits, n_moments=2, op_density=0.8, random_state=234),\n",
    "    cirq.testing.random_circuit(qubits=qubits, n_moments=2, op_density=0.8, random_state=345),\n",
    "]\n",
    "for c in circuits:\n",
    "    print(c)"
   ]
  },
  {
   "cell_type": "code",
   "execution_count": 11,
   "id": "0cb65736",
   "metadata": {},
   "outputs": [
    {
     "name": "stdout",
     "output_type": "stream",
     "text": [
      "[ResourceEstimate(num_single_qubit_gates=3, num_two_qubit_gates=1, depth=2), ResourceEstimate(num_single_qubit_gates=0, num_two_qubit_gates=2, depth=2), ResourceEstimate(num_single_qubit_gates=2, num_two_qubit_gates=1, depth=2)]\n"
     ]
    }
   ],
   "source": [
    "resource_estimates = service.resource_estimate(circuits, \"ss_unconstrained_simulator\")\n",
    "print(resource_estimates)"
   ]
  }
 ],
 "metadata": {
  "kernelspec": {
   "display_name": "Python 3 (ipykernel)",
   "language": "python",
   "name": "python3"
  },
  "language_info": {
   "codemirror_mode": {
    "name": "ipython",
    "version": 3
   },
   "file_extension": ".py",
   "mimetype": "text/x-python",
   "name": "python",
   "nbconvert_exporter": "python",
   "pygments_lexer": "ipython3",
   "version": "3.11.2"
  }
 },
 "nbformat": 4,
 "nbformat_minor": 5
}
