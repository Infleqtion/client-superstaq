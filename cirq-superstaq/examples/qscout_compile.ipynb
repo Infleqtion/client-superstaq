{
 "cells": [
  {
   "cell_type": "markdown",
   "id": "c7dec4fd-8cff-4c6c-91db-d458d94315aa",
   "metadata": {},
   "source": [
    "## QSCOUT Compile"
   ]
  },
  {
   "cell_type": "code",
   "execution_count": 1,
   "id": "029917c7-091c-4563-98b2-b1bf4d532660",
   "metadata": {},
   "outputs": [],
   "source": [
    "import cirq\n",
    "import cirq_superstaq as css"
   ]
  },
  {
   "cell_type": "code",
   "execution_count": 2,
   "id": "c80cdc6b",
   "metadata": {},
   "outputs": [],
   "source": [
    "q0 = cirq.LineQubit(0)\n",
    "q1 = cirq.LineQubit(1)\n",
    "\n",
    "circuit = cirq.Circuit(cirq.H(q0), cirq.measure(q0))\n",
    "\n",
    "service = css.Service()"
   ]
  },
  {
   "cell_type": "markdown",
   "id": "36e22d0f",
   "metadata": {},
   "source": [
    "## Single circuit compilation"
   ]
  },
  {
   "cell_type": "code",
   "execution_count": 3,
   "id": "5f107c0d-426e-4444-9749-8589bea4b679",
   "metadata": {
    "scrolled": true
   },
   "outputs": [],
   "source": [
    "qubits = cirq.LineQubit.range(2)"
   ]
  },
  {
   "cell_type": "code",
   "execution_count": 4,
   "id": "86a9c7c0-81b8-438b-8f53-538dfa5b011d",
   "metadata": {},
   "outputs": [
    {
     "name": "stdout",
     "output_type": "stream",
     "text": [
      "0: ───H───@───M───\n",
      "          │\n",
      "1: ───────X───────\n"
     ]
    }
   ],
   "source": [
    "circuit1 = cirq.Circuit(cirq.H(qubits[0]), cirq.CNOT(qubits[0], qubits[1]), cirq.measure(qubits[0]))\n",
    "print(circuit1)"
   ]
  },
  {
   "cell_type": "code",
   "execution_count": 5,
   "id": "eabb48bb-7e06-42e2-acb8-70dc1209e591",
   "metadata": {},
   "outputs": [],
   "source": [
    "compiler_output = service.qscout_compile(circuit1)"
   ]
  },
  {
   "cell_type": "code",
   "execution_count": 6,
   "id": "fea5332a",
   "metadata": {},
   "outputs": [
    {
     "name": "stdout",
     "output_type": "stream",
     "text": [
      "0: ───PhX(1)^0.75───MS(-0.25π)───PhX(-0.5)^0.5───T───M───\n",
      "                    │\n",
      "1: ───PhX(1)^0.75───MS(-0.25π)───PhX(1)^0.75─────────────\n"
     ]
    }
   ],
   "source": [
    "print(compiler_output.circuit)"
   ]
  },
  {
   "cell_type": "code",
   "execution_count": 7,
   "id": "9d0937a8",
   "metadata": {},
   "outputs": [
    {
     "name": "stdout",
     "output_type": "stream",
     "text": [
      "from qscout.v1.std usepulses *\n",
      "\n",
      "register allqubits[2]\n",
      "\n",
      "prepare_all\n",
      "<\n",
      "\tR allqubits[0] 3.141592653589793 2.356194490192345\n",
      "\tR allqubits[1] 3.141592653589793 2.356194490192345\n",
      ">\n",
      "MS allqubits[0] allqubits[1] 0 -1.5707963267948966\n",
      "<\n",
      "\tR allqubits[1] 3.141592653589793 2.356194490192345\n",
      "\tR allqubits[0] -1.5707963267948966 1.5707963267948966\n",
      ">\n",
      "Rz allqubits[0] 0.7853981633974476\n",
      "measure_all\n",
      "\n"
     ]
    }
   ],
   "source": [
    "print(compiler_output.jaqal_program)"
   ]
  },
  {
   "cell_type": "markdown",
   "id": "0c57bf77",
   "metadata": {},
   "source": [
    "## Multiple circuit compilation"
   ]
  },
  {
   "cell_type": "code",
   "execution_count": 8,
   "id": "8fd1e2a6-4e63-470a-aaec-d9ccc432eb64",
   "metadata": {},
   "outputs": [],
   "source": [
    "compiler_output = service.qscout_compile([circuit, circuit1])"
   ]
  },
  {
   "cell_type": "code",
   "execution_count": 9,
   "id": "5dcd7951",
   "metadata": {},
   "outputs": [
    {
     "name": "stdout",
     "output_type": "stream",
     "text": [
      "0: ───PhX(-0.5)^0.5───Z───M───\n",
      "\n",
      "0: ───PhX(1)^0.75───MS(-0.25π)───PhX(-0.5)^0.5───T───M───\n",
      "                    │\n",
      "1: ───PhX(1)^0.75───MS(-0.25π)───PhX(1)^0.75─────────────\n"
     ]
    }
   ],
   "source": [
    "print(compiler_output.circuits[0])\n",
    "print()\n",
    "print(compiler_output.circuits[1])"
   ]
  },
  {
   "cell_type": "code",
   "execution_count": 10,
   "id": "1ec75a40-ee18-4bee-b544-8bb1cbbbe45a",
   "metadata": {},
   "outputs": [
    {
     "name": "stdout",
     "output_type": "stream",
     "text": [
      "from qscout.v1.std usepulses *\n",
      "\n",
      "register allqubits[1]\n",
      "\n",
      "prepare_all\n",
      "R allqubits[0] -1.5707963267948966 1.5707963267948966\n",
      "Rz allqubits[0] -3.141592653589793\n",
      "measure_all\n",
      "\n"
     ]
    }
   ],
   "source": [
    "print(compiler_output.jaqal_programs[0])"
   ]
  },
  {
   "cell_type": "code",
   "execution_count": 11,
   "id": "81e69456",
   "metadata": {},
   "outputs": [
    {
     "name": "stdout",
     "output_type": "stream",
     "text": [
      "from qscout.v1.std usepulses *\n",
      "\n",
      "register allqubits[2]\n",
      "\n",
      "prepare_all\n",
      "<\n",
      "\tR allqubits[0] 3.141592653589793 2.356194490192345\n",
      "\tR allqubits[1] 3.141592653589793 2.356194490192345\n",
      ">\n",
      "MS allqubits[0] allqubits[1] 0 -1.5707963267948966\n",
      "<\n",
      "\tR allqubits[1] 3.141592653589793 2.356194490192345\n",
      "\tR allqubits[0] -1.5707963267948966 1.5707963267948966\n",
      ">\n",
      "Rz allqubits[0] 0.7853981633974476\n",
      "measure_all\n",
      "\n"
     ]
    }
   ],
   "source": [
    "print(compiler_output.jaqal_programs[1])"
   ]
  },
  {
   "cell_type": "code",
   "execution_count": null,
   "id": "8f53f2a9",
   "metadata": {},
   "outputs": [],
   "source": []
  }
 ],
 "metadata": {
  "kernelspec": {
   "display_name": "Python 3 (ipykernel)",
   "language": "python",
   "name": "python3"
  },
  "language_info": {
   "codemirror_mode": {
    "name": "ipython",
    "version": 3
   },
   "file_extension": ".py",
   "mimetype": "text/x-python",
   "name": "python",
   "nbconvert_exporter": "python",
   "pygments_lexer": "ipython3",
   "version": "3.8.10"
  }
 },
 "nbformat": 4,
 "nbformat_minor": 5
}
