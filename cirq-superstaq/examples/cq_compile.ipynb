{
 "cells": [
  {
   "cell_type": "markdown",
   "id": "eb89a144",
   "metadata": {},
   "source": [
    "## CQ Compile"
   ]
  },
  {
   "cell_type": "code",
   "execution_count": 1,
   "id": "aff4bd87",
   "metadata": {},
   "outputs": [],
   "source": [
    "import cirq\n",
    "import cirq_superstaq as css"
   ]
  },
  {
   "cell_type": "code",
   "execution_count": 2,
   "id": "4464f34f",
   "metadata": {},
   "outputs": [],
   "source": [
    "q0 = cirq.LineQubit(0)\n",
    "q1 = cirq.LineQubit(1)\n",
    "\n",
    "circuit = cirq.Circuit(cirq.H(q0), cirq.measure(q0))\n",
    "\n",
    "service = css.Service()"
   ]
  },
  {
   "cell_type": "markdown",
   "id": "4e6727a1",
   "metadata": {},
   "source": [
    "## Single circuit compilation"
   ]
  },
  {
   "cell_type": "code",
   "execution_count": 3,
   "id": "9521d540",
   "metadata": {
    "scrolled": true
   },
   "outputs": [],
   "source": [
    "qubits = cirq.LineQubit.range(2)"
   ]
  },
  {
   "cell_type": "code",
   "execution_count": 4,
   "id": "dc542c51",
   "metadata": {},
   "outputs": [
    {
     "name": "stdout",
     "output_type": "stream",
     "text": [
      "0: ───H───@───M───\n",
      "          │\n",
      "1: ───────X───────\n"
     ]
    }
   ],
   "source": [
    "circuit1 = cirq.Circuit(cirq.H(qubits[0]), cirq.CNOT(qubits[0], qubits[1]), cirq.measure(qubits[0]))\n",
    "print(circuit1)"
   ]
  },
  {
   "cell_type": "code",
   "execution_count": 5,
   "id": "b9149284",
   "metadata": {
    "scrolled": true
   },
   "outputs": [],
   "source": [
    "compiler_output = service.cq_compile(circuit1)"
   ]
  },
  {
   "cell_type": "code",
   "execution_count": 6,
   "id": "92f3d368",
   "metadata": {},
   "outputs": [
    {
     "name": "stdout",
     "output_type": "stream",
     "text": [
      "(0, 0): ───RGate(0.5π, -0.5π)───@───M───RGate(-0.25π, -0.5π)───────────RGate(0.25π, -0.5π)───────────\n",
      "           │                    │       │                              │\n",
      "(0, 1): ───#2───────────────────@───────#2─────────────────────Rz(π)───#2────────────────────Rz(π)───\n"
     ]
    }
   ],
   "source": [
    "print(compiler_output.circuit)"
   ]
  },
  {
   "cell_type": "markdown",
   "id": "c6a4b1d3",
   "metadata": {},
   "source": [
    "## Multiple circuit compilation"
   ]
  },
  {
   "cell_type": "code",
   "execution_count": 7,
   "id": "40fd33d8",
   "metadata": {},
   "outputs": [],
   "source": [
    "compiler_output = service.cq_compile([circuit, circuit1])"
   ]
  },
  {
   "cell_type": "code",
   "execution_count": 8,
   "id": "d1961e28",
   "metadata": {},
   "outputs": [
    {
     "name": "stdout",
     "output_type": "stream",
     "text": [
      "(0, 0): ───RGate(0.5π, -0.5π)───M───\n",
      "\n",
      "(0, 0): ───RGate(0.5π, -0.5π)───@───M───RGate(-0.25π, -0.5π)───────────RGate(0.25π, -0.5π)───────────\n",
      "           │                    │       │                              │\n",
      "(0, 1): ───#2───────────────────@───────#2─────────────────────Rz(π)───#2────────────────────Rz(π)───\n"
     ]
    }
   ],
   "source": [
    "print(compiler_output.circuits[0])\n",
    "print()\n",
    "print(compiler_output.circuits[1])"
   ]
  },
  {
   "cell_type": "code",
   "execution_count": null,
   "id": "1083d911",
   "metadata": {},
   "outputs": [],
   "source": []
  }
 ],
 "metadata": {
  "kernelspec": {
   "display_name": "Python 3 (ipykernel)",
   "language": "python",
   "name": "python3"
  },
  "language_info": {
   "codemirror_mode": {
    "name": "ipython",
    "version": 3
   },
   "file_extension": ".py",
   "mimetype": "text/x-python",
   "name": "python",
   "nbconvert_exporter": "python",
   "pygments_lexer": "ipython3",
   "version": "3.8.10"
  }
 },
 "nbformat": 4,
 "nbformat_minor": 5
}
