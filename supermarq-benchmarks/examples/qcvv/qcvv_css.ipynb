{
 "cells": [
  {
   "cell_type": "markdown",
   "metadata": {},
   "source": [
    "# Quantum Characterisation, Verification and Validation"
   ]
  },
  {
   "cell_type": "markdown",
   "metadata": {},
   "source": [
    "To demonstrate how to implement new benchmarking experiments within the Superstaq QCVV framework,\n",
    "consider implementing a naive benchmarking routine where we try to estimate the fidelity of a single\n",
    "qubit Z gate by repeatedly applying the gate to a qubit in the ground state (such that the Z-gate\n",
    "should have no effect) and observing if any observations of the excited state occur. If the excited \n",
    "state is observed this indicates an error has occurred. Assuming that each time the Z-gate is\n",
    "applied the probability of a bit flip error is $e$ then after $d$ gates the probability of \n",
    "observing the ground state is $$p(0) = \\frac{1}{2}(1-e)^d + \\frac{1}{2}$$"
   ]
  },
  {
   "cell_type": "markdown",
   "metadata": {},
   "source": [
    "We can create an experiment to measure this as follows"
   ]
  },
  {
   "cell_type": "code",
   "execution_count": 35,
   "metadata": {},
   "outputs": [],
   "source": [
    "from cirq_superstaq.qcvv.base_experiment import BenchmarkingExperiment\n",
    "from collections.abc import Sequence\n",
    "from typing import Iterable, NamedTuple\n",
    "from tqdm.contrib.itertools import product\n",
    "import pandas as pd\n",
    "\n",
    "import cirq\n",
    "\n",
    "from scipy.stats import linregress\n",
    "import numpy as np\n",
    "import seaborn as sns\n",
    "import matplotlib.pyplot as plt\n",
    "\n",
    "\n",
    "from cirq_superstaq.qcvv.base_experiment import Sample\n",
    "\n",
    "\n",
    "class NaiveExperimentResult(NamedTuple):\n",
    "    gate_fidelity: float\n",
    "    gate_error: float\n",
    "\n",
    "\n",
    "class NaiveExperiment(BenchmarkingExperiment):\n",
    "    def __init__(self):\n",
    "        super().__init__(num_qubits=1)\n",
    "\n",
    "    def build_circuits(self, num_circuits: int, layers: Iterable[int]) -> Sequence[Sample]:\n",
    "        \"\"\"Build the circuits by composing multiple Z gates together into circuits. The\n",
    "        number of gates to compose is given by the `layers` parameter.\n",
    "        \"\"\"\n",
    "        samples = []\n",
    "        for _, depth in product(range(num_circuits), layers, desc=\"Building circuits.\"):\n",
    "            circuit = cirq.Circuit([cirq.Z(*self.qubits) for _ in range(depth)])\n",
    "            samples.append(Sample(circuit=circuit, data={\"depth\": depth}))\n",
    "        return samples\n",
    "\n",
    "    def process_probabilities(self) -> None:\n",
    "        \"\"\"Copy the data and observed probabilities into a pandas DataFrame.\"\"\"\n",
    "        super().process_probabilities()\n",
    "        records = []\n",
    "        for sample in self.samples:\n",
    "            records.append({**sample.data, **sample.probabilities})\n",
    "        self._raw_data = pd.DataFrame(records)\n",
    "\n",
    "    def analyse_results(self, plot_results: bool = True) -> NamedTuple:\n",
    "        \"\"\"To analyse the results to fit a simple exponential decay. This can be done easily\n",
    "        by fitting a linear model to the logarithm of the equation above.\n",
    "        \"\"\"\n",
    "\n",
    "        model = linregress(x=self.raw_data[\"depth\"], y=np.log(2 * self.raw_data[\"0\"] - 1))\n",
    "\n",
    "        fidelity = np.exp(model.slope)\n",
    "\n",
    "        self._results = NaiveExperimentResult(gate_fidelity=fidelity, gate_error=1 - fidelity)\n",
    "\n",
    "        if plot_results:\n",
    "            self.plot_results()\n",
    "\n",
    "        return self.results\n",
    "\n",
    "    def plot_results(self) -> None:\n",
    "        \"\"\"Plot the data with the fit superimposed on top.\"\"\"\n",
    "\n",
    "        fig, axs = plt.subplots(\n",
    "            1,\n",
    "        )\n",
    "\n",
    "        sns.scatterplot(self.raw_data, x=\"depth\", y=\"0\", ax=axs)\n",
    "\n",
    "        x = np.linspace(0, max(self.raw_data.depth))\n",
    "        y = 0.5 * self.results.gate_fidelity**x + 0.5\n",
    "        axs.plot(x, y)"
   ]
  },
  {
   "cell_type": "markdown",
   "metadata": {},
   "source": [
    "To test this basic experiment, we use a depolarising noise model and a density matrix simulator.\n",
    "Note that if we use a single qubit depolarising channel with rate $p$ this will result in a bit-flip\n",
    "error with probability of $4p/3$."
   ]
  },
  {
   "cell_type": "code",
   "execution_count": 38,
   "metadata": {},
   "outputs": [
    {
     "data": {
      "application/vnd.jupyter.widget-view+json": {
       "model_id": "b9bb64d74a964b398bae86e0a7725c55",
       "version_major": 2,
       "version_minor": 0
      },
      "text/plain": [
       "  0%|          | 0/200 [00:00<?, ?it/s]"
      ]
     },
     "metadata": {},
     "output_type": "display_data"
    },
    {
     "data": {
      "application/vnd.jupyter.widget-view+json": {
       "model_id": "2d630ca1f71d43e0b6287629a0f35618",
       "version_major": 2,
       "version_minor": 0
      },
      "text/plain": [
       "Simulating circuits:   0%|          | 0/200 [00:00<?, ?it/s]"
      ]
     },
     "metadata": {},
     "output_type": "display_data"
    },
    {
     "data": {
      "text/plain": [
       "NaiveExperimentResult(gate_fidelity=0.9867015465189143, gate_error=0.013298453481085715)"
      ]
     },
     "execution_count": 38,
     "metadata": {},
     "output_type": "execute_result"
    },
    {
     "data": {
      "image/png": "[encoded data removed]",
      "text/plain": [
       "<Figure size 640x480 with 1 Axes>"
      ]
     },
     "metadata": {},
     "output_type": "display_data"
    }
   ],
   "source": [
    "noise = cirq.DepolarizingChannel(p=0.01)\n",
    "simulator = cirq.DensityMatrixSimulator(noise=noise)\n",
    "experiment = NaiveExperiment()\n",
    "experiment.run(50, [1, 10, 50, 100], target=simulator)\n",
    "experiment.analyse_results(plot_results=True)"
   ]
  },
  {
   "cell_type": "markdown",
   "metadata": {},
   "source": [
    "Checking this result we have"
   ]
  },
  {
   "cell_type": "code",
   "execution_count": 44,
   "metadata": {},
   "outputs": [
    {
     "name": "stdout",
     "output_type": "stream",
     "text": [
      "0.009973840110814286\n"
     ]
    }
   ],
   "source": [
    "channel_rate = 3 / 4 * experiment.results.gate_error\n",
    "print(channel_rate)"
   ]
  },
  {
   "cell_type": "markdown",
   "metadata": {},
   "source": [
    "Which agrees very closely with our channel rate of $0.01$"
   ]
  }
 ],
 "metadata": {
  "kernelspec": {
   "display_name": "client_superstaq",
   "language": "python",
   "name": "python3"
  },
  "language_info": {
   "codemirror_mode": {
    "name": "ipython",
    "version": 3
   },
   "file_extension": ".py",
   "mimetype": "text/x-python",
   "name": "python",
   "nbconvert_exporter": "python",
   "pygments_lexer": "ipython3",
   "version": "3.11.9"
  }
 },
 "nbformat": 4,
 "nbformat_minor": 2
}
