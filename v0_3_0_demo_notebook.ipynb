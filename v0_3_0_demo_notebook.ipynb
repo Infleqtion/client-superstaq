{
 "cells": [
  {
   "cell_type": "code",
   "execution_count": 1,
   "metadata": {},
   "outputs": [],
   "source": [
    "%load_ext autoreload\n",
    "%autoreload 2"
   ]
  },
  {
   "cell_type": "code",
   "execution_count": 2,
   "metadata": {},
   "outputs": [
    {
     "name": "stderr",
     "output_type": "stream",
     "text": [
      "/home/cdb/repositories/client-superstaq/general-superstaq/general_superstaq/superstaq_client.py:928: UserWarning: Version v0.3.0 of the Superstaq endpoint is currently under development. This version should not be treated as stable. Most user should continue using `api_version='v0.2.0'`.\n",
      "  warnings.warn(\n"
     ]
    }
   ],
   "source": [
    "import cirq_superstaq as css\n",
    "import cirq\n",
    "\n",
    "qubits = cirq.LineQubit.range(5)\n",
    "circuit = cirq.Circuit(cirq.CX(qubits[k], qubits[k+1]) for k in range(4))\n",
    "circuit += cirq.measure(*qubits)\n"
   ]
  },
  {
   "cell_type": "code",
   "execution_count": 3,
   "metadata": {},
   "outputs": [],
   "source": [
    "service = css.Service(remote_host=\"http://127.0.0.1:8000\", api_key=\"mc-token\", api_version=\"v0.3.0\")"
   ]
  },
  {
   "cell_type": "code",
   "execution_count": 4,
   "metadata": {},
   "outputs": [
    {
     "data": {
      "text/plain": [
       "[Target(target='aqt_keysight_qpu', supports_submit=False, supports_submit_qubo=False, supports_compile=True, available=True, retired=False),\n",
       " Target(target='aqt_zurich_qpu', supports_submit=False, supports_submit_qubo=False, supports_compile=True, available=True, retired=False),\n",
       " Target(target='aws_dm1_simulator', supports_submit=True, supports_submit_qubo=False, supports_compile=True, available=True, retired=False),\n",
       " Target(target='aws_sv1_simulator', supports_submit=True, supports_submit_qubo=False, supports_compile=True, available=True, retired=False),\n",
       " Target(target='aws_tn1_simulator', supports_submit=True, supports_submit_qubo=False, supports_compile=True, available=True, retired=False),\n",
       " Target(target='cq_sqale_simulator', supports_submit=True, supports_submit_qubo=False, supports_compile=True, available=True, retired=False),\n",
       " Target(target='cq_sqorpius_qpu', supports_submit=True, supports_submit_qubo=False, supports_compile=True, available=True, retired=False),\n",
       " Target(target='cq_sqorpius_simulator', supports_submit=True, supports_submit_qubo=False, supports_compile=True, available=True, retired=False),\n",
       " Target(target='eeroq_wonderlake_qpu', supports_submit=False, supports_submit_qubo=False, supports_compile=True, available=True, retired=False),\n",
       " Target(target='ibmq_brisbane_qpu', supports_submit=True, supports_submit_qubo=False, supports_compile=True, available=True, retired=False),\n",
       " Target(target='ibmq_fez_qpu', supports_submit=True, supports_submit_qubo=False, supports_compile=True, available=True, retired=False),\n",
       " Target(target='ibmq_kyiv_qpu', supports_submit=True, supports_submit_qubo=False, supports_compile=True, available=True, retired=False),\n",
       " Target(target='ibmq_marrakesh_qpu', supports_submit=True, supports_submit_qubo=False, supports_compile=True, available=True, retired=False),\n",
       " Target(target='ibmq_sherbrooke_qpu', supports_submit=True, supports_submit_qubo=False, supports_compile=True, available=True, retired=False),\n",
       " Target(target='ibmq_torino_qpu', supports_submit=True, supports_submit_qubo=False, supports_compile=True, available=True, retired=False),\n",
       " Target(target='ionq_aria-1_qpu', supports_submit=True, supports_submit_qubo=False, supports_compile=True, available=True, retired=False),\n",
       " Target(target='ionq_forte-1_qpu', supports_submit=True, supports_submit_qubo=False, supports_compile=True, available=True, retired=False),\n",
       " Target(target='ionq_ion_simulator', supports_submit=True, supports_submit_qubo=False, supports_compile=True, available=True, retired=False),\n",
       " Target(target='qscout_peregrine_qpu', supports_submit=False, supports_submit_qubo=False, supports_compile=True, available=True, retired=False),\n",
       " Target(target='qtm_h1-1_qpu', supports_submit=True, supports_submit_qubo=False, supports_compile=True, available=True, retired=False),\n",
       " Target(target='qtm_h1-1e_simulator', supports_submit=True, supports_submit_qubo=False, supports_compile=True, available=True, retired=False),\n",
       " Target(target='qtm_h2-1_qpu', supports_submit=True, supports_submit_qubo=False, supports_compile=True, available=True, retired=False),\n",
       " Target(target='ss_unconstrained_simulator', supports_submit=True, supports_submit_qubo=True, supports_compile=True, available=True, retired=False)]"
      ]
     },
     "execution_count": 4,
     "metadata": {},
     "output_type": "execute_result"
    }
   ],
   "source": [
    "service.get_targets()"
   ]
  },
  {
   "cell_type": "code",
   "execution_count": 5,
   "metadata": {},
   "outputs": [
    {
     "data": {
      "text/plain": [
       "{'00000': 9, '00111': 1}"
      ]
     },
     "execution_count": 5,
     "metadata": {},
     "output_type": "execute_result"
    }
   ],
   "source": [
    "res = service.get_counts(circuit, repetitions=10, target=\"cq_sqale_simulator\", method=\"noise-sim\")\n",
    "res"
   ]
  },
  {
   "cell_type": "code",
   "execution_count": 7,
   "metadata": {},
   "outputs": [
    {
     "name": "stderr",
     "output_type": "stream",
     "text": [
      "/home/cdb/repositories/client-superstaq/general-superstaq/general_superstaq/superstaq_client.py:928: UserWarning: Version v0.3.0 of the Superstaq endpoint is currently under development. This version should not be treated as stable. Most user should continue using `api_version='v0.2.0'`.\n",
      "  warnings.warn(\n"
     ]
    },
    {
     "data": {
      "text/html": [
       "<pre style=\"overflow: auto; white-space: pre;\">80: ───Rz(0.5π)───X^0.5───@───Rz(π)───X^0.5───@───────────────────────────────────────────────────────────M───────────────────────────────\n",
       "                          │                   │                                                           │\n",
       "81: ──────────────────────@───────────────────┼───────────────────────────────────────────────────────────M(&#x27;q(0),q(1),q(2),q(3),q(4)&#x27;)───\n",
       "                                              │                                                           │\n",
       "92: ───Rz(0.5π)───X^0.5───────────────────────@───Rz(π)───X^0.5───@───────────────────────────────────────M───────────────────────────────\n",
       "                                                                  │                                       │\n",
       "98: ───Rz(0.5π)───X^0.5───────────────────────────────────────────┼───────────────────@───Rz(π)───X^0.5───M───────────────────────────────\n",
       "                                                                  │                   │                   │\n",
       "99: ───Rz(0.5π)───X^0.5───────────────────────────────────────────@───Rz(π)───X^0.5───@───────────────────M───────────────────────────────</pre>"
      ],
      "text/plain": [
       "80: ───Rz(0.5π)───X^0.5───@───Rz(π)───X^0.5───@───────────────────────────────────────────────────────────M───────────────────────────────\n",
       "                          │                   │                                                           │\n",
       "81: ──────────────────────@───────────────────┼───────────────────────────────────────────────────────────M('q(0),q(1),q(2),q(3),q(4)')───\n",
       "                                              │                                                           │\n",
       "92: ───Rz(0.5π)───X^0.5───────────────────────@───Rz(π)───X^0.5───@───────────────────────────────────────M───────────────────────────────\n",
       "                                                                  │                                       │\n",
       "98: ───Rz(0.5π)───X^0.5───────────────────────────────────────────┼───────────────────@───Rz(π)───X^0.5───M───────────────────────────────\n",
       "                                                                  │                   │                   │\n",
       "99: ───Rz(0.5π)───X^0.5───────────────────────────────────────────@───Rz(π)───X^0.5───@───────────────────M───────────────────────────────"
      ]
     },
     "execution_count": 7,
     "metadata": {},
     "output_type": "execute_result"
    }
   ],
   "source": [
    "compiled_circuit = service.compile(circuit, target=\"ibmq_torino_qpu\")\n",
    "compiled_circuit.circuit"
   ]
  },
  {
   "cell_type": "code",
   "execution_count": 8,
   "metadata": {},
   "outputs": [],
   "source": [
    "import qiskit_superstaq as qss\n",
    "import qiskit\n",
    "\n",
    "q_circuit = qiskit.QuantumCircuit(5)\n",
    "for k in range(4):\n",
    "    q_circuit.cx(k, k+1)\n",
    "q_circuit.measure_all()"
   ]
  },
  {
   "cell_type": "code",
   "execution_count": 9,
   "metadata": {},
   "outputs": [],
   "source": [
    "q_service = qss.SuperstaqProvider(remote_host=\"http://127.0.0.1:8000\", api_key=\"mc-token\", api_version=\"v0.3.0\")"
   ]
  },
  {
   "cell_type": "code",
   "execution_count": 10,
   "metadata": {},
   "outputs": [
    {
     "data": {
      "text/plain": [
       "'12.35 credits'"
      ]
     },
     "execution_count": 10,
     "metadata": {},
     "output_type": "execute_result"
    }
   ],
   "source": [
    "q_service.get_balance()"
   ]
  },
  {
   "cell_type": "code",
   "execution_count": 11,
   "metadata": {},
   "outputs": [
    {
     "data": {
      "text/plain": [
       "[Target(target='aqt_keysight_qpu', supports_submit=False, supports_submit_qubo=False, supports_compile=True, available=True, retired=False),\n",
       " Target(target='aqt_zurich_qpu', supports_submit=False, supports_submit_qubo=False, supports_compile=True, available=True, retired=False),\n",
       " Target(target='aws_dm1_simulator', supports_submit=True, supports_submit_qubo=False, supports_compile=True, available=True, retired=False),\n",
       " Target(target='aws_sv1_simulator', supports_submit=True, supports_submit_qubo=False, supports_compile=True, available=True, retired=False),\n",
       " Target(target='aws_tn1_simulator', supports_submit=True, supports_submit_qubo=False, supports_compile=True, available=True, retired=False),\n",
       " Target(target='cq_sqale_simulator', supports_submit=True, supports_submit_qubo=False, supports_compile=True, available=True, retired=False),\n",
       " Target(target='cq_sqorpius_qpu', supports_submit=True, supports_submit_qubo=False, supports_compile=True, available=True, retired=False),\n",
       " Target(target='cq_sqorpius_simulator', supports_submit=True, supports_submit_qubo=False, supports_compile=True, available=True, retired=False),\n",
       " Target(target='eeroq_wonderlake_qpu', supports_submit=False, supports_submit_qubo=False, supports_compile=True, available=True, retired=False),\n",
       " Target(target='ibmq_brisbane_qpu', supports_submit=True, supports_submit_qubo=False, supports_compile=True, available=True, retired=False),\n",
       " Target(target='ibmq_fez_qpu', supports_submit=True, supports_submit_qubo=False, supports_compile=True, available=True, retired=False),\n",
       " Target(target='ibmq_kyiv_qpu', supports_submit=True, supports_submit_qubo=False, supports_compile=True, available=True, retired=False),\n",
       " Target(target='ibmq_marrakesh_qpu', supports_submit=True, supports_submit_qubo=False, supports_compile=True, available=True, retired=False),\n",
       " Target(target='ibmq_sherbrooke_qpu', supports_submit=True, supports_submit_qubo=False, supports_compile=True, available=True, retired=False),\n",
       " Target(target='ibmq_torino_qpu', supports_submit=True, supports_submit_qubo=False, supports_compile=True, available=True, retired=False),\n",
       " Target(target='ionq_aria-1_qpu', supports_submit=True, supports_submit_qubo=False, supports_compile=True, available=True, retired=False),\n",
       " Target(target='ionq_forte-1_qpu', supports_submit=True, supports_submit_qubo=False, supports_compile=True, available=True, retired=False),\n",
       " Target(target='ionq_ion_simulator', supports_submit=True, supports_submit_qubo=False, supports_compile=True, available=True, retired=False),\n",
       " Target(target='qscout_peregrine_qpu', supports_submit=False, supports_submit_qubo=False, supports_compile=True, available=True, retired=False),\n",
       " Target(target='qtm_h1-1_qpu', supports_submit=True, supports_submit_qubo=False, supports_compile=True, available=True, retired=False),\n",
       " Target(target='qtm_h1-1e_simulator', supports_submit=True, supports_submit_qubo=False, supports_compile=True, available=True, retired=False),\n",
       " Target(target='qtm_h2-1_qpu', supports_submit=True, supports_submit_qubo=False, supports_compile=True, available=True, retired=False),\n",
       " Target(target='ss_unconstrained_simulator', supports_submit=True, supports_submit_qubo=True, supports_compile=True, available=True, retired=False)]"
      ]
     },
     "execution_count": 11,
     "metadata": {},
     "output_type": "execute_result"
    }
   ],
   "source": [
    "q_service.get_targets()"
   ]
  },
  {
   "cell_type": "code",
   "execution_count": 12,
   "metadata": {},
   "outputs": [],
   "source": [
    "backend = q_service.get_backend(\"cq_sqale_simulator\")\n",
    "job = backend.run(q_circuit, shots=100, method=\"noise-sim\")"
   ]
  },
  {
   "cell_type": "code",
   "execution_count": 13,
   "metadata": {},
   "outputs": [
    {
     "data": {
      "text/plain": [
       "{'00000': 72,\n",
       " '11000': 7,\n",
       " '00001': 2,\n",
       " '11110': 5,\n",
       " '00010': 2,\n",
       " '11111': 2,\n",
       " '00100': 2,\n",
       " '11100': 4,\n",
       " '10000': 4}"
      ]
     },
     "execution_count": 13,
     "metadata": {},
     "output_type": "execute_result"
    }
   ],
   "source": [
    "job.result().get_counts()"
   ]
  },
  {
   "cell_type": "code",
   "execution_count": 14,
   "metadata": {},
   "outputs": [],
   "source": [
    "q_compiled_circuit = backend.compile(q_circuit)"
   ]
  },
  {
   "cell_type": "code",
   "execution_count": 15,
   "metadata": {},
   "outputs": [
    {
     "data": {
      "text/html": [
       "<pre style=\"word-wrap: normal;white-space: pre;background: #fff0;line-height: 1.1;font-family: &quot;Courier New&quot;,Courier,monospace\">     ┌──────────────────┐┌───┐┌──────────────────┐   ┌───────────────────┐     »\n",
       "q_0: ┤0                 ├┤ Z ├┤0                 ├─■─┤0                  ├─────»\n",
       "     │                  │└───┘│                  │ │ │                   │┌───┐»\n",
       "q_1: ┤1                 ├─────┤1                 ├─■─┤1                  ├┤ Z ├»\n",
       "     │                  │     │                  │   │                   │└───┘»\n",
       "q_2: ┤2                 ├─────┤2                 ├───┤2                  ├─────»\n",
       "     │                  │     │                  │   │                   │     »\n",
       "q_3: ┤3                 ├─────┤3                 ├───┤3                  ├─────»\n",
       "     │                  │     │                  │   │                   │     »\n",
       "q_4: ┤4 GR(0.79, -1.57) ├─────┤4 GR(0.79, -1.57) ├───┤4 GR(-0.79, -1.57) ├─────»\n",
       "     │                  │     │                  │   │                   │     »\n",
       "q_5: ┤5                 ├─────┤5                 ├───┤5                  ├─────»\n",
       "     │                  │     │                  │   │                   │     »\n",
       "q_6: ┤6                 ├─────┤6                 ├───┤6                  ├─────»\n",
       "     │                  │     │                  │   │                   │     »\n",
       "q_7: ┤7                 ├─────┤7                 ├───┤7                  ├─────»\n",
       "     │                  │     │                  │   │                   │     »\n",
       "q_8: ┤8                 ├─────┤8                 ├───┤8                  ├─────»\n",
       "     └──────────────────┘     └──────────────────┘   └───────────────────┘     »\n",
       "c: 5/══════════════════════════════════════════════════════════════════════════»\n",
       "                                                                               »\n",
       "«     ┌──────────────────┐   ┌───────────────────┐     ┌──────────────────┐   »\n",
       "«q_0: ┤0                 ├───┤0                  ├─────┤0                 ├───»\n",
       "«     │                  │   │                   │     │                  │   »\n",
       "«q_1: ┤1                 ├─■─┤1                  ├─────┤1                 ├───»\n",
       "«     │                  │ │ │                   │┌───┐│                  │   »\n",
       "«q_2: ┤2                 ├─■─┤2                  ├┤ Z ├┤2                 ├─■─»\n",
       "«     │                  │   │                   │└───┘│                  │ │ »\n",
       "«q_3: ┤3                 ├───┤3                  ├─────┤3                 ├─■─»\n",
       "«     │                  │   │                   │     │                  │   »\n",
       "«q_4: ┤4 GR(0.79, -1.57) ├───┤4 GR(-0.79, -1.57) ├─────┤4 GR(0.79, -1.57) ├───»\n",
       "«     │                  │   │                   │     │                  │   »\n",
       "«q_5: ┤5                 ├───┤5                  ├─────┤5                 ├───»\n",
       "«     │                  │   │                   │     │                  │   »\n",
       "«q_6: ┤6                 ├───┤6                  ├─────┤6                 ├───»\n",
       "«     │                  │   │                   │     │                  │   »\n",
       "«q_7: ┤7                 ├───┤7                  ├─────┤7                 ├───»\n",
       "«     │                  │   │                   │     │                  │   »\n",
       "«q_8: ┤8                 ├───┤8                  ├─────┤8                 ├───»\n",
       "«     └──────────────────┘   └───────────────────┘     └──────────────────┘   »\n",
       "«c: 5/════════════════════════════════════════════════════════════════════════»\n",
       "«                                                                             »\n",
       "«     ┌───────────────────┐     ┌──────────────────┐   ┌───────────────────┐»\n",
       "«q_0: ┤0                  ├─────┤0                 ├───┤0                  ├»\n",
       "«     │                   │     │                  │   │                   │»\n",
       "«q_1: ┤1                  ├─────┤1                 ├───┤1                  ├»\n",
       "«     │                   │     │                  │   │                   │»\n",
       "«q_2: ┤2                  ├─────┤2                 ├───┤2                  ├»\n",
       "«     │                   │┌───┐│                  │   │                   │»\n",
       "«q_3: ┤3                  ├┤ Z ├┤3                 ├─■─┤3                  ├»\n",
       "«     │                   │└───┘│                  │ │ │                   │»\n",
       "«q_4: ┤4 GR(-0.79, -1.57) ├─────┤4 GR(0.79, -1.57) ├─■─┤4 GR(-0.79, -1.57) ├»\n",
       "«     │                   │     │                  │   │                   │»\n",
       "«q_5: ┤5                  ├─────┤5                 ├───┤5                  ├»\n",
       "«     │                   │     │                  │   │                   │»\n",
       "«q_6: ┤6                  ├─────┤6                 ├───┤6                  ├»\n",
       "«     │                   │     │                  │   │                   │»\n",
       "«q_7: ┤7                  ├─────┤7                 ├───┤7                  ├»\n",
       "«     │                   │     │                  │   │                   │»\n",
       "«q_8: ┤8                  ├─────┤8                 ├───┤8                  ├»\n",
       "«     └───────────────────┘     └──────────────────┘   └───────────────────┘»\n",
       "«c: 5/══════════════════════════════════════════════════════════════════════»\n",
       "«                                                                           »\n",
       "«          ┌──────────────────┐ ░          ┌─┐   \n",
       "«q_0: ─────┤0                 ├─░──────────┤M├───\n",
       "«          │                  │ ░ ┌─┐      └╥┘   \n",
       "«q_1: ─────┤1                 ├─░─┤M├───────╫────\n",
       "«          │                  │ ░ └╥┘   ┌─┐ ║    \n",
       "«q_2: ─────┤2                 ├─░──╫────┤M├─╫────\n",
       "«          │                  │ ░  ║ ┌─┐└╥┘ ║    \n",
       "«q_3: ─────┤3                 ├─░──╫─┤M├─╫──╫────\n",
       "«     ┌───┐│                  │ ░  ║ └╥┘ ║  ║ ┌─┐\n",
       "«q_4: ┤ Z ├┤4 GR(0.79, -1.57) ├─░──╫──╫──╫──╫─┤M├\n",
       "«     └───┘│                  │ ░  ║  ║  ║  ║ └╥┘\n",
       "«q_5: ─────┤5                 ├────╫──╫──╫──╫──╫─\n",
       "«          │                  │    ║  ║  ║  ║  ║ \n",
       "«q_6: ─────┤6                 ├────╫──╫──╫──╫──╫─\n",
       "«          │                  │    ║  ║  ║  ║  ║ \n",
       "«q_7: ─────┤7                 ├────╫──╫──╫──╫──╫─\n",
       "«          │                  │    ║  ║  ║  ║  ║ \n",
       "«q_8: ─────┤8                 ├────╫──╫──╫──╫──╫─\n",
       "«          └──────────────────┘    ║  ║  ║  ║  ║ \n",
       "«c: 5/═════════════════════════════╩══╩══╩══╩══╩═\n",
       "«                                  1  3  2  0  4 </pre>"
      ],
      "text/plain": [
       "     ┌──────────────────┐┌───┐┌──────────────────┐   ┌───────────────────┐     »\n",
       "q_0: ┤0                 ├┤ Z ├┤0                 ├─■─┤0                  ├─────»\n",
       "     │                  │└───┘│                  │ │ │                   │┌───┐»\n",
       "q_1: ┤1                 ├─────┤1                 ├─■─┤1                  ├┤ Z ├»\n",
       "     │                  │     │                  │   │                   │└───┘»\n",
       "q_2: ┤2                 ├─────┤2                 ├───┤2                  ├─────»\n",
       "     │                  │     │                  │   │                   │     »\n",
       "q_3: ┤3                 ├─────┤3                 ├───┤3                  ├─────»\n",
       "     │                  │     │                  │   │                   │     »\n",
       "q_4: ┤4 GR(0.79, -1.57) ├─────┤4 GR(0.79, -1.57) ├───┤4 GR(-0.79, -1.57) ├─────»\n",
       "     │                  │     │                  │   │                   │     »\n",
       "q_5: ┤5                 ├─────┤5                 ├───┤5                  ├─────»\n",
       "     │                  │     │                  │   │                   │     »\n",
       "q_6: ┤6                 ├─────┤6                 ├───┤6                  ├─────»\n",
       "     │                  │     │                  │   │                   │     »\n",
       "q_7: ┤7                 ├─────┤7                 ├───┤7                  ├─────»\n",
       "     │                  │     │                  │   │                   │     »\n",
       "q_8: ┤8                 ├─────┤8                 ├───┤8                  ├─────»\n",
       "     └──────────────────┘     └──────────────────┘   └───────────────────┘     »\n",
       "c: 5/══════════════════════════════════════════════════════════════════════════»\n",
       "                                                                               »\n",
       "«     ┌──────────────────┐   ┌───────────────────┐     ┌──────────────────┐   »\n",
       "«q_0: ┤0                 ├───┤0                  ├─────┤0                 ├───»\n",
       "«     │                  │   │                   │     │                  │   »\n",
       "«q_1: ┤1                 ├─■─┤1                  ├─────┤1                 ├───»\n",
       "«     │                  │ │ │                   │┌───┐│                  │   »\n",
       "«q_2: ┤2                 ├─■─┤2                  ├┤ Z ├┤2                 ├─■─»\n",
       "«     │                  │   │                   │└───┘│                  │ │ »\n",
       "«q_3: ┤3                 ├───┤3                  ├─────┤3                 ├─■─»\n",
       "«     │                  │   │                   │     │                  │   »\n",
       "«q_4: ┤4 GR(0.79, -1.57) ├───┤4 GR(-0.79, -1.57) ├─────┤4 GR(0.79, -1.57) ├───»\n",
       "«     │                  │   │                   │     │                  │   »\n",
       "«q_5: ┤5                 ├───┤5                  ├─────┤5                 ├───»\n",
       "«     │                  │   │                   │     │                  │   »\n",
       "«q_6: ┤6                 ├───┤6                  ├─────┤6                 ├───»\n",
       "«     │                  │   │                   │     │                  │   »\n",
       "«q_7: ┤7                 ├───┤7                  ├─────┤7                 ├───»\n",
       "«     │                  │   │                   │     │                  │   »\n",
       "«q_8: ┤8                 ├───┤8                  ├─────┤8                 ├───»\n",
       "«     └──────────────────┘   └───────────────────┘     └──────────────────┘   »\n",
       "«c: 5/════════════════════════════════════════════════════════════════════════»\n",
       "«                                                                             »\n",
       "«     ┌───────────────────┐     ┌──────────────────┐   ┌───────────────────┐»\n",
       "«q_0: ┤0                  ├─────┤0                 ├───┤0                  ├»\n",
       "«     │                   │     │                  │   │                   │»\n",
       "«q_1: ┤1                  ├─────┤1                 ├───┤1                  ├»\n",
       "«     │                   │     │                  │   │                   │»\n",
       "«q_2: ┤2                  ├─────┤2                 ├───┤2                  ├»\n",
       "«     │                   │┌───┐│                  │   │                   │»\n",
       "«q_3: ┤3                  ├┤ Z ├┤3                 ├─■─┤3                  ├»\n",
       "«     │                   │└───┘│                  │ │ │                   │»\n",
       "«q_4: ┤4 GR(-0.79, -1.57) ├─────┤4 GR(0.79, -1.57) ├─■─┤4 GR(-0.79, -1.57) ├»\n",
       "«     │                   │     │                  │   │                   │»\n",
       "«q_5: ┤5                  ├─────┤5                 ├───┤5                  ├»\n",
       "«     │                   │     │                  │   │                   │»\n",
       "«q_6: ┤6                  ├─────┤6                 ├───┤6                  ├»\n",
       "«     │                   │     │                  │   │                   │»\n",
       "«q_7: ┤7                  ├─────┤7                 ├───┤7                  ├»\n",
       "«     │                   │     │                  │   │                   │»\n",
       "«q_8: ┤8                  ├─────┤8                 ├───┤8                  ├»\n",
       "«     └───────────────────┘     └──────────────────┘   └───────────────────┘»\n",
       "«c: 5/══════════════════════════════════════════════════════════════════════»\n",
       "«                                                                           »\n",
       "«          ┌──────────────────┐ ░          ┌─┐   \n",
       "«q_0: ─────┤0                 ├─░──────────┤M├───\n",
       "«          │                  │ ░ ┌─┐      └╥┘   \n",
       "«q_1: ─────┤1                 ├─░─┤M├───────╫────\n",
       "«          │                  │ ░ └╥┘   ┌─┐ ║    \n",
       "«q_2: ─────┤2                 ├─░──╫────┤M├─╫────\n",
       "«          │                  │ ░  ║ ┌─┐└╥┘ ║    \n",
       "«q_3: ─────┤3                 ├─░──╫─┤M├─╫──╫────\n",
       "«     ┌───┐│                  │ ░  ║ └╥┘ ║  ║ ┌─┐\n",
       "«q_4: ┤ Z ├┤4 GR(0.79, -1.57) ├─░──╫──╫──╫──╫─┤M├\n",
       "«     └───┘│                  │ ░  ║  ║  ║  ║ └╥┘\n",
       "«q_5: ─────┤5                 ├────╫──╫──╫──╫──╫─\n",
       "«          │                  │    ║  ║  ║  ║  ║ \n",
       "«q_6: ─────┤6                 ├────╫──╫──╫──╫──╫─\n",
       "«          │                  │    ║  ║  ║  ║  ║ \n",
       "«q_7: ─────┤7                 ├────╫──╫──╫──╫──╫─\n",
       "«          │                  │    ║  ║  ║  ║  ║ \n",
       "«q_8: ─────┤8                 ├────╫──╫──╫──╫──╫─\n",
       "«          └──────────────────┘    ║  ║  ║  ║  ║ \n",
       "«c: 5/═════════════════════════════╩══╩══╩══╩══╩═\n",
       "«                                  1  3  2  0  4 "
      ]
     },
     "execution_count": 15,
     "metadata": {},
     "output_type": "execute_result"
    }
   ],
   "source": [
    "q_compiled_circuit.circuit.draw()"
   ]
  }
 ],
 "metadata": {
  "kernelspec": {
   "display_name": "client_superstaq",
   "language": "python",
   "name": "python3"
  },
  "language_info": {
   "codemirror_mode": {
    "name": "ipython",
    "version": 3
   },
   "file_extension": ".py",
   "mimetype": "text/x-python",
   "name": "python",
   "nbconvert_exporter": "python",
   "pygments_lexer": "ipython3",
   "version": "3.11.9"
  }
 },
 "nbformat": 4,
 "nbformat_minor": 2
}
