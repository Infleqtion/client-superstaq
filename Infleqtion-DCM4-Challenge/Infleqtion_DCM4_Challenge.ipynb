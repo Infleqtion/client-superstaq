{
 "cells": [
  {
   "cell_type": "markdown",
   "metadata": {},
   "source": [
    "# Infleqtion DCM4 Quantum Challenge\n",
    "\n",
    "#### Air Defence Quantum Computing Use-case"
   ]
  },
  {
   "cell_type": "markdown",
   "metadata": {},
   "source": [
    "[![Open in Colab](https://colab.research.google.com/assets/colab-badge.svg)](https://colab.research.google.com/github/Infleqtion/client-superstaq/blob/dcm4/Infleqtion-DCM4-Challenge/Infleqtion_DCM4_Challenge.ipynb)"
   ]
  },
  {
   "cell_type": "markdown",
   "metadata": {},
   "source": [
    "## Problem Description\n",
    "\n",
    "Consider a set of $T$ offensive targets engaged in an offensive operation against $K$ defensive\n",
    "assets. We assume that through intelligence operations the defensive entity know that the set of\n",
    "offensive targets that threaten asset $k$ is $T_k$.\n",
    "\n",
    "Suppose each defensive asset has a strategic value $v_k$ and that the probability of offensive\n",
    "target $j$ destroying the asset $k$ is $p_{j, k}$.\n",
    "\n",
    "The defensive entity has $W$ weapon systems with which to defend its assets. Assume the probability\n",
    "that weapon system $i$ destroys the offensive target $j$ is $q_{i, j}$.\n"
   ]
  },
  {
   "cell_type": "markdown",
   "metadata": {},
   "source": [
    "![link](images/Problem_Description.png)"
   ]
  },
  {
   "cell_type": "markdown",
   "metadata": {},
   "source": [
    "## <b><font color='green'>Goal: Optimise air defence to maximise asset survival.</font></b>\n",
    "In this notebook, we will explore an application of quantum computing to the field of logistics optimisation. You are given a **quantum algorithm** for solving this problem. **Your objective is to select appropriate parameter values to maximise asset survival.**\n",
    "\n",
    "## <b><font color=\"Red\">Wherever you should insert code, you will see the following code block:</font></b>\n",
    "```\n",
    "# ##############################################\n",
    "#\n",
    "# **INSERT CODE HERE**\n",
    "#\n",
    "#  ##############################################\n",
    "```\n",
    "E.g., to insert the value `10` for a variable named `PARAMETER`, replace\n",
    "```\n",
    "PARAMETER = # **INSERT CODE HERE**\n",
    "```\n",
    "with the following:\n",
    "```\n",
    "PARAMETER = 10\n",
    "```\n",
    "\n",
    "### <b><font color=\"Red\">Please do not modify any other existing code!</font></b>\n",
    "**Don't forget to execute every cell in sequence.**"
   ]
  },
  {
   "cell_type": "code",
   "execution_count": null,
   "metadata": {},
   "outputs": [],
   "source": [
    "requirements = \"\"\"\n",
    "cirq-superstaq~=0.5.31\n",
    "dimod~=0.12.18\n",
    "scipy~=1.14.1\n",
    "tabulate~=0.9.0\n",
    "\"\"\"\n",
    "with open('dcm4-challenge-requirements.txt', 'w') as f:\n",
    "    f.write(requirements)\n",
    "\n",
    "TOOLS_URL = \"https://raw.githubusercontent.com/Infleqtion/client-superstaq/refs/heads/dcm4/Infleqtion-DCM4-Challenge/tools.py\"\n",
    "!wget {TOOLS_URL} -O ./tools.py --quiet\n",
    "\n",
    "try:\n",
    "    import tools\n",
    "except ImportError:\n",
    "    print(\"Installing requirements...\")\n",
    "    %pip install --quiet -r dcm4-challenge-requirements.txt\n",
    "    print(\"Installed requirements.\")\n",
    "    print(\"You may need to restart the kernel to import newly installed packages. See the `Kernel` dropdown menu in the toolbar.\")\n",
    "    import tools\n",
    "\n",
    "import time\n",
    "import numpy as np\n",
    "from tabulate import tabulate"
   ]
  },
  {
   "cell_type": "markdown",
   "metadata": {},
   "source": [
    "## Define Problem\n",
    "We can now define an instance of the above problem and represent the solution graphically."
   ]
  },
  {
   "cell_type": "code",
   "execution_count": null,
   "metadata": {},
   "outputs": [],
   "source": [
    "np.random.seed(250297)\n",
    "\n",
    "# Number of entities\n",
    "num_targets = 4\n",
    "num_weapons = 2\n",
    "num_assets = 3\n",
    "\n",
    "# Indexes\n",
    "T = np.arange(num_targets)\n",
    "W = np.arange(num_weapons)\n",
    "K = np.arange(num_assets)\n",
    "\n",
    "# Values\n",
    "asset_values = np.array([1.5, 3.6, 8.3])\n",
    "\n",
    "# Engagement probabilities\n",
    "asset_destruction_probabilities = np.array(\n",
    "    [\n",
    "        [0.1, 0.07, 0.14],\n",
    "        [0.03, 0.06, 0.12],\n",
    "        [0.2, 0.3, 0.29],\n",
    "        [0.12, 0.22, 0.05],\n",
    "    ]\n",
    ")\n",
    "target_destruction_probabilities = np.array(\n",
    "    [\n",
    "        [0.3, 0.01, 0.15, 0.08],\n",
    "        [0.05, 0.15, 0.4, 0.02],\n",
    "    ]\n",
    ")\n",
    "\n",
    "# Constraint\n",
    "weapon_ammunition_limits = np.array([2, 2])\n",
    "\n",
    "# Build model\n",
    "model = tools.AirDefenceModel(\n",
    "    asset_values,\n",
    "    asset_destruction_probabilities,\n",
    "    target_destruction_probabilities,\n",
    "    weapon_ammunition_limits,\n",
    ")\n",
    "# Plot solution\n",
    "model.plot_solution(model.exact_solution)"
   ]
  },
  {
   "cell_type": "markdown",
   "metadata": {},
   "source": [
    "## QUBO/Ising Formulation\n",
    "Mathematical model representing the optimisation problem:"
   ]
  },
  {
   "cell_type": "code",
   "execution_count": null,
   "metadata": {},
   "outputs": [],
   "source": [
    "print(f\"J = \\n{tabulate(model.J_matrix, tablefmt='heavy_grid')}\")\n",
    "print(f\"h = \\n{tabulate([model.h_vec], tablefmt='heavy_grid')}\")\n",
    "print(f\"c = \\n{tabulate([[model.offset]], tablefmt='heavy_grid')}\")"
   ]
  },
  {
   "cell_type": "markdown",
   "metadata": {},
   "source": [
    "## QAOA: Quantum Approximate Optimisation Algorithm\n",
    "\n",
    "The Ising formulation is well suited to solving on a quantum computer as it can be associated with a\n",
    "Hamiltonian that can be easily studied on a quantum computer. A Hamiltonian describes how a quantum\n",
    "system behaves and importantly, the optimal solution of our optimisation problem maps to the ground\n",
    "state of the associated Hamiltonian. The ground state is how the quantum system will arrange itself\n",
    "under idealised conditions.\n",
    "\n",
    "**QAOA** is an variational algorithm form finding the ground state by repeatedly \"mixing\" the quantum\n",
    "state and then letting it settle again. We use a classical optimiser to vary length of time spent\n",
    "mixing and settling in order to find the ground state of the system and hence our optimal solution.\n",
    "Generally we will have far fewer classical parameters to optimise over than in the original problem."
   ]
  },
  {
   "cell_type": "markdown",
   "metadata": {},
   "source": [
    "### <b><font color=\"red\">Your objective is to (a) maximise value of surviving assets and (b) minimise algorithm runtime.</font></b>\n",
    "\n",
    "### <b><font color=\"red\">Your final score will depend on both factors.</font></b>\n",
    "\n",
    "Input values for the following:\n",
    "- `NUMBER_OF_CIRCUIT_LAYER_REPETITONS`: The number of quantum circuit layers. In the theoretical limit, using longer quantum circuits in QAOA will increase success probability, but in practice this is at the expense of runtime and, on noisy quantum computers, increased frequency of errors. E.g., see `model.build_circuit(num_reps=NUMBER_OF_CIRCUIT_LAYER_REPETITIONS)` in the cells below.\n",
    "- `NUMBER_OF_CIRCUIT_EXECUTION_SHOTS`: The number of times each circuit is executed, per iteration of the outer classical optimisation loop.\n",
    "- `CLASSICAL_OPTIMISER_METHOD`: Type of classical optimiser used to modify quantum circuit parameters.\n",
    "- `CONVERGENCE_TOLERANCE`: Represents the convergence criterion in the optimization; when the stepwise improvement becomes smaller than this tolerance, the optimization stops.\n",
    "- `MAXIMUM_NUMBER_OF_ITERATIONS`: Maximum number of iterations to perform. Depending on the classical optimiser method, each iteration may use several function evaluations.\n",
    "\n",
    "See https://docs.scipy.org/doc/scipy/reference/optimize.html#local-multivariate-optimization for `CLASSICAL_OPTIMISER_METHOD` options:\n",
    "- `\"Nelder-Mead\"`\n",
    "- `\"Powell\"`\n",
    "- `\"CG\"`\n",
    "- `\"BFGS\"`\n",
    "- `\"Newton-CG\"`\n",
    "- `\"L-BFGS-B\"`\n",
    "- `\"TNC\"`\n",
    "- `\"COBYLA\"`\n",
    "- `\"COBYQA\"`\n",
    "- `\"SLSQP\"`\n",
    "- `\"trust-constr\"`\n",
    "- `\"dogleg\"`\n",
    "- `\"trust-ncg\"`\n",
    "- `\"trust-exact\"`\n",
    "- `\"trust-krylov\"`"
   ]
  },
  {
   "cell_type": "code",
   "execution_count": null,
   "metadata": {},
   "outputs": [],
   "source": [
    "# ###############################################################\n",
    "#\n",
    "NUMBER_OF_CIRCUIT_LAYER_REPETITIONS = # **INSERT CODE HERE**\n",
    "NUMBER_OF_CIRCUIT_EXECUTION_SHOTS = # **INSERT CODE HERE**\n",
    "CLASSICAL_OPTIMISER_METHOD = # **INSERT CODE HERE**\n",
    "CONVERGENCE_TOLERANCE = # ** INSERT CODE HERE  # Hint: this should be smaller than 1.\n",
    "MAXIMUM_NUMBER_OF_ITERATIONS = # ** INSERT CODE HERE\n",
    "#\n",
    "# ###############################################################"
   ]
  },
  {
   "cell_type": "markdown",
   "metadata": {},
   "source": [
    "E.g., if we set `NUMBER_OF_CIRCUIT_LAYER_REPETITIONS = N`, we have that `N` repetitions of this mixing and settling cycle looks like the quantum circuit below. The $\\gamma$ and $\\beta$ parameters are what we will optimise classically."
   ]
  },
  {
   "cell_type": "code",
   "execution_count": null,
   "metadata": {},
   "outputs": [],
   "source": [
    "model.build_circuit(num_reps=NUMBER_OF_CIRCUIT_LAYER_REPETITIONS)"
   ]
  },
  {
   "cell_type": "markdown",
   "metadata": {},
   "source": [
    "Now we can use a classical optimizer to help us find the ground state, and hence the optimal\n",
    "solution to our optimisation problem. <b>Please do not rename the variables `approx` and `runtime`!</b> These variables are used for calculating your final score."
   ]
  },
  {
   "cell_type": "code",
   "execution_count": null,
   "metadata": {},
   "outputs": [],
   "source": [
    "x0 = np.array(\n",
    "    [\n",
    "        1.16396594, 2.01322123, 1.02666917, -0.10892354,\n",
    "        1.0941958, 0.86832268, 0.88237201, 0.95342334,\n",
    "        0.96314088, 1.08413136, 1.07161153, 1.03514973,\n",
    "        0.98488821, 1.07436944, 1.12914504, 0.98710917,\n",
    "    ]\n",
    ")\n",
    "start = time.time()\n",
    "res = model.solve_qaoa(\n",
    "    x0=x0,\n",
    "    nreps=NUMBER_OF_CIRCUIT_LAYER_REPETITIONS,\n",
    "    shots=NUMBER_OF_CIRCUIT_EXECUTION_SHOTS,\n",
    "    method=CLASSICAL_OPTIMISER_METHOD,\n",
    "    tol=CONVERGENCE_TOLERANCE,\n",
    "    maxiter=MAXIMUM_NUMBER_OF_ITERATIONS,\n",
    ")\n",
    "runtime = time.time() - start  # DO NOT RENAME THIS VARIABLE\n",
    "approx = model.optimal_bitstring(res.x)  # DO NOT RENAME THIS VARIABLE\n",
    "model.plot_solution(approx)\n",
    "print(f\"Runtime: {runtime:0.2f}s\")\n",
    "print(\"Final solution:\", approx.flatten())"
   ]
  },
  {
   "cell_type": "markdown",
   "metadata": {},
   "source": [
    "# <font color=\"green\">**Congratulations! This concludes the DCM4 Quantum Challenge.**</font>\n",
    "\n",
    "<b><font color=\"red\">Please save this jupyter notebook with the following filename: `[Insert Your Team Name]_Infleqtion_DCM4_Challenge_Solution.ipynb`</font></b>\n",
    "\n",
    "<b><font color=\"red\">Email your final solution (completed jupyter notebook) to dcm@infleqtion.com</font></b>"
   ]
  },
  {
   "cell_type": "markdown",
   "metadata": {},
   "source": [
    "# Appendix"
   ]
  },
  {
   "cell_type": "markdown",
   "metadata": {},
   "source": [
    "### Combinatorial Optimisation Mathematical Model\n",
    "\n",
    "Let $x_{i, j}$ be a binary variable that indicates whether weapon system $i$ is assigned to\n",
    "intercept target $j$:\n",
    "\n",
    "$$\n",
    "x_{i, j} =\n",
    "\\begin{cases}\n",
    "1& \\text{Weapon $i$ assigned to intercept target }j\\\\\n",
    "0& \\text{otherwise}\n",
    "\\end{cases}\n",
    "$$\n",
    "\n",
    "We aim to maximise the expected value of all surviving assets following the engagement. The\n",
    "objective function is given by $$c(x) = \\sum_{k=1}^K v_k P(\\text{Asset $k$ survives})$$ and we now\n",
    "will see that $P(\\text{Asset k survives})\\propto x_{i,j}$.\n",
    "\n",
    "$$\n",
    "\\begin{aligned}\n",
    "    P(\\text{Asset $k$ survives}) &= 1 - \\sum_{j \\in T_k} P(\\text{$j$ attacks and destroys $k$})\\\\\n",
    "    & = 1 - \\sum_{j \\in T_k} P(\\text{$j$ survives the air defence}) P(\\text{$j$ destroys $k$}) \\\\\n",
    "    & = 1 - \\sum_{j \\in T_k} (1 - P(\\text{$j$ destroyed by air defence}))P(\\text{$j$ destroys $k$}) \\\\\n",
    "    & = 1 - \\sum_{j \\in T_k} \\left(1 - \\sum_{i=1}^{W}P(\\text{$i$ destroys $j$})\\right)P(\\text{$j$ destroys $k$}) \\\\\n",
    "    & = 1 - \\sum_{j \\in T_k} \\left(1 - \\sum_{i=1}^{W}x_{i, j}q_{i, j}\\right)p_{j, k}\n",
    "\\end{aligned}\n",
    "$$\n",
    "\n",
    "Giving\n",
    "$$c(x) = \\sum_{k=1}^K v_k \\left(1 - \\sum_{j \\in T_k} \\left(1 - \\sum_{i=1}^{W}x_{i, j}p_{i, j}\\right)q_{j, k}\\right)$$\n",
    "which is a linear objective function in the decision variables $x_{i, j}$.\n",
    "\n",
    "Finally the weapon systems are limited in the volume of ammunition they store, and thus the number\n",
    "of targets that can engage (assuming for simplicity each weapon system uses one unit of ammunition\n",
    "to engage with each target and that a target cannot be engaged multiple times). We make the\n",
    "observation that at optimality this constraint will be tight and hence\n",
    "$$\\sum_{j=1}^{T}x_{i, j} = N_i$$\n",
    "\n",
    "where $N_i$ is the ammunition limit of weapon system $i$."
   ]
  },
  {
   "cell_type": "markdown",
   "metadata": {},
   "source": [
    "### QUBO / Ising Model Formulation\n",
    "\n",
    "By adding Lagrange multipliers to handle the constraint terms, the above model can be written in the\n",
    "from $$\\min_{\\vec{x} \\in \\mathbb{B}^n} \\ \\ \\vec{x}^T Q \\vec{x} + \\delta$$ known as the QUBO\n",
    "formulation.\n",
    "\n",
    "Switching the binary variables from $\\{0, 1\\}$ to $\\{-1, 1\\}$ we can reformulate this as\n",
    "$$\\min_{\\vec{y} \\in \\mathbb{S}^n} \\ \\ \\vec{y}^T J \\vec{y} + \\vec{y}^T \\vec{h} + c$$\n",
    "\n",
    "for some matrix $J$, vector $\\vec{h}$ and scalar $c$. As we will see below, this Ising formulation\n",
    "is well suited to being solved by a quantum computer where the $y \\in \\{-1, 1\\}$ are associated with\n",
    "the $\\pm 1$ eigenvalues of the $Z$ gate."
   ]
  },
  {
   "cell_type": "code",
   "execution_count": null,
   "metadata": {},
   "outputs": [],
   "source": []
  }
 ],
 "metadata": {
  "kernelspec": {
   "display_name": "Python 3 (ipykernel)",
   "language": "python",
   "name": "python3"
  },
  "language_info": {
   "codemirror_mode": {
    "name": "ipython",
    "version": 3
   },
   "file_extension": ".py",
   "mimetype": "text/x-python",
   "name": "python",
   "nbconvert_exporter": "python",
   "pygments_lexer": "ipython3",
   "version": "3.12.9"
  }
 },
 "nbformat": 4,
 "nbformat_minor": 4
}
