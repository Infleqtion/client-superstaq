{
 "cells": [
  {
   "cell_type": "markdown",
   "metadata": {},
   "source": [
    "# Infleqtion DCM4 Quantum Challenge\n",
    "\n",
    "#### Air Defence Quantum Computing Use-case"
   ]
  },
  {
   "cell_type": "markdown",
   "metadata": {},
   "source": [
    "[![Open in Colab](https://colab.research.google.com/assets/colab-badge.svg)](https://colab.research.google.com/github/Infleqtion/client-superstaq/blob/dcm4/Infleqtion-DCM4-Challenge/Infleqtion_DCM4_Challenge.ipynb)"
   ]
  },
  {
   "cell_type": "markdown",
   "metadata": {},
   "source": [
    "## Problem Description\n",
    "\n",
    "Consider a set of $T$ offensive targets engaged in an offensive operation against $K$ defensive\n",
    "assets. We assume that through intelligence operations the defensive entity know that the set of\n",
    "offensive targets that threaten asset $k$ is $T_k$.\n",
    "\n",
    "Suppose each defensive asset has a strategic value $v_k$ and that the probability of offensive\n",
    "target $j$ destroying the asset $k$ is $p_{j, k}$.\n",
    "\n",
    "The defensive entity has $W$ weapon systems with which to defend its assets. Assume the probability\n",
    "that weapon system $i$ destroys the offensive target $j$ is $q_{i, j}$.\n"
   ]
  },
  {
   "cell_type": "markdown",
   "metadata": {},
   "source": [
    "![link](images/Problem_Description.png)"
   ]
  },
  {
   "cell_type": "markdown",
   "metadata": {},
   "source": [
    "# <b><font color=\"Red\">This challenge will be released at 0900 GMT.</font></b>"
   ]
  }
 ],
 "metadata": {
  "kernelspec": {
   "display_name": "Python 3 (ipykernel)",
   "language": "python",
   "name": "python3"
  },
  "language_info": {
   "codemirror_mode": {
    "name": "ipython",
    "version": 3
   },
   "file_extension": ".py",
   "mimetype": "text/x-python",
   "name": "python",
   "nbconvert_exporter": "python",
   "pygments_lexer": "ipython3",
   "version": "3.12.9"
  }
 },
 "nbformat": 4,
 "nbformat_minor": 4
}
