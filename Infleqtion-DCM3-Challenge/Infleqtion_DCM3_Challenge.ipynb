{
 "cells": [
  {
   "cell_type": "markdown",
   "id": "04cd4e5c",
   "metadata": {},
   "source": [
    "# Infleqtion DCM3 Quantum Challenge\n",
    "\n",
    "### 15 February, 2024 @ 10:00 - 13:00 UTC"
   ]
  },
  {
   "cell_type": "code",
   "execution_count": null,
   "id": "ab78ca3b-d6e2-4624-b9ec-404a2badedeb",
   "metadata": {},
   "outputs": [],
   "source": [
    "OQC_CLIENT_PASSWORD = \"Insert OQC QCaaS client password here.\""
   ]
  },
  {
   "cell_type": "code",
   "execution_count": null,
   "id": "08ef56ab",
   "metadata": {},
   "outputs": [],
   "source": [
    "try:\n",
    "    import qiskit_superstaq as qss\n",
    "except ImportError:\n",
    "    print(\"Installing qiskit-superstaq...\")\n",
    "    %pip install --quiet 'qiskit-superstaq[examples]'\n",
    "    print(\"Installed qiskit-superstaq.\")\n",
    "    print(\"You may need to restart the kernel to import newly installed packages.\")\n",
    "    import qiskit_superstaq as qss\n",
    "\n",
    "try:\n",
    "    import qcaas_client.client\n",
    "    import scc\n",
    "except ImportError:\n",
    "    print(\"Installing oqc-qcaas-client...\")\n",
    "    %pip install --quiet 'oqc-qcaas-client'\n",
    "    print(\"Installed oqc-qcaas-client.\")\n",
    "    print(\"You may need to restart the kernel to import newly installed packages.\")\n",
    "    import qiskit_superstaq as qss\n",
    "\n",
    "import os\n",
    "import qiskit\n",
    "import numpy as np\n",
    "\n",
    "%pip install --quiet 'qiskit-aer'\n",
    "from qiskit_aer.library import save_statevector"
   ]
  },
  {
   "cell_type": "markdown",
   "id": "cc7719df",
   "metadata": {},
   "source": [
    "In this notebook, we will explore some of the possible applications of quantum computing to the field of communications. \n",
    "- The first application will show how quantum information can be transmitted using quantum channels in what is known as quantum teleportation.\n",
    "- The second will introduce a way to perform fingerprinting using quantum states.\n",
    "\n",
    "## <b><font color=\"Red\">Wherever you should insert code, you will see the following code block:</font></b>\n",
    "```\n",
    "# ##############################################\n",
    "#\n",
    "# **INSERT CODE HERE**\n",
    "#\n",
    "#  ##############################################\n",
    "```"
   ]
  },
  {
   "cell_type": "markdown",
   "id": "dd596fb1-7baf-4e6c-bd03-955f80f23c1d",
   "metadata": {},
   "source": [
    "### <b><font color=\"Red\">HELPER FUNCTIONS: DO NOT MODIFY</font></b>\n",
    "\n",
    "These functions are used for visualisation and circuit submission -- do not modify them. **Don't forget to execute this cell!**"
   ]
  },
  {
   "cell_type": "code",
   "execution_count": null,
   "id": "7f3719d6-db98-4b9a-af25-0ba9f2a689f5",
   "metadata": {},
   "outputs": [],
   "source": [
    "## HELPER FUNCTIONS\n",
    "from IPython.display import display\n",
    "import matplotlib.pyplot as plt\n",
    "\n",
    "remove_barriers = qiskit.transpiler.passes.RemoveBarriers()\n",
    "\n",
    "def visualise_bloch_sphere(qc):\n",
    "    sv = qiskit.quantum_info.Statevector(qc)\n",
    "    display(qiskit.visualization.plot_bloch_multivector(sv))\n",
    "\n",
    "def show_bobs_qubit(qc):\n",
    "    simulator = qiskit.BasicAer.get_backend(\"statevector_simulator\")\n",
    "    circ = qiskit.transpile(qc, simulator)\n",
    "    sv = simulator.run(circ).result().get_statevector()\n",
    "    bobs = sv[sv!=0]\n",
    "    display(qiskit.visualization.plot_bloch_multivector(bobs))\n",
    "\n",
    "def draw_circuits(circuits, figsize_scale=2.5, title=\"circuits\"):\n",
    "    nrows = np.floor(np.sqrt(len(circuits))).astype(int)\n",
    "    ncols = np.ceil(len(circuits) / nrows).astype(int)\n",
    "    figure, axes_array = plt.subplots(\n",
    "        nrows=nrows, ncols=ncols, figsize=(figsize_scale * ncols, figsize_scale * nrows),\n",
    "    )\n",
    "    plt.subplots_adjust(wspace=0, hspace=0)\n",
    "    # figure.suptitle(title)\n",
    "    # figure.patch.set_linewidth(10)\n",
    "    # figure.patch.set_edgecolor(\"k\")\n",
    "    if nrows * ncols > 1:\n",
    "        axes_array = axes_array.flatten()\n",
    "    else:\n",
    "        axes_array = [axes_array]\n",
    "    for circuit, axes in zip(circuits, axes_array):\n",
    "        axes.axis(\"off\")\n",
    "        circuit.draw(\"mpl\", style={\"name\": \"clifford\"}, ax=axes)\n",
    "\n",
    "def authenticate_oqc_qcaas():\n",
    "    oqc_client = qcaas_client.client.OQCClient(\n",
    "        url=\"https://lhr3.qcaas.oqc.app/\",  # qcaas domain URL\n",
    "        email=\"david.owusu-antwi@infleqtion.com\",\n",
    "        password=OQC_CLIENT_PASSWORD,\n",
    "    )\n",
    "    oqc_client.authenticate()\n",
    "    return oqc_client\n",
    "\n",
    "def toshiko_submit(circuits, wait_for_submit=True):\n",
    "    compiler_config = scc.compiler.config.CompilerConfig(\n",
    "        repeats=1000,\n",
    "        results_format= scc.compiler.config.QuantumResultsFormat().binary_count(),\n",
    "    )\n",
    "\n",
    "    tasks = []\n",
    "    for circuit in circuits:\n",
    "        task = qcaas_client.client.QPUTask(\n",
    "            program=remove_barriers(circuit).qasm(),\n",
    "            config=compiler_config,\n",
    "        )\n",
    "        tasks.append(task)\n",
    "\n",
    "    if wait_for_submit:    \n",
    "        results = oqc_client.execute_tasks(tasks)\n",
    "        logs = [oqc_client.get_task_timings(result.id) for result in results]\n",
    "        print(logs)\n",
    "        return [result.result[\"c\"] for result in results], logs\n",
    "\n",
    "    scheduled_tasks = oqc_client.schedule_tasks(tasks)\n",
    "    task_ids = [task.task_id for task in scheduled_tasks]\n",
    "    for task_id in task_ids:\n",
    "        print(f\"task id: {task_id}\")\n",
    "        print(f\"task log: {oqc_client.get_task_timings(task_id)}\")\n",
    "        print(f\"status: {oqc_client.get_task_status(task_id)}\")\n",
    "    return task_ids\n",
    "\n",
    "def get_results(task_ids):\n",
    "    \"\"\"Use this to retrieve results from task IDs.\"\"\"\n",
    "    return [oqc_client.get_task_results(task_id).result[\"c\"] for task_id in task_ids]\n",
    "\n",
    "def plot_fidelities_heatmap(distributions):\n",
    "    results = [counts[\"0\"] / 1000 for counts in distributions]\n",
    "\n",
    "    # Create a 6x6 array of zeros\n",
    "    fidelities = np.ones((6, 6)) * 1 / 2\n",
    "    \n",
    "    # Fill the upper triangle\n",
    "    fidelities[np.triu_indices(6, 1)] = list(map(lambda x: x / 2, results))\n",
    "    \n",
    "    # Copy the upper triangle to the lower triangle\n",
    "    fidelities += fidelities.T\n",
    "\n",
    "    plt.figure(dpi=150)\n",
    "    plt.imshow(fidelities)\n",
    "    plt.colorbar()\n",
    "\n",
    "oqc_client = authenticate_oqc_qcaas()"
   ]
  },
  {
   "cell_type": "markdown",
   "id": "8ef2d74a",
   "metadata": {},
   "source": [
    "# 1) Quantum teleportation\n",
    "\n",
    "The **quantum teleportation** communication protocol is a good example of how superposition and entanglement can be leveraged to achieve something that cannot be done classically.\n",
    "\n",
    "- Suppose that the usual suspect, **Alice**, wants to send information to the other usual suspect, **Bob**, while the two of them are far apart. More precisely, Alice wants to send the quantum state:\n",
    "\n",
    "$$|\\psi\\rangle = c_0|0\\rangle + c_1|1\\rangle$$\n",
    "\n",
    "&nbsp;&nbsp;&nbsp;&nbsp;&nbsp;&nbsp;&nbsp;Where $c_0$ and $c_1$ are complex numbers.\n",
    "\n",
    "- Suppose further that before separating, they prepare on a pair of qubits the entangled state:\n",
    "\n",
    "$$|q\\rangle_A|q\\rangle_B = \\frac{|0\\rangle_A|0\\rangle_B + |1\\rangle_A|1\\rangle_B}{\\sqrt{2}}$$\n",
    "\n",
    "and each takes one qubit. A measurement on one qubit will collapse its state to the measured state. Because the two qubits are entangled, a measurement on either qubit will also collapse the other qubit's state. This shared information is key to the quantum teleportation protocol used to transmit information from Alice to Bob."
   ]
  },
  {
   "cell_type": "markdown",
   "id": "fcd873a8",
   "metadata": {},
   "source": [
    "## Preparing the entangled qubits\n",
    "First, we prepare the entagled qubits that Alice and Bob will share, using the following circuit:\n",
    "<center>\n",
    "    <img src=\"resources/teleport1.png\"/>\n",
    "</center>"
   ]
  },
  {
   "cell_type": "code",
   "execution_count": null,
   "id": "546d586d",
   "metadata": {},
   "outputs": [],
   "source": [
    "ent = qiskit.QuantumCircuit(2)\n",
    "# ##############################################\n",
    "#\n",
    "# **INSERT CODE HERE**\n",
    "#\n",
    "# ##############################################\n",
    "ent.draw(\"mpl\", style=\"clifford\")"
   ]
  },
  {
   "cell_type": "markdown",
   "id": "7cc0e211",
   "metadata": {},
   "source": [
    "This circuit will prepare the qubits $|q_0q_1\\rangle$ from the state $|00\\rangle$ to the state:\n",
    "$$\n",
    "    \\frac{1}{\\sqrt{2}}|00\\rangle+\\frac{1}{\\sqrt{2}}|11\\rangle\n",
    "$$\n",
    "Which is an entangled state."
   ]
  },
  {
   "cell_type": "markdown",
   "id": "fc18b4b8",
   "metadata": {},
   "source": [
    "The next line of code will abstract this circuit into a quantum gate."
   ]
  },
  {
   "cell_type": "code",
   "execution_count": null,
   "id": "72f03c2b",
   "metadata": {},
   "outputs": [],
   "source": [
    "gate_ent = ent.to_gate(label=\"$q_Aq_B$\")\n",
    "\n",
    "# Visualise above circuit abstracted into a single gate:\n",
    "qc = qiskit.QuantumCircuit(2)\n",
    "qc.append(gate_ent, (0, 1))\n",
    "qc.draw(\"mpl\", style=\"clifford\")"
   ]
  },
  {
   "cell_type": "markdown",
   "id": "f1c9032f",
   "metadata": {},
   "source": [
    "## Preparing the data qubit\n",
    "Now Alice will prepare the data qubit that she wants to send to Bob. For an axis $p$, the gate $R_p(2\\theta) = R_p(2f\\pi)$ will rotate the qubit state by $f$ of a full turn about axis $p$.\n",
    "\n",
    "E.g., $R_x(2\\cdot \\frac{1}{4}\\cdot\\pi)$ applied to a qubit $q_0$ will rotate its state by a quarter turn around the $x$-axis.\n",
    "\n",
    "In the following circuit:\n",
    "- `rx(2 * fx * np.pi, 0)` will rotate the qubit a `fx` turn around the x-axis\n",
    "- `ry(2 * fy * np.pi, 0)` will rotate the qubit a `fy` turn around the y-axis\n",
    "- `rz(2 * fz * np.pi, 0)` will rotate the qubit a `fz` turn around the z-axis\n",
    "\n",
    "The aforementioned axes are the ones shown in the Bloch sphere. \n",
    "\n",
    "You can customise this data by changing the values of `fx`, `fy` and `fz` (with values between 0 and 1) and see the results of these changes on the qubit state's location on the Bloch sphere. Qubits are initialised at 0 (the north pole of the Bloch sphere)."
   ]
  },
  {
   "cell_type": "code",
   "execution_count": null,
   "id": "9196677f",
   "metadata": {},
   "outputs": [],
   "source": [
    "fx =  # Put your own value between 0 and 1\n",
    "fy =  # Put your own value between 0 and 1\n",
    "fz =  # Put your own value between 0 and 1\n",
    "\n",
    "psi = qiskit.QuantumCircuit(1)\n",
    "psi.rx(2 * fx * np.pi, qubit=0)\n",
    "psi.ry(2 * fy * np.pi, qubit=0)\n",
    "psi.rz(2 * fz * np.pi, qubit=0)\n",
    "display(psi.draw(\"mpl\", style=\"clifford\"))\n",
    "\n",
    "visualise_bloch_sphere(psi)"
   ]
  },
  {
   "cell_type": "markdown",
   "id": "0b9eb021",
   "metadata": {},
   "source": [
    "Here again we abstract this data qubit preparation into a quantum gate."
   ]
  },
  {
   "cell_type": "code",
   "execution_count": null,
   "id": "c8e50079",
   "metadata": {},
   "outputs": [],
   "source": [
    "gate_psi = psi.to_gate(label=\"$\\psi$\")\n",
    "\n",
    "# Visualise above circuit abstracted into a single gate:\n",
    "qc = qiskit.QuantumCircuit(1)\n",
    "qc.append(gate_psi, (0,))\n",
    "qc.draw(\"mpl\", style=\"clifford\")"
   ]
  },
  {
   "cell_type": "markdown",
   "id": "a938f89d",
   "metadata": {},
   "source": [
    "## Preparing the teleportation\n",
    "We now start the teleportation process. To do so, we need a circuit with 3 qubits:\n",
    "- one qubit for Alice's data,\n",
    "- two qubits for the entangled two-qubit state that Alice and Bob share.*\n",
    "\n",
    "*While we will represent them as close to each other, they can be as far apart as needed and this protocol will still work. In fact, the record for the longest quantum teleportation is 143km, set in [2012](https://www.esa.int/Enabling_Support/Space_Engineering_Technology/ESA_observatory_breaks_world_quantum_teleportation_record#:~:text=An%20international%20research%20team%20using%20ESA%E2%80%99s%20Optical%20Ground,light%20particle%20across%20143%20km%20of%20open%20air.).\n",
    "\n",
    "The teleportation protocol also requires 2 classical bits.\n",
    "\n"
   ]
  },
  {
   "cell_type": "code",
   "execution_count": null,
   "id": "16621da3",
   "metadata": {},
   "outputs": [],
   "source": [
    "teleportation = qiskit.QuantumCircuit(3, 2)\n",
    "\n",
    "teleportation.draw(\"mpl\", style=\"clifford\")"
   ]
  },
  {
   "cell_type": "markdown",
   "id": "645a28dc",
   "metadata": {},
   "source": [
    "Now Alice and Bob prepare the entangled qubits and each take one qubit:"
   ]
  },
  {
   "cell_type": "code",
   "execution_count": null,
   "id": "c3b3fe04",
   "metadata": {},
   "outputs": [],
   "source": [
    "teleportation.append(gate_ent, [1, 2])\n",
    "\n",
    "teleportation.draw(\"mpl\", style=\"clifford\")"
   ]
  },
  {
   "cell_type": "markdown",
   "id": "233e265e",
   "metadata": {},
   "source": [
    "Then Alice prepares the qubit that she wishes to send to Bob:"
   ]
  },
  {
   "cell_type": "code",
   "execution_count": null,
   "id": "0efc768d",
   "metadata": {},
   "outputs": [],
   "source": [
    "teleportation.barrier()\n",
    "teleportation.append(gate_psi, [0])\n",
    "\n",
    "teleportation.draw(\"mpl\", style=\"clifford\")"
   ]
  },
  {
   "cell_type": "markdown",
   "id": "c8a684c7",
   "metadata": {},
   "source": [
    "Now for the teleportation protocol, Alice entangles her data qubit with her qubit from the entangled pair. By doing so, Bob's qubit is also entangled to Alice's data qubit (i.e., a three-way entanglement) resulting in the following circuit:\n",
    "<center><img src=\"resources/teleport20.png\"/></center>"
   ]
  },
  {
   "cell_type": "code",
   "execution_count": null,
   "id": "99524686",
   "metadata": {},
   "outputs": [],
   "source": [
    "teleportation.barrier()\n",
    "# ##############################################\n",
    "#\n",
    "# **INSERT CODE HERE**\n",
    "#\n",
    "# ##############################################\n",
    "\n",
    "teleportation.draw(\"mpl\", style=\"clifford\")"
   ]
  },
  {
   "cell_type": "markdown",
   "id": "eef7cb70",
   "metadata": {},
   "source": [
    "At this stage, the system of three qubits $\\lvert q_0q_1q_2\\rangle$ is in the entangled state\n",
    "$$\n",
    "        \\lvert q_0q_1q_2\\rangle = \\frac{1}{2} \\left(|00\\rangle|\\psi_{00}\\rangle+|01\\rangle|\\psi_{01}\\rangle+|10\\rangle|\\psi_{10}\\rangle+|11\\rangle|\\psi_{11}\\rangle\\right)\n",
    "$$\n",
    "so Alices's two qubits are in a superposition of the states $|00\\rangle$, $|01\\rangle$, $|10\\rangle$ and $|11\\rangle$ while Bob's qubit is in a superposition of the following states:\n",
    "$$\n",
    "\\begin{align*}\n",
    "    |\\psi_{00}\\rangle &= c_0|0\\rangle + c_1|1\\rangle = |\\psi\\rangle\\\\\n",
    "    |\\psi_{01}\\rangle &= c_0|1\\rangle + c_1|0\\rangle\\\\\n",
    "    |\\psi_{10}\\rangle &= c_0|0\\rangle - c_1|1\\rangle\\\\\n",
    "    |\\psi_{11}\\rangle &= c_0|1\\rangle - c_1|0\\rangle\\\\\n",
    "\\end{align*}\n",
    "$$\n",
    "Comparing to Alice's original state $|\\psi\\rangle = c_0|0\\rangle + c_1|1\\rangle$ you can see that Bob's qubit is in a superposition of four possible variants of Alice's original qubit state. From these variants, it is possible to retrieve her original qubit state:\n",
    "- By doing nothing to the state $|\\psi_{00}\\rangle$\n",
    "- By applying a $\\mathbf{X}$ gate to the state $|\\psi_{01}\\rangle$\n",
    "- By applying a $\\mathbf{Z}$ gate to the state $|\\psi_{10}\\rangle$\n",
    "- By applying a $\\mathbf{X}$ gate followed by $\\mathbf{Z}$ gate to the state $|\\psi_{10}\\rangle$\n",
    "\n",
    "Now suppose that Alice measures her two qubits. Because of entanglement, we have that:\n",
    "- If she measures $00$, then Bob's qubit will collapse to the state $|\\psi_{00}\\rangle$\n",
    "- If she measures $01$, then Bob's qubit will collapse to the state $|\\psi_{01}\\rangle$\n",
    "- If she measures $10$, then Bob's qubit will collapse to the state $|\\psi_{10}\\rangle$\n",
    "- If she measures $11$, then Bob's qubit will collapse to the state $|\\psi_{11}\\rangle$\n",
    "\n",
    "Hence, Bob can retrieve Alice's data if she measures her two qubits and sends him the result of the measurements."
   ]
  },
  {
   "cell_type": "markdown",
   "id": "0ebe2f65",
   "metadata": {},
   "source": [
    "### Retrieving Alice's state"
   ]
  },
  {
   "cell_type": "markdown",
   "id": "6e6becd0",
   "metadata": {},
   "source": [
    "As explained previously, Alice performs a measurement on the 2 qubits that she possesses and sends the result to Bob via a classical channel. Bob uses this result to determine which gates to apply."
   ]
  },
  {
   "cell_type": "code",
   "execution_count": null,
   "id": "fc263ccf",
   "metadata": {
    "scrolled": true
   },
   "outputs": [],
   "source": [
    "teleportation.barrier()\n",
    "teleportation.measure([0, 1], [0, 1])\n",
    "teleportation.draw(\"mpl\", style=\"clifford\")"
   ]
  },
  {
   "cell_type": "markdown",
   "id": "36b12e77",
   "metadata": {},
   "source": [
    "Alice has in her possession qubits $q_0$ and $q_1$, her data qubit and her half of the original entangled pair shared with Bob, respectively.\n",
    "- if Alice measures $1$ on $q_0$, then Bob has to apply a $\\mathbf{Z}$ gate to his qubit $q_2$\n",
    "- if Alice measures $1$ on $q_1$, then Bob has to apply a $\\mathbf{X}$ gate to his qubit $q_2$\n",
    "\n",
    "\n",
    "These conditional gates are performed with the `c_if` method where the first argument is the index of a classical bit (storing the measurement outcome) that gate application is conditioned on and the second argument is the value that triggers gate application.\n",
    "\n",
    "E.g., `teleportation.z(0).c_if(classical=0, val=1)` applies a Z-gate on qubit 0 if classical bit `classical=0` has a readout of `val=1`."
   ]
  },
  {
   "cell_type": "code",
   "execution_count": null,
   "id": "542ac063",
   "metadata": {},
   "outputs": [],
   "source": [
    "teleportation.x(2).c_if(classical=1, val=1)\n",
    "teleportation.z(2).c_if(classical=0, val=1)\n",
    "\n",
    "teleportation.draw(\"mpl\", style=\"clifford\")"
   ]
  },
  {
   "cell_type": "markdown",
   "id": "4e065d04",
   "metadata": {},
   "source": [
    "In the end, we can verify that Bob's qubit is indeed similar to the one Alice wanted to share with him.\n",
    "\n",
    "This is what Bob now has:"
   ]
  },
  {
   "cell_type": "code",
   "execution_count": null,
   "id": "8973f937",
   "metadata": {},
   "outputs": [],
   "source": [
    "show_bobs_qubit(teleportation)"
   ]
  },
  {
   "cell_type": "markdown",
   "id": "65c50ff2",
   "metadata": {},
   "source": [
    "Compare with the state Alice originally sent:"
   ]
  },
  {
   "cell_type": "code",
   "execution_count": null,
   "id": "ff66d43e",
   "metadata": {},
   "outputs": [],
   "source": [
    "visualise_bloch_sphere(psi)"
   ]
  },
  {
   "cell_type": "markdown",
   "id": "e6dab6c2",
   "metadata": {},
   "source": [
    "You can check that this protocol works for any state by running it again with different values for `fx`, `fy` and `fz`."
   ]
  },
  {
   "cell_type": "markdown",
   "id": "b5c208a2",
   "metadata": {},
   "source": [
    "So thanks to the quantum teleportation protocol, Alice managed to send a quantum state to Bob from afar. If Alice encodes some information into a quantum state, then this protocol allows her to securely transmit it to Bob.\n",
    "\n",
    "One limitation of this protocol is its reliance on classical channels for Alice to communicate to Bob the results of her measurements. \n",
    "\n",
    "In the event that a bad actor eavesdrops on this classical channel, they can know the results of Alice's measurement. Although they can corrupt the data transmission by changing the content of Alice's message (in which case Bob cannot retrieve the correct state), without any knowledge of the original state, they cannot infer anything from the measurement results. [Quantum key distribution](https://en.wikipedia.org/wiki/Quantum_key_distribution) is one proposed protocol for replacing the classical channel with a more secure quantum channel.\n",
    "\n",
    "In the following section, we will explore one way for Alice to encode information in a qubit's state: **quantum fingerprinting**."
   ]
  },
  {
   "cell_type": "markdown",
   "id": "164e1ef4",
   "metadata": {},
   "source": [
    "# 2) Quantum Fingerprinting"
   ]
  },
  {
   "cell_type": "markdown",
   "id": "8b029df9",
   "metadata": {},
   "source": [
    "## Fingerprinting"
   ]
  },
  {
   "cell_type": "markdown",
   "id": "fc161244",
   "metadata": {},
   "source": [
    "**Fingerprinting** is a procedure that maps a piece of data (e.g., a file) to a much smaller identifier. Similar to human fingerprints, this identifier should be unique to the file it is assigned to, so that two fingerprints differ if and only if the two files differ.\n",
    "\n",
    "- This procedure is particularly useful in the context of distributed databases where it allows comparing two copies of a file (i.e., synchronisation). Instead of transmitting large files and comparing them directly, one can instead transmit and compare the much smaller fingerprints and to validate the identity of a copy.\n",
    "\n",
    "- A common classical method for fingerprinting is through using a *hash function*. Although efficient, it is possible for two different files to have the same hash, an event known as collision. E.g., the possibility of collisions leave hash functions vulnerable to [birthday attacks](https://en.wikipedia.org/wiki/Birthday_attack)."
   ]
  },
  {
   "cell_type": "markdown",
   "id": "2cbbce22",
   "metadata": {},
   "source": [
    "In the classical case, suppose we want to reduce the fingerprint size to the absolute minimum: a single bit. Such a protocol can only fingerprint 2 files (there are only two possible fingerprints, 0 and 1).\n",
    "\n",
    "Now suppose that we have access to a qubit -- how many files can be fingerprinted with this protocol?\n",
    "\n",
    "In theory, an infinity of files could be fingerprinted by a single qubit. To do so, it suffices to map each file to a different possible qubit state. If we consider the Bloch sphere representation of the qubit, this would amount to placing different files at different locations on the surface of the sphere.\n",
    "\n",
    "But the more files are placed on the sphere, the closer they will be to each other. That, taken with the fact we can only estimate the state of a qubit through measurement, shows that we can only fingerprint a limited number of files with a single qubit.\n",
    "\n",
    "Suppose we have a suitable quantum fingerprinting protocol using a single qubit. Recalling the quantum teleportation protocol explained in section 1, Alice can send the fingerprint for a file of interest stored in a database that is shared with Bob so that he can also look up the file that Alice wants to share with him. This exchange would then be secured from interception (but not from corruption)."
   ]
  },
  {
   "cell_type": "markdown",
   "id": "87b6b26a",
   "metadata": {},
   "source": [
    "## Quantum Fingerprinting"
   ]
  },
  {
   "cell_type": "markdown",
   "id": "bf17419e",
   "metadata": {},
   "source": [
    "Consider the 6 states represented in the following Bloch spheres:\n",
    "\n",
    "| **State 1** | **State 2** | **State 3** |\n",
    "| :---: | :---: | :---: |\n",
    "| <div><img src=\"resources/state_1.png\" width=\"300\"/></div> | <div><img src=\"resources/state_2.png\" width=\"300\"/></div> | <div><img src=\"resources/state_3.png\" width=\"300\"/></div> |\n",
    "\n",
    "| **State 4** | **State 5** | **State 6** |\n",
    "| :---: | :---: | :---: |\n",
    "| <div><img src=\"resources/state_4.png\" width=\"300\"/></div> | <div><img src=\"resources/state_5.png\" width=\"300\"/></div> | <div><img src=\"resources/state_6.png\" width=\"300\"/></div> |\n",
    "\n",
    "### <b><font color=\"red\">Your task is to come up with quantum circuits generating these 6 states.</font></b>\n",
    "\n",
    "These states are of interest as they are \"maximally distinguishable\" in the sense that they can be distinguished easily with relatively few measurements.\n",
    "\n",
    "Here we give some of the most commonly used quantum gates with their matrix representation: \n",
    "$$\n",
    "    \\mathbf{I} = \\begin{bmatrix}1 & 0\\\\0 & 1\\end{bmatrix}, \\ \\mathbf{X} = \\begin{bmatrix}0 & 1\\\\1 & 0\\end{bmatrix}, \\ \\mathbf{Y} = \\begin{bmatrix}0 & -i\\\\i & 0\\end{bmatrix}, \\ \\mathbf{Z} = \\begin{bmatrix}1 & 0\\\\0 & -1\\end{bmatrix}, \\ \\mathbf{H} = \\begin{bmatrix}\\frac{1}{\\sqrt{2}} & \\frac{1}{\\sqrt{2}}\\\\\\frac{1}{\\sqrt{2}} & -\\frac{1}{\\sqrt{2}}\\end{bmatrix} \\text{ and } \\ \\mathbf{S} = \\begin{bmatrix}1 & 0\\\\0 & i\\end{bmatrix}\n",
    "$$\n",
    "\n",
    "In principle, one way you might proceed is to use these matrix representations to try and determine a sequence of gates that reproduces the deisred state. You may also work by trial and error.\n",
    "\n",
    "The Bloch sphere visualisations will help you match the states you obtain with the expected states."
   ]
  },
  {
   "cell_type": "markdown",
   "id": "49fc1de7-3562-42a6-8917-ec64bb4235f6",
   "metadata": {},
   "source": [
    "You may find some of the following gate operations handy:\n",
    "\n",
    "| Gate Operation | Gate Name |\n",
    "| --- | --- |\n",
    "| `circuit.h(qID)` | Hadamard |\n",
    "| `circuit.x(qID)` | Pauli X (Not) |\n",
    "| `circuit.y(qID)` | Pauli Y |\n",
    "| `circuit.z(qID)` | Pauli Z |\n",
    "| `circuit.s(qID)` | S (Phase) |\n",
    "| `circuit.t(qID)` | T |\n",
    "| `circuit.id(qID)` | Identity |\n",
    "| `circuit.cx(cID, tID)` | Controlled-X (Controlled-Not) |\n",
    "| `circuit.cz(cID, tID)` | Controlled-Z (ZZ Interaction) |"
   ]
  },
  {
   "cell_type": "markdown",
   "id": "b310162f",
   "metadata": {},
   "source": [
    "**State 1**"
   ]
  },
  {
   "cell_type": "code",
   "execution_count": null,
   "id": "8aafc19c",
   "metadata": {},
   "outputs": [],
   "source": [
    "qc1 = qiskit.QuantumCircuit(1, name=\"qc1\")\n",
    "# ##############################################\n",
    "#\n",
    "# **INSERT CODE HERE**\n",
    "#\n",
    "# ##############################################"
   ]
  },
  {
   "cell_type": "code",
   "execution_count": null,
   "id": "d2150c1a",
   "metadata": {},
   "outputs": [],
   "source": [
    "qc1.draw(\"mpl\", style=\"clifford\")"
   ]
  },
  {
   "cell_type": "code",
   "execution_count": null,
   "id": "6c006ce7-1dc1-4424-9103-498db6533c1d",
   "metadata": {},
   "outputs": [],
   "source": [
    "visualise_bloch_sphere(qc1)"
   ]
  },
  {
   "cell_type": "markdown",
   "id": "22fabeb5",
   "metadata": {},
   "source": [
    "**State 2**"
   ]
  },
  {
   "cell_type": "code",
   "execution_count": null,
   "id": "84e27bee",
   "metadata": {},
   "outputs": [],
   "source": [
    "qc2 = qiskit.QuantumCircuit(1, name=\"qc2\")\n",
    "# ##############################################\n",
    "#\n",
    "# **INSERT CODE HERE**\n",
    "#\n",
    "# ##############################################"
   ]
  },
  {
   "cell_type": "code",
   "execution_count": null,
   "id": "8dbd100c",
   "metadata": {},
   "outputs": [],
   "source": [
    "qc2.draw(\"mpl\", style=\"clifford\")"
   ]
  },
  {
   "cell_type": "code",
   "execution_count": null,
   "id": "7717affa-85b1-4849-8d9e-1b05a3098dfa",
   "metadata": {},
   "outputs": [],
   "source": [
    "visualise_bloch_sphere(qc2)"
   ]
  },
  {
   "cell_type": "markdown",
   "id": "f3919904",
   "metadata": {},
   "source": [
    "**State 3**"
   ]
  },
  {
   "cell_type": "code",
   "execution_count": null,
   "id": "d2506cb3",
   "metadata": {},
   "outputs": [],
   "source": [
    "qc3 = qiskit.QuantumCircuit(1, name=\"qc3\")\n",
    "# ##############################################\n",
    "#\n",
    "# **INSERT CODE HERE**\n",
    "#\n",
    "# ##############################################"
   ]
  },
  {
   "cell_type": "code",
   "execution_count": null,
   "id": "134789e2",
   "metadata": {},
   "outputs": [],
   "source": [
    "qc3.draw(\"mpl\", style=\"clifford\")"
   ]
  },
  {
   "cell_type": "code",
   "execution_count": null,
   "id": "c8cd4341-c501-46c6-af2d-b464b0b38fe6",
   "metadata": {},
   "outputs": [],
   "source": [
    "visualise_bloch_sphere(qc3)"
   ]
  },
  {
   "cell_type": "markdown",
   "id": "b77ef2f2",
   "metadata": {},
   "source": [
    "**State 4**"
   ]
  },
  {
   "cell_type": "code",
   "execution_count": null,
   "id": "b3bf1c58",
   "metadata": {},
   "outputs": [],
   "source": [
    "qc4 = qiskit.QuantumCircuit(1, name=\"qc4\")\n",
    "# ##############################################\n",
    "#\n",
    "# **INSERT CODE HERE**\n",
    "#\n",
    "# ##############################################"
   ]
  },
  {
   "cell_type": "code",
   "execution_count": null,
   "id": "b3520a25",
   "metadata": {},
   "outputs": [],
   "source": [
    "qc4.draw(\"mpl\", style=\"clifford\")"
   ]
  },
  {
   "cell_type": "code",
   "execution_count": null,
   "id": "a54e82d0-40b6-4953-b2e1-c2cd78b15246",
   "metadata": {},
   "outputs": [],
   "source": [
    "visualise_bloch_sphere(qc4)"
   ]
  },
  {
   "cell_type": "markdown",
   "id": "096fc53e",
   "metadata": {},
   "source": [
    "**State 5**"
   ]
  },
  {
   "cell_type": "code",
   "execution_count": null,
   "id": "1a1a06b5",
   "metadata": {},
   "outputs": [],
   "source": [
    "qc5 = qiskit.QuantumCircuit(1, name=\"qc5\")\n",
    "# ##############################################\n",
    "#\n",
    "# **INSERT CODE HERE**\n",
    "#\n",
    "# ##############################################"
   ]
  },
  {
   "cell_type": "code",
   "execution_count": null,
   "id": "69452aab",
   "metadata": {},
   "outputs": [],
   "source": [
    "qc5.draw(\"mpl\", style=\"clifford\")"
   ]
  },
  {
   "cell_type": "code",
   "execution_count": null,
   "id": "c43243ff-a2c1-448f-940e-45ce8194e64e",
   "metadata": {},
   "outputs": [],
   "source": [
    "visualise_bloch_sphere(qc5)"
   ]
  },
  {
   "cell_type": "markdown",
   "id": "e7e78f3d",
   "metadata": {},
   "source": [
    "**State 6**"
   ]
  },
  {
   "cell_type": "code",
   "execution_count": null,
   "id": "3011b0c9",
   "metadata": {},
   "outputs": [],
   "source": [
    "qc6 = qiskit.QuantumCircuit(1, name=\"qc6\")\n",
    "# ##############################################\n",
    "#\n",
    "# **INSERT CODE HERE**\n",
    "#\n",
    "# ##############################################"
   ]
  },
  {
   "cell_type": "code",
   "execution_count": null,
   "id": "4551b599",
   "metadata": {},
   "outputs": [],
   "source": [
    "qc6.draw(\"mpl\", style=\"clifford\")"
   ]
  },
  {
   "cell_type": "code",
   "execution_count": null,
   "id": "cbdc7ab5-12c5-40f1-b822-46eadf8e0317",
   "metadata": {},
   "outputs": [],
   "source": [
    "visualise_bloch_sphere(qc6)"
   ]
  },
  {
   "cell_type": "markdown",
   "id": "0c988191",
   "metadata": {},
   "source": [
    "## SWAP Test"
   ]
  },
  {
   "cell_type": "markdown",
   "id": "0c891fc4",
   "metadata": {},
   "source": [
    "Now that you have prepared these 6 states, we need a way of comparing them. \n",
    "\n",
    "One way is to perform measurements. E.g., if one qubit is in State 1 and the other in State 2, then we can easily distinguish them with measurements:\n",
    "\n",
    "| **State 1** | **State 2** |\n",
    "| :---: | :---: |\n",
    "| <div><img src=\"resources/state_1.png\" width=\"150\"/></div> | <div><img src=\"resources/state_2.png\" width=\"150\"/></div> |\n",
    "\n",
    "Measuring the first state will always return 0 while measuring the second state will always return 1."
   ]
  },
  {
   "cell_type": "markdown",
   "id": "50fb740b-f5db-4c31-9dc1-7af2687e8b69",
   "metadata": {},
   "source": [
    "But what if one qubit is in State 3 and the other in State 4?\n",
    "\n",
    "| **State 3** | **State 4** |\n",
    "| :---: | :---: |\n",
    "| <div><img src=\"resources/state_3.png\" width=\"150\"/></div> | <div><img src=\"resources/state_4.png\" width=\"150\"/></div> |\n",
    "\n",
    "You can verify that measurements of a qubit in either state will return 0 with probability $\\frac{1}{2}$ and 1 with probability $\\frac{1}{2}$. Simply measuring is thus not enough to compare two qubits."
   ]
  },
  {
   "cell_type": "markdown",
   "id": "461ce3f8-0e33-4943-9000-bf5735e90c83",
   "metadata": {},
   "source": [
    "To remedy this, we can use what is known as a **swap test**, as performed by the following circuit to compare qubits $q_1$ and $q_2$:\n",
    "\n",
    "<center><div><img src=\"resources/swap.png\" width=300/></div></center>\n",
    "\n",
    "Here the gates marked $\\phi$ and $\\psi$ prepare the second and third qubit in the states $|\\phi\\rangle$ and $|\\psi\\rangle$ respectively. In our case, $|\\phi\\rangle$ and $|\\psi\\rangle$ will be any pair of the 6 states that you prepared with your circuits.\n",
    "\n",
    "One gate that you may be encountering for the first time is the **controlled swap** gate, here located inbetween the two Hadamard gates:\n",
    "\n",
    "| CSWAP | SWAP |\n",
    "| --- | --- |\n",
    "| <div><img src=\"resources/cswap.png\" width=\"100\"/></div> | <div><img src=\"resources/swap_gate.png\" width=\"100\"/></div> |"
   ]
  },
  {
   "cell_type": "markdown",
   "id": "45b69124-a2fa-45bf-a1fc-8d95ca7951a2",
   "metadata": {},
   "source": [
    "As it name suggests, the **swap** gate swaps the values of 2 qubits, i.e.:\n",
    "\n",
    "$$|\\phi\\rangle|\\psi\\rangle \\overset{\\text{SWAP}}{\\Rightarrow} |\\psi\\rangle|\\phi\\rangle$$\n",
    "\n",
    "Hence the controlled swap gate will perform this operation on the last two qubits when the first qubit is in state $|1\\rangle$.\n",
    "\n",
    "At the end of this circuit, the probability for the measurement to return 0 is given by\n",
    "\n",
    "$$\\Pr(\\lvert q_0\\rangle = \\lvert 0\\rangle) = \\frac{1 + |\\langle \\phi|\\psi\\rangle|^2}{2}$$\n",
    "\n",
    "where the term $|\\langle \\phi|\\psi\\rangle|^2$ is referred to as the *fidelity* between the two states $\\phi$ and $\\psi$. The fidelity essentially measures how close the two states are to each other:\n",
    "- If the states are identical (i.e., at the same location on the Bloch sphere), the fidelity is 1\n",
    "- If they are maximally distinct (i.e., diametrically opposed on the Bloch sphere), the fidelity is 0\n",
    "- In all other cases, the fidelity is strictly between 0 and 1\n",
    "\n",
    "In a nutshell: if the compared states are **identical** then measurement will **always output 0**; if they are **not identical**, measurement will **output 1** with some nonzero probability (e.g., probability of 1/2 for maximally distinguishable states). We have implemented the swap test for you -- it will be used to generate swap test circuits comparing the circuits you've defined above."
   ]
  },
  {
   "cell_type": "code",
   "execution_count": null,
   "id": "4dff4301-ea76-4dcc-bc75-fee6c785b09d",
   "metadata": {},
   "outputs": [],
   "source": [
    "## HELPER FUNCTION -- DO NOT MODIFY\n",
    "def swap_test(circuit1, circuit2):\n",
    "    \"\"\"Get a Swap Test circuit.\n",
    "\n",
    "    Measuring the ancilla qubit returns 0 with 100% probability if the states\n",
    "    are identical, and 0-1 with 50-50% probability if the states are orthogonal.\n",
    "    \"\"\"\n",
    "    swap_test = qiskit.QuantumCircuit(3, 1)\n",
    "    swap_test.barrier()\n",
    "    swap_test.h(0)\n",
    "    swap_test.cswap(0, 1, 2)\n",
    "    swap_test.h(0)\n",
    "    swap_test.barrier()\n",
    "    swap_test.measure([0], [0]) \n",
    "\n",
    "    swap_test.compose(qc_a, qubits=[1], front=True, inplace=True)\n",
    "    swap_test.compose(qc_b, qubits=[2], front=True, inplace=True)\n",
    "\n",
    "    return swap_test"
   ]
  },
  {
   "cell_type": "code",
   "execution_count": null,
   "id": "4e251c91-02dd-4d9e-9c00-070b7dccd8c8",
   "metadata": {},
   "outputs": [],
   "source": [
    "circuits = [qc1, qc2, qc3, qc4, qc5, qc6]\n",
    "swap_test_circuits = []\n",
    "for idx, qc_a in enumerate(circuits[:-1]):\n",
    "    for qc_b in circuits[idx + 1 :]:\n",
    "        swap_test_circuits.append(swap_test(qc_a, qc_b))\n",
    "draw_circuits(swap_test_circuits)"
   ]
  },
  {
   "cell_type": "markdown",
   "id": "2156f21c-af15-4d62-adf7-f5f8bdd38dd0",
   "metadata": {},
   "source": [
    "We'll use [**Superstaq**](https://www.infleqtion.com/superstaq), Infleqtion's flagship quantum software platform, to first simulate these circuits on IBM's QASM simulator.\n",
    "\n",
    "You will need to use the Superstaq account you made during training to retrieve your API key. Login to https://superstaq.infleqtion.com to view your key. Then, pass your token to the `api_key` parameter of `qss.SuperstaqProvider()`."
   ]
  },
  {
   "cell_type": "code",
   "execution_count": null,
   "id": "db4f0884-ed76-423e-96ba-a25300393496",
   "metadata": {},
   "outputs": [],
   "source": [
    "provider = qss.SuperstaqProvider(api_key=\"Insert your API key here.\")\n",
    "backend = provider.get_backend(\"ibmq_qasm_simulator\")"
   ]
  },
  {
   "cell_type": "code",
   "execution_count": null,
   "id": "20c62575-9513-4a5f-af16-a1d29c040f1d",
   "metadata": {},
   "outputs": [],
   "source": [
    "# Execute your circuits via IBM's QASM simulator (1000 execution shots).\n",
    "job = backend.run(swap_test_circuits, method=\"dry-run\", shots=1000)\n",
    "job.status()"
   ]
  },
  {
   "cell_type": "code",
   "execution_count": null,
   "id": "6ebc80c5-2b52-4c83-a2b4-62ee1d4388f8",
   "metadata": {},
   "outputs": [],
   "source": [
    "distributions = job.result().get_counts()\n",
    "distributions"
   ]
  },
  {
   "cell_type": "code",
   "execution_count": null,
   "id": "bf3e4ce1-c17f-4b27-b916-bd4592c5e876",
   "metadata": {},
   "outputs": [],
   "source": [
    "plot_fidelities_heatmap(distributions)"
   ]
  },
  {
   "cell_type": "markdown",
   "id": "acea0c7f-ebe9-40bc-aceb-6442dd5adc3c",
   "metadata": {},
   "source": [
    "**In the next section, you will run these circuits on a real quantum computer.**"
   ]
  },
  {
   "cell_type": "markdown",
   "id": "2d082900",
   "metadata": {},
   "source": [
    "# 3) Running on a Real Quantum Computer"
   ]
  },
  {
   "cell_type": "markdown",
   "id": "eb6d11d7",
   "metadata": {},
   "source": [
    "The quantum computer you will use is the latest from **Oxford Quantum Circuits (OQC)**: Toshiko.\n",
    "\n",
    "| <a href=\"https://oxfordquantumcircuits.com/technology/toshiko\"><font size=5>**Oxford Quantum Circuits Toshiko**</font></a>|\n",
    "| --- |\n",
    "| <center><img src=\"resources/OQC_toshiko.png\" width=\"200\"/></center> |\n",
    "\n",
    "OQC's quantum computers are based on superconducting qubits. This technology implements qubits with electrical components that are similar to transistors. When placed in a very cold environment (colder than space), the materials of these components become superconducting which allows them to exhibit a property called the *Josephson effect*. The way this property is used to actually implement a qubit differs between manufacturers, but in essence all superconducting quantum computers rely on this effect. The different qubits are then grouped together on a *quantum chip* and the quantum gates are applied using microwave radiation.\n",
    "\n",
    "In the picture above is represented the Toshiko device (named after the first Japanese female physicist [Toshiko Yuasa](https://en.wikipedia.org/wiki/Toshiko_Yuasa). Notice the different levels of the device, which allows for cooling to achieve the <10mK required to operate (the lower the level, the colder). The quantum chip itself sits at the very bottom. Toshiko's chip contains **32 qubits**."
   ]
  },
  {
   "cell_type": "markdown",
   "id": "4249af1d",
   "metadata": {},
   "source": [
    "Using this quantum computer, we will run swap tests on all different pairs of the 6 states that you have prepared.\n",
    "\n",
    "We wil represent the results of these swap tests in a **heatmap**, a table of pairwise fidelities."
   ]
  },
  {
   "cell_type": "code",
   "execution_count": null,
   "id": "e532d5ca-fe8b-49c6-8072-b72a948b07e0",
   "metadata": {},
   "outputs": [],
   "source": [
    "distributions, logs = toshiko_submit(swap_test_circuits)\n",
    "distributions"
   ]
  },
  {
   "cell_type": "code",
   "execution_count": null,
   "id": "63ae3be1-196a-4eff-8c54-322c3fdb4265",
   "metadata": {},
   "outputs": [],
   "source": [
    "plot_fidelities_heatmap(distributions)"
   ]
  },
  {
   "cell_type": "markdown",
   "id": "a5e49cc5-a9c9-4fe4-b8c5-babe2e5a4805",
   "metadata": {},
   "source": [
    "You should see a heatmap similar to the following:\n",
    "\n",
    "<center><img src=\"resources/sample_heatmap.png\" width=\"600\"/></center>\n",
    "\n",
    "Each row and column corresponds to one of your 6 states. A given entry $(i, j)$ represents the fidelity comparing states $i$ and $j$. E.g., all diagonal elements should be 1.0 because comparing two states to each other should yield a fidelity of 1.0 (they are identical)."
   ]
  },
  {
   "cell_type": "markdown",
   "id": "f5a3e4d3-9377-4026-bd31-423b05c9638b",
   "metadata": {},
   "source": [
    "# <font color=\"green\">**Congratulations! This concludes the DCM3 Quantum Challenge.**</font>"
   ]
  },
  {
   "cell_type": "markdown",
   "id": "ea160b74-f947-4dd1-9049-48e9ddb11203",
   "metadata": {},
   "source": [
    "## <font color=\"blue\">Postscript: Superstaq Tour</font>\n",
    "\n",
    "Run `provider.get_targets()` to see what other quantum computers Superstaq provides you access to. Try running a circuit on one of these backends!"
   ]
  },
  {
   "cell_type": "code",
   "execution_count": null,
   "id": "1bfe3f5b-d176-4c52-963b-7b9e63789191",
   "metadata": {},
   "outputs": [],
   "source": [
    "provider.get_targets()"
   ]
  }
 ],
 "metadata": {
  "kernelspec": {
   "display_name": "Python 3 (ipykernel)",
   "language": "python",
   "name": "python3"
  },
  "language_info": {
   "codemirror_mode": {
    "name": "ipython",
    "version": 3
   },
   "file_extension": ".py",
   "mimetype": "text/x-python",
   "name": "python",
   "nbconvert_exporter": "python",
   "pygments_lexer": "ipython3",
   "version": "3.11.7"
  }
 },
 "nbformat": 4,
 "nbformat_minor": 5
}
